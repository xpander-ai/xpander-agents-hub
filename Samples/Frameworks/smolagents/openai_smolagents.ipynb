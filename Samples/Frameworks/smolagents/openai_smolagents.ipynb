{
 "cells": [
  {
   "cell_type": "code",
   "execution_count": null,
   "id": "cabd709b",
   "metadata": {},
   "outputs": [],
   "source": [
    "!pip install xpander-utils smolagents"
   ]
  },
  {
   "cell_type": "code",
   "execution_count": null,
   "id": "initial_id",
   "metadata": {
    "collapsed": true
   },
   "outputs": [],
   "source": [
    "import os\n",
    "from dotenv import load_dotenv\n",
    "from smolagents import OpenAIServerModel, ToolCallingAgent\n",
    "from xpander_utils.sdk.adapters import SmolAgentsAdapter\n",
    "\n",
    "load_dotenv()\n",
    "xpander_api_key = os.environ.get(\"XPANDER_API_KEY\",\"\") ## Your XPANDER API Personal Key\n",
    "xpander_agent_id = os.environ.get(\"XPANDER_AGENT_ID_SINGLE\", \"\") ## Your Agent ID\n",
    "openai_key = os.environ.get(\"OPENAI_API_KEY\", \"\") ## Your Agent ID"
   ]
  },
  {
   "cell_type": "markdown",
   "id": "72b780e0",
   "metadata": {},
   "source": [
    "# Load xpander agent into smolagents adapter"
   ]
  },
  {
   "cell_type": "code",
   "execution_count": null,
   "id": "adfe49a4",
   "metadata": {},
   "outputs": [],
   "source": [
    "xpander = SmolAgentsAdapter(agent_id=xpander_agent_id, api_key=xpander_api_key, with_metrics_report=True)\n"
   ]
  },
  {
   "cell_type": "markdown",
   "id": "e09df49a",
   "metadata": {},
   "source": [
    "# Initialize model"
   ]
  },
  {
   "cell_type": "code",
   "execution_count": null,
   "id": "d13d6ed5",
   "metadata": {},
   "outputs": [],
   "source": [
    "model = OpenAIServerModel(\n",
    "    model_id=\"gpt-4o\",\n",
    "    api_key=openai_key\n",
    ")"
   ]
  },
  {
   "cell_type": "markdown",
   "id": "328eb27a",
   "metadata": {},
   "source": [
    "# Initialize xpander task"
   ]
  },
  {
   "cell_type": "code",
   "execution_count": null,
   "id": "8ec1dc52",
   "metadata": {},
   "outputs": [],
   "source": [
    "prompt = \"find details about Moriel Pahima from xpander.ai\"\n",
    "xpander.add_task(input=prompt)"
   ]
  },
  {
   "cell_type": "markdown",
   "id": "0425af3c",
   "metadata": {},
   "source": [
    "# Initialize smolagents agent"
   ]
  },
  {
   "cell_type": "code",
   "execution_count": null,
   "id": "01ac198d",
   "metadata": {},
   "outputs": [],
   "source": [
    "agent = ToolCallingAgent(step_callbacks=[xpander.step_callback()],tools=xpander.get_tools(),model=model,prompt_templates={\"system_prompt\": xpander.get_system_prompt()})"
   ]
  },
  {
   "cell_type": "markdown",
   "id": "a1d77b88",
   "metadata": {},
   "source": [
    "# Initialize xpander optimized memory into the smolagents agent (if needed)"
   ]
  },
  {
   "cell_type": "code",
   "execution_count": null,
   "id": "858aa381",
   "metadata": {},
   "outputs": [],
   "source": [
    "xpander.init_memory(agent=agent) # only if we need to prefill smolagents memory with xpander\n"
   ]
  },
  {
   "cell_type": "markdown",
   "id": "f71bb912",
   "metadata": {},
   "source": [
    "# Run the agent"
   ]
  },
  {
   "cell_type": "code",
   "execution_count": null,
   "id": "da4eeb46",
   "metadata": {},
   "outputs": [],
   "source": [
    "result = agent.run(task=prompt, reset=False)\n",
    "print(result)"
   ]
  }
 ],
 "metadata": {
  "kernelspec": {
   "display_name": ".venv",
   "language": "python",
   "name": "python3"
  },
  "language_info": {
   "codemirror_mode": {
    "name": "ipython",
    "version": 3
   },
   "file_extension": ".py",
   "mimetype": "text/x-python",
   "name": "python",
   "nbconvert_exporter": "python",
   "pygments_lexer": "ipython3",
   "version": "3.12.7"
  }
 },
 "nbformat": 4,
 "nbformat_minor": 5
}
