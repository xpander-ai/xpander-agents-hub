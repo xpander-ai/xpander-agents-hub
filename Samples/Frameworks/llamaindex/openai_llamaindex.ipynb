{
 "cells": [
  {
   "cell_type": "code",
   "execution_count": 2,
   "id": "cabd709b",
   "metadata": {},
   "outputs": [
    {
     "name": "stdout",
     "output_type": "stream",
     "text": [
      "Requirement already satisfied: xpander-utils in /Users/morielp/dev/xpander-agents-hub/.venv/lib/python3.12/site-packages (0.0.1)\n",
      "Requirement already satisfied: llama_index in /Users/morielp/dev/xpander-agents-hub/.venv/lib/python3.12/site-packages (0.12.15)\n",
      "Requirement already satisfied: pydantic in /Users/morielp/dev/xpander-agents-hub/.venv/lib/python3.12/site-packages (from xpander-utils) (2.10.6)\n",
      "Requirement already satisfied: loguru in /Users/morielp/dev/xpander-agents-hub/.venv/lib/python3.12/site-packages (from xpander-utils) (0.7.3)\n",
      "Requirement already satisfied: smolagents in /Users/morielp/dev/xpander-agents-hub/.venv/lib/python3.12/site-packages (from xpander-utils) (1.9.2)\n",
      "Requirement already satisfied: xpander-sdk in /Users/morielp/dev/xpander-agents-hub/.venv/lib/python3.12/site-packages (from xpander-utils) (1.44.0)\n",
      "Requirement already satisfied: llama-index-agent-openai<0.5.0,>=0.4.0 in /Users/morielp/dev/xpander-agents-hub/.venv/lib/python3.12/site-packages (from llama_index) (0.4.3)\n",
      "Requirement already satisfied: llama-index-cli<0.5.0,>=0.4.0 in /Users/morielp/dev/xpander-agents-hub/.venv/lib/python3.12/site-packages (from llama_index) (0.4.0)\n",
      "Requirement already satisfied: llama-index-core<0.13.0,>=0.12.15 in /Users/morielp/dev/xpander-agents-hub/.venv/lib/python3.12/site-packages (from llama_index) (0.12.15)\n",
      "Requirement already satisfied: llama-index-embeddings-openai<0.4.0,>=0.3.0 in /Users/morielp/dev/xpander-agents-hub/.venv/lib/python3.12/site-packages (from llama_index) (0.3.1)\n",
      "Requirement already satisfied: llama-index-indices-managed-llama-cloud>=0.4.0 in /Users/morielp/dev/xpander-agents-hub/.venv/lib/python3.12/site-packages (from llama_index) (0.6.4)\n",
      "Requirement already satisfied: llama-index-llms-openai<0.4.0,>=0.3.0 in /Users/morielp/dev/xpander-agents-hub/.venv/lib/python3.12/site-packages (from llama_index) (0.3.17)\n",
      "Requirement already satisfied: llama-index-multi-modal-llms-openai<0.5.0,>=0.4.0 in /Users/morielp/dev/xpander-agents-hub/.venv/lib/python3.12/site-packages (from llama_index) (0.4.3)\n",
      "Requirement already satisfied: llama-index-program-openai<0.4.0,>=0.3.0 in /Users/morielp/dev/xpander-agents-hub/.venv/lib/python3.12/site-packages (from llama_index) (0.3.1)\n",
      "Requirement already satisfied: llama-index-question-gen-openai<0.4.0,>=0.3.0 in /Users/morielp/dev/xpander-agents-hub/.venv/lib/python3.12/site-packages (from llama_index) (0.3.0)\n",
      "Requirement already satisfied: llama-index-readers-file<0.5.0,>=0.4.0 in /Users/morielp/dev/xpander-agents-hub/.venv/lib/python3.12/site-packages (from llama_index) (0.4.4)\n",
      "Requirement already satisfied: llama-index-readers-llama-parse>=0.4.0 in /Users/morielp/dev/xpander-agents-hub/.venv/lib/python3.12/site-packages (from llama_index) (0.4.0)\n",
      "Requirement already satisfied: nltk>3.8.1 in /Users/morielp/dev/xpander-agents-hub/.venv/lib/python3.12/site-packages (from llama_index) (3.9.1)\n",
      "Requirement already satisfied: openai>=1.14.0 in /Users/morielp/dev/xpander-agents-hub/.venv/lib/python3.12/site-packages (from llama-index-agent-openai<0.5.0,>=0.4.0->llama_index) (1.61.0)\n",
      "Requirement already satisfied: PyYAML>=6.0.1 in /Users/morielp/dev/xpander-agents-hub/.venv/lib/python3.12/site-packages (from llama-index-core<0.13.0,>=0.12.15->llama_index) (6.0.2)\n",
      "Requirement already satisfied: SQLAlchemy>=1.4.49 in /Users/morielp/dev/xpander-agents-hub/.venv/lib/python3.12/site-packages (from SQLAlchemy[asyncio]>=1.4.49->llama-index-core<0.13.0,>=0.12.15->llama_index) (2.0.37)\n",
      "Requirement already satisfied: aiohttp<4.0.0,>=3.8.6 in /Users/morielp/dev/xpander-agents-hub/.venv/lib/python3.12/site-packages (from llama-index-core<0.13.0,>=0.12.15->llama_index) (3.11.11)\n",
      "Requirement already satisfied: dataclasses-json in /Users/morielp/dev/xpander-agents-hub/.venv/lib/python3.12/site-packages (from llama-index-core<0.13.0,>=0.12.15->llama_index) (0.6.7)\n",
      "Requirement already satisfied: deprecated>=1.2.9.3 in /Users/morielp/dev/xpander-agents-hub/.venv/lib/python3.12/site-packages (from llama-index-core<0.13.0,>=0.12.15->llama_index) (1.2.18)\n",
      "Requirement already satisfied: dirtyjson<2.0.0,>=1.0.8 in /Users/morielp/dev/xpander-agents-hub/.venv/lib/python3.12/site-packages (from llama-index-core<0.13.0,>=0.12.15->llama_index) (1.0.8)\n",
      "Requirement already satisfied: filetype<2.0.0,>=1.2.0 in /Users/morielp/dev/xpander-agents-hub/.venv/lib/python3.12/site-packages (from llama-index-core<0.13.0,>=0.12.15->llama_index) (1.2.0)\n",
      "Requirement already satisfied: fsspec>=2023.5.0 in /Users/morielp/dev/xpander-agents-hub/.venv/lib/python3.12/site-packages (from llama-index-core<0.13.0,>=0.12.15->llama_index) (2025.2.0)\n",
      "Requirement already satisfied: httpx in /Users/morielp/dev/xpander-agents-hub/.venv/lib/python3.12/site-packages (from llama-index-core<0.13.0,>=0.12.15->llama_index) (0.28.1)\n",
      "Requirement already satisfied: nest-asyncio<2.0.0,>=1.5.8 in /Users/morielp/dev/xpander-agents-hub/.venv/lib/python3.12/site-packages (from llama-index-core<0.13.0,>=0.12.15->llama_index) (1.6.0)\n",
      "Requirement already satisfied: networkx>=3.0 in /Users/morielp/dev/xpander-agents-hub/.venv/lib/python3.12/site-packages (from llama-index-core<0.13.0,>=0.12.15->llama_index) (3.4.2)\n",
      "Requirement already satisfied: numpy in /Users/morielp/dev/xpander-agents-hub/.venv/lib/python3.12/site-packages (from llama-index-core<0.13.0,>=0.12.15->llama_index) (2.2.2)\n",
      "Requirement already satisfied: pillow>=9.0.0 in /Users/morielp/dev/xpander-agents-hub/.venv/lib/python3.12/site-packages (from llama-index-core<0.13.0,>=0.12.15->llama_index) (11.1.0)\n",
      "Requirement already satisfied: requests>=2.31.0 in /Users/morielp/dev/xpander-agents-hub/.venv/lib/python3.12/site-packages (from llama-index-core<0.13.0,>=0.12.15->llama_index) (2.32.3)\n",
      "Requirement already satisfied: tenacity!=8.4.0,<10.0.0,>=8.2.0 in /Users/morielp/dev/xpander-agents-hub/.venv/lib/python3.12/site-packages (from llama-index-core<0.13.0,>=0.12.15->llama_index) (9.0.0)\n",
      "Requirement already satisfied: tiktoken>=0.3.3 in /Users/morielp/dev/xpander-agents-hub/.venv/lib/python3.12/site-packages (from llama-index-core<0.13.0,>=0.12.15->llama_index) (0.8.0)\n",
      "Requirement already satisfied: tqdm<5.0.0,>=4.66.1 in /Users/morielp/dev/xpander-agents-hub/.venv/lib/python3.12/site-packages (from llama-index-core<0.13.0,>=0.12.15->llama_index) (4.67.1)\n",
      "Requirement already satisfied: typing-extensions>=4.5.0 in /Users/morielp/dev/xpander-agents-hub/.venv/lib/python3.12/site-packages (from llama-index-core<0.13.0,>=0.12.15->llama_index) (4.12.2)\n",
      "Requirement already satisfied: typing-inspect>=0.8.0 in /Users/morielp/dev/xpander-agents-hub/.venv/lib/python3.12/site-packages (from llama-index-core<0.13.0,>=0.12.15->llama_index) (0.9.0)\n",
      "Requirement already satisfied: wrapt in /Users/morielp/dev/xpander-agents-hub/.venv/lib/python3.12/site-packages (from llama-index-core<0.13.0,>=0.12.15->llama_index) (1.17.2)\n",
      "Requirement already satisfied: llama-cloud<0.2.0,>=0.1.8 in /Users/morielp/dev/xpander-agents-hub/.venv/lib/python3.12/site-packages (from llama-index-indices-managed-llama-cloud>=0.4.0->llama_index) (0.1.11)\n",
      "Requirement already satisfied: beautifulsoup4<5.0.0,>=4.12.3 in /Users/morielp/dev/xpander-agents-hub/.venv/lib/python3.12/site-packages (from llama-index-readers-file<0.5.0,>=0.4.0->llama_index) (4.13.1)\n",
      "Requirement already satisfied: pandas in /Users/morielp/dev/xpander-agents-hub/.venv/lib/python3.12/site-packages (from llama-index-readers-file<0.5.0,>=0.4.0->llama_index) (2.2.3)\n",
      "Requirement already satisfied: pypdf<6.0.0,>=5.1.0 in /Users/morielp/dev/xpander-agents-hub/.venv/lib/python3.12/site-packages (from llama-index-readers-file<0.5.0,>=0.4.0->llama_index) (5.2.0)\n",
      "Requirement already satisfied: striprtf<0.0.27,>=0.0.26 in /Users/morielp/dev/xpander-agents-hub/.venv/lib/python3.12/site-packages (from llama-index-readers-file<0.5.0,>=0.4.0->llama_index) (0.0.26)\n",
      "Requirement already satisfied: llama-parse>=0.5.0 in /Users/morielp/dev/xpander-agents-hub/.venv/lib/python3.12/site-packages (from llama-index-readers-llama-parse>=0.4.0->llama_index) (0.5.20)\n",
      "Requirement already satisfied: click in /Users/morielp/dev/xpander-agents-hub/.venv/lib/python3.12/site-packages (from nltk>3.8.1->llama_index) (8.1.8)\n",
      "Requirement already satisfied: joblib in /Users/morielp/dev/xpander-agents-hub/.venv/lib/python3.12/site-packages (from nltk>3.8.1->llama_index) (1.4.2)\n",
      "Requirement already satisfied: regex>=2021.8.3 in /Users/morielp/dev/xpander-agents-hub/.venv/lib/python3.12/site-packages (from nltk>3.8.1->llama_index) (2024.11.6)\n",
      "Requirement already satisfied: annotated-types>=0.6.0 in /Users/morielp/dev/xpander-agents-hub/.venv/lib/python3.12/site-packages (from pydantic->xpander-utils) (0.7.0)\n",
      "Requirement already satisfied: pydantic-core==2.27.2 in /Users/morielp/dev/xpander-agents-hub/.venv/lib/python3.12/site-packages (from pydantic->xpander-utils) (2.27.2)\n",
      "Requirement already satisfied: huggingface-hub>=0.28.0 in /Users/morielp/dev/xpander-agents-hub/.venv/lib/python3.12/site-packages (from smolagents->xpander-utils) (0.29.1)\n",
      "Requirement already satisfied: rich>=13.9.4 in /Users/morielp/dev/xpander-agents-hub/.venv/lib/python3.12/site-packages (from smolagents->xpander-utils) (13.9.4)\n",
      "Requirement already satisfied: jinja2>=3.1.4 in /Users/morielp/dev/xpander-agents-hub/.venv/lib/python3.12/site-packages (from smolagents->xpander-utils) (3.1.5)\n",
      "Requirement already satisfied: markdownify>=0.14.1 in /Users/morielp/dev/xpander-agents-hub/.venv/lib/python3.12/site-packages (from smolagents->xpander-utils) (0.14.1)\n",
      "Requirement already satisfied: duckduckgo-search>=6.3.7 in /Users/morielp/dev/xpander-agents-hub/.venv/lib/python3.12/site-packages (from smolagents->xpander-utils) (7.4.5)\n",
      "Requirement already satisfied: python-dotenv in /Users/morielp/dev/xpander-agents-hub/.venv/lib/python3.12/site-packages (from smolagents->xpander-utils) (1.0.1)\n",
      "Requirement already satisfied: jsii<2.0.0,>=1.106.0 in /Users/morielp/dev/xpander-agents-hub/.venv/lib/python3.12/site-packages (from xpander-sdk->xpander-utils) (1.106.0)\n",
      "Requirement already satisfied: publication>=0.0.3 in /Users/morielp/dev/xpander-agents-hub/.venv/lib/python3.12/site-packages (from xpander-sdk->xpander-utils) (0.0.3)\n",
      "Requirement already satisfied: typeguard<4.3.0,>=2.13.3 in /Users/morielp/dev/xpander-agents-hub/.venv/lib/python3.12/site-packages (from xpander-sdk->xpander-utils) (4.2.1)\n",
      "Requirement already satisfied: aiohappyeyeballs>=2.3.0 in /Users/morielp/dev/xpander-agents-hub/.venv/lib/python3.12/site-packages (from aiohttp<4.0.0,>=3.8.6->llama-index-core<0.13.0,>=0.12.15->llama_index) (2.4.4)\n",
      "Requirement already satisfied: aiosignal>=1.1.2 in /Users/morielp/dev/xpander-agents-hub/.venv/lib/python3.12/site-packages (from aiohttp<4.0.0,>=3.8.6->llama-index-core<0.13.0,>=0.12.15->llama_index) (1.3.2)\n",
      "Requirement already satisfied: attrs>=17.3.0 in /Users/morielp/dev/xpander-agents-hub/.venv/lib/python3.12/site-packages (from aiohttp<4.0.0,>=3.8.6->llama-index-core<0.13.0,>=0.12.15->llama_index) (24.3.0)\n",
      "Requirement already satisfied: frozenlist>=1.1.1 in /Users/morielp/dev/xpander-agents-hub/.venv/lib/python3.12/site-packages (from aiohttp<4.0.0,>=3.8.6->llama-index-core<0.13.0,>=0.12.15->llama_index) (1.5.0)\n",
      "Requirement already satisfied: multidict<7.0,>=4.5 in /Users/morielp/dev/xpander-agents-hub/.venv/lib/python3.12/site-packages (from aiohttp<4.0.0,>=3.8.6->llama-index-core<0.13.0,>=0.12.15->llama_index) (6.1.0)\n",
      "Requirement already satisfied: propcache>=0.2.0 in /Users/morielp/dev/xpander-agents-hub/.venv/lib/python3.12/site-packages (from aiohttp<4.0.0,>=3.8.6->llama-index-core<0.13.0,>=0.12.15->llama_index) (0.2.1)\n",
      "Requirement already satisfied: yarl<2.0,>=1.17.0 in /Users/morielp/dev/xpander-agents-hub/.venv/lib/python3.12/site-packages (from aiohttp<4.0.0,>=3.8.6->llama-index-core<0.13.0,>=0.12.15->llama_index) (1.18.3)\n",
      "Requirement already satisfied: soupsieve>1.2 in /Users/morielp/dev/xpander-agents-hub/.venv/lib/python3.12/site-packages (from beautifulsoup4<5.0.0,>=4.12.3->llama-index-readers-file<0.5.0,>=0.4.0->llama_index) (2.6)\n",
      "Requirement already satisfied: lxml>=5.3.0 in /Users/morielp/dev/xpander-agents-hub/.venv/lib/python3.12/site-packages (from duckduckgo-search>=6.3.7->smolagents->xpander-utils) (5.3.1)\n",
      "Requirement already satisfied: anyio in /Users/morielp/dev/xpander-agents-hub/.venv/lib/python3.12/site-packages (from httpx->llama-index-core<0.13.0,>=0.12.15->llama_index) (4.8.0)\n",
      "Requirement already satisfied: certifi in /Users/morielp/dev/xpander-agents-hub/.venv/lib/python3.12/site-packages (from httpx->llama-index-core<0.13.0,>=0.12.15->llama_index) (2024.12.14)\n",
      "Requirement already satisfied: httpcore==1.* in /Users/morielp/dev/xpander-agents-hub/.venv/lib/python3.12/site-packages (from httpx->llama-index-core<0.13.0,>=0.12.15->llama_index) (1.0.7)\n",
      "Requirement already satisfied: idna in /Users/morielp/dev/xpander-agents-hub/.venv/lib/python3.12/site-packages (from httpx->llama-index-core<0.13.0,>=0.12.15->llama_index) (3.10)\n",
      "Requirement already satisfied: h11<0.15,>=0.13 in /Users/morielp/dev/xpander-agents-hub/.venv/lib/python3.12/site-packages (from httpcore==1.*->httpx->llama-index-core<0.13.0,>=0.12.15->llama_index) (0.14.0)\n",
      "Requirement already satisfied: filelock in /Users/morielp/dev/xpander-agents-hub/.venv/lib/python3.12/site-packages (from huggingface-hub>=0.28.0->smolagents->xpander-utils) (3.17.0)\n",
      "Requirement already satisfied: packaging>=20.9 in /Users/morielp/dev/xpander-agents-hub/.venv/lib/python3.12/site-packages (from huggingface-hub>=0.28.0->smolagents->xpander-utils) (24.2)\n",
      "Requirement already satisfied: MarkupSafe>=2.0 in /Users/morielp/dev/xpander-agents-hub/.venv/lib/python3.12/site-packages (from jinja2>=3.1.4->smolagents->xpander-utils) (3.0.2)\n",
      "Requirement already satisfied: cattrs<24.2,>=1.8 in /Users/morielp/dev/xpander-agents-hub/.venv/lib/python3.12/site-packages (from jsii<2.0.0,>=1.106.0->xpander-sdk->xpander-utils) (24.1.2)\n",
      "Requirement already satisfied: importlib-resources>=5.2.0 in /Users/morielp/dev/xpander-agents-hub/.venv/lib/python3.12/site-packages (from jsii<2.0.0,>=1.106.0->xpander-sdk->xpander-utils) (6.5.2)\n",
      "Requirement already satisfied: python-dateutil in /Users/morielp/dev/xpander-agents-hub/.venv/lib/python3.12/site-packages (from jsii<2.0.0,>=1.106.0->xpander-sdk->xpander-utils) (2.9.0.post0)\n",
      "Requirement already satisfied: six<2,>=1.15 in /Users/morielp/dev/xpander-agents-hub/.venv/lib/python3.12/site-packages (from markdownify>=0.14.1->smolagents->xpander-utils) (1.17.0)\n",
      "Requirement already satisfied: distro<2,>=1.7.0 in /Users/morielp/dev/xpander-agents-hub/.venv/lib/python3.12/site-packages (from openai>=1.14.0->llama-index-agent-openai<0.5.0,>=0.4.0->llama_index) (1.9.0)\n",
      "Requirement already satisfied: jiter<1,>=0.4.0 in /Users/morielp/dev/xpander-agents-hub/.venv/lib/python3.12/site-packages (from openai>=1.14.0->llama-index-agent-openai<0.5.0,>=0.4.0->llama_index) (0.8.2)\n",
      "Requirement already satisfied: sniffio in /Users/morielp/dev/xpander-agents-hub/.venv/lib/python3.12/site-packages (from openai>=1.14.0->llama-index-agent-openai<0.5.0,>=0.4.0->llama_index) (1.3.1)\n",
      "Requirement already satisfied: pytz>=2020.1 in /Users/morielp/dev/xpander-agents-hub/.venv/lib/python3.12/site-packages (from pandas->llama-index-readers-file<0.5.0,>=0.4.0->llama_index) (2025.1)\n",
      "Requirement already satisfied: tzdata>=2022.7 in /Users/morielp/dev/xpander-agents-hub/.venv/lib/python3.12/site-packages (from pandas->llama-index-readers-file<0.5.0,>=0.4.0->llama_index) (2025.1)\n",
      "Requirement already satisfied: charset-normalizer<4,>=2 in /Users/morielp/dev/xpander-agents-hub/.venv/lib/python3.12/site-packages (from requests>=2.31.0->llama-index-core<0.13.0,>=0.12.15->llama_index) (3.4.1)\n",
      "Requirement already satisfied: urllib3<3,>=1.21.1 in /Users/morielp/dev/xpander-agents-hub/.venv/lib/python3.12/site-packages (from requests>=2.31.0->llama-index-core<0.13.0,>=0.12.15->llama_index) (2.3.0)\n",
      "Requirement already satisfied: markdown-it-py>=2.2.0 in /Users/morielp/dev/xpander-agents-hub/.venv/lib/python3.12/site-packages (from rich>=13.9.4->smolagents->xpander-utils) (3.0.0)\n",
      "Requirement already satisfied: pygments<3.0.0,>=2.13.0 in /Users/morielp/dev/xpander-agents-hub/.venv/lib/python3.12/site-packages (from rich>=13.9.4->smolagents->xpander-utils) (2.19.1)\n",
      "Requirement already satisfied: greenlet!=0.4.17 in /Users/morielp/dev/xpander-agents-hub/.venv/lib/python3.12/site-packages (from SQLAlchemy[asyncio]>=1.4.49->llama-index-core<0.13.0,>=0.12.15->llama_index) (3.1.1)\n",
      "Requirement already satisfied: mypy-extensions>=0.3.0 in /Users/morielp/dev/xpander-agents-hub/.venv/lib/python3.12/site-packages (from typing-inspect>=0.8.0->llama-index-core<0.13.0,>=0.12.15->llama_index) (1.0.0)\n",
      "Requirement already satisfied: marshmallow<4.0.0,>=3.18.0 in /Users/morielp/dev/xpander-agents-hub/.venv/lib/python3.12/site-packages (from dataclasses-json->llama-index-core<0.13.0,>=0.12.15->llama_index) (3.26.1)\n",
      "Requirement already satisfied: brotli in /Users/morielp/dev/xpander-agents-hub/.venv/lib/python3.12/site-packages (from httpx[brotli,http2,socks]>=0.28.1->duckduckgo-search>=6.3.7->smolagents->xpander-utils) (1.1.0)\n",
      "Requirement already satisfied: h2<5,>=3 in /Users/morielp/dev/xpander-agents-hub/.venv/lib/python3.12/site-packages (from httpx[brotli,http2,socks]>=0.28.1->duckduckgo-search>=6.3.7->smolagents->xpander-utils) (4.2.0)\n",
      "Requirement already satisfied: socksio==1.* in /Users/morielp/dev/xpander-agents-hub/.venv/lib/python3.12/site-packages (from httpx[brotli,http2,socks]>=0.28.1->duckduckgo-search>=6.3.7->smolagents->xpander-utils) (1.0.0)\n",
      "Requirement already satisfied: mdurl~=0.1 in /Users/morielp/dev/xpander-agents-hub/.venv/lib/python3.12/site-packages (from markdown-it-py>=2.2.0->rich>=13.9.4->smolagents->xpander-utils) (0.1.2)\n",
      "Requirement already satisfied: hyperframe<7,>=6.1 in /Users/morielp/dev/xpander-agents-hub/.venv/lib/python3.12/site-packages (from h2<5,>=3->httpx[brotli,http2,socks]>=0.28.1->duckduckgo-search>=6.3.7->smolagents->xpander-utils) (6.1.0)\n",
      "Requirement already satisfied: hpack<5,>=4.1 in /Users/morielp/dev/xpander-agents-hub/.venv/lib/python3.12/site-packages (from h2<5,>=3->httpx[brotli,http2,socks]>=0.28.1->duckduckgo-search>=6.3.7->smolagents->xpander-utils) (4.1.0)\n",
      "\n",
      "\u001b[1m[\u001b[0m\u001b[34;49mnotice\u001b[0m\u001b[1;39;49m]\u001b[0m\u001b[39;49m A new release of pip is available: \u001b[0m\u001b[31;49m24.2\u001b[0m\u001b[39;49m -> \u001b[0m\u001b[32;49m25.0.1\u001b[0m\n",
      "\u001b[1m[\u001b[0m\u001b[34;49mnotice\u001b[0m\u001b[1;39;49m]\u001b[0m\u001b[39;49m To update, run: \u001b[0m\u001b[32;49mpip install --upgrade pip\u001b[0m\n"
     ]
    }
   ],
   "source": [
    "!pip install xpander-utils llama_index"
   ]
  },
  {
   "cell_type": "code",
   "execution_count": 3,
   "id": "initial_id",
   "metadata": {
    "collapsed": true
   },
   "outputs": [],
   "source": [
    "import os\n",
    "from dotenv import load_dotenv\n",
    "from llama_index.core.agent import ReActAgent\n",
    "from llama_index.llms.openai import OpenAI\n",
    "from xpander_utils.sdk.adapters import LlamaIndexAdapter\n",
    "from llama_index.core.memory import BaseMemory\n",
    "\n",
    "load_dotenv()\n",
    "xpander_api_key = os.environ.get(\"XPANDER_API_KEY\",\"\") ## Your XPANDER API Personal Key\n",
    "xpander_agent_id = os.environ.get(\"XPANDER_AGENT_ID_SINGLE\", \"\") ## Your Agent ID\n",
    "openai_key = os.environ.get(\"OPENAI_API_KEY\", \"\") ## Your Agent ID"
   ]
  },
  {
   "cell_type": "markdown",
   "id": "72b780e0",
   "metadata": {},
   "source": [
    "# Load xpander agent into smolagents adapter"
   ]
  },
  {
   "cell_type": "code",
   "execution_count": 4,
   "id": "adfe49a4",
   "metadata": {},
   "outputs": [
    {
     "name": "stderr",
     "output_type": "stream",
     "text": [
      "b'{\"stdout\":\"bG9hZGluZyBhZ2VudCBhOGE1OTExMi04NTIzLTRjODEtOTE5ZC1mZTliZGVlMjAxOTcK\"}\\n'\n",
      "b'{\"stdout\":\"cnVubmluZyB0b29sIExpbmtlZEluUHJvZmlsZVNlcnZpY2VTZWFyY2hQcm9maWxlc0J5Q3JpdGVyaWEgb24gYWdlbnQgYThhNTkxMTItODUyMy00YzgxLTkxOWQtZmU5YmRlZTIwMTk3IHdpdGggZXhlY3V0aW9uIGQ1ZmU1OGFiLWI3YTUtNDdiMi1hMTMyLTg2NzA2MWNlNjNiYgo=\"}\\n'\n"
     ]
    }
   ],
   "source": [
    "xpander = LlamaIndexAdapter(agent_id=xpander_agent_id, api_key=xpander_api_key)\n"
   ]
  },
  {
   "cell_type": "markdown",
   "id": "328eb27a",
   "metadata": {},
   "source": [
    "# Initialize xpander task"
   ]
  },
  {
   "cell_type": "code",
   "execution_count": 5,
   "id": "8ec1dc52",
   "metadata": {},
   "outputs": [],
   "source": [
    "prompt = \"find details about Moriel Pahima from xpander.ai\"\n",
    "xpander.add_task(input=prompt)"
   ]
  },
  {
   "cell_type": "markdown",
   "id": "0425af3c",
   "metadata": {},
   "source": [
    "# Initialize LlamaIndex agent"
   ]
  },
  {
   "cell_type": "code",
   "execution_count": 6,
   "id": "01ac198d",
   "metadata": {},
   "outputs": [],
   "source": [
    "agent = ReActAgent.from_tools(\n",
    "    chat_history=xpander.get_chat_history(), # only when we want to prefill the agent messages object from an existing thread\n",
    "    tools=xpander.get_tools(),\n",
    "    llm=OpenAI(model=\"gpt-4o\",api_key=openai_key,temperature=0.0),\n",
    "    verbose=True\n",
    ")"
   ]
  },
  {
   "cell_type": "markdown",
   "id": "f71bb912",
   "metadata": {},
   "source": [
    "# Run the agent"
   ]
  },
  {
   "cell_type": "code",
   "execution_count": 7,
   "id": "da4eeb46",
   "metadata": {},
   "outputs": [
    {
     "name": "stdout",
     "output_type": "stream",
     "text": [
      "> Running step cc4a653f-a9c0-4cbb-81a9-2aaae58a78fc. Step input: find details about Moriel Pahima from xpander.ai\n",
      "\u001b[1;3;38;5;200mThought: The current language of the user is English. I need to use a tool to help me find details about Moriel Pahima from xpander.ai.\n",
      "Action: LinkedInProfileServiceSearchProfilesByCriteria\n",
      "Action Input: {'queryParams': AttributedDict([('keywords', 'Moriel Pahima'), ('company', 'xpander.ai')])}\n",
      "\u001b[0m\u001b[1;3;34mObservation: {\"success\": true, \"message\": \"\", \"data\": {\"total\": 1, \"items\": [{\"fullName\": \"Moriel Pahima\", \"headline\": \"Founding AI Engineer @ xpander.ai\", \"summary\": \"\", \"profilePicture\": \"https://media.licdn.com/dms/image/v2/D4D03AQHpeHG7TAG1TA/profile-displayphoto-shrink_100_100/profile-displayphoto-shrink_100_100/0/1722427311924?e=1746057600&v=beta&t=-74AXH_mRcJR3jZiatAK0gttj7kY_SW1HlQ7LSteW4g\", \"location\": \"Tel Aviv District, Israel\", \"profileURL\": \"https://www.linkedin.com/in/moriel-pahima\", \"username\": \"moriel-pahima\"}]}}\n",
      "\u001b[0m> Running step bdf5189f-1f90-418a-aa28-9c9a18bc61c4. Step input: None\n",
      "\u001b[1;3;38;5;200mThought: I have found the LinkedIn profile details for Moriel Pahima. I can now provide the information without using any more tools.\n",
      "Answer: Moriel Pahima is a Founding AI Engineer at xpander.ai, located in the Tel Aviv District, Israel. You can view their LinkedIn profile [here](https://www.linkedin.com/in/moriel-pahima). Here is their profile picture:\n",
      "\n",
      "![Moriel Pahima](https://media.licdn.com/dms/image/v2/D4D03AQHpeHG7TAG1TA/profile-displayphoto-shrink_100_100/profile-displayphoto-shrink_100_100/0/1722427311924?e=1746057600&v=beta&t=-74AXH_mRcJR3jZiatAK0gttj7kY_SW1HlQ7LSteW4g)\n",
      "\u001b[0mMoriel Pahima is a Founding AI Engineer at xpander.ai, located in the Tel Aviv District, Israel. You can view their LinkedIn profile [here](https://www.linkedin.com/in/moriel-pahima). Here is their profile picture:\n",
      "\n",
      "![Moriel Pahima](https://media.licdn.com/dms/image/v2/D4D03AQHpeHG7TAG1TA/profile-displayphoto-shrink_100_100/profile-displayphoto-shrink_100_100/0/1722427311924?e=1746057600&v=beta&t=-74AXH_mRcJR3jZiatAK0gttj7kY_SW1HlQ7LSteW4g)\n"
     ]
    }
   ],
   "source": [
    "response = agent.chat(prompt)\n",
    "print(response)"
   ]
  },
  {
   "cell_type": "markdown",
   "id": "e76959dc",
   "metadata": {},
   "source": [
    "# Save memory to xpander"
   ]
  },
  {
   "cell_type": "code",
   "execution_count": 8,
   "id": "2b82a764",
   "metadata": {},
   "outputs": [],
   "source": [
    "xpander.sync_memory(agent=agent)"
   ]
  }
 ],
 "metadata": {
  "kernelspec": {
   "display_name": ".venv",
   "language": "python",
   "name": "python3"
  },
  "language_info": {
   "codemirror_mode": {
    "name": "ipython",
    "version": 3
   },
   "file_extension": ".py",
   "mimetype": "text/x-python",
   "name": "python",
   "nbconvert_exporter": "python",
   "pygments_lexer": "ipython3",
   "version": "3.12.7"
  }
 },
 "nbformat": 4,
 "nbformat_minor": 5
}
