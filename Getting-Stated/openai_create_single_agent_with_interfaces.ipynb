{
 "cells": [
  {
   "cell_type": "markdown",
   "metadata": {},
   "source": [
    "# creating a single agent that searches linkedin for people - OpenAI"
   ]
  },
  {
   "cell_type": "code",
   "execution_count": 96,
   "metadata": {},
   "outputs": [
    {
     "data": {
      "text/plain": [
       "True"
      ]
     },
     "execution_count": 96,
     "metadata": {},
     "output_type": "execute_result"
    }
   ],
   "source": [
    "from xpander_sdk import XpanderClient, GraphItem\n",
    "from openai import OpenAI\n",
    "from dotenv import load_dotenv\n",
    "from os import environ\n",
    "\n",
    "load_dotenv()\n"
   ]
  },
  {
   "cell_type": "code",
   "execution_count": 97,
   "metadata": {},
   "outputs": [],
   "source": [
    "OPENAI_API_KEY = environ[\"OPENAI_API_KEY\"]\n",
    "XPANDER_API_KEY = environ[\"XPANDER_API_KEY\"]"
   ]
  },
  {
   "cell_type": "markdown",
   "metadata": {},
   "source": [
    "## Initialize xpander.ai Client"
   ]
  },
  {
   "cell_type": "code",
   "execution_count": 98,
   "metadata": {},
   "outputs": [],
   "source": [
    "xpander_client = XpanderClient(api_key=XPANDER_API_KEY)"
   ]
  },
  {
   "cell_type": "markdown",
   "metadata": {},
   "source": [
    "## Initialize OpenAI Client"
   ]
  },
  {
   "cell_type": "code",
   "execution_count": 99,
   "metadata": {},
   "outputs": [],
   "source": [
    "openai_client = OpenAI(api_key=OPENAI_API_KEY)"
   ]
  },
  {
   "cell_type": "markdown",
   "metadata": {},
   "source": [
    "## Create the agent"
   ]
  },
  {
   "cell_type": "code",
   "execution_count": 100,
   "metadata": {},
   "outputs": [
    {
     "name": "stdout",
     "output_type": "stream",
     "text": [
      "created agent 619742f9-7c98-4853-a318-f043281973fe - https://app.xpander.ai/agents/619742f9-7c98-4853-a318-f043281973fe\n"
     ]
    }
   ],
   "source": [
    "agent = xpander_client.agents.create(name=\"Linkedin Researcher\")\n",
    "print(f\"created agent {agent.id} - https://app.xpander.ai/agents/{agent.id}\")"
   ]
  },
  {
   "cell_type": "markdown",
   "metadata": {},
   "source": [
    "## List interfaces"
   ]
  },
  {
   "cell_type": "code",
   "execution_count": 101,
   "metadata": {},
   "outputs": [],
   "source": [
    "agentic_interfaces = agent.retrieve_agentic_interfaces()"
   ]
  },
  {
   "cell_type": "markdown",
   "metadata": {},
   "source": [
    "## Find linkedin agentic interface"
   ]
  },
  {
   "cell_type": "code",
   "execution_count": 102,
   "metadata": {},
   "outputs": [],
   "source": [
    "linkedin_interface = next((interface for interface in agentic_interfaces if \"linkedin\" in interface.name.lower()))"
   ]
  },
  {
   "cell_type": "markdown",
   "metadata": {},
   "source": [
    "## List LinkedIn operations"
   ]
  },
  {
   "cell_type": "code",
   "execution_count": 103,
   "metadata": {},
   "outputs": [],
   "source": [
    "linkedin_operations = agent.retrieve_agentic_operations(agentic_interface=linkedin_interface)"
   ]
  },
  {
   "cell_type": "markdown",
   "metadata": {},
   "source": [
    "## Take 2 relevant operations (search profile + get profile)"
   ]
  },
  {
   "cell_type": "code",
   "execution_count": 104,
   "metadata": {},
   "outputs": [],
   "source": [
    "search_profile_operation = next((operation for operation in linkedin_operations if operation.path == \"/search-people\"))\n",
    "get_profile_operation = next((operation for operation in linkedin_operations if operation.path == \"/get-profile-data-by-url\"))"
   ]
  },
  {
   "cell_type": "markdown",
   "metadata": {},
   "source": [
    "## Attach the operations to the agent"
   ]
  },
  {
   "cell_type": "code",
   "execution_count": 105,
   "metadata": {},
   "outputs": [],
   "source": [
    "agent.attach_operations(operations=[search_profile_operation,get_profile_operation])"
   ]
  },
  {
   "cell_type": "markdown",
   "metadata": {},
   "source": [
    "## Add the operations to the graph"
   ]
  },
  {
   "cell_type": "code",
   "execution_count": 106,
   "metadata": {},
   "outputs": [
    {
     "name": "stderr",
     "output_type": "stream",
     "text": [
      "/Users/morielp/dev/xpander-agents-hub/.venv/lib/python3.12/site-packages/xpander_sdk/__init__.py:215: UserWarning: Typeguard cannot check the IAgentGraphItemSettings protocol because it is a non-runtime protocol. If you would like to type check this protocol, please use @typing.runtime_checkable\n",
      "  typeguard.check_type(value=value, expected_type=expected_type, collection_check_strategy=typeguard.CollectionCheckStrategy.ALL_ITEMS) # type:ignore\n"
     ]
    }
   ],
   "source": [
    "search_profile_node = agent.graph.add_node(GraphItem(agent=agent,item_id=search_profile_operation.id_to_use_on_graph,name=search_profile_operation.name))\n",
    "get_profile_node = agent.graph.add_node(GraphItem(agent=agent,item_id=get_profile_operation.id_to_use_on_graph,name=get_profile_operation.name))"
   ]
  },
  {
   "cell_type": "markdown",
   "metadata": {},
   "source": [
    "## Connect the graph items"
   ]
  },
  {
   "cell_type": "code",
   "execution_count": 107,
   "metadata": {},
   "outputs": [
    {
     "data": {
      "text/plain": [
       "<xpander_sdk.GraphItem at 0x1179d7950>"
      ]
     },
     "execution_count": 107,
     "metadata": {},
     "output_type": "execute_result"
    }
   ],
   "source": [
    "search_profile_node.connect([get_profile_node])"
   ]
  },
  {
   "cell_type": "markdown",
   "metadata": {},
   "source": [
    "## Sync (deploy)"
   ]
  },
  {
   "cell_type": "code",
   "execution_count": 108,
   "metadata": {},
   "outputs": [
    {
     "data": {
      "text/plain": [
       "<xpander_sdk.Agent at 0x117601820>"
      ]
     },
     "execution_count": 108,
     "metadata": {},
     "output_type": "execute_result"
    }
   ],
   "source": [
    "agent.sync()"
   ]
  },
  {
   "cell_type": "markdown",
   "metadata": {},
   "source": [
    "## Invoke the agent with query and create an execution task"
   ]
  },
  {
   "cell_type": "code",
   "execution_count": 109,
   "metadata": {},
   "outputs": [
    {
     "data": {
      "text/plain": [
       "<xpander_sdk.Execution at 0x11743fcb0>"
      ]
     },
     "execution_count": 109,
     "metadata": {},
     "output_type": "execute_result"
    }
   ],
   "source": [
    "agent.add_task(\"\"\"\n",
    "Find details about David Twizer the founder of xpander.ai\n",
    "\"\"\")"
   ]
  },
  {
   "cell_type": "markdown",
   "metadata": {},
   "source": [
    "## Init the agent's memory with input (query) and instructions"
   ]
  },
  {
   "cell_type": "code",
   "execution_count": 110,
   "metadata": {},
   "outputs": [],
   "source": [
    "agent.memory.init_messages(input=agent.execution.input_message,instructions=agent.instructions)"
   ]
  },
  {
   "cell_type": "markdown",
   "metadata": {},
   "source": [
    "## Run the agent and wait for result"
   ]
  },
  {
   "cell_type": "code",
   "execution_count": 111,
   "metadata": {},
   "outputs": [],
   "source": [
    "while not agent.is_finished():\n",
    "    response = openai_client.chat.completions.create(\n",
    "                model= \"gpt-4o\",\n",
    "                messages=agent.messages,\n",
    "                tools=agent.get_tools(),\n",
    "                tool_choice=agent.tool_choice,\n",
    "                temperature=0.0\n",
    "        )\n",
    "            \n",
    "    # add messages directly from the LLM response\n",
    "    agent.add_messages(response.model_dump())\n",
    "    \n",
    "    # extract tool calls from the LLM response\n",
    "    tool_calls = XpanderClient.extract_tool_calls(llm_response=response.model_dump())\n",
    "    # run tools\n",
    "    agent.run_tools(tool_calls=tool_calls)\n"
   ]
  },
  {
   "cell_type": "markdown",
   "metadata": {},
   "source": [
    "## Fetch & print the agent execution result"
   ]
  },
  {
   "cell_type": "code",
   "execution_count": 112,
   "metadata": {},
   "outputs": [
    {
     "name": "stdout",
     "output_type": "stream",
     "text": [
      "status ExecutionStatus.COMPLETED\n",
      "result **David Twizer** is the Co-Founder & CEO of xpander.ai, a company that empowers AI Engineers and AI Leaders to build intelligent AI Agents. He has a rich background in cloud solutions and has previously worked at Amazon Web Services (AWS) in various roles, including Sr. Manager, GenAI Specialist SA, and Principal Solutions Architect.\n",
      "\n",
      "### Profile Summary:\n",
      "- **Name:** David Twizer\n",
      "- **Current Position:** Co-Founder & CEO at xpander.ai\n",
      "- **Location:** Tel Aviv-Yafo, Tel Aviv District, Israel\n",
      "- **LinkedIn Profile:** [David Twizer](https://www.linkedin.com/in/dudutwizer)\n",
      "\n",
      "### Professional Experience:\n",
      "- **xpander.ai**\n",
      "  - Co-Founder & CEO (2024 - Present)\n",
      "  - Focus: Building AI Agents for complex, multi-step actions across systems.\n",
      "\n",
      "- **Amazon Web Services (AWS)**\n",
      "  - Sr. Manager, GenAI Specialist SA (Aug 2022 - Dec 2023)\n",
      "  - Principal Solutions Architect (Sep 2020 - Aug 2022)\n",
      "  - Specialist Solutions Architect (Oct 2018 - Sep 2020)\n",
      "  - Technical Account Manager (Jul 2017 - Oct 2018)\n",
      "\n",
      "- **Comm-IT**\n",
      "  - Senior Solutions Architect (Jan 2016 - Jun 2017)\n",
      "  - Senior Information Technology Engineer (Sep 2014 - Sep 2016)\n",
      "\n",
      "- **IDF - Israel Defense Forces**\n",
      "  - Head of DevOps (2012 - Sep 2014)\n",
      "  - DevOps Engineer (2009 - 2012)\n",
      "\n",
      "### Education:\n",
      "- **The College of Management Academic Studies**\n",
      "  - Computer Science (2013 - 2015)\n",
      "\n",
      "- **Ruppin Academic Center**\n",
      "  - Bachelor of Business Administration (B.B.A.) in Business Administration and Management, General (2015 - 2017)\n",
      "\n",
      "- **Basmach IDF School**\n",
      "  - Systems Engineering (2009)\n",
      "\n",
      "### Skills:\n",
      "- Active Directory, Integration, Windows Server, System Administration, VMware, SQL, Cloud Computing, and more.\n",
      "\n",
      "### Certifications:\n",
      "- AWS Certified Solutions Architect - Associate\n",
      "- AWS Certified Solutions Architect - Professional\n",
      "- AWS Certified SysOps Administrator - Associate\n",
      "- MCSE 70-410\n",
      "\n",
      "David Twizer is a seasoned professional with extensive experience in cloud solutions and AI technologies, making significant contributions to the field through his leadership at xpander.ai and previous roles at AWS.\n"
     ]
    }
   ],
   "source": [
    "execution_result = agent.retrieve_execution_result()\n",
    "\n",
    "print(\"status\", execution_result.status)\n",
    "print(\"result\", execution_result.result)"
   ]
  }
 ],
 "metadata": {
  "kernelspec": {
   "display_name": ".venv",
   "language": "python",
   "name": "python3"
  },
  "language_info": {
   "codemirror_mode": {
    "name": "ipython",
    "version": 3
   },
   "file_extension": ".py",
   "mimetype": "text/x-python",
   "name": "python",
   "nbconvert_exporter": "python",
   "pygments_lexer": "ipython3",
   "version": "3.12.7"
  }
 },
 "nbformat": 4,
 "nbformat_minor": 2
}
