{
 "cells": [
  {
   "cell_type": "markdown",
   "metadata": {},
   "source": [
    "# Xpander On-Premises Setup\n",
    "\n",
    "This notebook contains the Docker Compose configuration needed to set up Xpander in an on-premises environment."
   ]
  },
  {
   "cell_type": "markdown",
   "metadata": {},
   "source": [
    "## Docker Compose Configuration\n",
    "\n",
    "The following Docker Compose configuration defines the services needed for running Xpander on-premises:"
   ]
  },
  {
   "cell_type": "code",
   "execution_count": 1,
   "metadata": {},
   "outputs": [
    {
     "name": "stdout",
     "output_type": "stream",
     "text": [
      "Writing docker-compose.yml\n"
     ]
    }
   ],
   "source": [
    "%%writefile docker-compose.yml\n",
    "services:\n",
    "  agent-controller:\n",
    "    image: xpanderaihub/agent-controller:latest\n",
    "    container_name: agent-controller\n",
    "    platform: linux/amd64 # ⬅️ Forces AMD64 architecture\n",
    "    restart: always\n",
    "    depends_on:\n",
    "      - redis\n",
    "    ports:\n",
    "      - '9991:9016'\n",
    "    environment:\n",
    "      DEPLOYMENT_MANAGER_URL: 'https://deployment-manager.xpander.ai'\n",
    "      DEPLOYMENT_MANAGER_API_KEY: 'my-deployment-manager-api-key' ## ⬅️ Get this from your workers management \n",
    "      AGENT_CONTROLLER_API_KEY: 'my-agent-controller-api-key'\n",
    "      REDIS_ENDPOINT: 'redis'\n",
    "      IS_XPANDER_CLOUD: 'false'\n",
    "      ORGANIZATION_ID: 'your-xpander-org-id'\n",
    "      AI_GATEWAY_URL: 'http://ai-gateway:9018'\n",
    "      AI_GATEWAY_API_KEY: 'my-ai-gateway-api-key'\n",
    "    networks:\n",
    "      - xpander-network\n",
    "  redis:\n",
    "    image: redis:latest\n",
    "    container_name: redis\n",
    "    restart: always\n",
    "    ports:\n",
    "      - '6379:6379'\n",
    "    command: redis-server\n",
    "    volumes:\n",
    "      - redis-data:/data\n",
    "    networks:\n",
    "      - xpander-network\n",
    "\n",
    "networks:\n",
    "  xpander-network:\n",
    "    driver: bridge\n",
    "\n",
    "volumes:\n",
    "  redis-data:\n",
    "    driver: local"
   ]
  },
  {
   "cell_type": "markdown",
   "metadata": {},
   "source": [
    "## Running the Configuration\n",
    "\n",
    "To run this Docker Compose configuration:\n",
    "\n",
    "1. Execute the cell above to create the `docker-compose.yml` file\n",
    "2. Open a terminal and navigate to the directory where the file was created\n",
    "3. Run the following command to start the services:\n",
    "\n",
    "```bash\n",
    "docker-compose up -d\n",
    "```\n",
    "\n",
    "This will start the agent-controller and redis services in detached mode."
   ]
  },
  {
   "cell_type": "code",
   "execution_count": 5,
   "metadata": {},
   "outputs": [
    {
     "name": "stdout",
     "output_type": "stream",
     "text": [
      "\u001b[1A\u001b[1B\u001b[0G\u001b[?25l[+] Running 1/0\n",
      " \u001b[32m✔\u001b[0m Container redis             \u001b[32mRunning\u001b[0m                                     \u001b[34m0.0s \u001b[0m\n",
      " \u001b[33m⠋\u001b[0m Container agent-controller  Starting                                    \u001b[34m0.1s \u001b[0m\n",
      "\u001b[?25h\u001b[1A\u001b[1A\u001b[1A\u001b[0G\u001b[?25l\u001b[34m[+] Running 2/2\u001b[0m\n",
      " \u001b[32m✔\u001b[0m Container redis             \u001b[32mRunning\u001b[0m                                     \u001b[34m0.0s \u001b[0m\n",
      " \u001b[32m✔\u001b[0m Container agent-controller  \u001b[32mStarted\u001b[0m                                     \u001b[34m0.1s \u001b[0m\n",
      "\u001b[?25h"
     ]
    }
   ],
   "source": [
    "# You can run this cell to start the services directly from the notebook\n",
    "!docker compose up -d"
   ]
  },
  {
   "cell_type": "markdown",
   "metadata": {},
   "source": [
    "# Change your xpanderClient to agent controller new url"
   ]
  },
  {
   "cell_type": "markdown",
   "metadata": {},
   "source": [
    "```python\n",
    "xpander_client = XpanderClient(api_key=\"my-agent-controller-api-key\", base_url=\"http://localhost:9991\", organization_id=\"your-xpander-ord-id\" )\n",
    "````"
   ]
  }
 ],
 "metadata": {
  "kernelspec": {
   "display_name": ".venv",
   "language": "python",
   "name": "python3"
  },
  "language_info": {
   "codemirror_mode": {
    "name": "ipython",
    "version": 3
   },
   "file_extension": ".py",
   "mimetype": "text/x-python",
   "name": "python",
   "nbconvert_exporter": "python",
   "pygments_lexer": "ipython3",
   "version": "3.13.1"
  }
 },
 "nbformat": 4,
 "nbformat_minor": 4
}
