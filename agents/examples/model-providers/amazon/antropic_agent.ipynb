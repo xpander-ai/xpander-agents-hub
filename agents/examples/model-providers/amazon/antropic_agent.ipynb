{
 "cells": [
  {
   "cell_type": "code",
   "execution_count": null,
   "id": "636694a0",
   "metadata": {},
   "outputs": [],
   "source": [
    "!pip install xpander-sdk boto3 python-dotenv"
   ]
  },
  {
   "cell_type": "code",
   "execution_count": 2,
   "id": "initial_id",
   "metadata": {
    "collapsed": true
   },
   "outputs": [
    {
     "name": "stdout",
     "output_type": "stream",
     "text": [
      "[{'toolSpec': {'name': 'PgLinkedInGetCompanyDetailsAndInsights', 'description': \"This operation retrieves detailed insights and data about a specified company from LinkedIn. Use this operation when you need to analyze a company's profile, gather insights for market research, or evaluate potential business opportunities. It is particularly useful for professionals in sales, marketing, and business development who require comprehensive company information to inform their strategies.\", 'inputSchema': {'json': {'type': 'object', 'properties': {'queryParams': {'type': 'object', 'properties': {}, 'required': []}, 'pathParams': {'type': 'object', 'properties': {}, 'required': []}, 'bodyParams': {'type': 'object', 'properties': {'inputTask': {'type': 'string', 'description': 'input user sub task based on the input query'}}, 'required': []}}, 'required': ['query_params', 'path_params', 'body_params']}}}}]\n"
     ]
    }
   ],
   "source": [
    "from xpander_sdk import XpanderClient, LLMProvider\n",
    "import boto3\n",
    "import os\n",
    "import dotenv\n",
    "import json\n",
    "from IPython.display import Markdown\n",
    "\n",
    "dotenv.load_dotenv()\n",
    "\n",
    "session = boto3.Session(profile_name='prod')\n",
    "bedrock_client = session.client('bedrock-runtime', region_name='us-west-2')\n",
    "xpander_client = XpanderClient(api_key=os.getenv('XPANDER_API_KEY'))\n",
    "agent1 = xpander_client.agents.get(agent_id=os.getenv('XPANDER_AGENT_ID'))\n",
    "print(agent1.get_tools(llm_provider=LLMProvider.AMAZON_BEDROCK))\n"
   ]
  },
  {
   "cell_type": "code",
   "execution_count": 3,
   "id": "7ba213c2",
   "metadata": {},
   "outputs": [
    {
     "name": "stdout",
     "output_type": "stream",
     "text": [
      "decided to run tool LinkedInCompanyManagementGetCompanyInfoByDomain\n",
      "tool status code 200\n",
      "decided to run tool CrunchbaseOrganizationSearchAutocompleteByQuery\n",
      "tool status code 400\n",
      "decided to run tool tavily_insights_fetchInsightsFromTavilyAI\n",
      "tool status code 200\n"
     ]
    },
    {
     "data": {
      "text/markdown": [
       "Let me summarize the information about xpander.ai based on the research:\n",
       "\n",
       "xpander.ai is a technology company that specializes in AI agent development and integration solutions. Here are the key points about the company and their technology:\n",
       "\n",
       "Main Technology and What They Do:\n",
       "1. AI Agent Building Platform: They develop a platform that enables the creation and deployment of intelligent AI agents capable of autonomous decision-making and task execution.\n",
       "\n",
       "2. Key Technologies:\n",
       "- AI-Ready Connector Technology: Their platform offers a connector generator that creates tailored integrations between AI and various systems\n",
       "- Agent Graph System (AGS): A novel technology that improves the reliability and efficiency of AI agents\n",
       "- Agentic Interfaces: Technology for handling complex multi-step AI agent workflows\n",
       "\n",
       "Interesting Facts:\n",
       "1. Their Agent Graph System (AGS) has been reported to improve GPT-4 success rates by 4x in handling complex tasks\n",
       "2. The platform is designed for enterprise companies to deploy AI agents within their own systems\n",
       "3. They work with major tech partners, including integration with NVIDIA NIM microservices\n",
       "4. The company was founded by David Twizer (CEO) and Ran Sheinberg (Chief Product Officer)\n",
       "\n",
       "Their Main Value Proposition:\n",
       "- They help businesses automate complex tasks by enabling AI agents to seamlessly interact across different systems\n",
       "- Their technology allows for autonomous execution of multi-step workflows\n",
       "- They focus on making AI agent technology more accessible and reliable for enterprise use\n",
       "- Their platform reduces the complexity of implementing AI solutions in real-world applications\n",
       "\n",
       "The company appears to be at the forefront of AI agent technology, focusing on making AI implementations more practical and efficient for business use through their specialized connector and agent management systems."
      ],
      "text/plain": [
       "<IPython.core.display.Markdown object>"
      ]
     },
     "execution_count": 3,
     "metadata": {},
     "output_type": "execute_result"
    }
   ],
   "source": [
    "model_id = \"anthropic.claude-3-5-sonnet-20241022-v2:0\"\n",
    "\n",
    "prompt = \"Find information about xpander.ai and their main technology, summarize what they do and interesting facts about them.\"\n",
    "\n",
    "user_message = {\n",
    "    \"role\": \"user\",\n",
    "    \"content\": [{\"text\": prompt}] \n",
    "}\n",
    "\n",
    "memory = []\n",
    "memory.append(user_message)\n",
    "number_of_calls = 1\n",
    "\n",
    "tool_config = {\n",
    "    \"tools\": agent1.retrieve_all_graph_tools(llm_provider=LLMProvider.AMAZON_BEDROCK)\n",
    "}\n",
    "\n",
    "while True:\n",
    "    response = bedrock_client.converse(\n",
    "        modelId=model_id,\n",
    "        messages=memory,\n",
    "        toolConfig=tool_config\n",
    "    )\n",
    "    memory.append(response['output']['message'])\n",
    "\n",
    "    stop_reason = response['stopReason']\n",
    "    if stop_reason == \"end_turn\":\n",
    "        break\n",
    "    if stop_reason == \"tool_use\":\n",
    "        tools_to_run = XpanderClient.extract_tool_calls(llm_response=response, llm_provider=LLMProvider.AMAZON_BEDROCK)\n",
    "        for tool_to_run in tools_to_run:\n",
    "            print(\"decided to run tool\", tool_to_run.name)\n",
    "        tool_responses = agent1.run_tools(tools_to_run)\n",
    "        for tool_response in tool_responses:\n",
    "            print(\"tool status code\", tool_response.status_code)\n",
    "            memory.append({\"role\": \"user\", \"content\": [{\"toolResult\": {\"toolUseId\": tool_response.tool_call_id, \"content\": [{\"json\": {\"result\": tool_response.result}}]}}]})\n",
    "\n",
    "answer = response['output']['message']['content'][0]['text']\n",
    "Markdown(answer)"
   ]
  }
 ],
 "metadata": {
  "kernelspec": {
   "display_name": "Python 3",
   "language": "python",
   "name": "python3"
  },
  "language_info": {
   "codemirror_mode": {
    "name": "ipython",
    "version": 3
   },
   "file_extension": ".py",
   "mimetype": "text/x-python",
   "name": "python",
   "nbconvert_exporter": "python",
   "pygments_lexer": "ipython3",
   "version": "3.12.8"
  }
 },
 "nbformat": 4,
 "nbformat_minor": 5
}
