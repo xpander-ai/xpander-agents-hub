{
 "cells": [
  {
   "cell_type": "markdown",
   "metadata": {},
   "source": [
    "# Daily Briefing Multi Agent Example\n"
   ]
  },
  {
   "cell_type": "markdown",
   "metadata": {},
   "source": [
    "The system consists of four agents:\n",
    "\n",
    "1. **Retrieve User Meetings Agent** – Fetches all meetings for the day.\n",
    "\n",
    "2. **ClickUp Tasks Agent** – Retrieves the user’s tasks from ClickUp.\n",
    "\n",
    "3. **Industrial News Agent** – Generates work-related news posts with relevant links based on the user's tasks.\n",
    "\n",
    "4. **Manager Agent** – Orchestrates agent interactions and finalizes the output.\n",
    "\n",
    "at the end create a report with your schedule, highlighting key meetings, tasks, and deadlines, and pulling in relevant updates or industry news that helps the user to be more productive."
   ]
  },
  {
   "cell_type": "code",
   "execution_count": 9,
   "metadata": {},
   "outputs": [
    {
     "name": "stdout",
     "output_type": "stream",
     "text": [
      "Requirement already satisfied: xpander-sdk in /Users/danielmashala/miniconda3/lib/python3.12/site-packages (1.41.2)\n",
      "Requirement already satisfied: jsii<2.0.0,>=1.106.0 in /Users/danielmashala/miniconda3/lib/python3.12/site-packages (from xpander-sdk) (1.106.0)\n",
      "Requirement already satisfied: publication>=0.0.3 in /Users/danielmashala/miniconda3/lib/python3.12/site-packages (from xpander-sdk) (0.0.3)\n",
      "Requirement already satisfied: typeguard<4.3.0,>=2.13.3 in /Users/danielmashala/miniconda3/lib/python3.12/site-packages (from xpander-sdk) (4.2.1)\n",
      "Requirement already satisfied: attrs<25.0,>=21.2 in /Users/danielmashala/miniconda3/lib/python3.12/site-packages (from jsii<2.0.0,>=1.106.0->xpander-sdk) (24.3.0)\n",
      "Requirement already satisfied: cattrs<24.2,>=1.8 in /Users/danielmashala/miniconda3/lib/python3.12/site-packages (from jsii<2.0.0,>=1.106.0->xpander-sdk) (24.1.2)\n",
      "Requirement already satisfied: importlib-resources>=5.2.0 in /Users/danielmashala/miniconda3/lib/python3.12/site-packages (from jsii<2.0.0,>=1.106.0->xpander-sdk) (6.5.2)\n",
      "Requirement already satisfied: python-dateutil in /Users/danielmashala/miniconda3/lib/python3.12/site-packages (from jsii<2.0.0,>=1.106.0->xpander-sdk) (2.9.0.post0)\n",
      "Requirement already satisfied: typing-extensions<5.0,>=3.8 in /Users/danielmashala/miniconda3/lib/python3.12/site-packages (from jsii<2.0.0,>=1.106.0->xpander-sdk) (4.12.2)\n",
      "Requirement already satisfied: six>=1.5 in /Users/danielmashala/miniconda3/lib/python3.12/site-packages (from python-dateutil->jsii<2.0.0,>=1.106.0->xpander-sdk) (1.17.0)\n",
      "Note: you may need to restart the kernel to use updated packages.\n"
     ]
    }
   ],
   "source": [
    "%pip install --upgrade xpander-sdk --no-cache-dir"
   ]
  },
  {
   "cell_type": "code",
   "execution_count": 10,
   "metadata": {},
   "outputs": [
    {
     "data": {
      "text/plain": [
       "True"
      ]
     },
     "execution_count": 10,
     "metadata": {},
     "output_type": "execute_result"
    }
   ],
   "source": [
    "from openai import OpenAI\n",
    "from xpander_sdk import XpanderClient, LLMProvider\n",
    "from os import environ\n",
    "from dotenv import load_dotenv\n",
    "from datetime import datetime\n",
    "\n",
    "load_dotenv()"
   ]
  },
  {
   "cell_type": "code",
   "execution_count": 11,
   "metadata": {},
   "outputs": [],
   "source": [
    "OPENAI_API_KEY = environ[\"OPENAI_API_KEY\"]\n",
    "XPANDER_API_KEY = environ[\"XPANDER_API_KEY\"]\n",
    "XPANDER_AGENT_ID = environ[\"XPANDER_AGENT_ID\"]\n",
    "BASE_URL = environ[\"BASE_URL\"]"
   ]
  },
  {
   "cell_type": "code",
   "execution_count": 12,
   "metadata": {},
   "outputs": [],
   "source": [
    "# load the clients\n",
    "xpander_client = XpanderClient(api_key=XPANDER_API_KEY, base_url=BASE_URL)\n",
    "openai_client = OpenAI(api_key=OPENAI_API_KEY)\n",
    "\n",
    "# get the agent\n",
    "xpander_agent = xpander_client.agents.get(agent_id=XPANDER_AGENT_ID)"
   ]
  },
  {
   "cell_type": "code",
   "execution_count": 13,
   "metadata": {},
   "outputs": [],
   "source": [
    "\n",
    "today = datetime.now().strftime(\"%Y-%m-%d\")\n",
    "xpander_agent.add_task(f\"Please create a daily briefing report for today - {today}\")\n",
    "xpander_agent.memory.init_messages(input=xpander_agent.execution.input_message,instructions=xpander_agent.instructions)\n",
    "\n",
    "while not xpander_agent.is_finished():\n",
    "    \n",
    "    response = openai_client.chat.completions.create(\n",
    "                model= 'gpt-4o',\n",
    "                messages=xpander_agent.messages,\n",
    "                tools=xpander_agent.get_tools(),\n",
    "                tool_choice=xpander_agent.tool_choice,\n",
    "                temperature=0.0\n",
    "        )\n",
    "    # add messages directly from the LLM response\n",
    "    xpander_agent.add_messages(response.model_dump())\n",
    "    \n",
    "    # extract tool calls from the LLM response\n",
    "    tool_calls = XpanderClient.extract_tool_calls(llm_response=response.model_dump(),llm_provider=LLMProvider.OPEN_AI)\n",
    "    # run tools\n",
    "    xpander_agent.run_tools(tool_calls=tool_calls)\n",
    "    "
   ]
  },
  {
   "cell_type": "code",
   "execution_count": 14,
   "metadata": {},
   "outputs": [
    {
     "name": "stdout",
     "output_type": "stream",
     "text": [
      "status: ExecutionStatus.COMPLETED\n",
      "result:\n",
      "\n",
      " # Daily Briefing - 2025-02-04\n",
      "## Today's Schedule\n",
      "**Meetings:**\n",
      "- 07:30 - 08:30: demo: xpander.ai platform (Attendees: Daniel)\n",
      "- 09:00 - 09:15: Daniel <> Shaked Sync (Attendees: Shaked, Daniel)\n",
      "- 11:00 - 11:45: Multi-Agent Sync (Attendees: Daniel)\n",
      "- 12:30 - 14:00: Xpander Assistance Agent (Attendees: Daniel)\n",
      "\n",
      "**Tasks:**\n",
      "- High Priority:\n",
      "  - build an research AI Agent - demo (Due: 2025-02-04)\n",
      "  - running benchmark to test AI function calls (Due: 2025-02-04)\n",
      "  - UI bug fix agent builder (Due: 2025-02-04)\n",
      "  - xpander Assistance agent (Due: 2025-02-04)\n",
      "- Other Tasks:\n",
      "  - Update Research Agent (Due: 2025-02-04)\n",
      "\n",
      "## Latest Updates\n",
      "1. **Asymmetries of Service: Interdependence and Synchronicity**\n",
      "   - Source: ArXiv\n",
      "   - Key Point: Explores dynamics of service interactions between customers and AI agents, offering insights into optimal agent concurrency levels.\n",
      "   - Link: [Read more](http://arxiv.org/abs/2402.15533v2)\n",
      "\n",
      "2. **RILe: Reinforced Imitation Learning**\n",
      "   - Source: ArXiv\n",
      "   - Key Point: Combines imitation learning and inverse reinforcement learning to efficiently learn complex behaviors in AI agents.\n",
      "   - Link: [Read more](http://arxiv.org/abs/2406.08472v3)\n",
      "\n",
      "3. **Dynamic Learning Rate for Deep Reinforcement Learning: A Bandit Approach**\n",
      "   - Source: ArXiv\n",
      "   - Key Point: Proposes a meta-learning approach to dynamically adjust learning rates in deep reinforcement learning.\n",
      "   - Link: [Read more](http://arxiv.org/abs/2410.12598v2)\n",
      "\n",
      "4. **Deep Exploration with PAC-Bayes**\n",
      "   - Source: ArXiv\n",
      "   - Key Point: Uses a PAC-Bayesian perspective to improve learning in delayed reward scenarios.\n",
      "   - Link: [Read more](http://arxiv.org/abs/2402.03055v3)\n",
      "\n",
      "5. **Customizable LLM-Powered Chatbot for Behavioral Science Research**\n",
      "   - Source: ArXiv\n",
      "   - Key Point: Describes a customizable chatbot system for behavioral science research.\n",
      "   - Link: [Read more](http://arxiv.org/abs/2501.05541v3)\n",
      "\n",
      "6. **Stocks that may benefit from an AI evolution this year**\n",
      "   - Source: LinkedIn\n",
      "   - Key Point: Discusses the potential impact of AI advancements on tech stocks.\n",
      "   - Link: [Read more](https://www.linkedin.com/posts/mattcameron2_stocks-that-may-benefit-from-an-ai-evolution-activity-7292565488516112384-jEem)\n",
      "\n",
      "7. **Agentic AI in Auto Finance**\n",
      "   - Source: LinkedIn\n",
      "   - Key Point: Explores the role of AI in transforming auto finance.\n",
      "   - Link: [Read more](https://www.linkedin.com/posts/celine-ayache-663bb41aa_autofinance-ai-machinelearning-activity-7292565339547090944-UziD)\n",
      "\n",
      "8. **AI and Cybersecurity**\n",
      "   - Source: LinkedIn\n",
      "   - Key Point: Examines the dual role of AI in enhancing cybersecurity and enabling cybercrime.\n",
      "   - Link: [Read more](https://www.linkedin.com/posts/kimberlybecan_cybersecurity-activity-7292565164627742720-xALC)\n",
      "\n",
      "9. **AI in Asset and Wealth Management**\n",
      "   - Source: LinkedIn\n",
      "   - Key Point: Discusses strategic moves for asset managers to leverage AI technologies.\n",
      "   - Link: [Read more](https://www.linkedin.com/posts/barry-ness-8340451b_ai-is-moving-fast-and-whether-your-firm-is-activity-7292564546962046977-2UOE)\n",
      "\n",
      "10. **AI in Insurance**\n",
      "    - Source: LinkedIn\n",
      "    - Key Point: Highlights AI's role in transforming insurance through automation and personalized services.\n",
      "    - Link: [Read more](https://www.linkedin.com/posts/good-morning-gwinnett_insurance-ai-leadgeneration-activity-7292564462996230145-IywH)\n",
      "\n",
      "---\n"
     ]
    }
   ],
   "source": [
    "execution_result = xpander_agent.retrieve_execution_result()\n",
    "\n",
    "print(\"status:\", execution_result.status)\n",
    "print(\"result:\\n\\n\", execution_result.result)"
   ]
  }
 ],
 "metadata": {
  "kernelspec": {
   "display_name": "base",
   "language": "python",
   "name": "python3"
  },
  "language_info": {
   "codemirror_mode": {
    "name": "ipython",
    "version": 3
   },
   "file_extension": ".py",
   "mimetype": "text/x-python",
   "name": "python",
   "nbconvert_exporter": "python",
   "pygments_lexer": "ipython3",
   "version": "3.12.2"
  }
 },
 "nbformat": 4,
 "nbformat_minor": 2
}
