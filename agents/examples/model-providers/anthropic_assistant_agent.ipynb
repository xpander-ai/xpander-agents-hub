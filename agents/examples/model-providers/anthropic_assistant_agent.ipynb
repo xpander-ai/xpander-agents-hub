{
 "cells": [
  {
   "cell_type": "code",
   "execution_count": null,
   "id": "initial_id",
   "metadata": {
    "collapsed": true
   },
   "outputs": [],
   "source": [
    "from xpander_sdk import XpanderClient, LLMProvider \n",
    "\n",
    "form xpander_sdk import XpanderAI\n",
    "\n",
    "from openai import OpenAI\n",
    "\n",
    "## Load environment variables\n",
    "from dotenv import load_dotenv\n",
    "import os\n",
    "load_dotenv()\n",
    "OpenAPIKey = os.environ.get(\"OPENAI_API_KEY\",\"\")\n",
    "xpanderAPIKey = os.environ.get(\"XPANDER_API_KEY\",\"\")\n",
    "xpanderAgentURL = os.environ.get(\"XPANDER_AGENT_URL\",\"\")\n",
    "\n",
    "## Initialize OpenAI and Xpander clients\n",
    "openai_client = OpenAI(api_key=OpenAPIKey)\n",
    "\n",
    "xpander_client = XpanderAI(api_key=XPANDER_API_KEY)\n",
    "\n",
    "## Return list of IDs and the Agent Name, and description that this key has access to invoke/control\n",
    "agents = xpander_client.get_agents()\n",
    "\n",
    "# Allow without the Agent key, because the org key might have permissions\n",
    "agent1 = xpander_client.get_agent(agentId: Agent_ID)\n",
    "agent2 = xpander_client.get_agent(agentId: Agent_ID)\n",
    "\n",
    "# OR allow directly without organizational key\n",
    "agent1 = xpander_client.get_agent(agentId : Agent_ID, agentKey: Agent_key)\n",
    "agent2 = xpander_client.get_agent(agentId : Agent_ID, agentKey: Agent_key)\n",
    "\n",
    "agent.get_tools()\n",
    "\n",
    "xpander_client.start_session(prompt=\"Events managements\")\n",
    "\n",
    "memory = []\n",
    "memory.append({\"role\": \"system\", \"content\": \"You are a helpful assistant, you are running in While loop if you want to stop the loop, please add ##FINAL ANSWER## in your answer\"})\n",
    "memory.append({\"role\": \"user\", \"content\": \"Get events and send it to David on Slack\"})\n",
    "number_of_calls = 1\n",
    "\n",
    "while True:\n",
    "    llm_response = openai_client.chat.completions.create(\n",
    "        model=\"gpt-4o\",\n",
    "        messages=memory,\n",
    "        tools=agent.get_tools(),\n",
    "        tool_choice=\"auto\",\n",
    "        max_tokens=1024,\n",
    "    )\n",
    "    memory.append({\"role\": \"assistant\", \"content\": f'Step number: {number_of_calls}'})\n",
    "    memory.append(llm_response.choices[0].message)\n",
    "    \n",
    "    if(llm_response.choices[0].message.tool_calls):\n",
    "        tool_response = agent.tool_call(tool_selector_response=llm_response.model_dump())\n",
    "        for tool_response in tool_response:\n",
    "            memory.append({\"role\": \"tool\", \"content\": tool_response.response_message, \"tool_call_id\": tool_response.tool_call_id})\n",
    "    if (llm_response.choices[0].message.content):\n",
    "        if \"##FINAL ANSWER##\" in llm_response.choices[0].message.content:\n",
    "            break\n",
    "    number_of_calls += 1\n",
    "print(llm_response.choices[0].message.content)"
   ]
  }
 ],
 "metadata": {
  "kernelspec": {
   "display_name": "Python 3",
   "language": "python",
   "name": "python3"
  },
  "language_info": {
   "codemirror_mode": {
    "name": "ipython",
    "version": 2
   },
   "file_extension": ".py",
   "mimetype": "text/x-python",
   "name": "python",
   "nbconvert_exporter": "python",
   "pygments_lexer": "ipython2",
   "version": "2.7.6"
  }
 },
 "nbformat": 4,
 "nbformat_minor": 5
}
