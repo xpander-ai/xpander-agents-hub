{
 "cells": [
  {
   "cell_type": "code",
   "execution_count": 1,
   "metadata": {},
   "outputs": [
    {
     "name": "stdout",
     "output_type": "stream",
     "text": [
      "Requirement already satisfied: xpander-sdk in /opt/miniconda3/lib/python3.12/site-packages (1.20.0)\n",
      "Requirement already satisfied: jsii<2.0.0,>=1.105.0 in /opt/miniconda3/lib/python3.12/site-packages (from xpander-sdk) (1.106.0)\n",
      "Requirement already satisfied: publication>=0.0.3 in /opt/miniconda3/lib/python3.12/site-packages (from xpander-sdk) (0.0.3)\n",
      "Requirement already satisfied: typeguard<4.3.0,>=2.13.3 in /opt/miniconda3/lib/python3.12/site-packages (from xpander-sdk) (4.2.1)\n",
      "Requirement already satisfied: attrs<25.0,>=21.2 in /opt/miniconda3/lib/python3.12/site-packages (from jsii<2.0.0,>=1.105.0->xpander-sdk) (24.2.0)\n",
      "Requirement already satisfied: cattrs<24.2,>=1.8 in /opt/miniconda3/lib/python3.12/site-packages (from jsii<2.0.0,>=1.105.0->xpander-sdk) (24.1.2)\n",
      "Requirement already satisfied: importlib-resources>=5.2.0 in /opt/miniconda3/lib/python3.12/site-packages (from jsii<2.0.0,>=1.105.0->xpander-sdk) (6.4.5)\n",
      "Requirement already satisfied: python-dateutil in /opt/miniconda3/lib/python3.12/site-packages (from jsii<2.0.0,>=1.105.0->xpander-sdk) (2.9.0)\n",
      "Requirement already satisfied: typing-extensions<5.0,>=3.8 in /opt/miniconda3/lib/python3.12/site-packages (from jsii<2.0.0,>=1.105.0->xpander-sdk) (4.12.2)\n",
      "Requirement already satisfied: six>=1.5 in /opt/miniconda3/lib/python3.12/site-packages (from python-dateutil->jsii<2.0.0,>=1.105.0->xpander-sdk) (1.16.0)\n",
      "Note: you may need to restart the kernel to use updated packages.\n",
      "Note: you may need to restart the kernel to use updated packages.\n"
     ]
    }
   ],
   "source": [
    "%pip install -U xpander-sdk\n",
    "%pip install -qU openai"
   ]
  },
  {
   "cell_type": "code",
   "execution_count": 2,
   "metadata": {},
   "outputs": [
    {
     "name": "stderr",
     "output_type": "stream",
     "text": [
      "b'\\x1b[43m\\x1b[30m!!!!!!!!!!!!!!!!!!!!!!!!!!!!!!!!!!!!!!!!!!!!!!!!!!!!!!!!!!!!!!!!!!!!!!!!!!!!!!!!!!!!!!!!!!!!!!!!!!!!!!!!!!!!!!!!!!!!!!!!!!\\x1b[39m\\x1b[49m\\n'\n",
      "b'\\x1b[43m\\x1b[30m!!                                                                                                                      !!\\x1b[39m\\x1b[49m\\n'\n",
      "b'\\x1b[43m\\x1b[30m!!  This software has not been tested with node v23.1.0.                                                                !!\\x1b[39m\\x1b[49m\\n'\n",
      "b'\\x1b[43m\\x1b[30m!!  Should you encounter odd runtime issues, please try using one of the supported release before filing a bug report.  !!\\x1b[39m\\x1b[49m\\n'\n",
      "b'\\x1b[43m\\x1b[30m!!                                                                                                                      !!\\x1b[39m\\x1b[49m\\n'\n",
      "b'\\x1b[43m\\x1b[30m!!  This software is currently running on node v23.1.0.                                                                 !!\\x1b[39m\\x1b[49m\\n'\n",
      "b'\\x1b[43m\\x1b[30m!!  As of the current release of this software, supported node releases are:                                            !!\\x1b[39m\\x1b[49m\\n'\n",
      "b'\\x1b[43m\\x1b[30m!!  - ^22.0.0 (Planned end-of-life: 2027-04-30)                                                                         !!\\x1b[39m\\x1b[49m\\n'\n",
      "b'\\x1b[43m\\x1b[30m!!  - ^20.0.0 (Planned end-of-life: 2026-04-30)                                                                         !!\\x1b[39m\\x1b[49m\\n'\n",
      "b'\\x1b[43m\\x1b[30m!!  - ^18.0.0 (Planned end-of-life: 2025-04-30)                                                                         !!\\x1b[39m\\x1b[49m\\n'\n",
      "b'\\x1b[43m\\x1b[30m!!                                                                                                                      !!\\x1b[39m\\x1b[49m\\n'\n",
      "b'\\x1b[43m\\x1b[30m!!  This warning can be silenced by setting the JSII_SILENCE_WARNING_UNTESTED_NODE_VERSION environment variable.        !!\\x1b[39m\\x1b[49m\\n'\n",
      "b'\\x1b[43m\\x1b[30m!!                                                                                                                      !!\\x1b[39m\\x1b[49m\\n'\n",
      "b'\\x1b[43m\\x1b[30m!!!!!!!!!!!!!!!!!!!!!!!!!!!!!!!!!!!!!!!!!!!!!!!!!!!!!!!!!!!!!!!!!!!!!!!!!!!!!!!!!!!!!!!!!!!!!!!!!!!!!!!!!!!!!!!!!!!!!!!!!!\\x1b[39m\\x1b[49m\\n'\n"
     ]
    }
   ],
   "source": [
    "from xpander_sdk import XpanderClient, LLMProvider, FriendliAISupportedModels\n",
    "from openai import OpenAI\n",
    "from dotenv import load_dotenv\n",
    "import os\n",
    "\n",
    "## Load environment variables\n",
    "load_dotenv()\n",
    "friendli_client = OpenAI(\n",
    "    base_url=\"https://api.friendli.ai/serverless/v1\",\n",
    "    api_key=os.environ.get(\"FRIENDLI_TOKEN\")\n",
    ")\n",
    "\n",
    "xpanderAPIKey = os.environ.get(\"XPANDER_API_KEY\",\"\")\n",
    "xpanderAgentID = os.environ.get(\"XPANDER_AGENT_ID\", \"\")\n",
    "\n",
    "\n",
    "xpander_client = XpanderClient(api_key=xpanderAPIKey)\n",
    "xpander_agent = xpander_client.agents.get(agent_id=xpanderAgentID)\n"
   ]
  },
  {
   "cell_type": "code",
   "execution_count": 3,
   "metadata": {},
   "outputs": [
    {
     "name": "stdout",
     "output_type": "stream",
     "text": [
      "ChatCompletionMessage(content='Hello. How can I assist you today?', refusal=None, role='assistant', audio=None, function_call=None, tool_calls=None)\n"
     ]
    }
   ],
   "source": [
    "# verify the friendli client is working\n",
    "completion = friendli_client.chat.completions.create(\n",
    "    model=\"meta-llama-3.1-8b-instruct\",\n",
    "    messages=[\n",
    "        {\"role\": \"system\", \"content\": \"You are a helpful assistant.\"},\n",
    "        {\"role\": \"user\", \"content\": \"Hello!\"}\n",
    "    ]\n",
    ")\n",
    "print(completion.choices[0].message)"
   ]
  },
  {
   "cell_type": "code",
   "execution_count": 4,
   "metadata": {},
   "outputs": [
    {
     "name": "stdout",
     "output_type": "stream",
     "text": [
      "[{'type': 'function', 'function': {'name': 'PgTavilyFetchInsightsFromTavilyAI', 'description': 'This operation fetches insights from Tavily AI based on user-defined queries. Use this operation when you need to gather comprehensive information or insights on a specific topic, making it ideal for research, content creation, or data analysis. It is particularly useful for applications that require in-depth exploration of subjects, allowing users to investigate, study, or analyze topics thoroughly.', 'parameters': {'type': 'object', 'properties': {'queryParams': {'type': 'object', 'properties': {}, 'required': []}, 'pathParams': {'type': 'object', 'properties': {}, 'required': []}, 'bodyParams': {'type': 'object', 'properties': {'inputTask': {'type': 'string', 'description': 'input user sub task based on the input query'}}, 'required': []}}, 'required': ['query_params', 'path_params', 'body_params']}}}]\n"
     ]
    }
   ],
   "source": [
    "print(xpander_agent.get_tools())"
   ]
  },
  {
   "cell_type": "code",
   "execution_count": 5,
   "metadata": {},
   "outputs": [
    {
     "name": "stdout",
     "output_type": "stream",
     "text": [
      "{'role': 'user', 'content': 'creat report on AWS Nova new model'}\n",
      "{'role': 'assistant', 'content': 'Step number: 1'}\n",
      "ChatCompletionMessage(content=None, refusal=None, role='assistant', audio=None, function_call=None, tool_calls=[ChatCompletionMessageToolCall(id='call_1r4wReDenU3tvmO1dfYfbGhl', function=Function(arguments='{\"queryParams\": {}, \"pathParams\": {}, \"bodyParams\": {\"inputTask\": \"AWS Nova new model\"}}', name='PgTavilyFetchInsightsFromTavilyAI'), type='function')])\n",
      "[ChatCompletionMessageToolCall(id='call_1r4wReDenU3tvmO1dfYfbGhl', function=Function(arguments='{\"queryParams\": {}, \"pathParams\": {}, \"bodyParams\": {\"inputTask\": \"AWS Nova new model\"}}', name='PgTavilyFetchInsightsFromTavilyAI'), type='function')]\n",
      "Tool Name: PgTavilyFetchInsightsFromTavilyAI\n",
      "{'role': 'tool', 'content': \"system message: graph prompt group selected, ignore this and proceed with the user's request using new tools.\", 'tool_call_id': 'call_1r4wReDenU3tvmO1dfYfbGhl'}\n",
      "{'role': 'assistant', 'content': 'Step number: 2'}\n",
      "ChatCompletionMessage(content=None, refusal=None, role='assistant', audio=None, function_call=None, tool_calls=[ChatCompletionMessageToolCall(id='call_pZ3ub3HytdPVM4OUJq6Vgkdk', function=Function(arguments='{\"bodyParams\": {\"query\": \"AWS Nova new model\", \"exclude_domains\": [], \"search_depth\": \"basic\"}, \"queryParams\": {}, \"pathParams\": {}}', name='tavily-insights-fetchInsightsFromTavilyAI'), type='function')])\n",
      "[ChatCompletionMessageToolCall(id='call_pZ3ub3HytdPVM4OUJq6Vgkdk', function=Function(arguments='{\"bodyParams\": {\"query\": \"AWS Nova new model\", \"exclude_domains\": [], \"search_depth\": \"basic\"}, \"queryParams\": {}, \"pathParams\": {}}', name='tavily-insights-fetchInsightsFromTavilyAI'), type='function')]\n",
      "Tool Name: tavily-insights-fetchInsightsFromTavilyAI\n",
      "{'role': 'tool', 'content': {'query': 'AWS Nova new model', 'images': [], 'results': [{'title': 'Amazon Nova: Meet our new foundation models in Amazon Bedrock', 'url': 'https://www.aboutamazon.com/news/aws/amazon-nova-artificial-intelligence-bedrock-aws', 'content': '“Our new Amazon Nova models are intended to help with these challenges for internal and external builders, and provide compelling intelligence and content generation while also delivering meaningful progress on latency, cost-effectiveness, customization, information grounding, and agentic capabilities.” Amazon Nova Reel, a state-of-the-art video generation model. With the output quality, intuitive API platform, and advanced customization opportunities, the Amazon Nova creative generation models, Amazon Nova Canvas and Amazon Nova Reel, are helping Amazon Ads remove barriers for sellers and advertisers leading to new levels of creativity and innovation, like using video advertising for the first time, creating display and video campaigns for more products in their catalog, and experimenting with new strategies like keyword-level creative.', 'score': 0.89567816}, {'title': 'What is Amazon Nova? - Amazon Nova - docs.aws.amazon.com', 'url': 'https://docs.aws.amazon.com/nova/latest/userguide/what-is-nova.html', 'content': 'Amazon Nova is a new generation of state-of-the-art foundation models that deliver frontier intelligence and industry leading price performance, available on Amazon Bedrock. With text and vision fine-tuning on Amazon Bedrock, you can customize Amazon Nova Pro, Lite, and Micro to deliver the optimal intelligence and cost for your needs. Amazon Nova Micro is a text-only model that delivers the lowest latency responses at very low cost. Amazon Nova Lite is a very low cost multimodal model that is lightning fast for processing image, video, and text inputs. Amazon Nova Canvas - is a state-of-the-art image generation model that creates professional grade images from text and image inputs. Amazon Nova Reel - is a state-of-the-art video generation model that supports the generation of short videos from input text and images.', 'score': 0.8455478}, {'title': 'First impressions of the new Amazon Nova LLMs (via a new llm-bedrock ...', 'url': 'https://simonwillison.net/2024/Dec/4/amazon-nova/', 'content': \"The new model family is called Amazon Nova and comes in three sizes: Micro, Lite and Pro. I built a new LLM plugin called llm-bedrock for accessing the models in the terminal via boto3 and the Amazon Bedrock API. In terms of capabilities: all of the above models can handle image inputs now, with the exception of Amazon Nova Micro and o1-mini and o1-preview which are text only. llm -m nova-pro 'python function to domnload a CSV file from a URL, create a corresponding table in SQLite and import the data' This is First impressions of the new Amazon Nova LLMs (via a new llm-bedrock plugin) by Simon Willison, posted on 4th December 2024.\", 'score': 0.8430832}, {'title': 'Amazon announces Nova, a new family of multimodal AI models', 'url': 'https://techcrunch.com/2024/12/03/amazon-announces-nova-a-new-family-of-multimodal-ai-models/', 'content': 'Amazon announces Nova, a new family of multimodal AI models | TechCrunch Amazon announces Nova, a new family of multimodal AI models | TechCrunch Amazon announces Nova, a new family of multimodal AI models At its re:Invent conference on Tuesday, Amazon Web Services (AWS), Amazon’s cloud computing division, announced a new family of multimodal generative AI models it calls Nova. In addition to those, there’s an image-generation model, Nova Canvas, and a video-generating model, Nova Reel. They’re available in AWS Bedrock, Amazon’s AI development platform, where they can be fine-tuned on text, images, and video\\xa0and distilled for improved speed and higher efficiency. AI, AI, Amazon, Amazon Web Services, AWS, aws re:Invent, aws reinvent 2024, Enterprise, Generative AI, Media & Entertainment, Nova, reinvent 2024', 'score': 0.83290404}, {'title': 'Generative Foundation Model - Amazon Nova - AWS', 'url': 'https://aws.amazon.com/ai/generative-ai/nova/', 'content': 'Generative Foundation Model - Amazon Nova - AWS Amazon Nova Canvas and Amazon Nova Reel are creative content generation models that accept text and image inputs and produce image or video outputs. Amazon Nova Pro’s capabilities, coupled with its industry-leading speed and cost efficiency, makes it a compelling model for almost any task, including video summarization, Q&A, mathematical reasoning, software development, and AI agents that can execute multi-step workflows. Amazon Nova Reel is a state-of-the-art video generation model that allows customers to easily create high quality video from text and images. Amazon Nova Canvas represents a significant jump forward in image quality from AWS’s already impressive line-up of models, which makes us really excited to include it in the Shutterstock AI Image Generator.', 'score': 0.8156003}], 'response_time': 2.23}, 'tool_call_id': 'call_pZ3ub3HytdPVM4OUJq6Vgkdk'}\n",
      "{'role': 'assistant', 'content': 'Step number: 3'}\n",
      "ChatCompletionMessage(content='The Amazon Nova new model is a family of multimodal generative AI models that includes text, image, and video generation capabilities. The models are available in three sizes: Micro, Lite, and Pro, and can be fine-tuned on Amazon Bedrock, a cloud-based AI development platform.\\n\\nThe Nova models are designed to provide frontier intelligence and industry-leading price performance, making them suitable for a wide range of applications, including content generation, video advertising, and product customization.\\n\\nSome of the key capabilities of the Nova models include:\\n\\n* Text and vision fine-tuning on Amazon Bedrock\\n* Customization options to deliver optimal intelligence and cost for specific needs\\n* Low-latency responses at very low cost (Amazon Nova Micro)\\n* Lightning-fast processing of image, video, and text inputs (Amazon Nova Lite)\\n* Professional-grade image generation from text and image inputs (Amazon Nova Canvas)\\n* State-of-the-art video generation from input text and images (Amazon Nova Reel)\\n\\nOverall, the Amazon Nova new model is a powerful tool for AI development and content generation, offering a range of capabilities and customization options to suit different needs and applications.', refusal=None, role='assistant', audio=None, function_call=None, tool_calls=None)\n",
      "{'role': 'assistant', 'content': 'Step number: 4'}\n",
      "ChatCompletionMessage(content='##FINAL ANSWER##', refusal=None, role='assistant', audio=None, function_call=None, tool_calls=None)\n",
      "##FINAL ANSWER##\n"
     ]
    }
   ],
   "source": [
    "memory = [{\"role\": \"system\", \"content\": \"You are a helpful assistant with function calling and tool access. you are running in While loop if you want to stop the loop please add ##FINAL ANSWER## in your answer\"},\n",
    "          {\"role\": \"user\", \"content\": \"creat report on AWS Nova new model\"}\n",
    "          ]\n",
    "print(memory[-1])\n",
    "\n",
    "number_of_calls = 1\n",
    "while True:\n",
    "    llm_response = friendli_client.chat.completions.create(\n",
    "        model=FriendliAISupportedModels.META_LLAMA_3_1_8_B_INSTRUCT,\n",
    "        messages=memory,\n",
    "        tools=xpander_agent.get_tools(),\n",
    "        tool_choice=\"auto\"\n",
    "    )\n",
    "    memory.append({\"role\": \"assistant\", \"content\": f'Step number: {number_of_calls}'})\n",
    "    print(memory[-1])\n",
    "\n",
    "    memory.append(llm_response.choices[0].message)\n",
    "    print(memory[-1])\n",
    "    model_response = llm_response.choices[0].message\n",
    "    if model_response.tool_calls:\n",
    "        print(model_response.tool_calls)\n",
    "        tools_to_run = XpanderClient.extract_tool_calls(llm_response=llm_response.model_dump(), llm_provider=LLMProvider.FRIENDLI_AI)\n",
    "        print(\"Tool Name:\", tools_to_run[0].name)\n",
    "        tool_responses = xpander_agent.run_tools(tool_calls=tools_to_run)\n",
    "        for tool_response in tool_responses:\n",
    "            memory.append({\"role\": \"tool\", \"content\": tool_response.result, \"tool_call_id\": tool_response.tool_call_id})\n",
    "            print(memory[-1])\n",
    "    if (model_response.content):\n",
    "        if \"##FINAL ANSWER##\" in model_response.content:\n",
    "            break\n",
    "    number_of_calls += 1\n",
    "print(model_response.content)   "
   ]
  },
  {
   "cell_type": "code",
   "execution_count": null,
   "metadata": {},
   "outputs": [],
   "source": []
  }
 ],
 "metadata": {
  "kernelspec": {
   "display_name": "Python 3",
   "language": "python",
   "name": "python3"
  },
  "language_info": {
   "codemirror_mode": {
    "name": "ipython",
    "version": 3
   },
   "file_extension": ".py",
   "mimetype": "text/x-python",
   "name": "python",
   "nbconvert_exporter": "python",
   "pygments_lexer": "ipython3",
   "version": "3.12.2"
  }
 },
 "nbformat": 4,
 "nbformat_minor": 2
}
