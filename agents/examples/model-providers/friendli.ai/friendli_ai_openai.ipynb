{
 "cells": [
  {
   "cell_type": "code",
   "execution_count": 1,
   "metadata": {},
   "outputs": [
    {
     "name": "stdout",
     "output_type": "stream",
     "text": [
      "Collecting xpander-sdk\n",
      "  Using cached xpander_sdk-1.19.0-py3-none-any.whl.metadata (7.1 kB)\n",
      "Collecting openai\n",
      "  Using cached openai-1.58.1-py3-none-any.whl.metadata (27 kB)\n",
      "Collecting python-dotenv\n",
      "  Using cached python_dotenv-1.0.1-py3-none-any.whl.metadata (23 kB)\n",
      "Collecting jsii<2.0.0,>=1.105.0 (from xpander-sdk)\n",
      "  Using cached jsii-1.106.0-py3-none-any.whl.metadata (79 kB)\n",
      "Collecting publication>=0.0.3 (from xpander-sdk)\n",
      "  Using cached publication-0.0.3-py2.py3-none-any.whl.metadata (8.7 kB)\n",
      "Collecting typeguard<4.3.0,>=2.13.3 (from xpander-sdk)\n",
      "  Using cached typeguard-4.2.1-py3-none-any.whl.metadata (3.7 kB)\n",
      "Collecting anyio<5,>=3.5.0 (from openai)\n",
      "  Using cached anyio-4.7.0-py3-none-any.whl.metadata (4.7 kB)\n",
      "Collecting distro<2,>=1.7.0 (from openai)\n",
      "  Using cached distro-1.9.0-py3-none-any.whl.metadata (6.8 kB)\n",
      "Collecting httpx<1,>=0.23.0 (from openai)\n",
      "  Using cached httpx-0.28.1-py3-none-any.whl.metadata (7.1 kB)\n",
      "Collecting jiter<1,>=0.4.0 (from openai)\n",
      "  Using cached jiter-0.8.2-cp312-cp312-macosx_11_0_arm64.whl.metadata (5.2 kB)\n",
      "Collecting pydantic<3,>=1.9.0 (from openai)\n",
      "  Using cached pydantic-2.10.3-py3-none-any.whl.metadata (172 kB)\n",
      "Collecting sniffio (from openai)\n",
      "  Using cached sniffio-1.3.1-py3-none-any.whl.metadata (3.9 kB)\n",
      "Collecting tqdm>4 (from openai)\n",
      "  Using cached tqdm-4.67.1-py3-none-any.whl.metadata (57 kB)\n",
      "Collecting typing-extensions<5,>=4.11 (from openai)\n",
      "  Using cached typing_extensions-4.12.2-py3-none-any.whl.metadata (3.0 kB)\n",
      "Collecting idna>=2.8 (from anyio<5,>=3.5.0->openai)\n",
      "  Using cached idna-3.10-py3-none-any.whl.metadata (10 kB)\n",
      "Collecting certifi (from httpx<1,>=0.23.0->openai)\n",
      "  Using cached certifi-2024.12.14-py3-none-any.whl.metadata (2.3 kB)\n",
      "Collecting httpcore==1.* (from httpx<1,>=0.23.0->openai)\n",
      "  Using cached httpcore-1.0.7-py3-none-any.whl.metadata (21 kB)\n",
      "Collecting h11<0.15,>=0.13 (from httpcore==1.*->httpx<1,>=0.23.0->openai)\n",
      "  Using cached h11-0.14.0-py3-none-any.whl.metadata (8.2 kB)\n",
      "Collecting attrs<25.0,>=21.2 (from jsii<2.0.0,>=1.105.0->xpander-sdk)\n",
      "  Using cached attrs-24.3.0-py3-none-any.whl.metadata (11 kB)\n",
      "Collecting cattrs<24.2,>=1.8 (from jsii<2.0.0,>=1.105.0->xpander-sdk)\n",
      "  Using cached cattrs-24.1.2-py3-none-any.whl.metadata (8.4 kB)\n",
      "Collecting importlib-resources>=5.2.0 (from jsii<2.0.0,>=1.105.0->xpander-sdk)\n",
      "  Using cached importlib_resources-6.4.5-py3-none-any.whl.metadata (4.0 kB)\n",
      "Collecting python-dateutil (from jsii<2.0.0,>=1.105.0->xpander-sdk)\n",
      "  Using cached python_dateutil-2.9.0.post0-py2.py3-none-any.whl.metadata (8.4 kB)\n",
      "Collecting annotated-types>=0.6.0 (from pydantic<3,>=1.9.0->openai)\n",
      "  Using cached annotated_types-0.7.0-py3-none-any.whl.metadata (15 kB)\n",
      "Collecting pydantic-core==2.27.1 (from pydantic<3,>=1.9.0->openai)\n",
      "  Using cached pydantic_core-2.27.1-cp312-cp312-macosx_11_0_arm64.whl.metadata (6.6 kB)\n",
      "Collecting six>=1.5 (from python-dateutil->jsii<2.0.0,>=1.105.0->xpander-sdk)\n",
      "  Using cached six-1.17.0-py2.py3-none-any.whl.metadata (1.7 kB)\n",
      "Using cached xpander_sdk-1.19.0-py3-none-any.whl (2.2 MB)\n",
      "Using cached openai-1.58.1-py3-none-any.whl (454 kB)\n",
      "Using cached python_dotenv-1.0.1-py3-none-any.whl (19 kB)\n",
      "Using cached anyio-4.7.0-py3-none-any.whl (93 kB)\n",
      "Using cached distro-1.9.0-py3-none-any.whl (20 kB)\n",
      "Using cached httpx-0.28.1-py3-none-any.whl (73 kB)\n",
      "Using cached httpcore-1.0.7-py3-none-any.whl (78 kB)\n",
      "Using cached jiter-0.8.2-cp312-cp312-macosx_11_0_arm64.whl (310 kB)\n",
      "Using cached jsii-1.106.0-py3-none-any.whl (554 kB)\n",
      "Using cached publication-0.0.3-py2.py3-none-any.whl (7.7 kB)\n",
      "Using cached pydantic-2.10.3-py3-none-any.whl (456 kB)\n",
      "Using cached pydantic_core-2.27.1-cp312-cp312-macosx_11_0_arm64.whl (1.8 MB)\n",
      "Using cached sniffio-1.3.1-py3-none-any.whl (10 kB)\n",
      "Using cached tqdm-4.67.1-py3-none-any.whl (78 kB)\n",
      "Using cached typeguard-4.2.1-py3-none-any.whl (34 kB)\n",
      "Using cached typing_extensions-4.12.2-py3-none-any.whl (37 kB)\n",
      "Using cached annotated_types-0.7.0-py3-none-any.whl (13 kB)\n",
      "Using cached attrs-24.3.0-py3-none-any.whl (63 kB)\n",
      "Using cached cattrs-24.1.2-py3-none-any.whl (66 kB)\n",
      "Using cached idna-3.10-py3-none-any.whl (70 kB)\n",
      "Using cached importlib_resources-6.4.5-py3-none-any.whl (36 kB)\n",
      "Using cached certifi-2024.12.14-py3-none-any.whl (164 kB)\n",
      "Using cached python_dateutil-2.9.0.post0-py2.py3-none-any.whl (229 kB)\n",
      "Using cached h11-0.14.0-py3-none-any.whl (58 kB)\n",
      "Using cached six-1.17.0-py2.py3-none-any.whl (11 kB)\n",
      "Installing collected packages: publication, typing-extensions, tqdm, sniffio, six, python-dotenv, jiter, importlib-resources, idna, h11, distro, certifi, attrs, annotated-types, typeguard, python-dateutil, pydantic-core, httpcore, cattrs, anyio, pydantic, jsii, httpx, xpander-sdk, openai\n",
      "\u001b[31mERROR: pip's dependency resolver does not currently take into account all the packages that are installed. This behaviour is the source of the following dependency conflicts.\n",
      "ollama 0.3.3 requires httpx<0.28.0,>=0.27.0, but you have httpx 0.28.1 which is incompatible.\u001b[0m\u001b[31m\n",
      "\u001b[0mSuccessfully installed annotated-types-0.7.0 anyio-4.7.0 attrs-24.3.0 cattrs-24.1.2 certifi-2024.8.30 distro-1.9.0 h11-0.14.0 httpcore-1.0.7 httpx-0.28.1 idna-3.10 importlib-resources-6.4.5 jiter-0.8.2 jsii-1.106.0 openai-1.58.1 publication-0.0.3 pydantic-2.10.3 pydantic-core-2.27.1 python-dateutil-2.9.0.post0 python-dotenv-1.0.1 six-1.17.0 sniffio-1.3.1 tqdm-4.67.1 typeguard-4.2.1 typing-extensions-4.12.2 xpander-sdk-1.19.0\n",
      "\n",
      "\u001b[1m[\u001b[0m\u001b[34;49mnotice\u001b[0m\u001b[1;39;49m]\u001b[0m\u001b[39;49m A new release of pip is available: \u001b[0m\u001b[31;49m24.2\u001b[0m\u001b[39;49m -> \u001b[0m\u001b[32;49m24.3.1\u001b[0m\n",
      "\u001b[1m[\u001b[0m\u001b[34;49mnotice\u001b[0m\u001b[1;39;49m]\u001b[0m\u001b[39;49m To update, run: \u001b[0m\u001b[32;49mpip install --upgrade pip\u001b[0m\n"
     ]
    }
   ],
   "source": [
    "!pip install -I xpander-sdk openai python-dotenv"
   ]
  },
  {
   "cell_type": "code",
   "execution_count": 3,
   "metadata": {},
   "outputs": [
    {
     "name": "stdout",
     "output_type": "stream",
     "text": [
      "[{'type': 'function', 'function': {'name': 'PgLinkedInCompanyGetInfoByDomain', 'description': \"This operation retrieves detailed information about a company from LinkedIn using its domain. It's useful for professionals looking to gather insights on potential partners, competitors, or job opportunities. This operation is particularly beneficial for recruiters, sales teams, and market researchers who need quick access to company profiles and related data.\", 'parameters': {'type': 'object', 'properties': {'queryParams': {'type': 'object', 'properties': {}, 'required': []}, 'pathParams': {'type': 'object', 'properties': {}, 'required': []}, 'bodyParams': {'type': 'object', 'properties': {'inputTask': {'type': 'string', 'description': 'input user sub task based on the input query'}}, 'required': []}}, 'required': ['query_params', 'path_params', 'body_params']}}}, {'type': 'function', 'function': {'name': 'PgStockDataFetchAndEmailSummary', 'description': 'This operation fetches stock data and relevant news for a specified company, compiles a summary, and sends it via email. Use this when you need to monitor stock performance and stay updated on news, particularly for investment decisions or market analysis. It integrates stock data retrieval with email notifications, making it ideal for users who want timely updates on specific companies like Apple.', 'parameters': {'type': 'object', 'properties': {'queryParams': {'type': 'object', 'properties': {}, 'required': []}, 'pathParams': {'type': 'object', 'properties': {}, 'required': []}, 'bodyParams': {'type': 'object', 'properties': {'inputTask': {'type': 'string', 'description': 'input user sub task based on the input query'}}, 'required': []}}, 'required': ['query_params', 'path_params', 'body_params']}}}]\n"
     ]
    }
   ],
   "source": [
    "from xpander_sdk import XpanderClient, LLMProvider\n",
    "from openai import OpenAI\n",
    "from dotenv import load_dotenv\n",
    "import os\n",
    "\n",
    "## Load environment variables\n",
    "load_dotenv()\n",
    "friendli_client = OpenAI(\n",
    "    base_url=\"https://api.friendli.ai/serverless/v1\",\n",
    "    api_key=os.environ.get(\"FRIENDLI_TOKEN\")\n",
    ")\n",
    "\n",
    "xpanderAPIKey = os.environ.get(\"XPANDER_API_KEY\",\"\")\n",
    "xpanderAgentID = os.environ.get(\"XPANDER_AGENT_ID\", \"\")\n",
    "\n",
    "\n",
    "xpander_client = XpanderClient(api_key=xpanderAPIKey)\n",
    "xpander_agent = xpander_client.agents.get(agent_id=xpanderAgentID)\n",
    "\n",
    "print(xpander_agent.get_tools())\n"
   ]
  },
  {
   "cell_type": "code",
   "execution_count": 9,
   "metadata": {},
   "outputs": [
    {
     "name": "stdout",
     "output_type": "stream",
     "text": [
      "ChatCompletionMessage(content=\"Hello. It's nice to meet you. Is there anything I can help you with or would you like to chat?\", refusal=None, role='assistant', audio=None, function_call=None, tool_calls=None)\n"
     ]
    }
   ],
   "source": [
    "# verify the friendli client is working\n",
    "completion = friendli_client.chat.completions.create(\n",
    "    model=\"meta-llama-3.1-8b-instruct\",\n",
    "    messages=[\n",
    "        {\"role\": \"system\", \"content\": \"You are a helpful assistant.\"},\n",
    "        {\"role\": \"user\", \"content\": \"Hello!\"}\n",
    "    ]\n",
    ")\n",
    "print(completion.choices[0].message)"
   ]
  },
  {
   "cell_type": "code",
   "execution_count": 5,
   "metadata": {},
   "outputs": [
    {
     "name": "stdout",
     "output_type": "stream",
     "text": [
      "[{'type': 'function', 'function': {'name': 'PgLinkedInCompanyGetInfoByDomain', 'description': \"This operation retrieves detailed information about a company from LinkedIn using its domain. It's useful for professionals looking to gather insights on potential partners, competitors, or job opportunities. This operation is particularly beneficial for recruiters, sales teams, and market researchers who need quick access to company profiles and related data.\", 'parameters': {'type': 'object', 'properties': {'queryParams': {'type': 'object', 'properties': {}, 'required': []}, 'pathParams': {'type': 'object', 'properties': {}, 'required': []}, 'bodyParams': {'type': 'object', 'properties': {'inputTask': {'type': 'string', 'description': 'input user sub task based on the input query'}}, 'required': []}}, 'required': ['query_params', 'path_params', 'body_params']}}}, {'type': 'function', 'function': {'name': 'PgStockDataFetchAndEmailSummary', 'description': 'This operation fetches stock data and relevant news for a specified company, compiles a summary, and sends it via email. Use this when you need to monitor stock performance and stay updated on news, particularly for investment decisions or market analysis. It integrates stock data retrieval with email notifications, making it ideal for users who want timely updates on specific companies like Apple.', 'parameters': {'type': 'object', 'properties': {'queryParams': {'type': 'object', 'properties': {}, 'required': []}, 'pathParams': {'type': 'object', 'properties': {}, 'required': []}, 'bodyParams': {'type': 'object', 'properties': {'inputTask': {'type': 'string', 'description': 'input user sub task based on the input query'}}, 'required': []}}, 'required': ['query_params', 'path_params', 'body_params']}}}]\n"
     ]
    }
   ],
   "source": [
    "print(xpander_agent.get_tools())"
   ]
  },
  {
   "cell_type": "code",
   "execution_count": 10,
   "metadata": {},
   "outputs": [
    {
     "name": "stdout",
     "output_type": "stream",
     "text": [
      "{'role': 'user', 'content': 'Find xpander.ai Linkedin Page'}\n",
      "{'role': 'assistant', 'content': 'Step number: 1'}\n",
      "ChatCompletionMessage(content=None, refusal=None, role='assistant', audio=None, function_call=None, tool_calls=[ChatCompletionMessageToolCall(id='call_12hRxcFk7Udlw3n0SLV5fLcJ', function=Function(arguments='{\"queryParams\": {}, \"pathParams\": {}, \"bodyParams\": {\"inputTask\": \"Find xpander.ai Linkedeon page\"}}', name='PgLinkedInCompanyGetInfoByDomain'), type='function')])\n",
      "[ChatCompletionMessageToolCall(id='call_12hRxcFk7Udlw3n0SLV5fLcJ', function=Function(arguments='{\"queryParams\": {}, \"pathParams\": {}, \"bodyParams\": {\"inputTask\": \"Find xpander.ai Linkedeon page\"}}', name='PgLinkedInCompanyGetInfoByDomain'), type='function')]\n",
      "Tool Name: PgLinkedInCompanyGetInfoByDomain\n",
      "{'role': 'tool', 'content': \"system message: graph prompt group selected, ignore this and proceed with the user's request using new tools.\", 'tool_call_id': 'call_12hRxcFk7Udlw3n0SLV5fLcJ'}\n",
      "{'role': 'assistant', 'content': 'Step number: 2'}\n",
      "ChatCompletionMessage(content=None, refusal=None, role='assistant', audio=None, function_call=None, tool_calls=[ChatCompletionMessageToolCall(id='call_GU3pW1RCw1zytFTSx4k1PpVC', function=Function(arguments='{\"queryParams\": {}, \"bodyParams\": {\"inputTask\": \"Find xpander.ai LinkedIn page in news articles about them\"}}', name='PgLinkedInCompanyGetInfoByDomain'), type='function')])\n",
      "[ChatCompletionMessageToolCall(id='call_GU3pW1RCw1zytFTSx4k1PpVC', function=Function(arguments='{\"queryParams\": {}, \"bodyParams\": {\"inputTask\": \"Find xpander.ai LinkedIn page in news articles about them\"}}', name='PgLinkedInCompanyGetInfoByDomain'), type='function')]\n",
      "Tool Name: PgLinkedInCompanyGetInfoByDomain\n",
      "{'role': 'tool', 'content': \"system message: graph prompt group selected, ignore this and proceed with the user's request using new tools.\", 'tool_call_id': 'call_GU3pW1RCw1zytFTSx4k1PpVC'}\n",
      "{'role': 'assistant', 'content': 'Step number: 3'}\n",
      "ChatCompletionMessage(content=None, refusal=None, role='assistant', audio=None, function_call=None, tool_calls=[ChatCompletionMessageToolCall(id='call_9hfQv97DQl5tWCN39905B6vC', function=Function(arguments='{\"queryParams\": { }, \"bodyParams\": {\"inputTask\": \"Get the LinkedIn page linked directly to xpander.ai from their news and media reports on the web\"}}', name='PgLinkedInCompanyGetInfoByDomain'), type='function')])\n",
      "[ChatCompletionMessageToolCall(id='call_9hfQv97DQl5tWCN39905B6vC', function=Function(arguments='{\"queryParams\": { }, \"bodyParams\": {\"inputTask\": \"Get the LinkedIn page linked directly to xpander.ai from their news and media reports on the web\"}}', name='PgLinkedInCompanyGetInfoByDomain'), type='function')]\n",
      "Tool Name: PgLinkedInCompanyGetInfoByDomain\n",
      "{'role': 'tool', 'content': \"system message: graph prompt group selected, ignore this and proceed with the user's request using new tools.\", 'tool_call_id': 'call_9hfQv97DQl5tWCN39905B6vC'}\n",
      "{'role': 'assistant', 'content': 'Step number: 4'}\n",
      "ChatCompletionMessage(content='##FINAL ANSWER##', refusal=None, role='assistant', audio=None, function_call=None, tool_calls=None)\n",
      "##FINAL ANSWER##\n"
     ]
    }
   ],
   "source": [
    "memory = [{\"role\": \"system\", \"content\": \"You are a helpful assistant with function calling and tool access. you are running in While loop if you want to stop the loop please add ##FINAL ANSWER## in your answer. You are using xpander AI agent graph, when selecting tool you will get access to antoher tool only after execution. You need to execute the tool in order to get access to more tools, the xpander.ai might respond with system messages about selected group that indicated that you will get access in the next attemp.\"},\n",
    "          {\"role\": \"user\", \"content\": \"Find xpander.ai Linkedin Page\"}\n",
    "          ]\n",
    "print(memory[-1])\n",
    "\n",
    "number_of_calls = 1\n",
    "while True:\n",
    "    llm_response = friendli_client.chat.completions.create(\n",
    "        model=\"meta-llama-3.1-8b-instruct\",\n",
    "        messages=memory,\n",
    "        tools=xpander_agent.get_tools(),\n",
    "        tool_choice=\"auto\"\n",
    "    )\n",
    "    memory.append({\"role\": \"assistant\", \"content\": f'Step number: {number_of_calls}'})\n",
    "    print(memory[-1])\n",
    "\n",
    "    memory.append(llm_response.choices[0].message)\n",
    "    print(memory[-1])\n",
    "    model_response = llm_response.choices[0].message\n",
    "    if model_response.tool_calls:\n",
    "        print(model_response.tool_calls)\n",
    "        tools_to_run = XpanderClient.extract_tool_calls(llm_response=llm_response.model_dump())\n",
    "        print(\"Tool Name:\", tools_to_run[0].name)\n",
    "        tool_responses = xpander_agent.run_tools(tool_calls=tools_to_run)\n",
    "        for tool_response in tool_responses:\n",
    "            memory.append({\"role\": \"tool\", \"content\": tool_response.result, \"tool_call_id\": tool_response.tool_call_id})\n",
    "            print(memory[-1])\n",
    "    if (model_response.content):\n",
    "        if \"##FINAL ANSWER##\" in model_response.content:\n",
    "            break\n",
    "    number_of_calls += 1\n",
    "print(model_response.content)   "
   ]
  },
  {
   "cell_type": "code",
   "execution_count": null,
   "metadata": {},
   "outputs": [],
   "source": []
  }
 ],
 "metadata": {
  "kernelspec": {
   "display_name": "Python 3",
   "language": "python",
   "name": "python3"
  },
  "language_info": {
   "codemirror_mode": {
    "name": "ipython",
    "version": 3
   },
   "file_extension": ".py",
   "mimetype": "text/x-python",
   "name": "python",
   "nbconvert_exporter": "python",
   "pygments_lexer": "ipython3",
   "version": "3.12.7"
  }
 },
 "nbformat": 4,
 "nbformat_minor": 2
}
