{
 "cells": [
  {
   "cell_type": "code",
   "execution_count": 1,
   "metadata": {},
   "outputs": [
    {
     "name": "stdout",
     "output_type": "stream",
     "text": [
      "Collecting xpander-sdk\n",
      "  Using cached xpander_sdk-1.23.1-py3-none-any.whl.metadata (7.1 kB)\n",
      "Collecting openai\n",
      "  Using cached openai-1.58.1-py3-none-any.whl.metadata (27 kB)\n",
      "Collecting python-dotenv\n",
      "  Using cached python_dotenv-1.0.1-py3-none-any.whl.metadata (23 kB)\n",
      "Collecting jsii<2.0.0,>=1.105.0 (from xpander-sdk)\n",
      "  Using cached jsii-1.106.0-py3-none-any.whl.metadata (79 kB)\n",
      "Collecting publication>=0.0.3 (from xpander-sdk)\n",
      "  Using cached publication-0.0.3-py2.py3-none-any.whl.metadata (8.7 kB)\n",
      "Collecting typeguard<4.3.0,>=2.13.3 (from xpander-sdk)\n",
      "  Using cached typeguard-4.2.1-py3-none-any.whl.metadata (3.7 kB)\n",
      "Collecting anyio<5,>=3.5.0 (from openai)\n",
      "  Using cached anyio-4.7.0-py3-none-any.whl.metadata (4.7 kB)\n",
      "Collecting distro<2,>=1.7.0 (from openai)\n",
      "  Using cached distro-1.9.0-py3-none-any.whl.metadata (6.8 kB)\n",
      "Collecting httpx<1,>=0.23.0 (from openai)\n",
      "  Using cached httpx-0.28.1-py3-none-any.whl.metadata (7.1 kB)\n",
      "Collecting jiter<1,>=0.4.0 (from openai)\n",
      "  Using cached jiter-0.8.2-cp312-cp312-macosx_11_0_arm64.whl.metadata (5.2 kB)\n",
      "Collecting pydantic<3,>=1.9.0 (from openai)\n",
      "  Using cached pydantic-2.10.4-py3-none-any.whl.metadata (29 kB)\n",
      "Collecting sniffio (from openai)\n",
      "  Using cached sniffio-1.3.1-py3-none-any.whl.metadata (3.9 kB)\n",
      "Collecting tqdm>4 (from openai)\n",
      "  Using cached tqdm-4.67.1-py3-none-any.whl.metadata (57 kB)\n",
      "Collecting typing-extensions<5,>=4.11 (from openai)\n",
      "  Using cached typing_extensions-4.12.2-py3-none-any.whl.metadata (3.0 kB)\n",
      "Collecting idna>=2.8 (from anyio<5,>=3.5.0->openai)\n",
      "  Using cached idna-3.10-py3-none-any.whl.metadata (10 kB)\n",
      "Collecting certifi (from httpx<1,>=0.23.0->openai)\n",
      "  Using cached certifi-2024.12.14-py3-none-any.whl.metadata (2.3 kB)\n",
      "Collecting httpcore==1.* (from httpx<1,>=0.23.0->openai)\n",
      "  Using cached httpcore-1.0.7-py3-none-any.whl.metadata (21 kB)\n",
      "Collecting h11<0.15,>=0.13 (from httpcore==1.*->httpx<1,>=0.23.0->openai)\n",
      "  Using cached h11-0.14.0-py3-none-any.whl.metadata (8.2 kB)\n",
      "Collecting attrs<25.0,>=21.2 (from jsii<2.0.0,>=1.105.0->xpander-sdk)\n",
      "  Using cached attrs-24.3.0-py3-none-any.whl.metadata (11 kB)\n",
      "Collecting cattrs<24.2,>=1.8 (from jsii<2.0.0,>=1.105.0->xpander-sdk)\n",
      "  Using cached cattrs-24.1.2-py3-none-any.whl.metadata (8.4 kB)\n",
      "Collecting importlib-resources>=5.2.0 (from jsii<2.0.0,>=1.105.0->xpander-sdk)\n",
      "  Using cached importlib_resources-6.4.5-py3-none-any.whl.metadata (4.0 kB)\n",
      "Collecting python-dateutil (from jsii<2.0.0,>=1.105.0->xpander-sdk)\n",
      "  Using cached python_dateutil-2.9.0.post0-py2.py3-none-any.whl.metadata (8.4 kB)\n",
      "Collecting annotated-types>=0.6.0 (from pydantic<3,>=1.9.0->openai)\n",
      "  Using cached annotated_types-0.7.0-py3-none-any.whl.metadata (15 kB)\n",
      "Collecting pydantic-core==2.27.2 (from pydantic<3,>=1.9.0->openai)\n",
      "  Using cached pydantic_core-2.27.2-cp312-cp312-macosx_11_0_arm64.whl.metadata (6.6 kB)\n",
      "Collecting six>=1.5 (from python-dateutil->jsii<2.0.0,>=1.105.0->xpander-sdk)\n",
      "  Using cached six-1.17.0-py2.py3-none-any.whl.metadata (1.7 kB)\n",
      "Using cached xpander_sdk-1.23.1-py3-none-any.whl (2.2 MB)\n",
      "Using cached openai-1.58.1-py3-none-any.whl (454 kB)\n",
      "Using cached python_dotenv-1.0.1-py3-none-any.whl (19 kB)\n",
      "Using cached anyio-4.7.0-py3-none-any.whl (93 kB)\n",
      "Using cached distro-1.9.0-py3-none-any.whl (20 kB)\n",
      "Using cached httpx-0.28.1-py3-none-any.whl (73 kB)\n",
      "Using cached httpcore-1.0.7-py3-none-any.whl (78 kB)\n",
      "Using cached jiter-0.8.2-cp312-cp312-macosx_11_0_arm64.whl (310 kB)\n",
      "Using cached jsii-1.106.0-py3-none-any.whl (554 kB)\n",
      "Using cached publication-0.0.3-py2.py3-none-any.whl (7.7 kB)\n",
      "Using cached pydantic-2.10.4-py3-none-any.whl (431 kB)\n",
      "Using cached pydantic_core-2.27.2-cp312-cp312-macosx_11_0_arm64.whl (1.8 MB)\n",
      "Using cached sniffio-1.3.1-py3-none-any.whl (10 kB)\n",
      "Using cached tqdm-4.67.1-py3-none-any.whl (78 kB)\n",
      "Using cached typeguard-4.2.1-py3-none-any.whl (34 kB)\n",
      "Using cached typing_extensions-4.12.2-py3-none-any.whl (37 kB)\n",
      "Using cached annotated_types-0.7.0-py3-none-any.whl (13 kB)\n",
      "Using cached attrs-24.3.0-py3-none-any.whl (63 kB)\n",
      "Using cached cattrs-24.1.2-py3-none-any.whl (66 kB)\n",
      "Using cached idna-3.10-py3-none-any.whl (70 kB)\n",
      "Using cached importlib_resources-6.4.5-py3-none-any.whl (36 kB)\n",
      "Using cached certifi-2024.12.14-py3-none-any.whl (164 kB)\n",
      "Using cached python_dateutil-2.9.0.post0-py2.py3-none-any.whl (229 kB)\n",
      "Using cached h11-0.14.0-py3-none-any.whl (58 kB)\n",
      "Using cached six-1.17.0-py2.py3-none-any.whl (11 kB)\n",
      "Installing collected packages: publication, typing-extensions, tqdm, sniffio, six, python-dotenv, jiter, importlib-resources, idna, h11, distro, certifi, attrs, annotated-types, typeguard, python-dateutil, pydantic-core, httpcore, cattrs, anyio, pydantic, jsii, httpx, xpander-sdk, openai\n",
      "\u001b[31mERROR: pip's dependency resolver does not currently take into account all the packages that are installed. This behaviour is the source of the following dependency conflicts.\n",
      "ollama 0.3.3 requires httpx<0.28.0,>=0.27.0, but you have httpx 0.28.1 which is incompatible.\u001b[0m\u001b[31m\n",
      "\u001b[0mSuccessfully installed annotated-types-0.7.0 anyio-4.7.0 attrs-24.3.0 cattrs-24.1.2 certifi-2024.8.30 distro-1.9.0 h11-0.14.0 httpcore-1.0.7 httpx-0.28.1 idna-3.10 importlib-resources-6.4.5 jiter-0.8.2 jsii-1.106.0 openai-1.58.1 publication-0.0.3 pydantic-2.10.4 pydantic-core-2.27.1 python-dateutil-2.9.0.post0 python-dotenv-1.0.1 six-1.17.0 sniffio-1.3.1 tqdm-4.67.1 typeguard-4.2.1 typing-extensions-4.12.2 xpander-sdk-1.19.0\n",
      "\n",
      "\u001b[1m[\u001b[0m\u001b[34;49mnotice\u001b[0m\u001b[1;39;49m]\u001b[0m\u001b[39;49m A new release of pip is available: \u001b[0m\u001b[31;49m24.2\u001b[0m\u001b[39;49m -> \u001b[0m\u001b[32;49m24.3.1\u001b[0m\n",
      "\u001b[1m[\u001b[0m\u001b[34;49mnotice\u001b[0m\u001b[1;39;49m]\u001b[0m\u001b[39;49m To update, run: \u001b[0m\u001b[32;49mpip install --upgrade pip\u001b[0m\n"
     ]
    }
   ],
   "source": [
    "!pip install -I xpander-sdk openai python-dotenv"
   ]
  },
  {
   "cell_type": "code",
   "execution_count": 7,
   "metadata": {},
   "outputs": [
    {
     "name": "stdout",
     "output_type": "stream",
     "text": [
      "[{'type': 'function', 'function': {'name': 'SlackMessageSendingSendMessageToChannel', 'description': 'Sends a message to a channel. If the channel is missing, run listAllChannelsInTeam before anything else to get channel IDs. Use this method to post new messages, announcements, or updates to specific conversations or users. Common uses include team communication, automated notifications, and project updates. Supports rich content like attachments and blocks for enhanced messaging.', 'parameters': {'type': 'object', 'properties': {'bodyParams': {'type': 'object', 'properties': {'as_user': {'type': 'string', 'description': 'Pass true to post the message as the authenticated user instead of as a bot. Defaults to false. Use this to maintain the context of a user when posting. This option is only available for legacy Slack apps.'}, 'attachments': {'type': 'string', 'description': 'A JSON-based array of structured attachments, presented as a URL-encoded string. Use attachments to include rich content like images, buttons, and links in your message.'}, 'blocks': {'type': 'string', 'description': 'A JSON-based array of structured blocks, presented as a URL-encoded string. Blocks allow you to create complex message layouts with sections, images, actions, and other interactive elements.'}, 'channel': {'type': 'string', 'description': 'Specify the target of the message, which can be a user ID (for direct messages) or a channel ID (for group chats). For public channels, use the channel ID (e.g., C123456). For private channels or multi-person direct messages, use the corresponding IDs retrieved from listAllChannelsInTeam.'}, 'icon_emoji': {'type': 'string', 'description': 'An emoji to use as the icon for this message, overriding the `icon_url`. This property must be used with `as_user` set to false; otherwise, it will be ignored. Useful for customizing bot messages with specific emoji icons.'}, 'icon_url': {'type': 'string', 'description': 'URL to an image to use as the icon for this message. It overrides the default bot icon. This property must be used with `as_user` set to false; otherwise, it will be ignored.'}, 'link_names': {'type': 'boolean', 'description': 'Automatically link channel names and usernames mentioned in the message. Set to true to link them.'}, 'mrkdwn': {'type': 'boolean', 'description': 'Disable Slack markup parsing by setting this to `false`. Enabled by default. This option is useful if you want to display raw text without formatting.'}, 'parse': {'type': 'string', 'description': 'Change how messages are treated. The `full` option disables link unfurling and Markdown formatting, while `none` enables both. Defaults to `none`.'}, 'reply_broadcast': {'type': 'boolean', 'description': 'Used in conjunction with `thread_ts` to make the reply visible to everyone in the channel or conversation. Defaults to `false`. This is useful for making important replies more prominent in threaded discussions.'}, 'text': {'type': 'string', 'description': 'The main body text of the message. Required if `blocks` or `attachments` are not provided. If using `blocks`, this serves as fallback text for notifications.'}, 'thread_ts': {'type': 'string', 'description': \"Provide another message's `ts` value to make this message a reply to that message. Avoid using a reply's `ts` value; use the parent message's `ts` instead.\"}, 'unfurl_links': {'type': 'boolean', 'description': 'Enable unfurling of primarily text-based content. Set this to `true` to automatically expand links to text content in the message.'}, 'unfurl_media': {'type': 'boolean', 'description': 'Disable unfurling of media content by setting this to `false`. By default, media content such as images and videos will be expanded.'}, 'username': {'type': 'string', 'description': \"Set your bot's username. This property must be used with `as_user` set to false; otherwise, it will be ignored. Useful for customizing the display name of bot messages.\"}}, 'required': ['channel']}, 'queryParams': {'type': 'object', 'properties': {}, 'required': []}, 'pathParams': {'type': 'object', 'properties': {}, 'required': []}}, 'required': ['bodyParams', 'queryParams', 'pathParams']}}}, {'type': 'function', 'function': {'name': '7f5a704b-0739-42c8-a4d3-43cbfe84b19b', 'description': '', 'parameters': {'type': 'object', 'properties': {'bodyParams': {'type': 'object', 'properties': {'s3_bucket': {'type': 'string', 'description': 'The name of the S3 bucket.'}, 's3_key': {'type': 'string', 'description': 'The key of the CSV file in the S3 bucket.'}}, 'required': ['s3_bucket', 's3_key']}, 'queryParams': {'type': 'object', 'properties': {}, 'required': []}, 'pathParams': {'type': 'object', 'properties': {}, 'required': []}}, 'required': ['bodyParams', 'queryParams', 'pathParams']}}}]\n"
     ]
    }
   ],
   "source": [
    "from xpander_sdk import XpanderClient\n",
    "from openai import OpenAI\n",
    "from dotenv import load_dotenv\n",
    "import os\n",
    "\n",
    "## Load environment variables\n",
    "load_dotenv()\n",
    "friendli_client = OpenAI(\n",
    "    base_url=\"https://api.friendli.ai/serverless/v1\",\n",
    "    api_key=os.environ.get(\"FRIENDLI_TOKEN\")\n",
    ")\n",
    "\n",
    "xpanderAPIKey = os.environ.get(\"XPANDER_API_KEY\",\"\")\n",
    "xpanderAgentID = os.environ.get(\"XPANDER_AGENT_ID\", \"\")\n",
    "\n",
    "\n",
    "xpander_client = XpanderClient(api_key=xpanderAPIKey)\n",
    "xpander_agent = xpander_client.agents.get(agent_id=xpanderAgentID)\n",
    "\n",
    "tools = xpander_agent.retrieve_all_graph_tools()\n",
    "print(tools)\n"
   ]
  },
  {
   "cell_type": "code",
   "execution_count": 3,
   "metadata": {},
   "outputs": [
    {
     "name": "stdout",
     "output_type": "stream",
     "text": [
      "ChatCompletionMessage(content=\"It's nice to meet you. Is there something I can help you with or would you like to chat?\", refusal=None, role='assistant', audio=None, function_call=None, tool_calls=None)\n"
     ]
    }
   ],
   "source": [
    "# verify the friendli client is working\n",
    "completion = friendli_client.chat.completions.create(\n",
    "    model=\"meta-llama-3.1-8b-instruct\",\n",
    "    messages=[\n",
    "        {\"role\": \"system\", \"content\": \"You are a helpful assistant.\"},\n",
    "        {\"role\": \"user\", \"content\": \"Hello!\"}\n",
    "    ]\n",
    ")\n",
    "print(completion.choices[0].message)"
   ]
  },
  {
   "cell_type": "code",
   "execution_count": 6,
   "metadata": {},
   "outputs": [
    {
     "name": "stdout",
     "output_type": "stream",
     "text": [
      "{'role': 'user', 'content': 'Send hi to C08628AHP9C channel'}\n",
      "ChatCompletionMessage(content=None, refusal=None, role='assistant', audio=None, function_call=None, tool_calls=[ChatCompletionMessageToolCall(id='call_WcYhGOR0FfuSpHRnTfBBbHGO', function=Function(arguments='{\"bodyParams\": {\"channel\": \"C08628AHP9C\", \"text\": \"hi\", \"unfurl_links\": false, \"unfurl_media\": false, \"username\": \"hi-bot\"}, \"queryParams\": {}, \"pathParams\": {}}', name='SlackMessageSendingSendMessageToChannel'), type='function')])\n",
      "model decided to invoke tools\n",
      "SlackMessageSendingSendMessageToChannel\n",
      "tool response for SlackMessageSendingSendMessageToChannel 200\n",
      "ChatCompletionMessage(content=None, refusal=None, role='assistant', audio=None, function_call=None, tool_calls=[ChatCompletionMessageToolCall(id='call_ensF5YRlPmjnnEKPjld7nx9r', function=Function(arguments='{\"bodyParams\": {\"channel\": \"C08628AHP9C\", \"text\": \"hi\", \"username\": \"My Slack Bot\"}, \"queryParams\": {}, \"pathParams\": {}}', name='SlackMessageSendingSendMessageToChannel'), type='function')])\n",
      "model decided to invoke tools\n",
      "SlackMessageSendingSendMessageToChannel\n",
      "tool response for SlackMessageSendingSendMessageToChannel 200\n",
      "ChatCompletionMessage(content='##FINAL ANSWER##', refusal=None, role='assistant', audio=None, function_call=None, tool_calls=None)\n",
      "##FINAL ANSWER##\n"
     ]
    }
   ],
   "source": [
    "memory = [{\"role\": \"system\", \"content\": \"You are a helpful assistant. You are running in While True Loop, the response to your tools are available, once you have completed the user request add ##FINAL ANSWER## in your reply without further function calling\"},\n",
    "          {\"role\": \"user\", \"content\": \"Send hi to C08628AHP9C channel\"}]\n",
    "print(memory[-1])\n",
    "number_of_calls = 1\n",
    "while True:\n",
    "    tools = xpander_agent.retrieve_all_graph_tools()\n",
    "    llm_response = friendli_client.chat.completions.create(\n",
    "        model=\"meta-llama-3.1-70b-instruct\",\n",
    "        messages=memory,\n",
    "        tools=tools\n",
    "        )\n",
    "    memory.append({\"role\": \"assistant\", \"content\": f'Step number: {number_of_calls}'})\n",
    "    model_response = llm_response.choices[0].message\n",
    "    print(model_response)\n",
    "    memory.append({\"role\": \"assistant\", \"content\": model_response.content})\n",
    "    if model_response.tool_calls:\n",
    "        print(\"model decided to invoke tools\")\n",
    "        tools_to_run = XpanderClient.extract_tool_calls(llm_response=llm_response.model_dump())\n",
    "        for tool in tools_to_run: \n",
    "            print(tool.name)\n",
    "        tool_responses = xpander_agent.run_tools(tool_calls=tools_to_run)\n",
    "        for tool_response in tool_responses:\n",
    "            print(\"tool response for\", tool_response.function_name, tool_response.status_code)\n",
    "            memory.append({\"role\": \"tool\", \"content\": tool_response.result, \"tool_call_id\": tool_response.tool_call_id})\n",
    "    if (model_response.content):\n",
    "        if \"##FINAL ANSWER##\" in model_response.content:\n",
    "            break\n",
    "    number_of_calls += 1\n",
    "print(model_response.content)   "
   ]
  }
 ],
 "metadata": {
  "kernelspec": {
   "display_name": ".venv",
   "language": "python",
   "name": "python3"
  },
  "language_info": {
   "codemirror_mode": {
    "name": "ipython",
    "version": 3
   },
   "file_extension": ".py",
   "mimetype": "text/x-python",
   "name": "python",
   "nbconvert_exporter": "python",
   "pygments_lexer": "ipython3",
   "version": "3.12.7"
  }
 },
 "nbformat": 4,
 "nbformat_minor": 2
}
