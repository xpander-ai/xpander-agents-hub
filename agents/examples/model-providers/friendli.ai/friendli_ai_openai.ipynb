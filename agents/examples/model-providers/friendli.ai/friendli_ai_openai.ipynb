{
 "cells": [
  {
   "cell_type": "code",
   "execution_count": 2,
   "metadata": {},
   "outputs": [
    {
     "name": "stdout",
     "output_type": "stream",
     "text": [
      "Requirement already satisfied: xpander-sdk in /opt/miniconda3/lib/python3.12/site-packages (1.19.0)\n",
      "Collecting xpander-sdk\n",
      "  Downloading xpander_sdk-1.20.0-py3-none-any.whl.metadata (7.1 kB)\n",
      "Requirement already satisfied: jsii<2.0.0,>=1.105.0 in /opt/miniconda3/lib/python3.12/site-packages (from xpander-sdk) (1.106.0)\n",
      "Requirement already satisfied: publication>=0.0.3 in /opt/miniconda3/lib/python3.12/site-packages (from xpander-sdk) (0.0.3)\n",
      "Requirement already satisfied: typeguard<4.3.0,>=2.13.3 in /opt/miniconda3/lib/python3.12/site-packages (from xpander-sdk) (4.2.1)\n",
      "Requirement already satisfied: attrs<25.0,>=21.2 in /opt/miniconda3/lib/python3.12/site-packages (from jsii<2.0.0,>=1.105.0->xpander-sdk) (24.2.0)\n",
      "Requirement already satisfied: cattrs<24.2,>=1.8 in /opt/miniconda3/lib/python3.12/site-packages (from jsii<2.0.0,>=1.105.0->xpander-sdk) (24.1.2)\n",
      "Requirement already satisfied: importlib-resources>=5.2.0 in /opt/miniconda3/lib/python3.12/site-packages (from jsii<2.0.0,>=1.105.0->xpander-sdk) (6.4.5)\n",
      "Requirement already satisfied: python-dateutil in /opt/miniconda3/lib/python3.12/site-packages (from jsii<2.0.0,>=1.105.0->xpander-sdk) (2.9.0)\n",
      "Requirement already satisfied: typing-extensions<5.0,>=3.8 in /opt/miniconda3/lib/python3.12/site-packages (from jsii<2.0.0,>=1.105.0->xpander-sdk) (4.12.2)\n",
      "Requirement already satisfied: six>=1.5 in /opt/miniconda3/lib/python3.12/site-packages (from python-dateutil->jsii<2.0.0,>=1.105.0->xpander-sdk) (1.16.0)\n",
      "Downloading xpander_sdk-1.20.0-py3-none-any.whl (2.2 MB)\n",
      "\u001b[2K   \u001b[90m━━━━━━━━━━━━━━━━━━━━━━━━━━━━━━━━━━━━━━━━\u001b[0m \u001b[32m2.2/2.2 MB\u001b[0m \u001b[31m8.9 MB/s\u001b[0m eta \u001b[36m0:00:00\u001b[0m-:--:--\u001b[0m\n",
      "\u001b[?25hInstalling collected packages: xpander-sdk\n",
      "  Attempting uninstall: xpander-sdk\n",
      "    Found existing installation: xpander-sdk 1.19.0\n",
      "    Uninstalling xpander-sdk-1.19.0:\n",
      "      Successfully uninstalled xpander-sdk-1.19.0\n",
      "Successfully installed xpander-sdk-1.20.0\n",
      "Note: you may need to restart the kernel to use updated packages.\n",
      "Note: you may need to restart the kernel to use updated packages.\n"
     ]
    }
   ],
   "source": [
    "%pip install -U xpander-sdk\n",
    "%pip install -qU openai"
   ]
  },
  {
   "cell_type": "code",
   "execution_count": 4,
   "metadata": {},
   "outputs": [],
   "source": [
    "from xpander_sdk import XpanderClient, LLMProvider, FriendliAISupportedModels\n",
    "from openai import OpenAI\n",
    "from dotenv import load_dotenv\n",
    "import os\n",
    "\n",
    "## Load environment variables\n",
    "load_dotenv()\n",
    "friendli_client = OpenAI(\n",
    "    base_url=\"https://api.friendli.ai/serverless/v1\",\n",
    "    api_key=os.environ.get(\"FRIENDLI_TOKEN\")\n",
    ")\n",
    "\n",
    "xpanderAPIKey = os.environ.get(\"XPANDER_API_KEY\",\"\")\n",
    "xpanderAgentID = os.environ.get(\"XPANDER_AGENT_ID\", \"\")\n",
    "\n",
    "\n",
    "xpander_client = XpanderClient(api_key=xpanderAPIKey)\n",
    "xpander_agent = xpander_client.agents.get(agent_id=xpanderAgentID)\n"
   ]
  },
  {
   "cell_type": "code",
   "execution_count": 3,
   "metadata": {},
   "outputs": [
    {
     "name": "stdout",
     "output_type": "stream",
     "text": [
      "ChatCompletionMessage(content='Hello. How can I assist you today?', refusal=None, role='assistant', audio=None, function_call=None, tool_calls=None)\n"
     ]
    }
   ],
   "source": [
    "# verify the friendli client is working\n",
    "completion = friendli_client.chat.completions.create(\n",
    "    model=\"meta-llama-3.1-8b-instruct\",\n",
    "    messages=[\n",
    "        {\"role\": \"system\", \"content\": \"You are a helpful assistant.\"},\n",
    "        {\"role\": \"user\", \"content\": \"Hello!\"}\n",
    "    ]\n",
    ")\n",
    "print(completion.choices[0].message)"
   ]
  },
  {
   "cell_type": "code",
   "execution_count": 4,
   "metadata": {},
   "outputs": [
    {
     "name": "stdout",
     "output_type": "stream",
     "text": [
      "[{'type': 'function', 'function': {'name': 'PgTavilyFetchInsightsFromTavilyAI', 'description': 'This operation fetches insights from Tavily AI based on user-defined queries. Use this operation when you need to gather comprehensive information or insights on a specific topic, making it ideal for research, content creation, or data analysis. It is particularly useful for applications that require in-depth exploration of subjects, allowing users to investigate, study, or analyze topics thoroughly.', 'parameters': {'type': 'object', 'properties': {'queryParams': {'type': 'object', 'properties': {}, 'required': []}, 'pathParams': {'type': 'object', 'properties': {}, 'required': []}, 'bodyParams': {'type': 'object', 'properties': {'inputTask': {'type': 'string', 'description': 'input user sub task based on the input query'}}, 'required': []}}, 'required': ['query_params', 'path_params', 'body_params']}}}]\n"
     ]
    }
   ],
   "source": [
    "print(xpander_agent.get_tools())"
   ]
  },
  {
   "cell_type": "code",
   "execution_count": 7,
   "metadata": {},
   "outputs": [
    {
     "name": "stdout",
     "output_type": "stream",
     "text": [
      "{'role': 'user', 'content': 'creat report on AWS Nova new model'}\n",
      "{'role': 'assistant', 'content': 'Step number: 1'}\n",
      "ChatCompletionMessage(content=None, refusal=None, role='assistant', audio=None, function_call=None, tool_calls=[ChatCompletionMessageToolCall(id='call_wTblm7PqOCPC5oktDVBIrm2A', function=Function(arguments='{\"queryParams\": {}, \"pathParams\": {}, \"bodyParams\": {\"inputTask\": \"AWS Nova new model\"}}', name='PgTavilyFetchInsightsFromTavilyAI'), type='function')])\n",
      "[ChatCompletionMessageToolCall(id='call_wTblm7PqOCPC5oktDVBIrm2A', function=Function(arguments='{\"queryParams\": {}, \"pathParams\": {}, \"bodyParams\": {\"inputTask\": \"AWS Nova new model\"}}', name='PgTavilyFetchInsightsFromTavilyAI'), type='function')]\n",
      "Tool Name: PgTavilyFetchInsightsFromTavilyAI\n",
      "{'role': 'tool', 'content': \"system message: graph prompt group selected, ignore this and proceed with the user's request using new tools.\", 'tool_call_id': 'call_wTblm7PqOCPC5oktDVBIrm2A'}\n",
      "{'role': 'assistant', 'content': 'Step number: 2'}\n",
      "ChatCompletionMessage(content=None, refusal=None, role='assistant', audio=None, function_call=None, tool_calls=[ChatCompletionMessageToolCall(id='call_z7JX7nkm4GVqVIBfsg5DpaDG', function=Function(arguments='{\"bodyParams\": {\"query\": \"Amazon Web Services (AWS) Nova new model\", \"search_depth\": \"advanced\"}, \"queryParams\": {}, \"pathParams\": {}}', name='tavily-insights-fetchInsightsFromTavilyAI'), type='function')])\n",
      "[ChatCompletionMessageToolCall(id='call_z7JX7nkm4GVqVIBfsg5DpaDG', function=Function(arguments='{\"bodyParams\": {\"query\": \"Amazon Web Services (AWS) Nova new model\", \"search_depth\": \"advanced\"}, \"queryParams\": {}, \"pathParams\": {}}', name='tavily-insights-fetchInsightsFromTavilyAI'), type='function')]\n",
      "Tool Name: tavily-insights-fetchInsightsFromTavilyAI\n",
      "{'role': 'tool', 'content': {'query': 'Amazon Web Services (AWS) Nova new model', 'images': [], 'results': [{'title': 'Amazon Nova: Meet our new foundation models in Amazon Bedrock', 'url': 'https://www.aboutamazon.com/news/aws/amazon-nova-artificial-intelligence-bedrock-aws', 'content': '“Our new Amazon Nova models are intended to help with these challenges for internal and external builders, and provide compelling intelligence and content generation while also delivering meaningful progress on latency, cost-effectiveness, customization, information grounding, and agentic capabilities.” Amazon Nova Reel, a state-of-the-art video generation model. With the output quality, intuitive API platform, and advanced customization opportunities, the Amazon Nova creative generation models, Amazon Nova Canvas and Amazon Nova Reel, are helping Amazon Ads remove barriers for sellers and advertisers leading to new levels of creativity and innovation, like using video advertising for the first time, creating display and video campaigns for more products in their catalog, and experimenting with new strategies like keyword-level creative.', 'score': 0.8682137}, {'title': 'Amazon announces Nova, a new family of multimodal AI models', 'url': 'https://techcrunch.com/2024/12/03/amazon-announces-nova-a-new-family-of-multimodal-ai-models/', 'content': 'Amazon announces Nova, a new family of multimodal AI models | TechCrunch Amazon announces Nova, a new family of multimodal AI models | TechCrunch Amazon announces Nova, a new family of multimodal AI models At its re:Invent conference on Tuesday, Amazon Web Services (AWS), Amazon’s cloud computing division, announced a new family of multimodal generative AI models it calls Nova. In addition to those, there’s an image-generation model, Nova Canvas, and a video-generating model, Nova Reel. They’re available in AWS Bedrock, Amazon’s AI development platform, where they can be fine-tuned on text, images, and video\\xa0and distilled for improved speed and higher efficiency. AI, AI, Amazon, Amazon Web Services, AWS, aws re:Invent, aws reinvent 2024, Enterprise, Generative AI, Media & Entertainment, Nova, reinvent 2024', 'score': 0.8649622}, {'title': 'What is Amazon Nova? - Amazon Nova - docs.aws.amazon.com', 'url': 'https://docs.aws.amazon.com/nova/latest/userguide/what-is-nova.html', 'content': 'Amazon Nova is a new generation of state-of-the-art foundation models that deliver frontier intelligence and industry leading price performance, available on Amazon Bedrock. With text and vision fine-tuning on Amazon Bedrock, you can customize Amazon Nova Pro, Lite, and Micro to deliver the optimal intelligence and cost for your needs. Amazon Nova Micro is a text-only model that delivers the lowest latency responses at very low cost. Amazon Nova Lite is a very low cost multimodal model that is lightning fast for processing image, video, and text inputs. Amazon Nova Canvas - is a state-of-the-art image generation model that creates professional grade images from text and image inputs. Amazon Nova Reel - is a state-of-the-art video generation model that supports the generation of short videos from input text and images.', 'score': 0.85624856}, {'title': 'Introducing Amazon Nova: A New Generation of Foundation Models', 'url': 'https://press.aboutamazon.com/2024/12/introducing-amazon-nova-a-new-generation-of-foundation-models', 'content': 'The Amazon Nova model learns what matters most to the customer from their own data (including text, images, and videos), and then Amazon Bedrock trains a private fine-tuned model that will provide tailored responses. Amazon Nova Reel is a state-of-the-art video generation model that allows customers to easily create high-quality video from text and images. SAP, a strategic partner of AWS, is integrating Amazon Nova models into its SAP AI Core generative AI hub’s family of supported LLMs. This enables developers to create new skills for Joule, SAP’s AI copilot, and securely build AI-driven solutions that harness the full business context captured in SAP data, enabling automation, personalization, and advanced solutions like supply chain planning.', 'score': 0.7610953}, {'title': 'Announcing Amazon Nova foundation models available today in Amazon ...', 'url': 'https://aws.amazon.com/about-aws/whats-new/2024/12/amazon-nova-foundation-models-bedrock/', 'content': 'Announcing Amazon Nova foundation models available today in Amazon Bedrock - AWS About AWS Contact Us Support \\xa0 English \\xa0 My Account \\xa0 AWS Support Overview AWS re:Post AWS re:Post Announcing Amazon Nova foundation models available today in Amazon Bedrock We’re excited to announce Amazon Nova, a new generation of state-of-the-art (SOTA) foundation models (FMs) that deliver frontier intelligence and industry leading price performance. Learn more about Amazon Nova at the AWS News Blog, the Amazon Nova product page, or the Amazon Nova user guide. You can get started with Amazon Nova foundation models in Amazon Bedrock from the Amazon Bedrock console. Learn About AWS What Is AWS? AWS Accessibility AWS Partners Developers on AWS AWS re:Post AWS Support Overview', 'score': 0.75049835}], 'response_time': 2.17}, 'tool_call_id': 'call_z7JX7nkm4GVqVIBfsg5DpaDG'}\n",
      "{'role': 'assistant', 'content': 'Step number: 3'}\n",
      "ChatCompletionMessage(content=\"Based on the report generated by the Tavily AI insights, it appears that Amazon has announced a new family of multimodal AI models called Nova. These models are designed to provide frontier intelligence and industry-leading price performance, and are available on Amazon Bedrock. The Nova models include Amazon Nova Pro, Lite, and Micro, which are customizable to deliver optimal intelligence and cost for specific needs. Additionally, there are two specific models, Amazon Nova Canvas and Amazon Nova Reel, which are state-of-the-art image and video generation models, respectively.\\n\\nHere are the key takeaways from the report:\\n\\n* Amazon has announced a new family of multimodal AI models called Nova.\\n* The Nova models are designed to provide frontier intelligence and industry-leading price performance.\\n* The models are available on Amazon Bedrock and can be fine-tuned on text, images, and video.\\n* There are three main models: Amazon Nova Pro, Lite, and Micro, which are customizable to deliver optimal intelligence and cost for specific needs.\\n* Amazon Nova Canvas and Amazon Nova Reel are two specific models that are state-of-the-art image and video generation models, respectively.\\n\\nOverall, the report suggests that Amazon's new Nova models are designed to provide advanced AI capabilities and are a significant step forward in the company's efforts to develop and deploy AI technology.\", refusal=None, role='assistant', audio=None, function_call=None, tool_calls=None)\n",
      "{'role': 'assistant', 'content': 'Step number: 4'}\n",
      "ChatCompletionMessage(content=None, refusal=None, role='assistant', audio=None, function_call=None, tool_calls=[ChatCompletionMessageToolCall(id='call_OXMN3uFzjDNY2vXNzHdnsBVv', function=Function(arguments='{\"bodyParams\": {\"query\": \"Comparison of Amazon Nova models with other AI models\", \"search_depth\": \"advanced\"}, \"queryParams\": {}, \"pathParams\": {}}', name='tavily-insights-fetchInsightsFromTavilyAI'), type='function')])\n",
      "[ChatCompletionMessageToolCall(id='call_OXMN3uFzjDNY2vXNzHdnsBVv', function=Function(arguments='{\"bodyParams\": {\"query\": \"Comparison of Amazon Nova models with other AI models\", \"search_depth\": \"advanced\"}, \"queryParams\": {}, \"pathParams\": {}}', name='tavily-insights-fetchInsightsFromTavilyAI'), type='function')]\n",
      "Tool Name: tavily-insights-fetchInsightsFromTavilyAI\n",
      "{'role': 'tool', 'content': {'query': 'Comparison of Amazon Nova models with other AI models', 'images': [], 'results': [{'title': 'Amazon Nova: The Next Frontier in AI Foundation Models', 'url': 'https://medium.com/@cognidownunder/amazon-nova-the-next-frontier-in-ai-foundation-models-42a15dd34506', 'content': 'Q: How does Nova compare cost-wise to other AI models? A: Nova models are at least 75% less expensive than comparable models in Amazon Bedrock. Q: Can Nova be customized for specific business needs?', 'score': 0.8827621}, {'title': 'Amazon Nova Foundation Models - Comparison with OpenAI and Claude Model ...', 'url': 'https://blog.getbind.co/2024/12/10/amazon-nova-foundation-models-comparison-with-openai-and-claude-model-family/', 'content': 'Amazon Nova Foundation Models – Comparison with OpenAI and Claude Model Family - Bind AI This blog overviews Amazon Nova foundation models and compares them with OpenAI and the Claude model family for their LLM performance, pricing, and benchmarks. When comparing Amazon’s flagship Nova Pro with OpenAI’s GPT-4o, 4o-mini, and o1 models, we can analyze several critical metrics. Amazon Nova Pro: For a similar task with 494 input tokens and 152 output tokens, the cost was around $0.00068, representing a 44% cost reduction compared to GPT-4o. Cost-Effectiveness: Nova Pro stands out with significantly lower costs for both input and output tokens compared to Claude models, making it a more budget-friendly option for a wide range of applications.', 'score': 0.8793233}, {'title': 'Introducing Amazon Nova: A New Generation of Foundation Models', 'url': 'https://press.aboutamazon.com/2024/12/introducing-amazon-nova-a-new-generation-of-foundation-models', 'content': 'The Amazon Nova model learns what matters most to the customer from their own data (including text, images, and videos), and then Amazon Bedrock trains a private fine-tuned model that will provide tailored responses. Amazon Nova Reel is a state-of-the-art video generation model that allows customers to easily create high-quality video from text and images. SAP, a strategic partner of AWS, is integrating Amazon Nova models into its SAP AI Core generative AI hub’s family of supported LLMs. This enables developers to create new skills for Joule, SAP’s AI copilot, and securely build AI-driven solutions that harness the full business context captured in SAP data, enabling automation, personalization, and advanced solutions like supply chain planning.', 'score': 0.6816637}, {'title': 'Introducing Amazon Nova foundation models: Frontier intelligence and ...', 'url': 'https://aws.amazon.com/blogs/aws/introducing-amazon-nova-frontier-intelligence-and-industry-leading-price-performance/', 'content': 'Whether you’re developing document processing applications that need to process images and text, creating marketing content at scale, or building AI assistants that can understand and act on visual information, Amazon Nova provides the intelligence and flexibility you need with two categories of models: understanding and creative content generation. Amazon Nova understanding models accept text, image, or video inputs to generate text output. Amazon Nova Lite – A very low-cost multimodal model that is lightning fast for processing image, video, and text inputs to generate text output. This time, I use the AWS SDK for Python (Boto3) to invoke the Amazon Nova Pro model using the Amazon Bedrock Converse API and analyze the video:', 'score': 0.6479992}, {'title': 'Amazon announces its own set of Nova AI models - The Verge', 'url': 'https://www.theverge.com/2024/12/3/24312260/amazon-nova-foundation-ai-models-anthropic', 'content': 'Amazon announces its own set of Nova AI models - The Verge Amazon announces its own set of Nova AI models Amazon announces its own set of Nova AI models Amazon has announced a series of new AI foundation models under a new “Nova” branding that will be available as part of the Amazon Bedrock model library in AWS. The company says that these models have “watermarking capabilities” to “promote responsible AI use.” As an example of what’s possible with Nova Reel, Amazon has shared this mock ad for a fake pasta brand. “When completed, it is expected to be the world’s largest AI compute cluster reported to date available for Anthropic to build and deploy its future models on,” according to Amazon.', 'score': 0.6255073}], 'response_time': 1.97}, 'tool_call_id': 'call_OXMN3uFzjDNY2vXNzHdnsBVv'}\n",
      "{'role': 'assistant', 'content': 'Step number: 5'}\n",
      "ChatCompletionMessage(content='##FINAL ANSWER##', refusal=None, role='assistant', audio=None, function_call=None, tool_calls=None)\n",
      "##FINAL ANSWER##\n"
     ]
    }
   ],
   "source": [
    "memory = [{\"role\": \"system\", \"content\": \"You are a helpful assistant with function calling and tool access. you are running in While loop if you want to stop the loop please add ##FINAL ANSWER## in your answer\"},\n",
    "          {\"role\": \"user\", \"content\": \"creat report on AWS Nova new model\"}\n",
    "          ]\n",
    "print(memory[-1])\n",
    "\n",
    "number_of_calls = 1\n",
    "while True:\n",
    "    llm_response = friendli_client.chat.completions.create(\n",
    "        model= FriendliAISupportedModels.META_LLAMA_3_1_8_B_INSTRUCT,\n",
    "        messages=memory,\n",
    "        tools=xpander_agent.get_tools(),\n",
    "        tool_choice=\"auto\"\n",
    "    )\n",
    "    memory.append({\"role\": \"assistant\", \"content\": f'Step number: {number_of_calls}'})\n",
    "    print(memory[-1])\n",
    "\n",
    "    memory.append(llm_response.choices[0].message)\n",
    "    print(memory[-1])\n",
    "    model_response = llm_response.choices[0].message\n",
    "    if model_response.tool_calls:\n",
    "        print(model_response.tool_calls)\n",
    "        tools_to_run = XpanderClient.extract_tool_calls(llm_response=llm_response.model_dump(), llm_provider=LLMProvider.FRIENDLI_AI)\n",
    "        print(\"Tool Name:\", tools_to_run[0].name)\n",
    "        tool_responses = xpander_agent.run_tools(tool_calls=tools_to_run)\n",
    "        for tool_response in tool_responses:\n",
    "            memory.append({\"role\": \"tool\", \"content\": tool_response.result, \"tool_call_id\": tool_response.tool_call_id})\n",
    "            print(memory[-1])\n",
    "    if (model_response.content):\n",
    "        if \"##FINAL ANSWER##\" in model_response.content:\n",
    "            break\n",
    "    number_of_calls += 1\n",
    "print(model_response.content)   "
   ]
  }
 ],
 "metadata": {
  "kernelspec": {
   "display_name": "Python 3",
   "language": "python",
   "name": "python3"
  },
  "language_info": {
   "codemirror_mode": {
    "name": "ipython",
    "version": 3
   },
   "file_extension": ".py",
   "mimetype": "text/x-python",
   "name": "python",
   "nbconvert_exporter": "python",
   "pygments_lexer": "ipython3",
   "version": "3.12.2"
  }
 },
 "nbformat": 4,
 "nbformat_minor": 2
}
