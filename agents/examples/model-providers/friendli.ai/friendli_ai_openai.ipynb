{
 "cells": [
  {
   "cell_type": "code",
   "execution_count": 2,
   "metadata": {},
   "outputs": [
    {
     "name": "stdout",
     "output_type": "stream",
     "text": [
      "Collecting xpander-sdk==1.24.0\n",
      "  Using cached xpander_sdk-1.24.0-py3-none-any.whl.metadata (7.1 kB)\n",
      "Collecting openai\n",
      "  Using cached openai-1.59.6-py3-none-any.whl.metadata (27 kB)\n",
      "Collecting python-dotenv\n",
      "  Using cached python_dotenv-1.0.1-py3-none-any.whl.metadata (23 kB)\n",
      "Collecting jsii<2.0.0,>=1.106.0 (from xpander-sdk==1.24.0)\n",
      "  Using cached jsii-1.106.0-py3-none-any.whl.metadata (79 kB)\n",
      "Collecting publication>=0.0.3 (from xpander-sdk==1.24.0)\n",
      "  Using cached publication-0.0.3-py2.py3-none-any.whl.metadata (8.7 kB)\n",
      "Collecting typeguard<4.3.0,>=2.13.3 (from xpander-sdk==1.24.0)\n",
      "  Using cached typeguard-4.2.1-py3-none-any.whl.metadata (3.7 kB)\n",
      "Collecting anyio<5,>=3.5.0 (from openai)\n",
      "  Using cached anyio-4.8.0-py3-none-any.whl.metadata (4.6 kB)\n",
      "Collecting distro<2,>=1.7.0 (from openai)\n",
      "  Using cached distro-1.9.0-py3-none-any.whl.metadata (6.8 kB)\n",
      "Collecting httpx<1,>=0.23.0 (from openai)\n",
      "  Using cached httpx-0.28.1-py3-none-any.whl.metadata (7.1 kB)\n",
      "Collecting jiter<1,>=0.4.0 (from openai)\n",
      "  Using cached jiter-0.8.2-cp312-cp312-macosx_11_0_arm64.whl.metadata (5.2 kB)\n",
      "Collecting pydantic<3,>=1.9.0 (from openai)\n",
      "  Using cached pydantic-2.10.5-py3-none-any.whl.metadata (30 kB)\n",
      "Collecting sniffio (from openai)\n",
      "  Using cached sniffio-1.3.1-py3-none-any.whl.metadata (3.9 kB)\n",
      "Collecting tqdm>4 (from openai)\n",
      "  Using cached tqdm-4.67.1-py3-none-any.whl.metadata (57 kB)\n",
      "Collecting typing-extensions<5,>=4.11 (from openai)\n",
      "  Using cached typing_extensions-4.12.2-py3-none-any.whl.metadata (3.0 kB)\n",
      "Collecting idna>=2.8 (from anyio<5,>=3.5.0->openai)\n",
      "  Using cached idna-3.10-py3-none-any.whl.metadata (10 kB)\n",
      "Collecting certifi (from httpx<1,>=0.23.0->openai)\n",
      "  Using cached certifi-2024.12.14-py3-none-any.whl.metadata (2.3 kB)\n",
      "Collecting httpcore==1.* (from httpx<1,>=0.23.0->openai)\n",
      "  Using cached httpcore-1.0.7-py3-none-any.whl.metadata (21 kB)\n",
      "Collecting h11<0.15,>=0.13 (from httpcore==1.*->httpx<1,>=0.23.0->openai)\n",
      "  Using cached h11-0.14.0-py3-none-any.whl.metadata (8.2 kB)\n",
      "Collecting attrs<25.0,>=21.2 (from jsii<2.0.0,>=1.106.0->xpander-sdk==1.24.0)\n",
      "  Using cached attrs-24.3.0-py3-none-any.whl.metadata (11 kB)\n",
      "Collecting cattrs<24.2,>=1.8 (from jsii<2.0.0,>=1.106.0->xpander-sdk==1.24.0)\n",
      "  Using cached cattrs-24.1.2-py3-none-any.whl.metadata (8.4 kB)\n",
      "Collecting importlib-resources>=5.2.0 (from jsii<2.0.0,>=1.106.0->xpander-sdk==1.24.0)\n",
      "  Using cached importlib_resources-6.5.2-py3-none-any.whl.metadata (3.9 kB)\n",
      "Collecting python-dateutil (from jsii<2.0.0,>=1.106.0->xpander-sdk==1.24.0)\n",
      "  Using cached python_dateutil-2.9.0.post0-py2.py3-none-any.whl.metadata (8.4 kB)\n",
      "Collecting annotated-types>=0.6.0 (from pydantic<3,>=1.9.0->openai)\n",
      "  Using cached annotated_types-0.7.0-py3-none-any.whl.metadata (15 kB)\n",
      "Collecting pydantic-core==2.27.2 (from pydantic<3,>=1.9.0->openai)\n",
      "  Using cached pydantic_core-2.27.2-cp312-cp312-macosx_11_0_arm64.whl.metadata (6.6 kB)\n",
      "Collecting six>=1.5 (from python-dateutil->jsii<2.0.0,>=1.106.0->xpander-sdk==1.24.0)\n",
      "  Using cached six-1.17.0-py2.py3-none-any.whl.metadata (1.7 kB)\n",
      "Using cached xpander_sdk-1.24.0-py3-none-any.whl (2.2 MB)\n",
      "Using cached openai-1.59.6-py3-none-any.whl (454 kB)\n",
      "Using cached python_dotenv-1.0.1-py3-none-any.whl (19 kB)\n",
      "Using cached anyio-4.8.0-py3-none-any.whl (96 kB)\n",
      "Using cached distro-1.9.0-py3-none-any.whl (20 kB)\n",
      "Using cached httpx-0.28.1-py3-none-any.whl (73 kB)\n",
      "Using cached httpcore-1.0.7-py3-none-any.whl (78 kB)\n",
      "Using cached jiter-0.8.2-cp312-cp312-macosx_11_0_arm64.whl (310 kB)\n",
      "Using cached jsii-1.106.0-py3-none-any.whl (554 kB)\n",
      "Using cached publication-0.0.3-py2.py3-none-any.whl (7.7 kB)\n",
      "Using cached pydantic-2.10.5-py3-none-any.whl (431 kB)\n",
      "Using cached pydantic_core-2.27.2-cp312-cp312-macosx_11_0_arm64.whl (1.8 MB)\n",
      "Using cached sniffio-1.3.1-py3-none-any.whl (10 kB)\n",
      "Using cached tqdm-4.67.1-py3-none-any.whl (78 kB)\n",
      "Using cached typeguard-4.2.1-py3-none-any.whl (34 kB)\n",
      "Using cached typing_extensions-4.12.2-py3-none-any.whl (37 kB)\n",
      "Using cached annotated_types-0.7.0-py3-none-any.whl (13 kB)\n",
      "Using cached attrs-24.3.0-py3-none-any.whl (63 kB)\n",
      "Using cached cattrs-24.1.2-py3-none-any.whl (66 kB)\n",
      "Using cached idna-3.10-py3-none-any.whl (70 kB)\n",
      "Using cached importlib_resources-6.5.2-py3-none-any.whl (37 kB)\n",
      "Using cached certifi-2024.12.14-py3-none-any.whl (164 kB)\n",
      "Using cached python_dateutil-2.9.0.post0-py2.py3-none-any.whl (229 kB)\n",
      "Using cached h11-0.14.0-py3-none-any.whl (58 kB)\n",
      "Using cached six-1.17.0-py2.py3-none-any.whl (11 kB)\n",
      "Installing collected packages: publication, typing-extensions, tqdm, sniffio, six, python-dotenv, jiter, importlib-resources, idna, h11, distro, certifi, attrs, annotated-types, typeguard, python-dateutil, pydantic-core, httpcore, cattrs, anyio, pydantic, jsii, httpx, xpander-sdk, openai\n",
      "\u001b[31mERROR: pip's dependency resolver does not currently take into account all the packages that are installed. This behaviour is the source of the following dependency conflicts.\n",
      "ollama 0.3.3 requires httpx<0.28.0,>=0.27.0, but you have httpx 0.28.1 which is incompatible.\u001b[0m\u001b[31m\n",
      "\u001b[0mSuccessfully installed annotated-types-0.7.0 anyio-4.8.0 attrs-24.3.0 cattrs-24.1.2 certifi-2024.8.30 distro-1.9.0 h11-0.14.0 httpcore-1.0.7 httpx-0.28.1 idna-3.10 importlib-resources-6.4.5 jiter-0.8.2 jsii-1.106.0 openai-1.58.1 publication-0.0.3 pydantic-2.10.4 pydantic-core-2.27.2 python-dateutil-2.9.0.post0 python-dotenv-1.0.1 six-1.17.0 sniffio-1.3.1 tqdm-4.67.1 typeguard-4.2.1 typing-extensions-4.12.2 xpander-sdk-1.24.0\n",
      "\n",
      "\u001b[1m[\u001b[0m\u001b[34;49mnotice\u001b[0m\u001b[1;39;49m]\u001b[0m\u001b[39;49m A new release of pip is available: \u001b[0m\u001b[31;49m24.2\u001b[0m\u001b[39;49m -> \u001b[0m\u001b[32;49m24.3.1\u001b[0m\n",
      "\u001b[1m[\u001b[0m\u001b[34;49mnotice\u001b[0m\u001b[1;39;49m]\u001b[0m\u001b[39;49m To update, run: \u001b[0m\u001b[32;49mpip install --upgrade pip\u001b[0m\n"
     ]
    }
   ],
   "source": [
    "!pip install -I xpander-sdk==1.24.0 openai python-dotenv"
   ]
  },
  {
   "cell_type": "code",
   "execution_count": 12,
   "metadata": {},
   "outputs": [
    {
     "name": "stdout",
     "output_type": "stream",
     "text": [
      "[{'type': 'function', 'function': {'name': 'FirecrawlScrapingServiceExtractWebpageContent', 'description': \"Extracts content from a specified webpage URL. If 'url' isn't provided, run SiteMappingRetrieveWebsiteLinks before anything else to find relevant URLs. Use this operation to gather specific webpage content, perform custom extractions, or prepare data for further analysis. Common use cases include content scraping, data extraction, and website analysis. Supports custom headers, main content extraction, and wait times for JavaScript-heavy pages. Offers LLM-based extraction with custom prompts and schemas for targeted data retrieval. Configurable actions allow interaction with dynamic web elements before content capture.\", 'parameters': {'type': 'object', 'properties': {'bodyParams': {'type': 'object', 'properties': {'actions': {'type': 'array', 'description': 'Actions to perform on the page before grabbing the content', 'items': {'type': 'object', 'properties': {'amount': {'type': 'integer'}, 'direction': {'type': 'string', 'enum': ['up', 'down']}, 'fullPage': {'type': 'boolean'}, 'key': {'type': 'string'}, 'milliseconds': {'type': 'integer'}, 'selector': {'type': 'string'}, 'text': {'type': 'string'}, 'type': {'type': 'string', 'enum': ['wait', 'screenshot', 'click', 'write', 'press', 'scroll']}}}}, 'excludeTags': {'type': 'array', 'description': 'Tags to exclude from the output', 'items': {'type': 'string'}}, 'extract': {'type': 'object', 'description': 'extract', 'properties': {'prompt': {'type': 'string'}, 'schema': {'type': 'object'}, 'systemPrompt': {'type': 'string'}}}, 'formats': {'type': 'array', 'description': 'Formats to include in the output', 'items': {'type': 'string', 'enum': ['markdown', 'html', 'rawHtml', 'links', 'screenshot', 'extract', 'screenshot@fullPage']}}, 'headers': {'type': 'object', 'description': 'Headers to send with the request (e.g., cookies, user-agent)'}, 'includeTags': {'type': 'array', 'description': 'Tags to include in the output', 'items': {'type': 'string'}}, 'location': {'type': 'object', 'description': 'location', 'properties': {'country': {'type': 'string'}, 'languages': {'type': 'array', 'items': {'type': 'string'}}}}, 'onlyMainContent': {'type': 'boolean', 'description': 'Only return the main content of the page excluding headers, navs, footers, etc.'}, 'skipTlsVerification': {'type': 'boolean', 'description': 'Skip TLS certificate verification when making requests'}, 'timeout': {'type': 'integer', 'description': 'Timeout in milliseconds for the request'}, 'url': {'type': 'string', 'description': 'The URL to scrape'}, 'waitFor': {'type': 'integer', 'description': 'Delay in milliseconds before fetching the content, allowing the page sufficient time to load'}}, 'required': ['url']}, 'queryParams': {'type': 'object', 'properties': {}, 'required': []}, 'pathParams': {'type': 'object', 'properties': {}, 'required': []}}, 'required': ['bodyParams', 'queryParams', 'pathParams']}}}, {'type': 'function', 'function': {'name': 'LinkedInCompanyManagementGetTotalEmployeesCount', 'description': \"Retrieves the total number of employees in a company. This operation provides a quick overview of company size. If the company ID isn't provided, run GetCompanyDetailsByUsername first to obtain it. Use this to assess company growth, compare company sizes, or validate company information when you need a precise employee count.\", 'parameters': {'type': 'object', 'properties': {'bodyParams': {'type': 'object', 'properties': {'companyId': {'type': 'string', 'description': 'The unique identifier of the company'}}, 'required': ['companyId']}, 'queryParams': {'type': 'object', 'properties': {}, 'required': []}, 'pathParams': {'type': 'object', 'properties': {}, 'required': []}}, 'required': ['bodyParams', 'queryParams', 'pathParams']}}}, {'type': 'function', 'function': {'name': 'LinkedInProfileServiceGetProfileDataByUrl', 'description': \"Fetches detailed LinkedIn profile data using the provided profile URL. This operation is essential for accessing user information when only the profile URL is available. If the URL isn't provided, run SearchProfilesByCriteria if you have the username instead. Use this to gather comprehensive profile details from public LinkedIn profiles when you have the exact profile URL but lack other identifying information.\", 'parameters': {'type': 'object', 'properties': {'bodyParams': {'type': 'object', 'properties': {}, 'required': []}, 'queryParams': {'type': 'object', 'properties': {'url': {'type': 'string', 'description': \"LinkedIn profile URL (e.g., 'https://www.linkedin.com/in/username-linkedinId/').\"}}, 'required': ['url']}, 'pathParams': {'type': 'object', 'properties': {}, 'required': []}}, 'required': ['bodyParams', 'queryParams', 'pathParams']}}}, {'type': 'function', 'function': {'name': 'PerplexityChatCompletionCreateAIGeneratedResponse', 'description': \"Creates an AI-generated response using the Perplexity chat completion service. If 'model' isn't provided, the default model 'llama-3.1-70b-instruct' is used. This operation is crucial for generating AI responses in various applications. Ensure to provide 'messages' with alternating 'user' and 'assistant' roles, ending with 'user'. The 'max_tokens' parameter controls the response length, while 'temperature' adjusts randomness. Use 'top_k' or 'top_p' for filtering, but not both. 'frequency_penalty' and 'presence_penalty' influence token selection. Set 'stream' for incremental responses. 'return_citations', 'return_images', and 'return_related_questions' are optional features in closed beta. 'search_recency_filter' limits search results timeframe. Common use cases include chatbots, content generation, and question-answering systems. No other operations need to be run before this one, as all required fields can be directly provided or have defaults.\", 'parameters': {'type': 'object', 'properties': {'bodyParams': {'type': 'object', 'properties': {'frequency_penalty': {'type': 'number', 'description': \"A multiplicative penalty greater than 0. Values greater than 1.0 penalize new tokens based on their existing frequency in the text so far, decreasing the model's likelihood to repeat the same line verbatim. A value of 1.0 means no penalty. Incompatible with presence_penalty.\\n\"}, 'max_tokens': {'type': 'integer', 'description': 'The maximum number of completion tokens returned by the API. The total number of tokens requested in max_tokens plus the number of prompt tokens sent in messages must not exceed the context window token limit of model requested. If left unspecified, then the model will generate tokens until either it reaches its stop token or the end of its context window.\\n'}, 'messages': {'type': 'array', 'description': 'A list of messages comprising the conversation so far.', 'items': {'type': 'object', 'properties': {'content': {'type': 'string'}, 'role': {'type': 'string', 'enum': ['system', 'user', 'assistant']}}}}, 'model': {'type': 'string', 'description': 'The name of the model that will complete your prompt. Refer to Supported Models to find all the models offered. if model not provided set the default model \"llama-3.1-70b-instruct\"', 'enum': ['llama-3.1-sonar-small-128k-online', 'llama-3.1-sonar-large-128k-online', 'llama-3.1-sonar-huge-128k-online', 'llama-3.1-sonar-small-128k-chat', 'llama-3.1-sonar-large-128k-chat', 'llama-3.1-8b-instruct', 'llama-3.1-70b-instruct']}, 'presence_penalty': {'type': 'number', 'description': \"A value between -2.0 and 2.0. Positive values penalize new tokens based on whether they appear in the text so far, increasing the model's likelihood to talk about new topics. Incompatible with frequency_penalty.\\n\"}, 'return_citations': {'type': 'boolean', 'description': 'Determines whether or not a request to an online model should return citations. Citations are in closed beta access.\\n'}, 'return_images': {'type': 'boolean', 'description': 'Determines whether or not a request to an online model should return images. Images are in closed beta access.\\n'}, 'return_related_questions': {'type': 'boolean', 'description': 'Determines whether or not a request to an online model should return related questions. Related questions are in closed beta access.\\n'}, 'search_domain_filter': {'type': 'array', 'description': \"Given a list of domains, limit the citations used by the online model to URLs from the specified domains. Currently limited to only 3 domains for whitelisting and blacklisting. For blacklisting add a '-' to the beginning of the domain string.\\n\", 'items': {'type': 'string'}}, 'search_recency_filter': {'type': 'string', 'description': \"Returns search results within the specified time interval—does not apply to images. Values include 'month', 'week', 'day', 'hour'.\\n\"}, 'stream': {'type': 'boolean', 'description': 'Determines whether or not to incrementally stream the response with server-sent events with content-type: text/event-stream.\\n'}, 'temperature': {'type': 'number', 'description': 'The amount of randomness in the response, valued between 0 inclusive and 2 exclusive. Higher values are more random, and lower values are more deterministic.\\n'}, 'top_k': {'type': 'number', 'description': 'The number of tokens to keep for highest top-k filtering, specified as an integer between 0 and 2048 inclusive. If set to 0, top-k filtering is disabled. We recommend either altering top_k or top_p, but not both.\\n'}, 'top_p': {'type': 'number', 'description': 'The nucleus sampling threshold, valued between 0 and 1 inclusive. For each subsequent token, the model considers the results of the tokens with top_p probability mass. We recommend either altering top_k or top_p, but not both.\\n'}}, 'required': ['messages', 'model']}, 'queryParams': {'type': 'object', 'properties': {}, 'required': []}, 'pathParams': {'type': 'object', 'properties': {}, 'required': []}}, 'required': ['bodyParams', 'queryParams', 'pathParams']}}}, {'type': 'function', 'function': {'name': 'LinkedInCompanyManagementGetCompanyDetailsByUsername', 'description': \"Retrieves comprehensive information about a company using its LinkedIn username. This operation provides valuable insights into company profiles, including size, industry, and location. If the username isn't provided, run GetCompanyInfoByDomain if you have the company's domain name. Use this to gather detailed company information for business intelligence, partnership opportunities, or competitive analysis.\", 'parameters': {'type': 'object', 'properties': {'bodyParams': {'type': 'object', 'properties': {}, 'required': []}, 'queryParams': {'type': 'object', 'properties': {'username': {'type': 'string', 'description': \"Company's LinkedIn username (e.g., 'google').\"}}, 'required': ['username']}, 'pathParams': {'type': 'object', 'properties': {}, 'required': []}}, 'required': ['bodyParams', 'queryParams', 'pathParams']}}}, {'type': 'function', 'function': {'name': 'LinkedInCompanyManagementRetrieveCompanyInsights', 'description': \"Gathers detailed insights about a company, including headcount growth and job openings. This operation provides valuable business intelligence. If the company username isn't provided, run GetCompanyInfoByDomain first to obtain it. Use this for competitive analysis, market research, or to identify potential business opportunities by understanding a company's growth and hiring trends.\", 'parameters': {'type': 'object', 'properties': {'bodyParams': {'type': 'object', 'properties': {}, 'required': []}, 'queryParams': {'type': 'object', 'properties': {'username': {'type': 'string', 'description': \"Company's LinkedIn username (e.g., 'amazon').\"}}, 'required': ['username']}, 'pathParams': {'type': 'object', 'properties': {}, 'required': []}}, 'required': ['bodyParams', 'queryParams', 'pathParams']}}}, {'type': 'function', 'function': {'name': 'tavily-insights-fetchInsightsFromTavilyAI', 'description': \"Retrieves AI-generated insights Tavily AI based provided query. 'query' provided, use fetchLatestNewsUsingCurrentsAPI generate relevant queries. Use 4 in-depth analysis information synthesis. Common uses: research assistance, trend analysis, generating comprehensive reports specific topics.\", 'parameters': {'type': 'object', 'properties': {'bodyParams': {'type': 'object', 'properties': {'exclude_domains': {'type': 'array', 'description': 'exclude_domains', 'items': {'type': 'string'}}, 'include_answer': {'type': 'boolean', 'description': 'Include the answer in the response. Default is False.'}, 'include_domains': {'type': 'array', 'description': 'A list of domains to specifically include in the search results. Default is None, which includes all domains.', 'items': {'type': 'string'}}, 'include_images': {'type': 'boolean', 'description': 'Include a list of query-related images in the response. Default is False.'}, 'include_raw_content': {'type': 'boolean', 'description': 'include_raw_content'}, 'max_results': {'type': 'integer', 'description': 'max_results'}, 'query': {'type': 'string', 'description': 'query'}, 'search_depth': {'type': 'string', 'description': 'The depth of the search. It can be \"basic\" or \"advanced\". Default is \"basic\" unless specified otherwise in a given method.'}}, 'required': ['query']}, 'queryParams': {'type': 'object', 'properties': {}, 'required': []}, 'pathParams': {'type': 'object', 'properties': {}, 'required': []}}, 'required': ['bodyParams', 'queryParams', 'pathParams']}}}, {'type': 'function', 'function': {'name': 'LinkedInCompanyManagementGetCompanyInfoByDomain', 'description': \"Obtains company information based on its domain name. This operation is useful when only the company's website is known. If the domain isn't provided, run GetCompanyDetailsByUsername if you know the company's LinkedIn username. Use this to gather company details for business research, lead generation, or competitive analysis when you have the company's website but lack other identifying information.\", 'parameters': {'type': 'object', 'properties': {'bodyParams': {'type': 'object', 'properties': {}, 'required': []}, 'queryParams': {'type': 'object', 'properties': {'domain': {'type': 'string', 'description': \"Company's domain name (e.g., 'apple.com').\"}}, 'required': ['domain']}, 'pathParams': {'type': 'object', 'properties': {}, 'required': []}}, 'required': ['bodyParams', 'queryParams', 'pathParams']}}}, {'type': 'function', 'function': {'name': 'CrunchbaseOrganizationSearchAutocompleteByQuery', 'description': \"Fetches a list of organizations related to a search term, returning descriptions and identifiers for each. Use this operation to find organization identifiers when they're not directly available. Common use cases include searching for potential business partners, competitors, or investment targets. If organization_identifier isn't provided for other operations, run CrunchbaseOrganizationSearchAutocompleteByQuery before anything else to find the organization_identifier. This operation requires a query parameter, which is the search term used to find matching organizations. The response includes matching entities with their organization identifiers, names, and short descriptions, making it crucial for initiating workflows that require specific organization details.\", 'parameters': {'type': 'object', 'properties': {'bodyParams': {'type': 'object', 'properties': {}, 'required': []}, 'queryParams': {'type': 'object', 'properties': {'query': {'type': 'string', 'description': 'The search term used to find matching organizations.'}}, 'required': ['query']}, 'pathParams': {'type': 'object', 'properties': {}, 'required': []}}, 'required': ['bodyParams', 'queryParams', 'pathParams']}}}, {'type': 'function', 'function': {'name': 'CrunchbaseOrganizationDetailsGetInfoByIdentifier', 'description': \"Retrieves detailed information on a specific organization by its unique identifier. This operation provides comprehensive data including the organization's name, description, founding year, headquarters location, and industry. Use this to gather in-depth information after identifying an organization of interest. If organization_identifier isn't provided, run CrunchbaseOrganizationSearchAutocompleteByQuery before anything else to find the organization_identifier. Common use cases include due diligence for partnerships, competitive analysis, and investment research. The operation requires an organization_identifier as input, which uniquely identifies the target organization. The response includes detailed information about the organization, such as its identifier, name, short description, founding year, headquarters location, and industry.\", 'parameters': {'type': 'object', 'properties': {'bodyParams': {'type': 'object', 'properties': {}, 'required': []}, 'queryParams': {'type': 'object', 'properties': {'organization_identifier': {'type': 'string', 'description': 'Unique identifier for the target organization.'}}, 'required': ['organization_identifier']}, 'pathParams': {'type': 'object', 'properties': {}, 'required': []}}, 'required': ['bodyParams', 'queryParams', 'pathParams']}}}]\n"
     ]
    }
   ],
   "source": [
    "from xpander_sdk import XpanderClient\n",
    "from openai import OpenAI\n",
    "from dotenv import load_dotenv\n",
    "import os\n",
    "\n",
    "## Load environment variables\n",
    "load_dotenv()\n",
    "friendli_client = OpenAI(\n",
    "    base_url=\"https://api.friendli.ai/serverless/v1\",\n",
    "    api_key=os.environ.get(\"FRIENDLI_TOKEN\")\n",
    ")\n",
    "\n",
    "xpanderAPIKey = \"qYc2SlaFvE4lijE4besqT1n9UI7FKRK8W4VoFsx3\"\n",
    "xpanderAgentID = \"e9c9244e-ef29-4ce8-87ee-b312dc69a490\"\n",
    "\n",
    "\n",
    "xpander_client = XpanderClient(api_key=xpanderAPIKey)\n",
    "xpander_agent = xpander_client.agents.get(agent_id=xpanderAgentID)\n",
    "\n",
    "tools = xpander_agent.retrieve_all_graph_tools()\n",
    "print(tools)\n"
   ]
  },
  {
   "cell_type": "code",
   "execution_count": 4,
   "metadata": {},
   "outputs": [
    {
     "name": "stdout",
     "output_type": "stream",
     "text": [
      "ChatCompletionMessage(content='Hello. How can I assist you today?', refusal=None, role='assistant', audio=None, function_call=None, tool_calls=None)\n"
     ]
    }
   ],
   "source": [
    "# verify the friendli client is working\n",
    "completion = friendli_client.chat.completions.create(\n",
    "    model=\"meta-llama-3.1-8b-instruct\",\n",
    "    messages=[\n",
    "        {\"role\": \"system\", \"content\": \"You are a helpful assistant.\"},\n",
    "        {\"role\": \"user\", \"content\": \"Hello!\"}\n",
    "    ]\n",
    ")\n",
    "print(completion.choices[0].message)"
   ]
  },
  {
   "cell_type": "code",
   "execution_count": 13,
   "metadata": {},
   "outputs": [
    {
     "name": "stdout",
     "output_type": "stream",
     "text": [
      "{'role': 'user', 'content': 'search for xpander.ai crounchbase page and latest trends from their linkedin page '}\n",
      "ChatCompletionMessage(content=None, refusal=None, role='assistant', audio=None, function_call=None, tool_calls=[ChatCompletionMessageToolCall(id='call_5iydQrrsp2rJKgRLDDcXc7N1', function=Function(arguments='{\"bodyParams\": {}, \"queryParams\": {\"query\": \"xpander.ai crunchbase page\"}, \"pathParams\": {}}', name='CrunchbaseOrganizationSearchAutocompleteByQuery'), type='function'), ChatCompletionMessageToolCall(id='call_KWgpHbhH7u9USf30lMK5V1KQ', function=Function(arguments='{\"bodyParams\": {}, \"queryParams\": {\"organization_identifier\": \"amr6px\"}, \"pathParams\": {}}', name='CrunchbaseOrganizationDetailsGetInfoByIdentifier'), type='function'), ChatCompletionMessageToolCall(id='call_8ejQEUbCTbDubLnPYw0L7FuK', function=Function(arguments='{\"bodyParams\": {\"query\": \"xpander.ai latest trends\", \"search_depth\": \"advanced\"}, \"queryParams\": {}, \"pathParams\": {}}', name='tavily-insights-fetchInsightsFromTavilyAI'), type='function'), ChatCompletionMessageToolCall(id='call_10KVVEjgX6RBxNueI1FmmreX', function=Function(arguments='{\"bodyParams\": {}, \"queryParams\": {\"url\": \"https://www.linkedin.com/company/xpander-ai\"}, \"pathParams\": {}}', name='LinkedInProfileServiceGetProfileDataByUrl'), type='function')])\n",
      "model decided to invoke tools\n",
      "CrunchbaseOrganizationSearchAutocompleteByQuery\n",
      "CrunchbaseOrganizationDetailsGetInfoByIdentifier\n",
      "tavily-insights-fetchInsightsFromTavilyAI\n",
      "LinkedInProfileServiceGetProfileDataByUrl\n",
      "tool response for CrunchbaseOrganizationSearchAutocompleteByQuery 504\n",
      "tool response for CrunchbaseOrganizationDetailsGetInfoByIdentifier 200\n",
      "tool response for tavily-insights-fetchInsightsFromTavilyAI 200\n",
      "tool response for LinkedInProfileServiceGetProfileDataByUrl 200\n",
      "ChatCompletionMessage(content='##FINAL ANSWER##', refusal=None, role='assistant', audio=None, function_call=None, tool_calls=None)\n",
      "##FINAL ANSWER##\n"
     ]
    }
   ],
   "source": [
    "memory = [{\"role\": \"system\", \"content\": \"You are a helpful assistant. You are running in While True Loop, the response to your tools are available, once you have completed the user request add ##FINAL ANSWER## in your reply without further function calling\"},\n",
    "          {\"role\": \"user\", \"content\": \"search for xpander.ai crounchbase page and latest trends from their linkedin page \"}]\n",
    "print(memory[-1])\n",
    "number_of_calls = 1\n",
    "while True:\n",
    "    tools = xpander_agent.retrieve_all_graph_tools()\n",
    "    llm_response = friendli_client.chat.completions.create(\n",
    "        model=\"meta-llama-3.1-8b-instruct\",\n",
    "        messages=memory,\n",
    "        tools=tools,\n",
    "        temperature=1\n",
    "        )\n",
    "    memory.append({\"role\": \"assistant\", \"content\": f'Step number: {number_of_calls}'})\n",
    "    model_response = llm_response.choices[0].message\n",
    "    print(model_response)\n",
    "    memory.append({\"role\": \"assistant\", \"content\": model_response.content})\n",
    "    if model_response.tool_calls:\n",
    "        print(\"model decided to invoke tools\")\n",
    "        tools_to_run = XpanderClient.extract_tool_calls(llm_response=llm_response.model_dump())\n",
    "        for tool in tools_to_run: \n",
    "            print(tool.name)\n",
    "        tool_responses = xpander_agent.run_tools(tool_calls=tools_to_run)\n",
    "        for tool_response in tool_responses:\n",
    "            print(\"tool response for\", tool_response.function_name, tool_response.status_code)\n",
    "            memory.append({\"role\": \"tool\", \"content\": tool_response.result, \"tool_call_id\": tool_response.tool_call_id})\n",
    "    if (model_response.content):\n",
    "        if \"##FINAL ANSWER##\" in model_response.content:\n",
    "            break\n",
    "    number_of_calls += 1\n",
    "print(model_response.content)   "
   ]
  }
 ],
 "metadata": {
  "kernelspec": {
   "display_name": ".venv",
   "language": "python",
   "name": "python3"
  },
  "language_info": {
   "codemirror_mode": {
    "name": "ipython",
    "version": 3
   },
   "file_extension": ".py",
   "mimetype": "text/x-python",
   "name": "python",
   "nbconvert_exporter": "python",
   "pygments_lexer": "ipython3",
   "version": "3.12.8"
  }
 },
 "nbformat": 4,
 "nbformat_minor": 2
}
