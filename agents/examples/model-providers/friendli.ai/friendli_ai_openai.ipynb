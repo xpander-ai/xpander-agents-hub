{
 "cells": [
  {
   "cell_type": "code",
   "execution_count": null,
   "metadata": {},
   "outputs": [],
   "source": [
    "!pip install -I xpander-sdk openai python-dotenv"
   ]
  },
  {
   "cell_type": "code",
   "execution_count": 7,
   "metadata": {},
   "outputs": [
    {
     "name": "stdout",
     "output_type": "stream",
     "text": [
      "[{'type': 'function', 'function': {'name': 'SlackMessageSendingSendMessageToChannel', 'description': 'Sends a message to a channel. If the channel is missing, run listAllChannelsInTeam before anything else to get channel IDs. Use this method to post new messages, announcements, or updates to specific conversations or users. Common uses include team communication, automated notifications, and project updates. Supports rich content like attachments and blocks for enhanced messaging.', 'parameters': {'type': 'object', 'properties': {'bodyParams': {'type': 'object', 'properties': {'as_user': {'type': 'string', 'description': 'Pass true to post the message as the authenticated user instead of as a bot. Defaults to false. Use this to maintain the context of a user when posting. This option is only available for legacy Slack apps.'}, 'attachments': {'type': 'string', 'description': 'A JSON-based array of structured attachments, presented as a URL-encoded string. Use attachments to include rich content like images, buttons, and links in your message.'}, 'blocks': {'type': 'string', 'description': 'A JSON-based array of structured blocks, presented as a URL-encoded string. Blocks allow you to create complex message layouts with sections, images, actions, and other interactive elements.'}, 'channel': {'type': 'string', 'description': 'Specify the target of the message, which can be a user ID (for direct messages) or a channel ID (for group chats). For public channels, use the channel ID (e.g., C123456). For private channels or multi-person direct messages, use the corresponding IDs retrieved from listAllChannelsInTeam.'}, 'icon_emoji': {'type': 'string', 'description': 'An emoji to use as the icon for this message, overriding the `icon_url`. This property must be used with `as_user` set to false; otherwise, it will be ignored. Useful for customizing bot messages with specific emoji icons.'}, 'icon_url': {'type': 'string', 'description': 'URL to an image to use as the icon for this message. It overrides the default bot icon. This property must be used with `as_user` set to false; otherwise, it will be ignored.'}, 'link_names': {'type': 'boolean', 'description': 'Automatically link channel names and usernames mentioned in the message. Set to true to link them.'}, 'mrkdwn': {'type': 'boolean', 'description': 'Disable Slack markup parsing by setting this to `false`. Enabled by default. This option is useful if you want to display raw text without formatting.'}, 'parse': {'type': 'string', 'description': 'Change how messages are treated. The `full` option disables link unfurling and Markdown formatting, while `none` enables both. Defaults to `none`.'}, 'reply_broadcast': {'type': 'boolean', 'description': 'Used in conjunction with `thread_ts` to make the reply visible to everyone in the channel or conversation. Defaults to `false`. This is useful for making important replies more prominent in threaded discussions.'}, 'text': {'type': 'string', 'description': 'The main body text of the message. Required if `blocks` or `attachments` are not provided. If using `blocks`, this serves as fallback text for notifications.'}, 'thread_ts': {'type': 'string', 'description': \"Provide another message's `ts` value to make this message a reply to that message. Avoid using a reply's `ts` value; use the parent message's `ts` instead.\"}, 'unfurl_links': {'type': 'boolean', 'description': 'Enable unfurling of primarily text-based content. Set this to `true` to automatically expand links to text content in the message.'}, 'unfurl_media': {'type': 'boolean', 'description': 'Disable unfurling of media content by setting this to `false`. By default, media content such as images and videos will be expanded.'}, 'username': {'type': 'string', 'description': \"Set your bot's username. This property must be used with `as_user` set to false; otherwise, it will be ignored. Useful for customizing the display name of bot messages.\"}}, 'required': ['channel']}, 'queryParams': {'type': 'object', 'properties': {}, 'required': []}, 'pathParams': {'type': 'object', 'properties': {}, 'required': []}}, 'required': ['bodyParams', 'queryParams', 'pathParams']}}}, {'type': 'function', 'function': {'name': '7f5a704b-0739-42c8-a4d3-43cbfe84b19b', 'description': '', 'parameters': {'type': 'object', 'properties': {'bodyParams': {'type': 'object', 'properties': {'s3_bucket': {'type': 'string', 'description': 'The name of the S3 bucket.'}, 's3_key': {'type': 'string', 'description': 'The key of the CSV file in the S3 bucket.'}}, 'required': ['s3_bucket', 's3_key']}, 'queryParams': {'type': 'object', 'properties': {}, 'required': []}, 'pathParams': {'type': 'object', 'properties': {}, 'required': []}}, 'required': ['bodyParams', 'queryParams', 'pathParams']}}}]\n"
     ]
    }
   ],
   "source": [
    "from xpander_sdk import XpanderClient\n",
    "from openai import OpenAI\n",
    "from dotenv import load_dotenv\n",
    "import os\n",
    "\n",
    "## Load environment variables\n",
    "load_dotenv()\n",
    "friendli_client = OpenAI(\n",
    "    base_url=\"https://api.friendli.ai/serverless/v1\",\n",
    "    api_key=os.environ.get(\"FRIENDLI_TOKEN\")\n",
    ")\n",
    "\n",
    "xpanderAPIKey = os.environ.get(\"XPANDER_API_KEY\",\"\")\n",
    "xpanderAgentID = os.environ.get(\"XPANDER_AGENT_ID\", \"\")\n",
    "\n",
    "\n",
    "xpander_client = XpanderClient(api_key=xpanderAPIKey)\n",
    "xpander_agent = xpander_client.agents.get(agent_id=xpanderAgentID)\n",
    "\n",
    "tools = xpander_agent.retrieve_all_graph_tools()\n",
    "print(tools)\n"
   ]
  },
  {
   "cell_type": "code",
   "execution_count": 3,
   "metadata": {},
   "outputs": [
    {
     "name": "stdout",
     "output_type": "stream",
     "text": [
      "ChatCompletionMessage(content=\"It's nice to meet you. Is there something I can help you with or would you like to chat?\", refusal=None, role='assistant', audio=None, function_call=None, tool_calls=None)\n"
     ]
    }
   ],
   "source": [
    "# verify the friendli client is working\n",
    "completion = friendli_client.chat.completions.create(\n",
    "    model=\"meta-llama-3.1-8b-instruct\",\n",
    "    messages=[\n",
    "        {\"role\": \"system\", \"content\": \"You are a helpful assistant.\"},\n",
    "        {\"role\": \"user\", \"content\": \"Hello!\"}\n",
    "    ]\n",
    ")\n",
    "print(completion.choices[0].message)"
   ]
  },
  {
   "cell_type": "code",
   "execution_count": 6,
   "metadata": {},
   "outputs": [
    {
     "name": "stdout",
     "output_type": "stream",
     "text": [
      "{'role': 'user', 'content': 'Send hi to C08628AHP9C channel'}\n",
      "ChatCompletionMessage(content=None, refusal=None, role='assistant', audio=None, function_call=None, tool_calls=[ChatCompletionMessageToolCall(id='call_WcYhGOR0FfuSpHRnTfBBbHGO', function=Function(arguments='{\"bodyParams\": {\"channel\": \"C08628AHP9C\", \"text\": \"hi\", \"unfurl_links\": false, \"unfurl_media\": false, \"username\": \"hi-bot\"}, \"queryParams\": {}, \"pathParams\": {}}', name='SlackMessageSendingSendMessageToChannel'), type='function')])\n",
      "model decided to invoke tools\n",
      "SlackMessageSendingSendMessageToChannel\n",
      "tool response for SlackMessageSendingSendMessageToChannel 200\n",
      "ChatCompletionMessage(content=None, refusal=None, role='assistant', audio=None, function_call=None, tool_calls=[ChatCompletionMessageToolCall(id='call_ensF5YRlPmjnnEKPjld7nx9r', function=Function(arguments='{\"bodyParams\": {\"channel\": \"C08628AHP9C\", \"text\": \"hi\", \"username\": \"My Slack Bot\"}, \"queryParams\": {}, \"pathParams\": {}}', name='SlackMessageSendingSendMessageToChannel'), type='function')])\n",
      "model decided to invoke tools\n",
      "SlackMessageSendingSendMessageToChannel\n",
      "tool response for SlackMessageSendingSendMessageToChannel 200\n",
      "ChatCompletionMessage(content='##FINAL ANSWER##', refusal=None, role='assistant', audio=None, function_call=None, tool_calls=None)\n",
      "##FINAL ANSWER##\n"
     ]
    }
   ],
   "source": [
    "memory = [{\"role\": \"system\", \"content\": \"You are a helpful assistant. You are running in While True Loop, the response to your tools are available, once you have completed the user request add ##FINAL ANSWER## in your reply without further function calling\"},\n",
    "          {\"role\": \"user\", \"content\": \"Send hi to C08628AHP9C channel\"}]\n",
    "print(memory[-1])\n",
    "number_of_calls = 1\n",
    "while True:\n",
    "    tools = xpander_agent.retrieve_all_graph_tools()\n",
    "    llm_response = friendli_client.chat.completions.create(\n",
    "        model=\"meta-llama-3.1-70b-instruct\",\n",
    "        messages=memory,\n",
    "        tools=tools\n",
    "        )\n",
    "    memory.append({\"role\": \"assistant\", \"content\": f'Step number: {number_of_calls}'})\n",
    "    model_response = llm_response.choices[0].message\n",
    "    print(model_response)\n",
    "    memory.append({\"role\": \"assistant\", \"content\": model_response.content})\n",
    "    if model_response.tool_calls:\n",
    "        print(\"model decided to invoke tools\")\n",
    "        tools_to_run = XpanderClient.extract_tool_calls(llm_response=llm_response.model_dump())\n",
    "        for tool in tools_to_run: \n",
    "            print(tool.name)\n",
    "        tool_responses = xpander_agent.run_tools(tool_calls=tools_to_run)\n",
    "        for tool_response in tool_responses:\n",
    "            print(\"tool response for\", tool_response.function_name, tool_response.status_code)\n",
    "            memory.append({\"role\": \"tool\", \"content\": tool_response.result, \"tool_call_id\": tool_response.tool_call_id})\n",
    "    if (model_response.content):\n",
    "        if \"##FINAL ANSWER##\" in model_response.content:\n",
    "            break\n",
    "    number_of_calls += 1\n",
    "print(model_response.content)   "
   ]
  }
 ],
 "metadata": {
  "kernelspec": {
   "display_name": ".venv",
   "language": "python",
   "name": "python3"
  },
  "language_info": {
   "codemirror_mode": {
    "name": "ipython",
    "version": 3
   },
   "file_extension": ".py",
   "mimetype": "text/x-python",
   "name": "python",
   "nbconvert_exporter": "python",
   "pygments_lexer": "ipython3",
   "version": "3.12.7"
  }
 },
 "nbformat": 4,
 "nbformat_minor": 2
}
