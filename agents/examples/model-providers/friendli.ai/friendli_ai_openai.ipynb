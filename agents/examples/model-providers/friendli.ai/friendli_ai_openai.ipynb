{
 "cells": [
  {
   "cell_type": "code",
   "execution_count": 1,
   "metadata": {},
   "outputs": [
    {
     "name": "stdout",
     "output_type": "stream",
     "text": [
      "Requirement already satisfied: xpander-sdk==1.19.0 in /opt/miniconda3/lib/python3.12/site-packages (1.19.0)\n",
      "Requirement already satisfied: jsii<2.0.0,>=1.105.0 in /opt/miniconda3/lib/python3.12/site-packages (from xpander-sdk==1.19.0) (1.106.0)\n",
      "Requirement already satisfied: publication>=0.0.3 in /opt/miniconda3/lib/python3.12/site-packages (from xpander-sdk==1.19.0) (0.0.3)\n",
      "Requirement already satisfied: typeguard<4.3.0,>=2.13.3 in /opt/miniconda3/lib/python3.12/site-packages (from xpander-sdk==1.19.0) (4.2.1)\n",
      "Requirement already satisfied: attrs<25.0,>=21.2 in /opt/miniconda3/lib/python3.12/site-packages (from jsii<2.0.0,>=1.105.0->xpander-sdk==1.19.0) (24.2.0)\n",
      "Requirement already satisfied: cattrs<24.2,>=1.8 in /opt/miniconda3/lib/python3.12/site-packages (from jsii<2.0.0,>=1.105.0->xpander-sdk==1.19.0) (24.1.2)\n",
      "Requirement already satisfied: importlib-resources>=5.2.0 in /opt/miniconda3/lib/python3.12/site-packages (from jsii<2.0.0,>=1.105.0->xpander-sdk==1.19.0) (6.4.5)\n",
      "Requirement already satisfied: python-dateutil in /opt/miniconda3/lib/python3.12/site-packages (from jsii<2.0.0,>=1.105.0->xpander-sdk==1.19.0) (2.9.0)\n",
      "Requirement already satisfied: typing-extensions<5.0,>=3.8 in /opt/miniconda3/lib/python3.12/site-packages (from jsii<2.0.0,>=1.105.0->xpander-sdk==1.19.0) (4.12.2)\n",
      "Requirement already satisfied: six>=1.5 in /opt/miniconda3/lib/python3.12/site-packages (from python-dateutil->jsii<2.0.0,>=1.105.0->xpander-sdk==1.19.0) (1.16.0)\n",
      "Note: you may need to restart the kernel to use updated packages.\n",
      "Note: you may need to restart the kernel to use updated packages.\n"
     ]
    }
   ],
   "source": [
    "%pip install xpander-sdk==1.19.0\n",
    "%pip install -qU openai"
   ]
  },
  {
   "cell_type": "code",
   "execution_count": 2,
   "metadata": {},
   "outputs": [
    {
     "name": "stderr",
     "output_type": "stream",
     "text": [
      "b'\\x1b[43m\\x1b[30m!!!!!!!!!!!!!!!!!!!!!!!!!!!!!!!!!!!!!!!!!!!!!!!!!!!!!!!!!!!!!!!!!!!!!!!!!!!!!!!!!!!!!!!!!!!!!!!!!!!!!!!!!!!!!!!!!!!!!!!!!!\\x1b[39m\\x1b[49m\\n'\n",
      "b'\\x1b[43m\\x1b[30m!!                                                                                                                      !!\\x1b[39m\\x1b[49m\\n'\n",
      "b'\\x1b[43m\\x1b[30m!!  This software has not been tested with node v23.1.0.                                                                !!\\x1b[39m\\x1b[49m\\n'\n",
      "b'\\x1b[43m\\x1b[30m!!  Should you encounter odd runtime issues, please try using one of the supported release before filing a bug report.  !!\\x1b[39m\\x1b[49m\\n'\n",
      "b'\\x1b[43m\\x1b[30m!!                                                                                                                      !!\\x1b[39m\\x1b[49m\\n'\n",
      "b'\\x1b[43m\\x1b[30m!!  This software is currently running on node v23.1.0.                                                                 !!\\x1b[39m\\x1b[49m\\n'\n",
      "b'\\x1b[43m\\x1b[30m!!  As of the current release of this software, supported node releases are:                                            !!\\x1b[39m\\x1b[49m\\n'\n",
      "b'\\x1b[43m\\x1b[30m!!  - ^22.0.0 (Planned end-of-life: 2027-04-30)                                                                         !!\\x1b[39m\\x1b[49m\\n'\n",
      "b'\\x1b[43m\\x1b[30m!!  - ^20.0.0 (Planned end-of-life: 2026-04-30)                                                                         !!\\x1b[39m\\x1b[49m\\n'\n",
      "b'\\x1b[43m\\x1b[30m!!  - ^18.0.0 (Planned end-of-life: 2025-04-30)                                                                         !!\\x1b[39m\\x1b[49m\\n'\n",
      "b'\\x1b[43m\\x1b[30m!!                                                                                                                      !!\\x1b[39m\\x1b[49m\\n'\n",
      "b'\\x1b[43m\\x1b[30m!!  This warning can be silenced by setting the JSII_SILENCE_WARNING_UNTESTED_NODE_VERSION environment variable.        !!\\x1b[39m\\x1b[49m\\n'\n",
      "b'\\x1b[43m\\x1b[30m!!                                                                                                                      !!\\x1b[39m\\x1b[49m\\n'\n",
      "b'\\x1b[43m\\x1b[30m!!!!!!!!!!!!!!!!!!!!!!!!!!!!!!!!!!!!!!!!!!!!!!!!!!!!!!!!!!!!!!!!!!!!!!!!!!!!!!!!!!!!!!!!!!!!!!!!!!!!!!!!!!!!!!!!!!!!!!!!!!\\x1b[39m\\x1b[49m\\n'\n"
     ]
    }
   ],
   "source": [
    "from xpander_sdk import XpanderClient, LLMProvider\n",
    "from openai import OpenAI\n",
    "from dotenv import load_dotenv\n",
    "import os\n",
    "\n",
    "## Load environment variables\n",
    "load_dotenv()\n",
    "friendli_client = OpenAI(\n",
    "    base_url=\"https://api.friendli.ai/serverless/v1\",\n",
    "    api_key=os.environ.get(\"FRIENDLI_TOKEN\")\n",
    ")\n",
    "\n",
    "xpanderAPIKey = os.environ.get(\"XPANDER_API_KEY\",\"\")\n",
    "xpanderAgentID = os.environ.get(\"XPANDER_AGENT_ID\", \"\")\n",
    "\n",
    "\n",
    "xpander_client = XpanderClient(api_key=xpanderAPIKey)\n",
    "xpander_agent = xpander_client.agents.get(agent_id=xpanderAgentID)\n"
   ]
  },
  {
   "cell_type": "code",
   "execution_count": 3,
   "metadata": {},
   "outputs": [
    {
     "name": "stdout",
     "output_type": "stream",
     "text": [
      "ChatCompletionMessage(content='How can I assist you today?', refusal=None, role='assistant', audio=None, function_call=None, tool_calls=None)\n"
     ]
    }
   ],
   "source": [
    "# verify the friendli client is working\n",
    "completion = friendli_client.chat.completions.create(\n",
    "    model=\"meta-llama-3.1-8b-instruct\",\n",
    "    messages=[\n",
    "        {\"role\": \"system\", \"content\": \"You are a helpful assistant.\"},\n",
    "        {\"role\": \"user\", \"content\": \"Hello!\"}\n",
    "    ]\n",
    ")\n",
    "print(completion.choices[0].message)"
   ]
  },
  {
   "cell_type": "code",
   "execution_count": 4,
   "metadata": {},
   "outputs": [
    {
     "name": "stdout",
     "output_type": "stream",
     "text": [
      "[{'type': 'function', 'function': {'name': 'PgTavilyFetchInsightsFromTavilyAI', 'description': 'This operation fetches insights from Tavily AI based on user-defined queries. Use this operation when you need to gather comprehensive information or insights on a specific topic, making it ideal for research, content creation, or data analysis. It is particularly useful for applications that require in-depth exploration of subjects, allowing users to investigate, study, or analyze topics thoroughly.', 'parameters': {'type': 'object', 'properties': {'queryParams': {'type': 'object', 'properties': {}, 'required': []}, 'pathParams': {'type': 'object', 'properties': {}, 'required': []}, 'bodyParams': {'type': 'object', 'properties': {'inputTask': {'type': 'string', 'description': 'input user sub task based on the input query'}}, 'required': []}}, 'required': ['query_params', 'path_params', 'body_params']}}}]\n"
     ]
    }
   ],
   "source": [
    "print(xpander_agent.get_tools())"
   ]
  },
  {
   "cell_type": "code",
   "execution_count": 6,
   "metadata": {},
   "outputs": [
    {
     "name": "stdout",
     "output_type": "stream",
     "text": [
      "{'role': 'user', 'content': 'creat report on AWS Nova new model'}\n",
      "{'role': 'assistant', 'content': 'Step number: 1'}\n",
      "ChatCompletionMessage(content=None, refusal=None, role='assistant', audio=None, function_call=None, tool_calls=[ChatCompletionMessageToolCall(id='call_tIq9QkQ5ipWutfpRxzSdTdvu', function=Function(arguments='{\"bodyParams\": {\"query\": \"AWS Nova new model\", \"search_depth\": \"advanced\"}, \"queryParams\": {}, \"pathParams\": {}}', name='tavily-insights-fetchInsightsFromTavilyAI'), type='function')])\n",
      "[ChatCompletionMessageToolCall(id='call_tIq9QkQ5ipWutfpRxzSdTdvu', function=Function(arguments='{\"bodyParams\": {\"query\": \"AWS Nova new model\", \"search_depth\": \"advanced\"}, \"queryParams\": {}, \"pathParams\": {}}', name='tavily-insights-fetchInsightsFromTavilyAI'), type='function')]\n",
      "Tool Name: tavily-insights-fetchInsightsFromTavilyAI\n",
      "{'role': 'tool', 'content': {'query': 'AWS Nova new model', 'images': [], 'results': [{'title': 'Amazon Nova: Meet our new foundation models in Amazon Bedrock', 'url': 'https://www.aboutamazon.com/news/aws/amazon-nova-artificial-intelligence-bedrock-aws', 'content': '“Our new Amazon Nova models are intended to help with these challenges for internal and external builders, and provide compelling intelligence and content generation while also delivering meaningful progress on latency, cost-effectiveness, customization, information grounding, and agentic capabilities.” Amazon Nova Reel, a state-of-the-art video generation model. With the output quality, intuitive API platform, and advanced customization opportunities, the Amazon Nova creative generation models, Amazon Nova Canvas and Amazon Nova Reel, are helping Amazon Ads remove barriers for sellers and advertisers leading to new levels of creativity and innovation, like using video advertising for the first time, creating display and video campaigns for more products in their catalog, and experimenting with new strategies like keyword-level creative.', 'score': 0.9996699}, {'title': 'What is Amazon Nova? - Amazon Nova - docs.aws.amazon.com', 'url': 'https://docs.aws.amazon.com/nova/latest/userguide/what-is-nova.html', 'content': 'Amazon Nova is a new generation of state-of-the-art foundation models that deliver frontier intelligence and industry leading price performance, available on Amazon Bedrock. With text and vision fine-tuning on Amazon Bedrock, you can customize Amazon Nova Pro, Lite, and Micro to deliver the optimal intelligence and cost for your needs. Amazon Nova Micro is a text-only model that delivers the lowest latency responses at very low cost. Amazon Nova Lite is a very low cost multimodal model that is lightning fast for processing image, video, and text inputs. Amazon Nova Canvas - is a state-of-the-art image generation model that creates professional grade images from text and image inputs. Amazon Nova Reel - is a state-of-the-art video generation model that supports the generation of short videos from input text and images.', 'score': 0.99947256}, {'title': 'Introducing Amazon Nova: A New Generation of Foundation Models', 'url': 'https://finance.yahoo.com/news/introducing-amazon-nova-generation-foundation-182300727.html', 'content': 'LAS VEGAS, December 03, 2024--(BUSINESS WIRE)--Today, at AWS re:Invent, Amazon.com Inc (NASDAQ: AMZN) introduced Amazon Nova, a new generation of foundation models (FMs) that have state-of-the-art intelligence across a wide range of tasks, and industry-leading price performance. SAP, a strategic partner of AWS, is integrating Amazon Nova models into its SAP AI Core generative AI hub’s family of supported LLMs. This enables developers to create new skills for Joule, SAP’s AI copilot, and securely build AI-driven solutions that harness the full business context captured in SAP data, enabling automation, personalization, and advanced solutions like supply chain planning.', 'score': 0.999134}, {'title': 'Introducing Amazon Nova: A New Generation of Foundation Models', 'url': 'https://press.aboutamazon.com/2024/12/introducing-amazon-nova-a-new-generation-of-foundation-models', 'content': 'The Amazon Nova model learns what matters most to the customer from their own data (including text, images, and videos), and then Amazon Bedrock trains a private fine-tuned model that will provide tailored responses. Amazon Nova Reel is a state-of-the-art video generation model that allows customers to easily create high-quality video from text and images. SAP, a strategic partner of AWS, is integrating Amazon Nova models into its SAP AI Core generative AI hub’s family of supported LLMs. This enables developers to create new skills for Joule, SAP’s AI copilot, and securely build AI-driven solutions that harness the full business context captured in SAP data, enabling automation, personalization, and advanced solutions like supply chain planning.', 'score': 0.9991239}, {'title': 'Amazon announces Nova, a new family of multimodal AI models', 'url': 'https://techcrunch.com/2024/12/03/amazon-announces-nova-a-new-family-of-multimodal-ai-models/', 'content': 'Amazon announces Nova, a new family of multimodal AI models | TechCrunch Amazon announces Nova, a new family of multimodal AI models | TechCrunch Amazon announces Nova, a new family of multimodal AI models At its re:Invent conference on Tuesday, Amazon Web Services (AWS), Amazon’s cloud computing division, announced a new family of multimodal generative AI models it calls Nova. In addition to those, there’s an image-generation model, Nova Canvas, and a video-generating model, Nova Reel. They’re available in AWS Bedrock, Amazon’s AI development platform, where they can be fine-tuned on text, images, and video\\xa0and distilled for improved speed and higher efficiency. AI, AI, Amazon, Amazon Web Services, AWS, aws re:Invent, aws reinvent 2024, Enterprise, Generative AI, Media & Entertainment, Nova, reinvent 2024', 'score': 0.99910307}], 'response_time': 1.98}, 'tool_call_id': 'call_tIq9QkQ5ipWutfpRxzSdTdvu'}\n",
      "{'role': 'assistant', 'content': 'Step number: 2'}\n",
      "ChatCompletionMessage(content=\"<tool_response> Based on the information available, the report on AWS Nova new model is as follows:\\n\\nAWS Nova is a new generation of foundation models that deliver frontier intelligence and industry leading price performance, available on Amazon Bedrock. With text and vision fine-tuning on Amazon Bedrock, you can customize Amazon Nova Pro, Lite, and Micro to deliver the optimal intelligence and cost for your needs.\\n\\nThere are three main models in the Amazon Nova family:\\n\\n1. Amazon Nova Micro: A text-only model that delivers the lowest latency responses at very low cost.\\n2. Amazon Nova Lite: A very low cost multimodal model that is lightning fast for processing image, video, and text inputs.\\n3. Amazon Nova Canvas: A state-of-the-art image generation model that creates professional grade images from text and image inputs.\\n4. Amazon Nova Reel: A state-of-the-art video generation model that supports the generation of short videos from input text and images.\\n\\nThe models are integrated with SAP AI Core generative AI hub's family of supported LLMs, enabling developers to create new skills for Joule, SAP's AI copilot, and securely build AI-driven solutions that harness the full business context captured in SAP data, enabling automation, personalization, and advanced solutions like supply chain planning.\\n\\nAmazon announces Nova, a new family of multimodal AI models | TechCrunch Amazon announces Nova, a new family of multimodal AI models | TechCrunch Amazon announces Nova, a new family of multimodal AI models At its re:Invent conference on Tuesday, Amazon Web Services (AWS), Amazon’s cloud computing division, announced a new family of multimodal generative AI models it calls Nova. In addition to those, there’s an image-generation model, Nova Canvas, and a video-generating model, Nova Reel. They’re available in AWS Bedrock, Amazon’s AI development platform, where they can be fine-tuned on text, images, and video\\xa0and distilled for improved speed and higher efficiency. AI, AI, Amazon, Amazon Web Services, AWS, aws re:Invent, aws reinvent 2024, Enterprise, Generative AI, Media \\\\u0026 Entertainment, Nova, reinvent 2024\\n\\n</tool_response>\\n\\nWould you like to add any specific details related to this report to create a complete report or would you like me to provide some information about pros of this model ?\", refusal=None, role='assistant', audio=None, function_call=None, tool_calls=None)\n",
      "{'role': 'assistant', 'content': 'Step number: 3'}\n",
      "ChatCompletionMessage(content=None, refusal=None, role='assistant', audio=None, function_call=None, tool_calls=[ChatCompletionMessageToolCall(id='call_IvkpTZf77i2IfORzmF3O9637', function=Function(arguments='{\"bodyParams\":{\"query\":\"Pros of AWS Nova new model\",\"search_depth\":\"advanced\"},\"pathParams\":{},\"queryParams\":{}}', name='tavily-insights-fetchInsightsFromTavilyAI'), type='function')])\n",
      "[ChatCompletionMessageToolCall(id='call_IvkpTZf77i2IfORzmF3O9637', function=Function(arguments='{\"bodyParams\":{\"query\":\"Pros of AWS Nova new model\",\"search_depth\":\"advanced\"},\"pathParams\":{},\"queryParams\":{}}', name='tavily-insights-fetchInsightsFromTavilyAI'), type='function')]\n",
      "Tool Name: tavily-insights-fetchInsightsFromTavilyAI\n",
      "{'role': 'tool', 'content': {'query': 'Pros of AWS Nova new model', 'images': [], 'results': [{'title': 'AWS introduced Amazon Nova, a next-generation foundation model family', 'url': 'https://dataconomy.com/2024/12/17/aws-new-foundation-model-amazon-nova/', 'content': 'AWS introduced Amazon Nova, a new generation of foundation models (FMs) designed to deliver cutting-edge intelligence and industry-leading price performance across a wide variety of tasks. Available on Amazon Bedrock, the Amazon Nova lineup includes Nova Micro, a highly efficient text-to-text model, Nova Lite, Nova Pro, and Nova Premier—multimodal models that process text, images, and videos to generate text content. Compared to other top-performing models within their intelligence classes on Amazon Bedrock, Nova Micro, Nova Lite, and Nova Pro are at least 75% more cost-effective while offering the fastest performance. Amazon Nova models integrate seamlessly with Amazon Bedrock Knowledge Bases, enabling retrieval-augmented generation (RAG) to deliver responses based on an organization’s own data for the highest levels of accuracy.', 'score': 0.9993487}, {'title': 'Amazon Nova: Meet our new foundation models in Amazon Bedrock', 'url': 'https://www.aboutamazon.com/news/aws/amazon-nova-artificial-intelligence-bedrock-aws', 'content': '“Our new Amazon Nova models are intended to help with these challenges for internal and external builders, and provide compelling intelligence and content generation while also delivering meaningful progress on latency, cost-effectiveness, customization, information grounding, and agentic capabilities.” Amazon Nova Reel, a state-of-the-art video generation model. With the output quality, intuitive API platform, and advanced customization opportunities, the Amazon Nova creative generation models, Amazon Nova Canvas and Amazon Nova Reel, are helping Amazon Ads remove barriers for sellers and advertisers leading to new levels of creativity and innovation, like using video advertising for the first time, creating display and video campaigns for more products in their catalog, and experimenting with new strategies like keyword-level creative.', 'score': 0.998844}, {'title': 'What is Amazon Nova? - Amazon Nova - docs.aws.amazon.com', 'url': 'https://docs.aws.amazon.com/nova/latest/userguide/what-is-nova.html', 'content': 'Amazon Nova is a new generation of state-of-the-art foundation models that deliver frontier intelligence and industry leading price performance, available on Amazon Bedrock. With text and vision fine-tuning on Amazon Bedrock, you can customize Amazon Nova Pro, Lite, and Micro to deliver the optimal intelligence and cost for your needs. Amazon Nova Micro is a text-only model that delivers the lowest latency responses at very low cost. Amazon Nova Lite is a very low cost multimodal model that is lightning fast for processing image, video, and text inputs. Amazon Nova Canvas - is a state-of-the-art image generation model that creates professional grade images from text and image inputs. Amazon Nova Reel - is a state-of-the-art video generation model that supports the generation of short videos from input text and images.', 'score': 0.99849296}, {'title': 'Generative Foundation Model - Amazon Nova - AWS', 'url': 'https://aws.amazon.com/ai/generative-ai/nova/', 'content': 'Generative Foundation Model - Amazon Nova - AWS Amazon Nova Canvas and Amazon Nova Reel are creative content generation models that accept text and image inputs and produce image or video outputs. Amazon Nova Pro’s capabilities, coupled with its industry-leading speed and cost efficiency, makes it a compelling model for almost any task, including video summarization, Q&A, mathematical reasoning, software development, and AI agents that can execute multi-step workflows. Amazon Nova Reel is a state-of-the-art video generation model that allows customers to easily create high quality video from text and images. Amazon Nova Canvas represents a significant jump forward in image quality from AWS’s already impressive line-up of models, which makes us really excited to include it in the Shutterstock AI Image Generator.', 'score': 0.998345}, {'title': 'Introducing Amazon Nova: A New Generation of Foundation Models', 'url': 'https://press.aboutamazon.com/2024/12/introducing-amazon-nova-a-new-generation-of-foundation-models', 'content': 'The Amazon Nova model learns what matters most to the customer from their own data (including text, images, and videos), and then Amazon Bedrock trains a private fine-tuned model that will provide tailored responses. Amazon Nova Reel is a state-of-the-art video generation model that allows customers to easily create high-quality video from text and images. SAP, a strategic partner of AWS, is integrating Amazon Nova models into its SAP AI Core generative AI hub’s family of supported LLMs. This enables developers to create new skills for Joule, SAP’s AI copilot, and securely build AI-driven solutions that harness the full business context captured in SAP data, enabling automation, personalization, and advanced solutions like supply chain planning.', 'score': 0.99720997}], 'response_time': 1.76}, 'tool_call_id': 'call_IvkpTZf77i2IfORzmF3O9637'}\n",
      "{'role': 'assistant', 'content': 'Step number: 4'}\n",
      "ChatCompletionMessage(content='The pros of AWS Nova new model are:\\n\\n*   Cutting-edge intelligence and industry-leading price performance across a wide variety of tasks.\\n*   Available on Amazon Bedrock, the Amazon Nova lineup includes Nova Micro, a highly efficient text-to-text model, Nova Lite, Nova Pro, and Nova Premier—multimodal models that process text, images, and videos to generate text content.\\n*   Nova Micro, Nova Lite, and Nova Pro are at least 75% more cost-effective while offering the fastest performance compared to other top-performing models within their intelligence classes on Amazon Bedrock.\\n*   Amazon Nova models integrate seamlessly with Amazon Bedrock Knowledge Bases, enabling retrieval-augmented generation (RAG) to deliver responses based on an organization’s own data for the highest levels of accuracy.\\n*   Provides compelling intelligence and content generation while also delivering meaningful progress on latency, cost-effectiveness, customization, information grounding, and agentic capabilities.\\n*   Helps with the challenges of internal and external builders, and provides advanced customization opportunities.\\n*   Enables video advertising for the first time, creates display and video campaigns for more products in the catalog, and experiments with new strategies like keyword-level creative.\\n*   Offers professional-grade images from text and image inputs, and supports the generation of short videos from input text and images.\\n*   Allows customers to easily create high-quality video from text and images, and represents a significant jump forward in image quality from AWS’s already impressive line-up of models.\\n*   Enables developers to create new skills for Joule, SAP’s AI copilot, and securely build AI-driven solutions that harness the full business context captured in SAP data, enabling automation, personalization, and advanced solutions like supply chain planning.\\n\\nWould you like to know about some limitations of this model or would you like to add some more information to this report?', refusal=None, role='assistant', audio=None, function_call=None, tool_calls=None)\n",
      "{'role': 'assistant', 'content': 'Step number: 5'}\n",
      "ChatCompletionMessage(content='##FINAL ANSWER##', refusal=None, role='assistant', audio=None, function_call=None, tool_calls=None)\n",
      "##FINAL ANSWER##\n"
     ]
    }
   ],
   "source": [
    "memory = [{\"role\": \"system\", \"content\": \"You are a helpful assistant with function calling and tool access. you are running in While loop if you want to stop the loop please add ##FINAL ANSWER## in your answer\"},\n",
    "          {\"role\": \"user\", \"content\": \"creat report on AWS Nova new model\"}\n",
    "          ]\n",
    "print(memory[-1])\n",
    "\n",
    "number_of_calls = 1\n",
    "while True:\n",
    "    llm_response = friendli_client.chat.completions.create(\n",
    "        model=\"meta-llama-3.1-8b-instruct\",\n",
    "        messages=memory,\n",
    "        tools=xpander_agent.get_tools(),\n",
    "        tool_choice=\"auto\"\n",
    "    )\n",
    "    memory.append({\"role\": \"assistant\", \"content\": f'Step number: {number_of_calls}'})\n",
    "    print(memory[-1])\n",
    "\n",
    "    memory.append(llm_response.choices[0].message)\n",
    "    print(memory[-1])\n",
    "    model_response = llm_response.choices[0].message\n",
    "    if model_response.tool_calls:\n",
    "        print(model_response.tool_calls)\n",
    "        tools_to_run = XpanderClient.extract_tool_calls(llm_response=llm_response.model_dump())\n",
    "        print(\"Tool Name:\", tools_to_run[0].name)\n",
    "        tool_responses = xpander_agent.run_tools(tool_calls=tools_to_run)\n",
    "        for tool_response in tool_responses:\n",
    "            memory.append({\"role\": \"tool\", \"content\": tool_response.result, \"tool_call_id\": tool_response.tool_call_id})\n",
    "            print(memory[-1])\n",
    "    if (model_response.content):\n",
    "        if \"##FINAL ANSWER##\" in model_response.content:\n",
    "            break\n",
    "    number_of_calls += 1\n",
    "print(model_response.content)   "
   ]
  },
  {
   "cell_type": "code",
   "execution_count": null,
   "metadata": {},
   "outputs": [],
   "source": []
  }
 ],
 "metadata": {
  "kernelspec": {
   "display_name": "Python 3",
   "language": "python",
   "name": "python3"
  },
  "language_info": {
   "codemirror_mode": {
    "name": "ipython",
    "version": 3
   },
   "file_extension": ".py",
   "mimetype": "text/x-python",
   "name": "python",
   "nbconvert_exporter": "python",
   "pygments_lexer": "ipython3",
   "version": "3.12.2"
  }
 },
 "nbformat": 4,
 "nbformat_minor": 2
}
