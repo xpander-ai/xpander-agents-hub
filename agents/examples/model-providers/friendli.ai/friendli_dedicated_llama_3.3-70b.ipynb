{
 "cells": [
  {
   "cell_type": "code",
   "execution_count": null,
   "metadata": {},
   "outputs": [],
   "source": [
    "!pip install -I xpander-sdk openai python-dotenv"
   ]
  },
  {
   "cell_type": "code",
   "execution_count": 2,
   "metadata": {},
   "outputs": [
    {
     "name": "stdout",
     "output_type": "stream",
     "text": [
      "[{'type': 'function', 'function': {'name': 'LinkedInCompanyManagementGetCompanyDetailsByUsername', 'description': \"Retrieves comprehensive information about a company using its LinkedIn username. This operation provides valuable insights into company profiles, including size, industry, and location. If the username isn't provided, run GetCompanyInfoByDomain if you have the company's domain name. Use this to gather detailed company information for business intelligence, partnership opportunities, or competitive analysis.\", 'parameters': {'type': 'object', 'properties': {'bodyParams': {'type': 'object', 'properties': {}, 'required': []}, 'queryParams': {'type': 'object', 'properties': {'username': {'type': 'string', 'description': \"Company's LinkedIn username (e.g., 'google').\"}}, 'required': []}, 'pathParams': {'type': 'object', 'properties': {}, 'required': []}}, 'required': ['bodyParams', 'queryParams', 'pathParams']}}}, {'type': 'function', 'function': {'name': 'PerplexityChatCompletionCreateAIGeneratedResponse', 'description': \"Creates an AI-generated response using the Perplexity chat completion service. If 'model' isn't provided, the default model 'llama-3.1-70b-instruct' is used. This operation is crucial for generating AI responses in various applications. Ensure to provide 'messages' with alternating 'user' and 'assistant' roles, ending with 'user'. The 'max_tokens' parameter controls the response length, while 'temperature' adjusts randomness. Use 'top_k' or 'top_p' for filtering, but not both. 'frequency_penalty' and 'presence_penalty' influence token selection. Set 'stream' for incremental responses. 'return_citations', 'return_images', and 'return_related_questions' are optional features in closed beta. 'search_recency_filter' limits search results timeframe. Common use cases include chatbots, content generation, and question-answering systems. No other operations need to be run before this one, as all required fields can be directly provided or have defaults.\", 'parameters': {'type': 'object', 'properties': {'bodyParams': {'type': 'object', 'properties': {'frequency_penalty': {'type': 'number', 'description': \"A multiplicative penalty greater than 0. Values greater than 1.0 penalize new tokens based on their existing frequency in the text so far, decreasing the model's likelihood to repeat the same line verbatim. A value of 1.0 means no penalty. Incompatible with presence_penalty.\\n\"}, 'max_tokens': {'type': 'integer', 'description': 'The maximum number of completion tokens returned by the API. The total number of tokens requested in max_tokens plus the number of prompt tokens sent in messages must not exceed the context window token limit of model requested. If left unspecified, then the model will generate tokens until either it reaches its stop token or the end of its context window.\\n'}, 'messages': {'type': 'array', 'description': 'A list of messages comprising the conversation so far.', 'items': {'type': 'object', 'properties': {'content': {'type': 'string'}, 'role': {'type': 'string', 'enum': ['system', 'user', 'assistant']}}}}, 'model': {'type': 'string', 'description': 'The name of the model that will complete your prompt. Refer to Supported Models to find all the models offered. if model not provided set the default model \"llama-3.1-70b-instruct\"', 'enum': ['llama-3.1-sonar-small-128k-online', 'llama-3.1-sonar-large-128k-online', 'llama-3.1-sonar-huge-128k-online', 'llama-3.1-sonar-small-128k-chat', 'llama-3.1-sonar-large-128k-chat', 'llama-3.1-8b-instruct', 'llama-3.1-70b-instruct']}, 'presence_penalty': {'type': 'number', 'description': \"A value between -2.0 and 2.0. Positive values penalize new tokens based on whether they appear in the text so far, increasing the model's likelihood to talk about new topics. Incompatible with frequency_penalty.\\n\"}, 'return_citations': {'type': 'boolean', 'description': 'Determines whether or not a request to an online model should return citations. Citations are in closed beta access.\\n'}, 'return_images': {'type': 'boolean', 'description': 'Determines whether or not a request to an online model should return images. Images are in closed beta access.\\n'}, 'return_related_questions': {'type': 'boolean', 'description': 'Determines whether or not a request to an online model should return related questions. Related questions are in closed beta access.\\n'}, 'search_domain_filter': {'type': 'array', 'description': \"Given a list of domains, limit the citations used by the online model to URLs from the specified domains. Currently limited to only 3 domains for whitelisting and blacklisting. For blacklisting add a '-' to the beginning of the domain string.\\n\", 'items': {'type': 'string'}}, 'search_recency_filter': {'type': 'string', 'description': \"Returns search results within the specified time interval—does not apply to images. Values include 'month', 'week', 'day', 'hour'.\\n\"}, 'stream': {'type': 'boolean', 'description': 'Determines whether or not to incrementally stream the response with server-sent events with content-type: text/event-stream.\\n'}, 'temperature': {'type': 'number', 'description': 'The amount of randomness in the response, valued between 0 inclusive and 2 exclusive. Higher values are more random, and lower values are more deterministic.\\n'}, 'top_k': {'type': 'number', 'description': 'The number of tokens to keep for highest top-k filtering, specified as an integer between 0 and 2048 inclusive. If set to 0, top-k filtering is disabled. We recommend either altering top_k or top_p, but not both.\\n'}, 'top_p': {'type': 'number', 'description': 'The nucleus sampling threshold, valued between 0 and 1 inclusive. For each subsequent token, the model considers the results of the tokens with top_p probability mass. We recommend either altering top_k or top_p, but not both.\\n'}}, 'required': ['messages', 'model']}, 'queryParams': {'type': 'object', 'properties': {}, 'required': []}, 'pathParams': {'type': 'object', 'properties': {}, 'required': []}}, 'required': ['bodyParams', 'queryParams', 'pathParams']}}}, {'type': 'function', 'function': {'name': 'LinkedInProfileServiceGetProfileDataByUrl', 'description': \"Fetches detailed LinkedIn profile data using the provided profile URL. This operation is essential for accessing user information when only the profile URL is available. If the URL isn't provided, run SearchProfilesByCriteria if you have the username instead. Use this to gather comprehensive profile details from public LinkedIn profiles when you have the exact profile URL but lack other identifying information.\", 'parameters': {'type': 'object', 'properties': {'bodyParams': {'type': 'object', 'properties': {}, 'required': []}, 'queryParams': {'type': 'object', 'properties': {'url': {'type': 'string', 'description': \"LinkedIn profile URL (e.g., 'https://www.linkedin.com/in/username-linkedinId/').\"}}, 'required': []}, 'pathParams': {'type': 'object', 'properties': {}, 'required': []}}, 'required': ['bodyParams', 'queryParams', 'pathParams']}}}, {'type': 'function', 'function': {'name': 'LinkedInCompanyManagementRetrieveCompanyInsights', 'description': \"Gathers detailed insights about a company, including headcount growth and job openings. This operation provides valuable business intelligence. If the company username isn't provided, run GetCompanyInfoByDomain first to obtain it. Use this for competitive analysis, market research, or to identify potential business opportunities by understanding a company's growth and hiring trends.\", 'parameters': {'type': 'object', 'properties': {'bodyParams': {'type': 'object', 'properties': {}, 'required': []}, 'queryParams': {'type': 'object', 'properties': {'username': {'type': 'string', 'description': \"Company's LinkedIn username (e.g., 'amazon').\"}}, 'required': []}, 'pathParams': {'type': 'object', 'properties': {}, 'required': []}}, 'required': ['bodyParams', 'queryParams', 'pathParams']}}}, {'type': 'function', 'function': {'name': 'CrunchbaseOrganizationSearchAutocompleteByQuery', 'description': \"Fetches a list of organizations related to a search term, returning descriptions and identifiers for each. Use this operation to find organization identifiers when they're not directly available. Common use cases include searching for potential business partners, competitors, or investment targets. If organization_identifier isn't provided for other operations, run CrunchbaseOrganizationSearchAutocompleteByQuery before anything else to find the organization_identifier. This operation requires a query parameter, which is the search term used to find matching organizations. The response includes matching entities with their organization identifiers, names, and short descriptions, making it crucial for initiating workflows that require specific organization details.\", 'parameters': {'type': 'object', 'properties': {'bodyParams': {'type': 'object', 'properties': {}, 'required': []}, 'queryParams': {'type': 'object', 'properties': {'query': {'type': 'string', 'description': 'The search term used to find matching organizations.'}}, 'required': []}, 'pathParams': {'type': 'object', 'properties': {}, 'required': []}}, 'required': ['bodyParams', 'queryParams', 'pathParams']}}}, {'type': 'function', 'function': {'name': 'FirecrawlScrapingServiceExtractWebpageContent', 'description': \"Extracts content from a specified webpage URL. If 'url' isn't provided, run SiteMappingRetrieveWebsiteLinks before anything else to find relevant URLs. Use this operation to gather specific webpage content, perform custom extractions, or prepare data for further analysis. Common use cases include content scraping, data extraction, and website analysis. Supports custom headers, main content extraction, and wait times for JavaScript-heavy pages. Offers LLM-based extraction with custom prompts and schemas for targeted data retrieval. Configurable actions allow interaction with dynamic web elements before content capture.\", 'parameters': {'type': 'object', 'properties': {'bodyParams': {'type': 'object', 'properties': {'actions': {'type': 'array', 'description': 'Actions to perform on the page before grabbing the content', 'items': {'type': 'object', 'properties': {'amount': {'type': 'integer'}, 'direction': {'type': 'string', 'enum': ['up', 'down']}, 'fullPage': {'type': 'boolean'}, 'key': {'type': 'string'}, 'milliseconds': {'type': 'integer'}, 'selector': {'type': 'string'}, 'text': {'type': 'string'}, 'type': {'type': 'string', 'enum': ['wait', 'screenshot', 'click', 'write', 'press', 'scroll']}}}}, 'excludeTags': {'type': 'array', 'description': 'Tags to exclude from the output', 'items': {'type': 'string'}}, 'extract': {'type': 'object', 'description': 'extract', 'properties': {'prompt': {'type': 'string'}, 'schema': {'type': 'object'}, 'systemPrompt': {'type': 'string'}}}, 'formats': {'type': 'array', 'description': 'Formats to include in the output', 'items': {'type': 'string', 'enum': ['markdown', 'html', 'rawHtml', 'links', 'screenshot', 'extract', 'screenshot@fullPage']}}, 'headers': {'type': 'object', 'description': 'Headers to send with the request (e.g., cookies, user-agent)'}, 'includeTags': {'type': 'array', 'description': 'Tags to include in the output', 'items': {'type': 'string'}}, 'location': {'type': 'object', 'description': 'location', 'properties': {'country': {'type': 'string'}, 'languages': {'type': 'array', 'items': {'type': 'string'}}}}, 'onlyMainContent': {'type': 'boolean', 'description': 'Only return the main content of the page excluding headers, navs, footers, etc.'}, 'skipTlsVerification': {'type': 'boolean', 'description': 'Skip TLS certificate verification when making requests'}, 'timeout': {'type': 'integer', 'description': 'Timeout in milliseconds for the request'}, 'url': {'type': 'string', 'description': 'The URL to scrape'}, 'waitFor': {'type': 'integer', 'description': 'Delay in milliseconds before fetching the content, allowing the page sufficient time to load'}}, 'required': ['url']}, 'queryParams': {'type': 'object', 'properties': {}, 'required': []}, 'pathParams': {'type': 'object', 'properties': {}, 'required': []}}, 'required': ['bodyParams', 'queryParams', 'pathParams']}}}, {'type': 'function', 'function': {'name': 'tavily-insights-fetchInsightsFromTavilyAI', 'description': \"Retrieves AI-generated insights Tavily AI based provided query. 'query' provided, use fetchLatestNewsUsingCurrentsAPI generate relevant queries. Use 4 in-depth analysis information synthesis. Common uses: research assistance, trend analysis, generating comprehensive reports specific topics.\", 'parameters': {'type': 'object', 'properties': {'bodyParams': {'type': 'object', 'properties': {'exclude_domains': {'type': 'array', 'description': 'exclude_domains', 'items': {'type': 'string'}}, 'include_answer': {'type': 'boolean', 'description': 'Include the answer in the response. Default is False.'}, 'include_domains': {'type': 'array', 'description': 'A list of domains to specifically include in the search results. Default is None, which includes all domains.', 'items': {'type': 'string'}}, 'include_images': {'type': 'boolean', 'description': 'Include a list of query-related images in the response. Default is False.'}, 'include_raw_content': {'type': 'boolean', 'description': 'include_raw_content'}, 'max_results': {'type': 'integer', 'description': 'max_results'}, 'query': {'type': 'string', 'description': 'query'}, 'search_depth': {'type': 'string', 'description': 'The depth of the search. It can be \"basic\" or \"advanced\". Default is \"basic\" unless specified otherwise in a given method.'}}, 'required': ['query']}, 'queryParams': {'type': 'object', 'properties': {}, 'required': []}, 'pathParams': {'type': 'object', 'properties': {}, 'required': []}}, 'required': ['bodyParams', 'queryParams', 'pathParams']}}}, {'type': 'function', 'function': {'name': 'LinkedInCompanyManagementGetCompanyInfoByDomain', 'description': \"Obtains company information based on its domain name. This operation is useful when only the company's website is known. If the domain isn't provided, run GetCompanyDetailsByUsername if you know the company's LinkedIn username. Use this to gather company details for business research, lead generation, or competitive analysis when you have the company's website but lack other identifying information.\", 'parameters': {'type': 'object', 'properties': {'bodyParams': {'type': 'object', 'properties': {}, 'required': []}, 'queryParams': {'type': 'object', 'properties': {'domain': {'type': 'string', 'description': \"Company's domain name (e.g., 'apple.com').\"}}, 'required': []}, 'pathParams': {'type': 'object', 'properties': {}, 'required': []}}, 'required': ['bodyParams', 'queryParams', 'pathParams']}}}, {'type': 'function', 'function': {'name': 'LinkedInCompanyManagementGetTotalEmployeesCount', 'description': \"Retrieves the total number of employees in a company. This operation provides a quick overview of company size. If the company ID isn't provided, run GetCompanyDetailsByUsername first to obtain it. Use this to assess company growth, compare company sizes, or validate company information when you need a precise employee count.\", 'parameters': {'type': 'object', 'properties': {'bodyParams': {'type': 'object', 'properties': {'companyId': {'type': 'string', 'description': 'The unique identifier of the company'}}, 'required': ['companyId']}, 'queryParams': {'type': 'object', 'properties': {}, 'required': []}, 'pathParams': {'type': 'object', 'properties': {}, 'required': []}}, 'required': ['bodyParams', 'queryParams', 'pathParams']}}}]\n"
     ]
    }
   ],
   "source": [
    "from xpander_sdk import XpanderClient\n",
    "from openai import OpenAI\n",
    "from dotenv import load_dotenv\n",
    "import os\n",
    "from IPython.display import Markdown\n",
    "\n",
    "## Load environment variables\n",
    "load_dotenv()\n",
    "friendli_client = OpenAI(\n",
    "    base_url=\"https://api.friendli.ai/dedicated\",\n",
    "    api_key=os.environ.get(\"FRIENDLI_TOKEN\")\n",
    ")\n",
    "\n",
    "xpanderAPIKey = os.environ.get(\"XPANDER_API_KEY\",\"\")\n",
    "xpanderAgentID = os.environ.get(\"XPANDER_AGENT_ID\", \"\")\n",
    "\n",
    "\n",
    "xpander_client = XpanderClient(api_key=xpanderAPIKey)\n",
    "xpander_agent = xpander_client.agents.get(agent_id=xpanderAgentID)\n",
    "\n",
    "tools = xpander_agent.retrieve_all_graph_tools()\n",
    "print(tools)\n"
   ]
  },
  {
   "cell_type": "code",
   "execution_count": 3,
   "metadata": {},
   "outputs": [
    {
     "name": "stdout",
     "output_type": "stream",
     "text": [
      "ChatCompletionMessage(content='Hello. What can I help you with today? Do you have any questions, need information on a particular topic, or is there something else I can assist you with?', refusal=None, role='assistant', audio=None, function_call=None, tool_calls=None)\n"
     ]
    }
   ],
   "source": [
    "# verify the friendli client is working\n",
    "completion = friendli_client.chat.completions.create(\n",
    "    model=\"meta-llama-3.1-8b-instruct\",\n",
    "    messages=[\n",
    "        {\"role\": \"system\", \"content\": \"You are a helpful assistant.\"},\n",
    "        {\"role\": \"user\", \"content\": \"Hello!\"}\n",
    "    ]\n",
    ")\n",
    "print(completion.choices[0].message)"
   ]
  },
  {
   "cell_type": "code",
   "execution_count": 6,
   "metadata": {},
   "outputs": [
    {
     "name": "stdout",
     "output_type": "stream",
     "text": [
      "{'role': 'user', 'content': 'Send hi to C08628AHP9C channel'}\n",
      "ChatCompletionMessage(content=None, refusal=None, role='assistant', audio=None, function_call=None, tool_calls=[ChatCompletionMessageToolCall(id='call_WcYhGOR0FfuSpHRnTfBBbHGO', function=Function(arguments='{\"bodyParams\": {\"channel\": \"C08628AHP9C\", \"text\": \"hi\", \"unfurl_links\": false, \"unfurl_media\": false, \"username\": \"hi-bot\"}, \"queryParams\": {}, \"pathParams\": {}}', name='SlackMessageSendingSendMessageToChannel'), type='function')])\n",
      "model decided to invoke tools\n",
      "SlackMessageSendingSendMessageToChannel\n",
      "tool response for SlackMessageSendingSendMessageToChannel 200\n",
      "ChatCompletionMessage(content=None, refusal=None, role='assistant', audio=None, function_call=None, tool_calls=[ChatCompletionMessageToolCall(id='call_ensF5YRlPmjnnEKPjld7nx9r', function=Function(arguments='{\"bodyParams\": {\"channel\": \"C08628AHP9C\", \"text\": \"hi\", \"username\": \"My Slack Bot\"}, \"queryParams\": {}, \"pathParams\": {}}', name='SlackMessageSendingSendMessageToChannel'), type='function')])\n",
      "model decided to invoke tools\n",
      "SlackMessageSendingSendMessageToChannel\n",
      "tool response for SlackMessageSendingSendMessageToChannel 200\n",
      "ChatCompletionMessage(content='##FINAL ANSWER##', refusal=None, role='assistant', audio=None, function_call=None, tool_calls=None)\n",
      "##FINAL ANSWER##\n"
     ]
    }
   ],
   "source": [
    "memory = [{\"role\": \"system\", \"content\": \"You are a helpful assistant. You are running in While True Loop, the response to your tools are available, once you have completed the user request add ##FINAL ANSWER## in your reply without further function calling\"},\n",
    "          {\"role\": \"user\", \"content\": \"Send hi to C08628AHP9C channel\"}]\n",
    "print(memory[-1])\n",
    "number_of_calls = 1\n",
    "while True:\n",
    "    tools = xpander_agent.retrieve_all_graph_tools()\n",
    "    llm_response = friendli_client.chat.completions.create(\n",
    "        model=\"meta-llama-3.1-70b-instruct\",\n",
    "        messages=memory,\n",
    "        tools=tools\n",
    "        )\n",
    "    memory.append({\"role\": \"assistant\", \"content\": f'Step number: {number_of_calls}'})\n",
    "    model_response = llm_response.choices[0].message\n",
    "    print(model_response)\n",
    "    memory.append({\"role\": \"assistant\", \"content\": model_response.content})\n",
    "    if model_response.tool_calls:\n",
    "        print(\"model decided to invoke tools\")\n",
    "        tools_to_run = XpanderClient.extract_tool_calls(llm_response=llm_response.model_dump())\n",
    "        for tool in tools_to_run: \n",
    "            print(tool.name)\n",
    "        tool_responses = xpander_agent.run_tools(tool_calls=tools_to_run)\n",
    "        for tool_response in tool_responses:\n",
    "            print(\"tool response for\", tool_response.function_name, tool_response.status_code)\n",
    "            memory.append({\"role\": \"tool\", \"content\": tool_response.result, \"tool_call_id\": tool_response.tool_call_id})\n",
    "    if (model_response.content):\n",
    "        if \"##FINAL ANSWER##\" in model_response.content:\n",
    "            break\n",
    "    number_of_calls += 1\n",
    "print(model_response.content)   "
   ]
  }
 ],
 "metadata": {
  "kernelspec": {
   "display_name": ".venv",
   "language": "python",
   "name": "python3"
  },
  "language_info": {
   "codemirror_mode": {
    "name": "ipython",
    "version": 3
   },
   "file_extension": ".py",
   "mimetype": "text/x-python",
   "name": "python",
   "nbconvert_exporter": "python",
   "pygments_lexer": "ipython3",
   "version": "3.12.8"
  }
 },
 "nbformat": 4,
 "nbformat_minor": 2
}
