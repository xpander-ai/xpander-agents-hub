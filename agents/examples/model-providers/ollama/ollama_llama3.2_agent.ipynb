{
 "cells": [
  {
   "cell_type": "markdown",
   "id": "83c6497b",
   "metadata": {},
   "source": [
    "# Testing Ollama with xpander.ai’s Function Calling"
   ]
  },
  {
   "cell_type": "code",
   "execution_count": null,
   "id": "aed9ee16",
   "metadata": {
    "vscode": {
     "languageId": "shellscript"
    }
   },
   "outputs": [],
   "source": [
    "pip install ollama \n",
    "pip install xpander-sdk"
   ]
  },
  {
   "cell_type": "code",
   "execution_count": 1,
   "id": "bff4194b",
   "metadata": {},
   "outputs": [],
   "source": [
    "from xpander_sdk import XpanderClient\n",
    "import ollama\n",
    "## Load environment variables\n",
    "from dotenv import load_dotenv\n",
    "import os\n",
    "load_dotenv()\n",
    "xpanderAPIKey = os.environ.get(\"XPANDER_API_KEY\",\"\")\n",
    "xpanderAgentID = os.environ.get(\"XPANDER_AGENT_ID\", \"\")\n",
    "ollama_client = ollama.Client()\n",
    "xpander_client = XpanderClient(api_key=xpanderAPIKey)\n",
    "agent1 = xpander_client.agents.get(agent_id=xpanderAgentID)"
   ]
  },
  {
   "cell_type": "code",
   "execution_count": 2,
   "id": "203b8b13",
   "metadata": {},
   "outputs": [
    {
     "name": "stdout",
     "output_type": "stream",
     "text": [
      "The sky appears blue because of a phenomenon called Rayleigh scattering, named after the British physicist Lord Rayleigh. When sunlight enters Earth's atmosphere, it encounters tiny molecules of gases such as nitrogen and oxygen. These molecules scatter the light in all directions, but they scatter shorter (blue) wavelengths more than longer (red) wavelengths.\n",
      "\n",
      "This is why the sky typically appears blue during the daytime, especially in the direction of the sun. Here's a simplified explanation:\n",
      "\n",
      "1. **Sunlight enters the atmosphere**: Sunlight, which contains all the colors of the visible spectrum, enters Earth's atmosphere.\n",
      "2. **Scattering by molecules**: The sunlight encounters tiny molecules of gases, such as nitrogen (N2) and oxygen (O2), in the atmosphere.\n",
      "3. **Rayleigh scattering**: These molecules scatter the light in all directions, but they scatter shorter wavelengths more than longer wavelengths. This is because smaller molecules are more effective at scattering shorter wavelengths.\n",
      "4. **Blue light dominates**: As a result of Rayleigh scattering, blue light is scattered more than any other color, making it the dominant wavelength in the sky.\n",
      "5. **Our eyes perceive the blue**: When we look up at the sky, our eyes detect the scattered blue light and interpret it as the color of the sky.\n",
      "\n",
      "It's worth noting that this phenomenon only occurs when the sun is overhead or in a position above the horizon, resulting in a bright blue sky during the daytime. At sunrise and sunset, the sky often appears more red or orange due to other atmospheric effects, such as scattering by dust particles and water vapor.\n",
      "\n",
      "So, to summarize: the sky is blue because of the scattering of sunlight by tiny molecules in the atmosphere, which scatters shorter (blue) wavelengths more than longer (red) wavelengths.\n"
     ]
    }
   ],
   "source": [
    "# Verify that you have ollama installed locally and can get responses before moving on\n",
    "response = ollama_client.chat(model='llama3.2', messages=[\n",
    "  {\n",
    "    'role': 'user',\n",
    "    'content': 'Why is the sky blue?',\n",
    "  },\n",
    "])\n",
    "print(response['message']['content'])"
   ]
  },
  {
   "cell_type": "code",
   "execution_count": 3,
   "id": "7622d13c",
   "metadata": {},
   "outputs": [
    {
     "name": "stdout",
     "output_type": "stream",
     "text": [
      "[{'type': 'function', 'function': {'name': 'PgCrunchbaseLinkedInPerplexityDataEnrichment', 'description': \"This operation enriches company data by integrating information from LinkedIn, Crunchbase, and Perplexity. Use it for comprehensive company analysis, retrieving employee details, or gathering the latest news and trends related to a specific company like Nvidia. It's particularly useful for market researchers, analysts, and business developers looking to enhance their understanding of a company's profile. IMPORTANT! Ensure to use body_params, query_params, path_params. These are crucial for correct function calling!\", 'parameters': {'type': 'object', 'properties': {'queryParams': {'type': 'object', 'properties': {}, 'required': []}, 'pathParams': {'type': 'object', 'properties': {}, 'required': []}, 'bodyParams': {'type': 'object', 'properties': {'inputTask': {'type': 'string', 'description': 'input user sub task based on the input query'}}, 'required': []}}, 'required': ['query_params', 'path_params', 'body_params']}}}]\n"
     ]
    }
   ],
   "source": [
    "print(agent1.get_tools())"
   ]
  },
  {
   "cell_type": "code",
   "execution_count": 6,
   "id": "initial_id",
   "metadata": {
    "collapsed": true
   },
   "outputs": [
    {
     "name": "stdout",
     "output_type": "stream",
     "text": [
      "{'role': 'system', 'content': 'You are a helpful assistant with function calling and tool access. you are running in While loop if you want to stop the loop please add ##FINAL ANSWER## in your answer'}\n",
      "{'role': 'user', 'content': 'Get news about qwen2.5-coder from HackerNews'}\n",
      "{'role': 'assistant', 'content': 'Step number: 1'}\n",
      "{'role': 'assistant', 'content': '', 'tool_calls': [{'function': {'name': 'NotionContentSearchSearchPagesAndDatabases', 'arguments': {'bodyParams': \"{'query': 'qwen2.5-coder'}\", 'pathParams': 'None', 'queryParams': 'None'}}}]}\n",
      "[{'function': {'name': 'NotionContentSearchSearchPagesAndDatabases', 'arguments': {'bodyParams': \"{'query': 'qwen2.5-coder'}\", 'pathParams': 'None', 'queryParams': 'None'}}}]\n",
      "[<xpander_sdk.ToolCall object at 0x1079bc590>]\n",
      "{'role': 'tool', 'content': 'Error: Error: {\"detail\":\"error(400): {\\\\\"object\\\\\":\\\\\"error\\\\\",\\\\\"status\\\\\":400,\\\\\"code\\\\\":\\\\\"validation_error\\\\\",\\\\\"message\\\\\":\\\\\"query failed validation. Fix one:\\\\\\\\nquery.0 should be not present, instead was `\\\\\\\\\\\\\"N\\\\\\\\\\\\\"`.\\\\\\\\nquery.1 should be not present, instead was `\\\\\\\\\\\\\"o\\\\\\\\\\\\\"`.\\\\\\\\nquery.2 should be not present, instead was `\\\\\\\\\\\\\"n\\\\\\\\\\\\\"`.\\\\\\\\nquery.3 should be not present, instead was `\\\\\\\\\\\\\"e\\\\\\\\\\\\\"`.\\\\\",\\\\\"request_id\\\\\":\\\\\"9b2d0877-b079-4869-8aca-06691ffa82e6\\\\\"}\"}', 'tool_call_id': ''}\n",
      "{'role': 'assistant', 'content': 'Step number: 2'}\n",
      "{'role': 'assistant', 'content': '##FINAL ANSWER##\\n\\nIt seems that I couldn\\'t find any news about \"qwen2.5-coder\" from HackerNews. The search query might be incorrect or not found in the database.\\n\\nHowever, I can suggest some alternatives to find the information you\\'re looking for:\\n\\n1. Check if the name is misspelled or incorrect.\\n2. Use a different search query or phrase.\\n3. Look for news articles on other websites or platforms.\\n\\nIf you have any further questions or need help with anything else, feel free to ask!'}\n",
      "##FINAL ANSWER##\n",
      "\n",
      "It seems that I couldn't find any news about \"qwen2.5-coder\" from HackerNews. The search query might be incorrect or not found in the database.\n",
      "\n",
      "However, I can suggest some alternatives to find the information you're looking for:\n",
      "\n",
      "1. Check if the name is misspelled or incorrect.\n",
      "2. Use a different search query or phrase.\n",
      "3. Look for news articles on other websites or platforms.\n",
      "\n",
      "If you have any further questions or need help with anything else, feel free to ask!\n"
     ]
    }
   ],
   "source": [
    "memory = []\n",
    "memory.append({\"role\": \"system\", \"content\": \"You are a helpful assistant with function calling and tool access. you are running in While loop if you want to stop the loop please add ##FINAL ANSWER## in your answer\"})\n",
    "print(memory[-1])\n",
    "memory.append({\"role\": \"user\", \"content\": \"Get news about qwen2.5-coder from HackerNews\"})\n",
    "print(memory[-1])\n",
    "number_of_calls = 1\n",
    "from xpander_sdk import LLMProvider\n",
    "\n",
    "while True:\n",
    "    llm_response = ollama_client.chat(\n",
    "        model=\"llama3.2\",\n",
    "        messages=memory,\n",
    "        tools=agent1.get_tools()    \n",
    "    )\n",
    "    memory.append({\"role\": \"assistant\", \"content\": f'Step number: {number_of_calls}'})\n",
    "    print(memory[-1])\n",
    "\n",
    "    memory.append(llm_response['message'])\n",
    "    print(memory[-1])\n",
    "    if llm_response['message'].get('tool_calls'):\n",
    "        print(llm_response['message'].get('tool_calls'))\n",
    "        tools_to_run = XpanderClient.extract_tool_calls(llm_response=llm_response,llm_provider=LLMProvider.OLLAMA)\n",
    "        print(tools_to_run)\n",
    "        tool_responses = agent1.run_tools(tool_calls=tools_to_run)\n",
    "        for tool_response in tool_responses:\n",
    "            memory.append({\"role\": \"tool\", \"content\": tool_response.result, \"tool_call_id\": tool_response.tool_call_id})\n",
    "            print(memory[-1])\n",
    "    if (llm_response['message'].get('content')):\n",
    "        if \"##FINAL ANSWER##\" in llm_response['message']['content']:\n",
    "            break\n",
    "    number_of_calls += 1\n",
    "print(llm_response['message']['content'])"
   ]
  },
  {
   "cell_type": "markdown",
   "id": "2b97b86f",
   "metadata": {},
   "source": [
    "Known errors\n",
    "\n",
    "While testing smaller LLMs for function calling, the following response was generated:\n",
    "\n",
    "```json\n",
    "{\n",
    "  \"model\": \"qwen2.5-coder\",\n",
    "  \"created_at\": \"2024-11-15T22:15:25.093541Z\",\n",
    "  \"message\": {\n",
    "    \"role\": \"assistant\",\n",
    "    \"content\": \"\",\n",
    "    \"tool_calls\": [\n",
    "      {\n",
    "        \"function\": {\n",
    "          \"name\": \"NotionContentSearchSearchPagesAndDatabases\",\n",
    "          \"arguments\": {\n",
    "            \"bodyParams\": {},\n",
    "            \"pathParams\": {},\n",
    "            \"queryParams\": {\"query\": \"Qwen-2.5-Coder\"}\n",
    "          }\n",
    "        }\n",
    "      }\n",
    "    ]\n",
    "  },\n",
    "  \"done_reason\": \"stop\",\n",
    "  \"done\": true,\n",
    "  \"total_duration\": 4773907500,\n",
    "  \"load_duration\": 29168833,\n",
    "  \"prompt_eval_count\": 316,\n",
    "  \"prompt_eval_duration\": 211000000,\n",
    "  \"eval_count\": 123,\n",
    "  \"eval_duration\": 4525000000\n",
    "}\n",
    "```\n",
    "\n",
    "However, this output violates the defined function calling schema, as shown below:\n",
    "\n",
    "```json\n",
    "[\n",
    "  {\n",
    "    \"type\": \"function\",\n",
    "    \"function\": {\n",
    "      \"name\": \"NotionContentSearchSearchPagesAndDatabases\",\n",
    "      \"description\": \"Searches pages and databases across the Notion workspace...\",\n",
    "      \"parameters\": {\n",
    "        \"type\": \"object\",\n",
    "        \"properties\": {\n",
    "          \"bodyParams\": { \"type\": \"object\", \"properties\": { ... } },\n",
    "          \"queryParams\": { \"type\": \"object\", \"properties\": {}, \"required\": [] },\n",
    "          \"pathParams\": { \"type\": \"object\", \"properties\": {}, \"required\": [] }\n",
    "        },\n",
    "        \"required\": [\"bodyParams\", \"queryParams\", \"pathParams\"]\n",
    "      }\n",
    "    }\n",
    "  }\n",
    "]\n",
    "```\n",
    "\n",
    "Key Issues Observed\n",
    "\n",
    "1.\tIncomplete Required Parameters:\n",
    "\t•\tThe schema mandates that bodyParams, queryParams, and pathParams must be populated and valid.\n",
    "\t•\tIn the LLM response:\n",
    "\t•\tbodyParams is an empty object ({}) with no filters, sorting, or pagination fields.\n",
    "\t•\tpathParams is also empty, violating the schema requirement.\n",
    "\t•\tOnly queryParams contains a single field (query), which is insufficient for the intended functionality.\n",
    "2.\tSchema Validation Failure:\n",
    "\t•\tThe response does not conform to the schema’s required directive, which specifies: `\"required\": [\"bodyParams\", \"queryParams\", \"pathParams\"]` While the fields exist, they are effectively invalid because they lack necessary data.\n"
   ]
  },
  {
   "cell_type": "markdown",
   "id": "bfde3b82",
   "metadata": {},
   "source": [
    "# Summary\n",
    "\n",
    "Implications for Testing Smaller Models\n",
    "\n",
    "When evaluating smaller LLMs for function calling, this bug highlights several challenges:\n",
    "1. Lack of Contextual Understanding:\n",
    "   - Smaller models may struggle to fully comprehend and populate complex schemas, especially when required fields have nested structures or multiple interdependent parameters.\n",
    "2.\tLimited Parameter Generation Capability:\n",
    "\t•\tThese models may fail to infer the importance of fields like filter or sort, defaulting to minimalistic responses (e.g., only populating queryParams)."
   ]
  }
 ],
 "metadata": {
  "kernelspec": {
   "display_name": ".venv",
   "language": "python",
   "name": "python3"
  },
  "language_info": {
   "codemirror_mode": {
    "name": "ipython",
    "version": 3
   },
   "file_extension": ".py",
   "mimetype": "text/x-python",
   "name": "python",
   "nbconvert_exporter": "python",
   "pygments_lexer": "ipython3",
   "version": "3.12.7"
  }
 },
 "nbformat": 4,
 "nbformat_minor": 5
}
