{
 "cells": [
  {
   "cell_type": "markdown",
   "metadata": {},
   "source": [
    "# xpander.ai single agent using local tools for mathematics calculations combined with OpenAI"
   ]
  },
  {
   "cell_type": "code",
   "execution_count": 1,
   "metadata": {},
   "outputs": [
    {
     "data": {
      "text/plain": [
       "True"
      ]
     },
     "execution_count": 1,
     "metadata": {},
     "output_type": "execute_result"
    }
   ],
   "source": [
    "from xpander_sdk import XpanderClient, ToolCallResult\n",
    "from openai import OpenAI\n",
    "from dotenv import load_dotenv\n",
    "from os import environ\n",
    "\n",
    "load_dotenv()\n"
   ]
  },
  {
   "cell_type": "code",
   "execution_count": 2,
   "metadata": {},
   "outputs": [],
   "source": [
    "OPENAI_API_KEY = environ[\"OPENAI_API_KEY\"]\n",
    "XPANDER_API_KEY = environ[\"XPANDER_API_KEY\"]\n",
    "XPANDER_AGENT_ID = environ[\"XPANDER_AGENT_ID\"]"
   ]
  },
  {
   "cell_type": "markdown",
   "metadata": {},
   "source": [
    "## Initialize xpander.ai Client"
   ]
  },
  {
   "cell_type": "code",
   "execution_count": 3,
   "metadata": {},
   "outputs": [],
   "source": [
    "xpander_client = XpanderClient(api_key=XPANDER_API_KEY)"
   ]
  },
  {
   "cell_type": "markdown",
   "metadata": {},
   "source": [
    "## Initialize OpenAI Client"
   ]
  },
  {
   "cell_type": "code",
   "execution_count": 4,
   "metadata": {},
   "outputs": [],
   "source": [
    "openai_client = OpenAI(api_key=OPENAI_API_KEY)"
   ]
  },
  {
   "cell_type": "markdown",
   "metadata": {},
   "source": [
    "## Load agent"
   ]
  },
  {
   "cell_type": "code",
   "execution_count": 5,
   "metadata": {},
   "outputs": [
    {
     "name": "stderr",
     "output_type": "stream",
     "text": [
      "b'{\"stdout\":\"bG9hZGluZyBhZ2VudCA5MDM2YjEzZC01ZGNjLTRjNjYtOGMyYy05ZDc1MmMzOWM2Y2UK\"}\\n'\n",
      "b'{\"stdout\":\"cnVubmluZyB0b29sIHNxdWFyZSBvbiBhZ2VudCA5MDM2YjEzZC01ZGNjLTRjNjYtOGMyYy05ZDc1MmMzOWM2Y2Ugd2l0aCBleGVjdXRpb24gZTJkNjFjNGMtNTdiMC00MGY1LWFiYzItMDdiMTEwN2UxMzk3Cg==\"}\\n'\n",
      "b'{\"stdout\":\"cnVubmluZyB0b29sIHNxdWFyZSBvbiBhZ2VudCA5MDM2YjEzZC01ZGNjLTRjNjYtOGMyYy05ZDc1MmMzOWM2Y2Ugd2l0aCBleGVjdXRpb24gZTJkNjFjNGMtNTdiMC00MGY1LWFiYzItMDdiMTEwN2UxMzk3Cg==\"}\\n'\n",
      "b'{\"stdout\":\"cnVubmluZyB0b29sIGFkZCBvbiBhZ2VudCA5MDM2YjEzZC01ZGNjLTRjNjYtOGMyYy05ZDc1MmMzOWM2Y2Ugd2l0aCBleGVjdXRpb24gZTJkNjFjNGMtNTdiMC00MGY1LWFiYzItMDdiMTEwN2UxMzk3Cg==\"}\\n'\n",
      "b'{\"stdout\":\"cnVubmluZyB0b29sIHhwZmluaXNoLWFnZW50LWV4ZWN1dGlvbi1maW5pc2hlZCBvbiBhZ2VudCA5MDM2YjEzZC01ZGNjLTRjNjYtOGMyYy05ZDc1MmMzOWM2Y2Ugd2l0aCBleGVjdXRpb24gZTJkNjFjNGMtNTdiMC00MGY1LWFiYzItMDdiMTEwN2UxMzk3Cg==\"}\\n'\n"
     ]
    }
   ],
   "source": [
    "agent = xpander_client.agents.get(agent_id=XPANDER_AGENT_ID)"
   ]
  },
  {
   "cell_type": "markdown",
   "metadata": {},
   "source": [
    "## Create local tools"
   ]
  },
  {
   "cell_type": "code",
   "execution_count": 6,
   "metadata": {},
   "outputs": [],
   "source": [
    "# local tools declerations\n",
    "def multiply(a: int, b: int) -> int:\n",
    "    \"\"\"Multiply two integers and returns the result integer\"\"\"\n",
    "    return a * b\n",
    "\n",
    "def add(a: int, b: int) -> int:\n",
    "    \"\"\"Add two integers and returns the result integer\"\"\"\n",
    "    return a + b\n",
    "\n",
    "def square(a: int) -> int:\n",
    "    \"\"\"Multiply a by itself and returns the result integer\"\"\"\n",
    "    return a*a\n",
    "\n",
    "# store the local tools as an array\n",
    "local_tools = [\n",
    "    {\n",
    "        \"declaration\": {\n",
    "            \"type\": \"function\",\n",
    "            \"function\": {\n",
    "                \"name\": \"multiply\",\n",
    "                \"description\": \"Multiply two integers and returns the result integer\",\n",
    "                \"parameters\": {\n",
    "                    \"type\": \"object\",\n",
    "                    \"properties\": {\n",
    "                        \"a\": {\n",
    "                            \"type\": \"integer\",\n",
    "                            \"description\": \"First integer to multiply\"\n",
    "                        },\n",
    "                        \"b\": {\n",
    "                            \"type\": \"integer\",\n",
    "                            \"description\": \"Second integer to multiply\"\n",
    "                        }\n",
    "                    },\n",
    "                    \"required\": [\"a\", \"b\"]\n",
    "                }\n",
    "            }\n",
    "        },\n",
    "        \"fn\": multiply\n",
    "    },\n",
    "    {\n",
    "        \"declaration\": {\n",
    "            \"type\": \"function\",\n",
    "            \"function\": {\n",
    "                \"name\": \"add\",\n",
    "                \"description\": \"Add two integers and returns the result integer\",\n",
    "                \"parameters\": {\n",
    "                    \"type\": \"object\",\n",
    "                    \"properties\": {\n",
    "                        \"a\": {\n",
    "                            \"type\": \"integer\",\n",
    "                            \"description\": \"First integer to add\"\n",
    "                        },\n",
    "                        \"b\": {\n",
    "                            \"type\": \"integer\",\n",
    "                            \"description\": \"Second integer to add\"\n",
    "                        }\n",
    "                    },\n",
    "                    \"required\": [\"a\", \"b\"]\n",
    "                }\n",
    "            }\n",
    "        },\n",
    "        \"fn\": add\n",
    "    },\n",
    "    {\n",
    "        \"declaration\": {\n",
    "            \"type\": \"function\",\n",
    "            \"function\": {\n",
    "                \"name\": \"square\",\n",
    "                \"description\": \"Multiply a by itself and returns the result integer\",\n",
    "                \"parameters\": {\n",
    "                    \"type\": \"object\",\n",
    "                    \"properties\": {\n",
    "                        \"a\": {\n",
    "                            \"type\": \"integer\",\n",
    "                            \"description\": \"Integer to square\"\n",
    "                        }\n",
    "                    },\n",
    "                    \"required\": [\"a\"]\n",
    "                }\n",
    "            }\n",
    "        },\n",
    "        \"fn\": square\n",
    "    }\n",
    "]\n",
    "\n",
    "local_tools_list = [tool['declaration'] for tool in local_tools] # helper\n",
    "local_tools_by_name = {} # helper\n",
    "\n",
    "for tool in local_tools:\n",
    "    local_tools_by_name[tool['declaration']['function']['name']] = tool['fn']\n"
   ]
  },
  {
   "cell_type": "markdown",
   "metadata": {},
   "source": [
    "## Attach the local tools to the agent"
   ]
  },
  {
   "cell_type": "code",
   "execution_count": 7,
   "metadata": {},
   "outputs": [],
   "source": [
    "agent.add_local_tools(local_tools_list)"
   ]
  },
  {
   "cell_type": "markdown",
   "metadata": {},
   "source": [
    "## Invoke the agent with query and create an execution task"
   ]
  },
  {
   "cell_type": "code",
   "execution_count": 8,
   "metadata": {},
   "outputs": [
    {
     "data": {
      "text/plain": [
       "<xpander_sdk.Execution at 0x11ce9fec0>"
      ]
     },
     "execution_count": 8,
     "metadata": {},
     "output_type": "execute_result"
    }
   ],
   "source": [
    "agent.add_task(\"\"\"\n",
    "What is the square of 14 + the square of 12? Calculate step by step\n",
    "\"\"\")"
   ]
  },
  {
   "cell_type": "markdown",
   "metadata": {},
   "source": [
    "## Init the agent's memory with input (query) and instructions"
   ]
  },
  {
   "cell_type": "code",
   "execution_count": 9,
   "metadata": {},
   "outputs": [],
   "source": [
    "agent.memory.init_messages(input=agent.execution.input_message,instructions=agent.instructions)"
   ]
  },
  {
   "cell_type": "markdown",
   "metadata": {},
   "source": [
    "## Run the agent and wait for result"
   ]
  },
  {
   "cell_type": "code",
   "execution_count": 10,
   "metadata": {},
   "outputs": [],
   "source": [
    "while not agent.is_finished():\n",
    "    response = openai_client.chat.completions.create(\n",
    "                model= \"gpt-4o\",\n",
    "                messages=agent.messages,\n",
    "                tools=agent.get_tools(),\n",
    "                tool_choice=agent.tool_choice,\n",
    "                temperature=0.0\n",
    "        )\n",
    "            \n",
    "    # add messages directly from the LLM response\n",
    "    agent.add_messages(response.model_dump())\n",
    "    \n",
    "    # extract tool calls from the LLM response\n",
    "    tool_calls = XpanderClient.extract_tool_calls(llm_response=response.model_dump())\n",
    "    # run tools\n",
    "    agent.run_tools(tool_calls=tool_calls)\n",
    "    \n",
    "    # extract pending local tools executions\n",
    "    pending_local_tool_execution = XpanderClient.retrieve_pending_local_tool_calls(tool_calls=tool_calls)\n",
    "    local_tools_results = []\n",
    "    \n",
    "    # iterate local tools and run them\n",
    "    for tc in pending_local_tool_execution:\n",
    "        # create result\n",
    "        tool_call_result = ToolCallResult(function_name=tc.name,tool_call_id=tc.tool_call_id,payload=tc.payload)\n",
    "        try:\n",
    "            if tc.name in local_tools_by_name:\n",
    "                tool_call_result.is_success = True\n",
    "                tool_call_result.result = local_tools_by_name[tc.name](**tc.payload)\n",
    "            else:\n",
    "                raise Exception(f\"Local Tool {tc.name} not found!\")\n",
    "        except Exception as e:\n",
    "            tool_call_result.is_success = False\n",
    "            tool_call_result.is_error = True\n",
    "            tool_call_result.result = str(e)\n",
    "        finally:\n",
    "            local_tools_results.append(tool_call_result)\n",
    "    \n",
    "    # report the execution result to the memory\n",
    "    if len(local_tools_results) != 0:\n",
    "        agent.memory.add_tool_call_results(tool_call_results=local_tools_results)"
   ]
  },
  {
   "cell_type": "markdown",
   "metadata": {},
   "source": [
    "## Fetch & print the agent execution result"
   ]
  },
  {
   "cell_type": "code",
   "execution_count": 11,
   "metadata": {},
   "outputs": [
    {
     "name": "stdout",
     "output_type": "stream",
     "text": [
      "status ExecutionStatus.COMPLETED\n",
      "result The square of 14 is 196 and the square of 12 is 144. Adding these together gives 340.\n"
     ]
    }
   ],
   "source": [
    "execution_result = agent.retrieve_execution_result()\n",
    "\n",
    "print(\"status\", execution_result.status)\n",
    "print(\"result\", execution_result.result)"
   ]
  }
 ],
 "metadata": {
  "kernelspec": {
   "display_name": ".venv",
   "language": "python",
   "name": "python3"
  },
  "language_info": {
   "codemirror_mode": {
    "name": "ipython",
    "version": 3
   },
   "file_extension": ".py",
   "mimetype": "text/x-python",
   "name": "python",
   "nbconvert_exporter": "python",
   "pygments_lexer": "ipython3",
   "version": "3.12.7"
  }
 },
 "nbformat": 4,
 "nbformat_minor": 2
}
