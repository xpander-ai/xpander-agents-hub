{
 "cells": [
  {
   "cell_type": "markdown",
   "metadata": {},
   "source": [
    "# xpander.ai single agent using local tools for mathematics calculations combined with OpenAI"
   ]
  },
  {
   "cell_type": "code",
   "execution_count": 1,
   "metadata": {},
   "outputs": [
    {
     "data": {
      "text/plain": [
       "True"
      ]
     },
     "execution_count": 1,
     "metadata": {},
     "output_type": "execute_result"
    }
   ],
   "source": [
    "from xpander_sdk import XpanderClient, ToolCallResult\n",
    "from openai import OpenAI\n",
    "from dotenv import load_dotenv\n",
    "from os import environ\n",
    "\n",
    "load_dotenv()\n"
   ]
  },
  {
   "cell_type": "code",
   "execution_count": 2,
   "metadata": {},
   "outputs": [],
   "source": [
    "OPENAI_API_KEY = environ[\"OPENAI_API_KEY\"]\n",
    "XPANDER_API_KEY = environ[\"XPANDER_API_KEY\"]\n",
    "XPANDER_AGENT_ID = environ[\"XPANDER_AGENT_ID_SINGLE\"]"
   ]
  },
  {
   "cell_type": "markdown",
   "metadata": {},
   "source": [
    "## Initialize xpander.ai Client"
   ]
  },
  {
   "cell_type": "code",
   "execution_count": 3,
   "metadata": {},
   "outputs": [],
   "source": [
    "xpander_client = XpanderClient(api_key=XPANDER_API_KEY)"
   ]
  },
  {
   "cell_type": "markdown",
   "metadata": {},
   "source": [
    "## Initialize OpenAI Client"
   ]
  },
  {
   "cell_type": "code",
   "execution_count": 4,
   "metadata": {},
   "outputs": [],
   "source": [
    "openai_client = OpenAI(api_key=OPENAI_API_KEY)"
   ]
  },
  {
   "cell_type": "markdown",
   "metadata": {},
   "source": [
    "## Load agent"
   ]
  },
  {
   "cell_type": "code",
   "execution_count": 5,
   "metadata": {},
   "outputs": [
    {
     "name": "stderr",
     "output_type": "stream",
     "text": [
      "b'{\"stdout\":\"bG9hZGluZyBhZ2VudCBiYjgwYmU1Ni02ZTQyLTRiYTktODJiNi1iMDBkOGE4ODZkNzUK\"}\\n'\n",
      "b'{\"stdout\":\"cnVubmluZyB0b29sIExpbmtlZEluUHJvZmlsZVNlcnZpY2VTZWFyY2hQcm9maWxlc0J5Q3JpdGVyaWEgb24gYWdlbnQgYmI4MGJlNTYtNmU0Mi00YmE5LTgyYjYtYjAwZDhhODg2ZDc1IHdpdGggZXhlY3V0aW9uIDA0YjdlM2YzLTI5YWMtNDVmOS04YmQ5LWMwNmUyMWU5ZWMwZgo=\"}\\n'\n",
      "b'{\"stdout\":\"cnVubmluZyB0b29sIHhwZmluaXNoLWFnZW50LWV4ZWN1dGlvbi1maW5pc2hlZCBvbiBhZ2VudCBiYjgwYmU1Ni02ZTQyLTRiYTktODJiNi1iMDBkOGE4ODZkNzUgd2l0aCBleGVjdXRpb24gMDRiN2UzZjMtMjlhYy00NWY5LThiZDktYzA2ZTIxZTllYzBmCg==\"}\\n'\n"
     ]
    }
   ],
   "source": [
    "agent = xpander_client.agents.get(agent_id=XPANDER_AGENT_ID)"
   ]
  },
  {
   "cell_type": "markdown",
   "metadata": {},
   "source": [
    "## Invoke the agent with query and create an execution task"
   ]
  },
  {
   "cell_type": "code",
   "execution_count": null,
   "metadata": {},
   "outputs": [
    {
     "data": {
      "text/plain": [
       "<xpander_sdk.Execution at 0x10da6bc20>"
      ]
     },
     "execution_count": 6,
     "metadata": {},
     "output_type": "execute_result"
    }
   ],
   "source": [
    "agent.add_task(\"\"\"\n",
    "Find employees of xpander.ai.\n",
    "\"\"\")"
   ]
  },
  {
   "cell_type": "markdown",
   "metadata": {},
   "source": [
    "## Init the agent's memory with input (query) and instructions"
   ]
  },
  {
   "cell_type": "code",
   "execution_count": 7,
   "metadata": {},
   "outputs": [],
   "source": [
    "agent.memory.init_messages(input=agent.execution.input_message,instructions=agent.instructions)"
   ]
  },
  {
   "cell_type": "markdown",
   "metadata": {},
   "source": [
    "## Run the agent and wait for result"
   ]
  },
  {
   "cell_type": "code",
   "execution_count": 8,
   "metadata": {},
   "outputs": [],
   "source": [
    "while not agent.is_finished():\n",
    "    response = openai_client.chat.completions.create(\n",
    "                model= \"gpt-4o\",\n",
    "                messages=agent.messages,\n",
    "                tools=agent.get_tools(),\n",
    "                tool_choice=agent.tool_choice,\n",
    "                temperature=0.0\n",
    "        )\n",
    "            \n",
    "    # add messages directly from the LLM response\n",
    "    agent.add_messages(response.model_dump())\n",
    "    \n",
    "    # extract tool calls from the LLM response\n",
    "    tool_calls = XpanderClient.extract_tool_calls(llm_response=response.model_dump())\n",
    "    # run tools\n",
    "    agent.run_tools(tool_calls=tool_calls)\n"
   ]
  },
  {
   "cell_type": "markdown",
   "metadata": {},
   "source": [
    "## Fetch & print the agent execution result"
   ]
  },
  {
   "cell_type": "code",
   "execution_count": 9,
   "metadata": {},
   "outputs": [
    {
     "name": "stdout",
     "output_type": "stream",
     "text": [
      "status ExecutionStatus.COMPLETED\n",
      "result I found a LinkedIn profile for a person working at xpander.ai:\n",
      "\n",
      "- **Name**: David Twizer\n",
      "  - **Position**: Co-Founder & CEO at xpander.ai | Ex-AWS\n",
      "  - **Location**: Tel Aviv-Yafo\n",
      "  - [LinkedIn Profile](https://www.linkedin.com/in/dudutwizer)\n",
      "  - ![Profile Picture](https://media.licdn.com/dms/image/v2/D4D35AQGMHPBXOHRivA/profile-framedphoto-shrink_100_100/profile-framedphoto-shrink_100_100/0/1734471164404?e=1739271600&v=beta&t=Sw94oLnFgOT3SMPQqEtzCXfdASUpW7HQMf4HAyILybg)\n",
      "\n",
      "If you need more profiles or detailed information, please let me know!\n"
     ]
    }
   ],
   "source": [
    "execution_result = agent.retrieve_execution_result()\n",
    "\n",
    "print(\"status\", execution_result.status)\n",
    "print(\"result\", execution_result.result)"
   ]
  }
 ],
 "metadata": {
  "kernelspec": {
   "display_name": ".venv",
   "language": "python",
   "name": "python3"
  },
  "language_info": {
   "codemirror_mode": {
    "name": "ipython",
    "version": 3
   },
   "file_extension": ".py",
   "mimetype": "text/x-python",
   "name": "python",
   "nbconvert_exporter": "python",
   "pygments_lexer": "ipython3",
   "version": "3.12.7"
  }
 },
 "nbformat": 4,
 "nbformat_minor": 2
}
