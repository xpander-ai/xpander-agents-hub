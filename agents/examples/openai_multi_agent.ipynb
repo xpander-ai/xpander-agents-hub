{
 "cells": [
  {
   "cell_type": "markdown",
   "metadata": {},
   "source": [
    "# xpander.ai single agent using local tools for mathematics calculations combined with OpenAI"
   ]
  },
  {
   "cell_type": "code",
   "execution_count": 1,
   "metadata": {},
   "outputs": [
    {
     "data": {
      "text/plain": [
       "True"
      ]
     },
     "execution_count": 1,
     "metadata": {},
     "output_type": "execute_result"
    }
   ],
   "source": [
    "from xpander_sdk import XpanderClient, ToolCallResult\n",
    "from openai import OpenAI\n",
    "from dotenv import load_dotenv\n",
    "from os import environ\n",
    "\n",
    "load_dotenv()\n"
   ]
  },
  {
   "cell_type": "code",
   "execution_count": 2,
   "metadata": {},
   "outputs": [],
   "source": [
    "OPENAI_API_KEY = environ[\"OPENAI_API_KEY\"]\n",
    "XPANDER_API_KEY = environ[\"XPANDER_API_KEY\"]\n",
    "XPANDER_AGENT_ID = environ[\"XPANDER_AGENT_ID_MULTI\"]"
   ]
  },
  {
   "cell_type": "markdown",
   "metadata": {},
   "source": [
    "## Initialize xpander.ai Client"
   ]
  },
  {
   "cell_type": "code",
   "execution_count": 3,
   "metadata": {},
   "outputs": [],
   "source": [
    "xpander_client = XpanderClient(api_key=XPANDER_API_KEY)"
   ]
  },
  {
   "cell_type": "markdown",
   "metadata": {},
   "source": [
    "## Initialize OpenAI Client"
   ]
  },
  {
   "cell_type": "code",
   "execution_count": 4,
   "metadata": {},
   "outputs": [],
   "source": [
    "openai_client = OpenAI(api_key=OPENAI_API_KEY)"
   ]
  },
  {
   "cell_type": "markdown",
   "metadata": {},
   "source": [
    "## Load agent"
   ]
  },
  {
   "cell_type": "code",
   "execution_count": 5,
   "metadata": {},
   "outputs": [
    {
     "name": "stderr",
     "output_type": "stream",
     "text": [
      "b'{\"stdout\":\"bG9hZGluZyBhZ2VudCA3Y2RkZmI1My05YjgyLTRlNmItODczZC0wNjAyOWU3NzA1MTkK\"}\\n'\n",
      "b'{\"stdout\":\"cnVubmluZyB0b29sIENydW5jaGJhc2VHZXRJbmZvQW5kQXV0b2NvbXBsZXRlU3VnZ2VzdGlvbnMgb24gYWdlbnQgN2NkZGZiNTMtOWI4Mi00ZTZiLTg3M2QtMDYwMjllNzcwNTE5IHdpdGggZXhlY3V0aW9uIDUzNDQ2N2Y4LTYyNWItNGM2OS05NzE0LTA2Y2E4N2MxNTE5YQo=\"}\\n'\n",
      "b'{\"stdout\":\"c3dpdGNoaW5nIGZyb20gZXhlY3V0aW9uIDUzNDQ2N2Y4LTYyNWItNGM2OS05NzE0LTA2Y2E4N2MxNTE5YSB0byBlMWRhYjI1ZS1lMTZjLTRkZjYtYWZjNC1mZWQ3ZGJkODM5MDYK\"}\\n'\n",
      "b'{\"stdout\":\"bG9hZGluZyBhZ2VudCAzYmYyMTk3Ny0zNDU3LTRlNDktOWE4ZS1mYWM0YjMzMjJhZGUK\"}\\n'\n",
      "b'{\"stdout\":\"cnVubmluZyB0b29sIENydW5jaGJhc2VPcmdhbml6YXRpb25TZWFyY2hBdXRvY29tcGxldGVCeVF1ZXJ5IG9uIGFnZW50IDNiZjIxOTc3LTM0NTctNGU0OS05YThlLWZhYzRiMzMyMmFkZSB3aXRoIGV4ZWN1dGlvbiBlMWRhYjI1ZS1lMTZjLTRkZjYtYWZjNC1mZWQ3ZGJkODM5MDYK\"}\\n'\n",
      "b'{\"stdout\":\"cnVubmluZyB0b29sIHhwZmluaXNoLWFnZW50LWV4ZWN1dGlvbi1maW5pc2hlZCBvbiBhZ2VudCAzYmYyMTk3Ny0zNDU3LTRlNDktOWE4ZS1mYWM0YjMzMjJhZGUgd2l0aCBleGVjdXRpb24gZTFkYWIyNWUtZTE2Yy00ZGY2LWFmYzQtZmVkN2RiZDgzOTA2Cg==\"}\\n'\n",
      "b'{\"stdout\":\"c3dpdGNoaW5nIGZyb20gZXhlY3V0aW9uIGUxZGFiMjVlLWUxNmMtNGRmNi1hZmM0LWZlZDdkYmQ4MzkwNiB0byA1MzQ0NjdmOC02MjViLTRjNjktOTcxNC0wNmNhODdjMTUxOWEK\"}\\n'\n",
      "b'{\"stdout\":\"bG9hZGluZyBhZ2VudCA3Y2RkZmI1My05YjgyLTRlNmItODczZC0wNjAyOWU3NzA1MTkKQWdlbnQgbG9hZGVkIGZyb20gY2FjaGUK\"}\\n'\n",
      "b'{\"stdout\":\"cnVubmluZyB0b29sIExpbmtlZEluUmV0cmlldmVQcm9maWxlRGF0YUFuZFNlYXJjaFByb2ZpbGVzIG9uIGFnZW50IDdjZGRmYjUzLTliODItNGU2Yi04NzNkLTA2MDI5ZTc3MDUxOSB3aXRoIGV4ZWN1dGlvbiA1MzQ0NjdmOC02MjViLTRjNjktOTcxNC0wNmNhODdjMTUxOWEK\"}\\n'\n",
      "b'{\"stdout\":\"cnVubmluZyB0b29sIExpbmtlZEluUmV0cmlldmVQcm9maWxlRGF0YUFuZFNlYXJjaFByb2ZpbGVzIG9uIGFnZW50IDdjZGRmYjUzLTliODItNGU2Yi04NzNkLTA2MDI5ZTc3MDUxOSB3aXRoIGV4ZWN1dGlvbiA1MzQ0NjdmOC02MjViLTRjNjktOTcxNC0wNmNhODdjMTUxOWEK\"}\\n'\n",
      "b'{\"stdout\":\"cnVubmluZyB0b29sIExpbmtlZEluUmV0cmlldmVQcm9maWxlRGF0YUFuZFNlYXJjaFByb2ZpbGVzIG9uIGFnZW50IDdjZGRmYjUzLTliODItNGU2Yi04NzNkLTA2MDI5ZTc3MDUxOSB3aXRoIGV4ZWN1dGlvbiA1MzQ0NjdmOC02MjViLTRjNjktOTcxNC0wNmNhODdjMTUxOWEK\"}\\n'\n",
      "b'{\"stdout\":\"cnVubmluZyB0b29sIExpbmtlZEluUmV0cmlldmVQcm9maWxlRGF0YUFuZFNlYXJjaFByb2ZpbGVzIG9uIGFnZW50IDdjZGRmYjUzLTliODItNGU2Yi04NzNkLTA2MDI5ZTc3MDUxOSB3aXRoIGV4ZWN1dGlvbiA1MzQ0NjdmOC02MjViLTRjNjktOTcxNC0wNmNhODdjMTUxOWEK\"}\\n'\n",
      "b'{\"stdout\":\"cnVubmluZyB0b29sIExpbmtlZEluUmV0cmlldmVQcm9maWxlRGF0YUFuZFNlYXJjaFByb2ZpbGVzIG9uIGFnZW50IDdjZGRmYjUzLTliODItNGU2Yi04NzNkLTA2MDI5ZTc3MDUxOSB3aXRoIGV4ZWN1dGlvbiA1MzQ0NjdmOC02MjViLTRjNjktOTcxNC0wNmNhODdjMTUxOWEK\"}\\n'\n",
      "b'{\"stdout\":\"cnVubmluZyB0b29sIExpbmtlZEluUmV0cmlldmVQcm9maWxlRGF0YUFuZFNlYXJjaFByb2ZpbGVzIG9uIGFnZW50IDdjZGRmYjUzLTliODItNGU2Yi04NzNkLTA2MDI5ZTc3MDUxOSB3aXRoIGV4ZWN1dGlvbiA1MzQ0NjdmOC02MjViLTRjNjktOTcxNC0wNmNhODdjMTUxOWEK\"}\\n'\n",
      "b'{\"stdout\":\"cnVubmluZyB0b29sIExpbmtlZEluUmV0cmlldmVQcm9maWxlRGF0YUFuZFNlYXJjaFByb2ZpbGVzIG9uIGFnZW50IDdjZGRmYjUzLTliODItNGU2Yi04NzNkLTA2MDI5ZTc3MDUxOSB3aXRoIGV4ZWN1dGlvbiA1MzQ0NjdmOC02MjViLTRjNjktOTcxNC0wNmNhODdjMTUxOWEK\"}\\n'\n",
      "b'{\"stdout\":\"cnVubmluZyB0b29sIExpbmtlZEluUmV0cmlldmVQcm9maWxlRGF0YUFuZFNlYXJjaFByb2ZpbGVzIG9uIGFnZW50IDdjZGRmYjUzLTliODItNGU2Yi04NzNkLTA2MDI5ZTc3MDUxOSB3aXRoIGV4ZWN1dGlvbiA1MzQ0NjdmOC02MjViLTRjNjktOTcxNC0wNmNhODdjMTUxOWEK\"}\\n'\n",
      "b'{\"stdout\":\"cnVubmluZyB0b29sIExpbmtlZEluUmV0cmlldmVQcm9maWxlRGF0YUFuZFNlYXJjaFByb2ZpbGVzIG9uIGFnZW50IDdjZGRmYjUzLTliODItNGU2Yi04NzNkLTA2MDI5ZTc3MDUxOSB3aXRoIGV4ZWN1dGlvbiA1MzQ0NjdmOC02MjViLTRjNjktOTcxNC0wNmNhODdjMTUxOWEK\"}\\n'\n",
      "b'{\"stdout\":\"cnVubmluZyB0b29sIExpbmtlZEluUmV0cmlldmVQcm9maWxlRGF0YUFuZFNlYXJjaFByb2ZpbGVzIG9uIGFnZW50IDdjZGRmYjUzLTliODItNGU2Yi04NzNkLTA2MDI5ZTc3MDUxOSB3aXRoIGV4ZWN1dGlvbiA1MzQ0NjdmOC02MjViLTRjNjktOTcxNC0wNmNhODdjMTUxOWEK\"}\\n'\n",
      "b'{\"stdout\":\"cnVubmluZyB0b29sIExpbmtlZEluUmV0cmlldmVQcm9maWxlRGF0YUFuZFNlYXJjaFByb2ZpbGVzIG9uIGFnZW50IDdjZGRmYjUzLTliODItNGU2Yi04NzNkLTA2MDI5ZTc3MDUxOSB3aXRoIGV4ZWN1dGlvbiA1MzQ0NjdmOC02MjViLTRjNjktOTcxNC0wNmNhODdjMTUxOWEK\"}\\n'\n",
      "b'{\"stdout\":\"cnVubmluZyB0b29sIExpbmtlZEluUmV0cmlldmVQcm9maWxlRGF0YUFuZFNlYXJjaFByb2ZpbGVzIG9uIGFnZW50IDdjZGRmYjUzLTliODItNGU2Yi04NzNkLTA2MDI5ZTc3MDUxOSB3aXRoIGV4ZWN1dGlvbiA1MzQ0NjdmOC02MjViLTRjNjktOTcxNC0wNmNhODdjMTUxOWEK\"}\\n'\n",
      "b'{\"stdout\":\"cnVubmluZyB0b29sIExpbmtlZEluUmV0cmlldmVQcm9maWxlRGF0YUFuZFNlYXJjaFByb2ZpbGVzIG9uIGFnZW50IDdjZGRmYjUzLTliODItNGU2Yi04NzNkLTA2MDI5ZTc3MDUxOSB3aXRoIGV4ZWN1dGlvbiA1MzQ0NjdmOC02MjViLTRjNjktOTcxNC0wNmNhODdjMTUxOWEK\"}\\n'\n",
      "b'{\"stdout\":\"cnVubmluZyB0b29sIExpbmtlZEluUmV0cmlldmVQcm9maWxlRGF0YUFuZFNlYXJjaFByb2ZpbGVzIG9uIGFnZW50IDdjZGRmYjUzLTliODItNGU2Yi04NzNkLTA2MDI5ZTc3MDUxOSB3aXRoIGV4ZWN1dGlvbiA1MzQ0NjdmOC02MjViLTRjNjktOTcxNC0wNmNhODdjMTUxOWEK\"}\\n'\n",
      "b'{\"stdout\":\"cnVubmluZyB0b29sIExpbmtlZEluUmV0cmlldmVQcm9maWxlRGF0YUFuZFNlYXJjaFByb2ZpbGVzIG9uIGFnZW50IDdjZGRmYjUzLTliODItNGU2Yi04NzNkLTA2MDI5ZTc3MDUxOSB3aXRoIGV4ZWN1dGlvbiA1MzQ0NjdmOC02MjViLTRjNjktOTcxNC0wNmNhODdjMTUxOWEK\"}\\n'\n",
      "b'{\"stdout\":\"cnVubmluZyB0b29sIExpbmtlZEluUmV0cmlldmVQcm9maWxlRGF0YUFuZFNlYXJjaFByb2ZpbGVzIG9uIGFnZW50IDdjZGRmYjUzLTliODItNGU2Yi04NzNkLTA2MDI5ZTc3MDUxOSB3aXRoIGV4ZWN1dGlvbiA1MzQ0NjdmOC02MjViLTRjNjktOTcxNC0wNmNhODdjMTUxOWEK\"}\\n'\n",
      "b'{\"stdout\":\"cnVubmluZyB0b29sIExpbmtlZEluUmV0cmlldmVQcm9maWxlRGF0YUFuZFNlYXJjaFByb2ZpbGVzIG9uIGFnZW50IDdjZGRmYjUzLTliODItNGU2Yi04NzNkLTA2MDI5ZTc3MDUxOSB3aXRoIGV4ZWN1dGlvbiA1MzQ0NjdmOC02MjViLTRjNjktOTcxNC0wNmNhODdjMTUxOWEK\"}\\n'\n",
      "b'{\"stdout\":\"cnVubmluZyB0b29sIExpbmtlZEluUmV0cmlldmVQcm9maWxlRGF0YUFuZFNlYXJjaFByb2ZpbGVzIG9uIGFnZW50IDdjZGRmYjUzLTliODItNGU2Yi04NzNkLTA2MDI5ZTc3MDUxOSB3aXRoIGV4ZWN1dGlvbiA1MzQ0NjdmOC02MjViLTRjNjktOTcxNC0wNmNhODdjMTUxOWEK\"}\\n'\n",
      "b'{\"stdout\":\"cnVubmluZyB0b29sIExpbmtlZEluUmV0cmlldmVQcm9maWxlRGF0YUFuZFNlYXJjaFByb2ZpbGVzIG9uIGFnZW50IDdjZGRmYjUzLTliODItNGU2Yi04NzNkLTA2MDI5ZTc3MDUxOSB3aXRoIGV4ZWN1dGlvbiA1MzQ0NjdmOC02MjViLTRjNjktOTcxNC0wNmNhODdjMTUxOWEK\"}\\n'\n",
      "b'{\"stdout\":\"cnVubmluZyB0b29sIExpbmtlZEluUmV0cmlldmVQcm9maWxlRGF0YUFuZFNlYXJjaFByb2ZpbGVzIG9uIGFnZW50IDdjZGRmYjUzLTliODItNGU2Yi04NzNkLTA2MDI5ZTc3MDUxOSB3aXRoIGV4ZWN1dGlvbiA1MzQ0NjdmOC02MjViLTRjNjktOTcxNC0wNmNhODdjMTUxOWEK\"}\\n'\n",
      "b'{\"stdout\":\"cnVubmluZyB0b29sIExpbmtlZEluUmV0cmlldmVQcm9maWxlRGF0YUFuZFNlYXJjaFByb2ZpbGVzIG9uIGFnZW50IDdjZGRmYjUzLTliODItNGU2Yi04NzNkLTA2MDI5ZTc3MDUxOSB3aXRoIGV4ZWN1dGlvbiA1MzQ0NjdmOC02MjViLTRjNjktOTcxNC0wNmNhODdjMTUxOWEK\"}\\n'\n",
      "b'{\"stdout\":\"cnVubmluZyB0b29sIExpbmtlZEluUmV0cmlldmVQcm9maWxlRGF0YUFuZFNlYXJjaFByb2ZpbGVzIG9uIGFnZW50IDdjZGRmYjUzLTliODItNGU2Yi04NzNkLTA2MDI5ZTc3MDUxOSB3aXRoIGV4ZWN1dGlvbiA1MzQ0NjdmOC02MjViLTRjNjktOTcxNC0wNmNhODdjMTUxOWEK\"}\\n'\n",
      "b'{\"stdout\":\"cnVubmluZyB0b29sIExpbmtlZEluUmV0cmlldmVQcm9maWxlRGF0YUFuZFNlYXJjaFByb2ZpbGVzIG9uIGFnZW50IDdjZGRmYjUzLTliODItNGU2Yi04NzNkLTA2MDI5ZTc3MDUxOSB3aXRoIGV4ZWN1dGlvbiA1MzQ0NjdmOC02MjViLTRjNjktOTcxNC0wNmNhODdjMTUxOWEK\"}\\n'\n",
      "b'{\"stdout\":\"cnVubmluZyB0b29sIExpbmtlZEluUmV0cmlldmVQcm9maWxlRGF0YUFuZFNlYXJjaFByb2ZpbGVzIG9uIGFnZW50IDdjZGRmYjUzLTliODItNGU2Yi04NzNkLTA2MDI5ZTc3MDUxOSB3aXRoIGV4ZWN1dGlvbiA1MzQ0NjdmOC02MjViLTRjNjktOTcxNC0wNmNhODdjMTUxOWEK\"}\\n'\n",
      "b'{\"stdout\":\"c3dpdGNoaW5nIGZyb20gZXhlY3V0aW9uIDUzNDQ2N2Y4LTYyNWItNGM2OS05NzE0LTA2Y2E4N2MxNTE5YSB0byAwMGE5ODI0NC0xZGQ1LTQ0ZWEtOGY4My01MzMxNWEyNzNiZGQK\"}\\n'\n",
      "b'{\"stdout\":\"bG9hZGluZyBhZ2VudCBiYjgwYmU1Ni02ZTQyLTRiYTktODJiNi1iMDBkOGE4ODZkNzUK\"}\\n'\n",
      "b'{\"stdout\":\"cnVubmluZyB0b29sIExpbmtlZEluUHJvZmlsZVNlcnZpY2VTZWFyY2hQcm9maWxlc0J5Q3JpdGVyaWEgb24gYWdlbnQgYmI4MGJlNTYtNmU0Mi00YmE5LTgyYjYtYjAwZDhhODg2ZDc1IHdpdGggZXhlY3V0aW9uIDAwYTk4MjQ0LTFkZDUtNDRlYS04ZjgzLTUzMzE1YTI3M2JkZAo=\"}\\n'\n",
      "b'{\"stdout\":\"cnVubmluZyB0b29sIHhwZmluaXNoLWFnZW50LWV4ZWN1dGlvbi1maW5pc2hlZCBvbiBhZ2VudCBiYjgwYmU1Ni02ZTQyLTRiYTktODJiNi1iMDBkOGE4ODZkNzUgd2l0aCBleGVjdXRpb24gMDBhOTgyNDQtMWRkNS00NGVhLThmODMtNTMzMTVhMjczYmRkCg==\"}\\n'\n",
      "b'{\"stdout\":\"c3dpdGNoaW5nIGZyb20gZXhlY3V0aW9uIDAwYTk4MjQ0LTFkZDUtNDRlYS04ZjgzLTUzMzE1YTI3M2JkZCB0byAyMjQ1ZmYyNC03OTg2LTQ0YjQtOTc4ZS0xNzE4NjliNzk1ZDMK\"}\\n'\n",
      "b'{\"stdout\":\"cnVubmluZyB0b29sIExpbmtlZEluUHJvZmlsZVNlcnZpY2VTZWFyY2hQcm9maWxlc0J5Q3JpdGVyaWEgb24gYWdlbnQgYmI4MGJlNTYtNmU0Mi00YmE5LTgyYjYtYjAwZDhhODg2ZDc1IHdpdGggZXhlY3V0aW9uIDIyNDVmZjI0LTc5ODYtNDRiNC05NzhlLTE3MTg2OWI3OTVkMwo=\"}\\n'\n",
      "b'{\"stdout\":\"cnVubmluZyB0b29sIExpbmtlZEluUHJvZmlsZVNlcnZpY2VHZXRQcm9maWxlRGF0YUJ5VXJsIG9uIGFnZW50IGJiODBiZTU2LTZlNDItNGJhOS04MmI2LWIwMGQ4YTg4NmQ3NSB3aXRoIGV4ZWN1dGlvbiAyMjQ1ZmYyNC03OTg2LTQ0YjQtOTc4ZS0xNzE4NjliNzk1ZDMK\"}\\n'\n",
      "b'{\"stdout\":\"cnVubmluZyB0b29sIHhwZmluaXNoLWFnZW50LWV4ZWN1dGlvbi1maW5pc2hlZCBvbiBhZ2VudCBiYjgwYmU1Ni02ZTQyLTRiYTktODJiNi1iMDBkOGE4ODZkNzUgd2l0aCBleGVjdXRpb24gMjI0NWZmMjQtNzk4Ni00NGI0LTk3OGUtMTcxODY5Yjc5NWQzCg==\"}\\n'\n",
      "b'{\"stdout\":\"c3dpdGNoaW5nIGZyb20gZXhlY3V0aW9uIDIyNDVmZjI0LTc5ODYtNDRiNC05NzhlLTE3MTg2OWI3OTVkMyB0byA0MDNjYjAzMS0wZTNmLTQ2NTAtOGFjZC1lN2ZmMDAzZjk1M2YK\"}\\n'\n",
      "b'{\"stdout\":\"cnVubmluZyB0b29sIExpbmtlZEluUHJvZmlsZVNlcnZpY2VTZWFyY2hQcm9maWxlc0J5Q3JpdGVyaWEgb24gYWdlbnQgYmI4MGJlNTYtNmU0Mi00YmE5LTgyYjYtYjAwZDhhODg2ZDc1IHdpdGggZXhlY3V0aW9uIDQwM2NiMDMxLTBlM2YtNDY1MC04YWNkLWU3ZmYwMDNmOTUzZgo=\"}\\n'\n",
      "b'{\"stdout\":\"cnVubmluZyB0b29sIHhwZmluaXNoLWFnZW50LWV4ZWN1dGlvbi1maW5pc2hlZCBvbiBhZ2VudCBiYjgwYmU1Ni02ZTQyLTRiYTktODJiNi1iMDBkOGE4ODZkNzUgd2l0aCBleGVjdXRpb24gNDAzY2IwMzEtMGUzZi00NjUwLThhY2QtZTdmZjAwM2Y5NTNmCg==\"}\\n'\n",
      "b'{\"stdout\":\"c3dpdGNoaW5nIGZyb20gZXhlY3V0aW9uIDQwM2NiMDMxLTBlM2YtNDY1MC04YWNkLWU3ZmYwMDNmOTUzZiB0byBhYzZiZTFkMC1mOGUyLTQzNWItOTBhYS05OTljNWI0MjEwNDkK\"}\\n'\n",
      "b'{\"stdout\":\"cnVubmluZyB0b29sIExpbmtlZEluUHJvZmlsZVNlcnZpY2VTZWFyY2hQcm9maWxlc0J5Q3JpdGVyaWEgb24gYWdlbnQgYmI4MGJlNTYtNmU0Mi00YmE5LTgyYjYtYjAwZDhhODg2ZDc1IHdpdGggZXhlY3V0aW9uIGFjNmJlMWQwLWY4ZTItNDM1Yi05MGFhLTk5OWM1YjQyMTA0OQo=\"}\\n'\n",
      "b'{\"stdout\":\"cnVubmluZyB0b29sIHhwZmluaXNoLWFnZW50LWV4ZWN1dGlvbi1maW5pc2hlZCBvbiBhZ2VudCBiYjgwYmU1Ni02ZTQyLTRiYTktODJiNi1iMDBkOGE4ODZkNzUgd2l0aCBleGVjdXRpb24gYWM2YmUxZDAtZjhlMi00MzViLTkwYWEtOTk5YzViNDIxMDQ5Cg==\"}\\n'\n",
      "b'{\"stdout\":\"c3dpdGNoaW5nIGZyb20gZXhlY3V0aW9uIGFjNmJlMWQwLWY4ZTItNDM1Yi05MGFhLTk5OWM1YjQyMTA0OSB0byA4OWY3ZjI3Ny1kMzc3LTQ0MmYtOGZhNi0zZGJkYTM3N2Q5MzIK\"}\\n'\n",
      "b'{\"stdout\":\"cnVubmluZyB0b29sIExpbmtlZEluUHJvZmlsZVNlcnZpY2VTZWFyY2hQcm9maWxlc0J5Q3JpdGVyaWEgb24gYWdlbnQgYmI4MGJlNTYtNmU0Mi00YmE5LTgyYjYtYjAwZDhhODg2ZDc1IHdpdGggZXhlY3V0aW9uIDg5ZjdmMjc3LWQzNzctNDQyZi04ZmE2LTNkYmRhMzc3ZDkzMgo=\"}\\n'\n",
      "b'{\"stdout\":\"cnVubmluZyB0b29sIHhwZmluaXNoLWFnZW50LWV4ZWN1dGlvbi1maW5pc2hlZCBvbiBhZ2VudCBiYjgwYmU1Ni02ZTQyLTRiYTktODJiNi1iMDBkOGE4ODZkNzUgd2l0aCBleGVjdXRpb24gODlmN2YyNzctZDM3Ny00NDJmLThmYTYtM2RiZGEzNzdkOTMyCg==\"}\\n'\n",
      "b'{\"stdout\":\"c3dpdGNoaW5nIGZyb20gZXhlY3V0aW9uIDg5ZjdmMjc3LWQzNzctNDQyZi04ZmE2LTNkYmRhMzc3ZDkzMiB0byA0YTE1NmM1NC03NGU3LTQyNmMtYTQ5ZS00NDRhNTg0ODJkOTIK\"}\\n'\n",
      "b'{\"stdout\":\"cnVubmluZyB0b29sIExpbmtlZEluUHJvZmlsZVNlcnZpY2VTZWFyY2hQcm9maWxlc0J5Q3JpdGVyaWEgb24gYWdlbnQgYmI4MGJlNTYtNmU0Mi00YmE5LTgyYjYtYjAwZDhhODg2ZDc1IHdpdGggZXhlY3V0aW9uIDRhMTU2YzU0LTc0ZTctNDI2Yy1hNDllLTQ0NGE1ODQ4MmQ5Mgo=\"}\\n'\n",
      "b'{\"stdout\":\"cnVubmluZyB0b29sIHhwZmluaXNoLWFnZW50LWV4ZWN1dGlvbi1maW5pc2hlZCBvbiBhZ2VudCBiYjgwYmU1Ni02ZTQyLTRiYTktODJiNi1iMDBkOGE4ODZkNzUgd2l0aCBleGVjdXRpb24gNGExNTZjNTQtNzRlNy00MjZjLWE0OWUtNDQ0YTU4NDgyZDkyCg==\"}\\n'\n",
      "b'{\"stdout\":\"c3dpdGNoaW5nIGZyb20gZXhlY3V0aW9uIDRhMTU2YzU0LTc0ZTctNDI2Yy1hNDllLTQ0NGE1ODQ4MmQ5MiB0byBiMjg0ZWQ3Ni03OGE2LTQxZjctODY5MC1iNDllYzgyNTBiYTgK\"}\\n'\n",
      "b'{\"stdout\":\"cnVubmluZyB0b29sIExpbmtlZEluUHJvZmlsZVNlcnZpY2VTZWFyY2hQcm9maWxlc0J5Q3JpdGVyaWEgb24gYWdlbnQgYmI4MGJlNTYtNmU0Mi00YmE5LTgyYjYtYjAwZDhhODg2ZDc1IHdpdGggZXhlY3V0aW9uIGIyODRlZDc2LTc4YTYtNDFmNy04NjkwLWI0OWVjODI1MGJhOAo=\"}\\n'\n",
      "b'{\"stdout\":\"cnVubmluZyB0b29sIHhwZmluaXNoLWFnZW50LWV4ZWN1dGlvbi1maW5pc2hlZCBvbiBhZ2VudCBiYjgwYmU1Ni02ZTQyLTRiYTktODJiNi1iMDBkOGE4ODZkNzUgd2l0aCBleGVjdXRpb24gYjI4NGVkNzYtNzhhNi00MWY3LTg2OTAtYjQ5ZWM4MjUwYmE4Cg==\"}\\n'\n",
      "b'{\"stdout\":\"c3dpdGNoaW5nIGZyb20gZXhlY3V0aW9uIGIyODRlZDc2LTc4YTYtNDFmNy04NjkwLWI0OWVjODI1MGJhOCB0byA5NTY0MWQ2NS00ZjgxLTRjMWItYThmYy1kOTc0MzJjMGRiNmQK\"}\\n'\n",
      "b'{\"stdout\":\"cnVubmluZyB0b29sIExpbmtlZEluUHJvZmlsZVNlcnZpY2VTZWFyY2hQcm9maWxlc0J5Q3JpdGVyaWEgb24gYWdlbnQgYmI4MGJlNTYtNmU0Mi00YmE5LTgyYjYtYjAwZDhhODg2ZDc1IHdpdGggZXhlY3V0aW9uIDk1NjQxZDY1LTRmODEtNGMxYi1hOGZjLWQ5NzQzMmMwZGI2ZAo=\"}\\n'\n",
      "b'{\"stdout\":\"cnVubmluZyB0b29sIExpbmtlZEluUHJvZmlsZVNlcnZpY2VHZXRQcm9maWxlRGF0YUJ5VXJsIG9uIGFnZW50IGJiODBiZTU2LTZlNDItNGJhOS04MmI2LWIwMGQ4YTg4NmQ3NSB3aXRoIGV4ZWN1dGlvbiA5NTY0MWQ2NS00ZjgxLTRjMWItYThmYy1kOTc0MzJjMGRiNmQK\"}\\n'\n",
      "b'{\"stdout\":\"cnVubmluZyB0b29sIExpbmtlZEluUHJvZmlsZVNlcnZpY2VHZXRQcm9maWxlRGF0YUJ5VXJsIG9uIGFnZW50IGJiODBiZTU2LTZlNDItNGJhOS04MmI2LWIwMGQ4YTg4NmQ3NSB3aXRoIGV4ZWN1dGlvbiA5NTY0MWQ2NS00ZjgxLTRjMWItYThmYy1kOTc0MzJjMGRiNmQK\"}\\n'\n",
      "b'{\"stdout\":\"cnVubmluZyB0b29sIExpbmtlZEluUHJvZmlsZVNlcnZpY2VHZXRQcm9maWxlRGF0YUJ5VXJsIG9uIGFnZW50IGJiODBiZTU2LTZlNDItNGJhOS04MmI2LWIwMGQ4YTg4NmQ3NSB3aXRoIGV4ZWN1dGlvbiA5NTY0MWQ2NS00ZjgxLTRjMWItYThmYy1kOTc0MzJjMGRiNmQK\"}\\n'\n"
     ]
    }
   ],
   "source": [
    "agent = xpander_client.agents.get(agent_id=XPANDER_AGENT_ID)"
   ]
  },
  {
   "cell_type": "markdown",
   "metadata": {},
   "source": [
    "## Invoke the agent with query and create an execution task"
   ]
  },
  {
   "cell_type": "code",
   "execution_count": 6,
   "metadata": {},
   "outputs": [
    {
     "data": {
      "text/plain": [
       "<xpander_sdk.Execution at 0x107230620>"
      ]
     },
     "execution_count": 6,
     "metadata": {},
     "output_type": "execute_result"
    }
   ],
   "source": [
    "agent.add_task(\"\"\"\n",
    "Search for 2 startups in the AI sector and get LinkedIn profiles of their founders.\n",
    "\"\"\")"
   ]
  },
  {
   "cell_type": "markdown",
   "metadata": {},
   "source": [
    "## Init the agent's memory with input (query) and instructions"
   ]
  },
  {
   "cell_type": "code",
   "execution_count": 7,
   "metadata": {},
   "outputs": [],
   "source": [
    "agent.memory.init_messages(input=agent.execution.input_message,instructions=agent.instructions)"
   ]
  },
  {
   "cell_type": "markdown",
   "metadata": {},
   "source": [
    "## Run the agent and wait for result"
   ]
  },
  {
   "cell_type": "code",
   "execution_count": 8,
   "metadata": {},
   "outputs": [],
   "source": [
    "while not agent.is_finished():\n",
    "    response = openai_client.chat.completions.create(\n",
    "                model= \"gpt-4o\",\n",
    "                messages=agent.messages,\n",
    "                tools=agent.get_tools(),\n",
    "                tool_choice=agent.tool_choice,\n",
    "                temperature=0.0\n",
    "        )\n",
    "            \n",
    "    # add messages directly from the LLM response\n",
    "    agent.add_messages(response.model_dump())\n",
    "    \n",
    "    # extract tool calls from the LLM response\n",
    "    tool_calls = XpanderClient.extract_tool_calls(llm_response=response.model_dump())\n",
    "    # run tools\n",
    "    agent.run_tools(tool_calls=tool_calls)\n"
   ]
  },
  {
   "cell_type": "markdown",
   "metadata": {},
   "source": [
    "## Fetch & print the agent execution result"
   ]
  },
  {
   "cell_type": "code",
   "execution_count": 9,
   "metadata": {},
   "outputs": [
    {
     "name": "stdout",
     "output_type": "stream",
     "text": [
      "status ExecutionStatus.COMPLETED\n",
      "result I found a LinkedIn profile for a person working at xpander.ai:\n",
      "\n",
      "- **Name**: David Twizer\n",
      "  - **Position**: Co-Founder & CEO at xpander.ai | Ex-AWS\n",
      "  - **Location**: Tel Aviv-Yafo\n",
      "  - [LinkedIn Profile](https://www.linkedin.com/in/dudutwizer)\n",
      "  - ![Profile Picture](https://media.licdn.com/dms/image/v2/D4D35AQGMHPBXOHRivA/profile-framedphoto-shrink_100_100/profile-framedphoto-shrink_100_100/0/1734471164404?e=1739271600&v=beta&t=Sw94oLnFgOT3SMPQqEtzCXfdASUpW7HQMf4HAyILybg)\n",
      "\n",
      "If you need more profiles or detailed information, please let me know!\n"
     ]
    }
   ],
   "source": [
    "execution_result = agent.retrieve_execution_result()\n",
    "\n",
    "print(\"status\", execution_result.status)\n",
    "print(\"result\", execution_result.result)"
   ]
  }
 ],
 "metadata": {
  "kernelspec": {
   "display_name": ".venv",
   "language": "python",
   "name": "python3"
  },
  "language_info": {
   "codemirror_mode": {
    "name": "ipython",
    "version": 3
   },
   "file_extension": ".py",
   "mimetype": "text/x-python",
   "name": "python",
   "nbconvert_exporter": "python",
   "pygments_lexer": "ipython3",
   "version": "3.12.7"
  }
 },
 "nbformat": 4,
 "nbformat_minor": 2
}
