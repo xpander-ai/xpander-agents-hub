{
 "cells": [
  {
   "cell_type": "code",
   "execution_count": 1,
   "metadata": {},
   "outputs": [],
   "source": [
    "!pip install -qU xpander-sdk llama-index llama-index-llms-openai python-dotenv openai --force-reinstall"
   ]
  },
  {
   "cell_type": "code",
   "execution_count": 2,
   "metadata": {},
   "outputs": [],
   "source": [
    "from llama_index.core.agent import ReActAgent\n",
    "from llama_index.llms.openai import OpenAI\n",
    "from os import environ\n",
    "from dotenv import load_dotenv\n",
    "\n",
    "load_dotenv()\n",
    "\n",
    "OPENAI_API_KEY = environ[\"OPENAI_API_KEY\"]\n",
    "XPANDER_API_KEY = environ[\"XPANDER_API_KEY\"]\n",
    "XPANDER_AGENT_ID = environ[\"XPANDER_AGENT_ID\"]"
   ]
  },
  {
   "cell_type": "code",
   "execution_count": 3,
   "metadata": {},
   "outputs": [
    {
     "name": "stdout",
     "output_type": "stream",
     "text": [
      "Added user message to memory: What is the weather in Tokyo?\n"
     ]
    },
    {
     "data": {
      "text/plain": [
       "AgentChatResponse(response=\"I'm unable to provide real-time weather updates. For the current weather in Tokyo, I recommend checking a reliable weather website or app.\", sources=[], source_nodes=[], is_dummy_stream=False, metadata=None)"
      ]
     },
     "execution_count": 3,
     "metadata": {},
     "output_type": "execute_result"
    }
   ],
   "source": [
    "from llama_index.core.agent import ReActAgent\n",
    "from llama_index.llms.openai import OpenAI\n",
    "llm = OpenAI(model=\"gpt-4o\")\n",
    "llama_agent = ReActAgent.from_llm(llm=llm, verbose=True)\n",
    "llama_agent.chat(\"What is the weather in Tokyo?\")"
   ]
  },
  {
   "cell_type": "code",
   "execution_count": 4,
   "metadata": {},
   "outputs": [
    {
     "name": "stderr",
     "output_type": "stream",
     "text": [
      "b'\\x1b[43m\\x1b[30m!!!!!!!!!!!!!!!!!!!!!!!!!!!!!!!!!!!!!!!!!!!!!!!!!!!!!!!!!!!!!!!!!!!!!!!!!!!!!!!!!!!!!!!!!!!!!!!!!!!!!!!!!!!!!!!!!!!!!!!!!!\\x1b[39m\\x1b[49m\\n'\n",
      "b'\\x1b[43m\\x1b[30m!!                                                                                                                      !!\\x1b[39m\\x1b[49m\\n'\n",
      "b'\\x1b[43m\\x1b[30m!!  This software has not been tested with node v23.4.0.                                                                !!\\x1b[39m\\x1b[49m\\n'\n",
      "b'\\x1b[43m\\x1b[30m!!  Should you encounter odd runtime issues, please try using one of the supported release before filing a bug report.  !!\\x1b[39m\\x1b[49m\\n'\n",
      "b'\\x1b[43m\\x1b[30m!!                                                                                                                      !!\\x1b[39m\\x1b[49m\\n'\n",
      "b'\\x1b[43m\\x1b[30m!!  This software is currently running on node v23.4.0.                                                                 !!\\x1b[39m\\x1b[49m\\n'\n",
      "b'\\x1b[43m\\x1b[30m!!  As of the current release of this software, supported node releases are:                                            !!\\x1b[39m\\x1b[49m\\n'\n",
      "b'\\x1b[43m\\x1b[30m!!  - ^22.0.0 (Planned end-of-life: 2027-04-30)                                                                         !!\\x1b[39m\\x1b[49m\\n'\n",
      "b'\\x1b[43m\\x1b[30m!!  - ^20.0.0 (Planned end-of-life: 2026-04-30)                                                                         !!\\x1b[39m\\x1b[49m\\n'\n",
      "b'\\x1b[43m\\x1b[30m!!  - ^18.0.0 (Planned end-of-life: 2025-04-30)                                                                         !!\\x1b[39m\\x1b[49m\\n'\n",
      "b'\\x1b[43m\\x1b[30m!!                                                                                                                      !!\\x1b[39m\\x1b[49m\\n'\n",
      "b'\\x1b[43m\\x1b[30m!!  This warning can be silenced by setting the JSII_SILENCE_WARNING_UNTESTED_NODE_VERSION environment variable.        !!\\x1b[39m\\x1b[49m\\n'\n",
      "b'\\x1b[43m\\x1b[30m!!                                                                                                                      !!\\x1b[39m\\x1b[49m\\n'\n",
      "b'\\x1b[43m\\x1b[30m!!!!!!!!!!!!!!!!!!!!!!!!!!!!!!!!!!!!!!!!!!!!!!!!!!!!!!!!!!!!!!!!!!!!!!!!!!!!!!!!!!!!!!!!!!!!!!!!!!!!!!!!!!!!!!!!!!!!!!!!!!\\x1b[39m\\x1b[49m\\n'\n",
      "b'{\"stdout\":\"bG9hZGluZyBhZ2VudCBkY2NhY2I0Ny1mOTBmLTRlOTYtYmYyZi1hOTI1ODZiZGM2NDEK\"}\\n'\n"
     ]
    },
    {
     "name": "stdout",
     "output_type": "stream",
     "text": [
      "----------------------------------------------------------------------------------------------------\n",
      "Step 1\n",
      "model response {'id': 'chatcmpl-AvatfpdwIt9wxLcbwBllg9xEPx56g', 'choices': [{'finish_reason': 'tool_calls', 'index': 0, 'logprobs': None, 'message': {'content': None, 'refusal': None, 'role': 'assistant', 'audio': None, 'function_call': None, 'tool_calls': [{'id': 'call_UeE7JtcCFSv9Dmp3wwEG7Zcd', 'function': {'arguments': '{\"queryParams\":{\"keywords\":\"david twizer xpander.ai\"}}', 'name': 'LinkedInProfileServiceSearchProfilesByCriteria'}, 'type': 'function'}]}}], 'created': 1738289891, 'model': 'gpt-4o-2024-08-06', 'object': 'chat.completion', 'service_tier': 'default', 'system_fingerprint': 'fp_50cad350e4', 'usage': {'completion_tokens': 30, 'prompt_tokens': 2213, 'total_tokens': 2243, 'completion_tokens_details': {'accepted_prediction_tokens': 0, 'audio_tokens': 0, 'reasoning_tokens': 0, 'rejected_prediction_tokens': 0}, 'prompt_tokens_details': {'audio_tokens': 0, 'cached_tokens': 0}}}\n",
      "tool name:  LinkedInProfileServiceSearchProfilesByCriteria\n",
      "tool call generated payload:  {'bodyParams': {}, 'queryParams': {'keywords': 'david twizer xpander.ai'}, 'pathParams': {}, 'headers': {}}\n"
     ]
    },
    {
     "name": "stderr",
     "output_type": "stream",
     "text": [
      "b'{\"stdout\":\"cnVubmluZyB0b29sIExpbmtlZEluUHJvZmlsZVNlcnZpY2VTZWFyY2hQcm9maWxlc0J5Q3JpdGVyaWEgb24gYWdlbnQgZGNjYWNiNDctZjkwZi00ZTk2LWJmMmYtYTkyNTg2YmRjNjQxIHdpdGggZXhlY3V0aW9uIDVkM2U1NzkyLWEyYTAtNGQ2Ni1hZDFjLTY4OTRjM2M5N2U0NAo=\"}\\n'\n"
     ]
    },
    {
     "name": "stdout",
     "output_type": "stream",
     "text": [
      "tool name:  LinkedInProfileServiceSearchProfilesByCriteria\n",
      "tool status code:  200\n",
      "tool result:  {'success': True, 'message': '', 'data': {'total': 1, 'items': [{'fullName': 'David Twizer', 'headline': 'Co-Founder & CEO at xpander.ai | Ex-AWS', 'summary': 'Current: Co-Founder & CEO at xpander.ai', 'profilePicture': 'https://media.licdn.com/dms/image/v2/D4D35AQGMHPBXOHRivA/profile-framedphoto-shrink_100_100/profile-framedphoto-shrink_100_100/0/1734471164404?e=1738897200&v=beta&t=G3ZPJdRe0GdNKH9u6GOVJCoiig0rnnmXMcJoT7LVv1g', 'location': 'Tel Aviv-Yafo', 'profileURL': 'https://www.linkedin.com/in/dudutwizer', 'username': 'dudutwizer'}]}}\n",
      "----------------------------------------------------------------------------------------------------\n",
      "Step 2\n",
      "model response {'id': 'chatcmpl-Avatmxi5nO2JeEFIgirKnOjceplqN', 'choices': [{'finish_reason': 'tool_calls', 'index': 0, 'logprobs': None, 'message': {'content': None, 'refusal': None, 'role': 'assistant', 'audio': None, 'function_call': None, 'tool_calls': [{'id': 'call_bkWd5lg4A7r6DVQt9g7bi4y3', 'function': {'arguments': '{\"queryParams\":{\"username\":\"dudutwizer\"},\"bodyParams\":{},\"pathParams\":{}}', 'name': 'LinkedInProfileServiceGetProfileDataByUsernameAndId'}, 'type': 'function'}]}}], 'created': 1738289898, 'model': 'gpt-4o-2024-08-06', 'object': 'chat.completion', 'service_tier': 'default', 'system_fingerprint': 'fp_50cad350e4', 'usage': {'completion_tokens': 42, 'prompt_tokens': 2460, 'total_tokens': 2502, 'completion_tokens_details': {'accepted_prediction_tokens': 0, 'audio_tokens': 0, 'reasoning_tokens': 0, 'rejected_prediction_tokens': 0}, 'prompt_tokens_details': {'audio_tokens': 0, 'cached_tokens': 2176}}}\n",
      "tool name:  LinkedInProfileServiceGetProfileDataByUsernameAndId\n",
      "tool call generated payload:  {'bodyParams': {}, 'queryParams': {'username': 'dudutwizer'}, 'pathParams': {}, 'headers': {}}\n"
     ]
    },
    {
     "name": "stderr",
     "output_type": "stream",
     "text": [
      "b'{\"stdout\":\"cnVubmluZyB0b29sIExpbmtlZEluUHJvZmlsZVNlcnZpY2VHZXRQcm9maWxlRGF0YUJ5VXNlcm5hbWVBbmRJZCBvbiBhZ2VudCBkY2NhY2I0Ny1mOTBmLTRlOTYtYmYyZi1hOTI1ODZiZGM2NDEgd2l0aCBleGVjdXRpb24gNWQzZTU3OTItYTJhMC00ZDY2LWFkMWMtNjg5NGMzYzk3ZTQ0Cg==\"}\\n'\n"
     ]
    },
    {
     "name": "stdout",
     "output_type": "stream",
     "text": [
      "tool name:  LinkedInProfileServiceGetProfileDataByUsernameAndId\n",
      "tool status code:  200\n",
      "tool result:  {'id': 297717988, 'urn': 'ACoAABG-0OQBP0Luj9ktOKzCqfaPV_vYGMb8xi0', 'username': 'dudutwizer', 'firstName': 'David', 'lastName': 'Twizer', 'isHiring': True, 'profilePicture': 'https://media.licdn.com/dms/image/v2/C4E03AQGaEYx_ou5ESg/profile-displayphoto-shrink_800_800/profile-displayphoto-shrink_800_800/0/1663530255335?e=1743638400&v=beta&t=yerwGXgzAVoaUaEg8MvNwvx3A8UOs8ooPk7GsTpoXyk', 'backgroundImage': [{'width': 800, 'height': 200, 'url': 'https://media.licdn.com/dms/image/v2/D4D16AQH0Q3lfVxJ2tA/profile-displaybackgroundimage-shrink_200_800/profile-displaybackgroundimage-shrink_200_800/0/1726771740910?e=1743638400&v=beta&t=wQnnImoooyhP2xMkN47tuLKMIvbtrbWhl-ShCV779_Y'}, {'width': 1400, 'height': 350, 'url': 'https://media.licdn.com/dms/image/v2/D4D16AQH0Q3lfVxJ2tA/profile-displaybackgroundimage-shrink_350_1400/profile-displaybackgroundimage-shrink_350_1400/0/1726771740910?e=1743638400&v=beta&t=3bTZiQp4sIDHXUwIVNrRHQ3ao-0mOoKNOoa6vqzM_LI'}], 'summary': 'Experienced Cloud Solutions Architect with a demonstrated history of working in the information technology and services industry. ', 'headline': 'Co-Founder & CEO at xpander.ai | Ex-AWS', 'geo': {'country': 'Israel', 'city': 'Tel Aviv-Yafo, Tel Aviv District', 'full': 'Tel Aviv-Yafo, Tel Aviv District, Israel', 'countryCode': 'il'}, 'languages': [{'name': 'English', 'proficiency': ''}, {'name': 'Hebrew', 'proficiency': ''}], 'educations': [{'start': {'year': 2013, 'month': 0, 'day': 0}, 'end': {'year': 2015, 'month': 0, 'day': 0}, 'fieldOfStudy': 'Computer Science', 'degree': 'Computer science', 'grade': '', 'schoolName': 'The College of Management Academic Studies', 'description': '', 'activities': '', 'url': 'https://www.linkedin.com/school/the-college-of-management/', 'schoolId': '15095076', 'logo': [{'url': 'https://media.licdn.com/dms/image/v2/D4D0BAQHiPYPt3sd-lQ/company-logo_200_200/company-logo_200_200/0/1738062510650/the_college_of_management_logo?e=1746662400&v=beta&t=RWYoaY6zfGZlvdjRbffiCFzmIzxDBa_xXMwWBfk64ak', 'width': 200, 'height': 200}, {'url': 'https://media.licdn.com/dms/image/v2/D4D0BAQHiPYPt3sd-lQ/company-logo_100_100/company-logo_100_100/0/1738062510650/the_college_of_management_logo?e=1746662400&v=beta&t=Fz8Z4czvaaWWnPV0sf9zdIYTMLPXgWRx5_GVYPu3WrI', 'width': 100, 'height': 100}, {'url': 'https://media.licdn.com/dms/image/v2/D4D0BAQHiPYPt3sd-lQ/company-logo_400_400/company-logo_400_400/0/1738062510651/the_college_of_management_logo?e=1746662400&v=beta&t=a7DbmOtk48f6sh7xyBkrvXieTF6-OLHdWHkD4c7VyZ8', 'width': 400, 'height': 400}]}, {'start': {'year': 2015, 'month': 0, 'day': 0}, 'end': {'year': 2017, 'month': 0, 'day': 0}, 'fieldOfStudy': 'Business Administration and Management, General', 'degree': 'Bachelor of Business Administration (B.B.A.)', 'grade': '', 'schoolName': 'Ruppin Academic Center', 'description': '', 'activities': '', 'url': 'https://www.linkedin.com/school/ruppin-academic-center/', 'schoolId': '1575034', 'logo': [{'url': 'https://media.licdn.com/dms/image/v2/D4D0BAQGRQKO2P3aJ_A/company-logo_200_200/company-logo_200_200/0/1735555504581/ruppin_academic_center_logo?e=1746662400&v=beta&t=rQA-PtUin2XFQ_uMgjz-_hzzN2Y9oioBUnbxRKPQDmo', 'width': 200, 'height': 200}, {'url': 'https://media.licdn.com/dms/image/v2/D4D0BAQGRQKO2P3aJ_A/company-logo_100_100/company-logo_100_100/0/1735555504581/ruppin_academic_center_logo?e=1746662400&v=beta&t=he_Pgqju0PhQYImCQJAtGpqCq16o60jZLq7EM-EkycM', 'width': 100, 'height': 100}, {'url': 'https://media.licdn.com/dms/image/v2/D4D0BAQGRQKO2P3aJ_A/company-logo_400_400/company-logo_400_400/0/1735555504581/ruppin_academic_center_logo?e=1746662400&v=beta&t=mEXoF5ERPnPLLM-e9XBO4NExldrbJ9LfqNd8k6SqFxA', 'width': 400, 'height': 400}]}, {'start': {'year': 2009, 'month': 0, 'day': 0}, 'end': {'year': 2009, 'month': 0, 'day': 0}, 'fieldOfStudy': 'Systems Engineering', 'degree': '', 'grade': '', 'schoolName': 'Basmach IDF School', 'description': 'Idf training for new system administrators.', 'activities': '', 'url': '', 'schoolId': ''}], 'position': [{'companyId': 104346002, 'companyName': 'xpander.ai', 'companyUsername': 'xpander-ai', 'companyURL': 'https://www.linkedin.com/company/xpander-ai/', 'companyLogo': 'https://media.licdn.com/dms/image/v2/D4D0BAQGbFHswKC5nMQ/company-logo_400_400/company-logo_400_400/0/1726749238011/xpander_ai_logo?e=1746662400&v=beta&t=RKUSDyRu4zPMCUBEIxitwNnjpAbCuw-iJIekkJ6zZSk', 'companyIndustry': 'Computer Software', 'companyStaffCountRange': '11 - 50', 'title': 'Co-Founder & CEO', 'multiLocaleTitle': {'en_US': 'Co-Founder & CEO'}, 'multiLocaleCompanyName': {'en_US': 'xpander.ai'}, 'location': '', 'description': 'At xpander.ai, we empower AI Engineers and AI Leaders to build intelligent AI Agents that execute complex, multi-step actions across systems, access real-time data from custom APIs, and seamlessly integrate with both internal and external SaaS platforms.', 'employmentType': 'Full-time', 'start': {'year': 2024, 'month': 1, 'day': 0}, 'end': {'year': 0, 'month': 0, 'day': 0}}, {'companyId': 2382910, 'companyName': 'Amazon Web Services (AWS)', 'companyUsername': 'amazon-web-services', 'companyURL': 'https://www.linkedin.com/company/amazon-web-services/', 'companyLogo': 'https://media.licdn.com/dms/image/v2/C560BAQER_QnUTXrPJw/company-logo_400_400/company-logo_400_400/0/1670264051233/amazon_web_services_logo?e=1746662400&v=beta&t=k6HDYSSsDGZSDQgr6x5TEUT65bqIs4IrG4NaNuZHTmg', 'companyIndustry': 'Information Technology & Services', 'companyStaffCountRange': '10001+', 'title': 'Sr. Manager, GenAI Specialist SA', 'multiLocaleTitle': {'en_US': 'Sr. Manager, GenAI Specialist SA'}, 'multiLocaleCompanyName': {'en_US': 'Amazon Web Services (AWS)'}, 'location': '', 'description': 'I lead the team of GenAI Specialist SAs that helps companies across EMEA accelerate their GenAI projects.', 'employmentType': 'Full-time', 'start': {'year': 2022, 'month': 8, 'day': 0}, 'end': {'year': 2023, 'month': 12, 'day': 0}}, {'companyId': 2382910, 'companyName': 'Amazon Web Services (AWS)', 'companyUsername': 'amazon-web-services', 'companyURL': 'https://www.linkedin.com/company/amazon-web-services/', 'companyLogo': 'https://media.licdn.com/dms/image/v2/C560BAQER_QnUTXrPJw/company-logo_400_400/company-logo_400_400/0/1670264051233/amazon_web_services_logo?e=1746662400&v=beta&t=k6HDYSSsDGZSDQgr6x5TEUT65bqIs4IrG4NaNuZHTmg', 'companyIndustry': 'Information Technology & Services', 'companyStaffCountRange': '10001+', 'title': 'Principal Solutions Architect', 'multiLocaleTitle': {'en_US': 'Principal Solutions Architect'}, 'multiLocaleCompanyName': {'en_US': 'Amazon Web Services (AWS)'}, 'location': 'Tel Aviv, Israel', 'description': 'I lead the most complex and challenging customer’s workloads, and mentor other Solutions Architects across the organization. I influence the design and implementation of new AWS services, help define the roadmap for Microsoft related Services (Amazon RDS, Amazon FSx, AWS Managed AD, AWS SSM).\\n\\nI work autonomously on bringing ideas to market, influencing the global leadership team, service teams, and region specific leaders to promote ideas, obtain investments, and engage on a wider scale in order to help AWS customers succeed in their cloud adoption journey.', 'employmentType': 'Full-time', 'start': {'year': 2020, 'month': 9, 'day': 0}, 'end': {'year': 2022, 'month': 8, 'day': 0}}, {'companyId': 2382910, 'companyName': 'Amazon Web Services (AWS)', 'companyUsername': 'amazon-web-services', 'companyURL': 'https://www.linkedin.com/company/amazon-web-services/', 'companyLogo': 'https://media.licdn.com/dms/image/v2/C560BAQER_QnUTXrPJw/company-logo_400_400/company-logo_400_400/0/1670264051233/amazon_web_services_logo?e=1746662400&v=beta&t=k6HDYSSsDGZSDQgr6x5TEUT65bqIs4IrG4NaNuZHTmg', 'companyIndustry': 'Information Technology & Services', 'companyStaffCountRange': '10001+', 'title': 'Specialist Solutions Architect', 'multiLocaleTitle': {'en_US': 'Specialist Solutions Architect'}, 'multiLocaleCompanyName': {'en_US': 'Amazon Web Services (AWS)'}, 'location': 'Tel Aviv Area, Israel', 'description': 'I lead lighthouse customers’ migrations to AWS cloud. I help customers adopt AWS for their .NET & Microsoft workloads by designing well-architected AWS solutions. I’m also an active contributor to AWS service teams.', 'employmentType': '', 'start': {'year': 2018, 'month': 10, 'day': 0}, 'end': {'year': 2020, 'month': 9, 'day': 0}}, {'companyId': 2382910, 'companyName': 'Amazon Web Services (AWS)', 'companyUsername': 'amazon-web-services', 'companyURL': 'https://www.linkedin.com/company/amazon-web-services/', 'companyLogo': 'https://media.licdn.com/dms/image/v2/C560BAQER_QnUTXrPJw/company-logo_400_400/company-logo_400_400/0/1670264051233/amazon_web_services_logo?e=1746662400&v=beta&t=k6HDYSSsDGZSDQgr6x5TEUT65bqIs4IrG4NaNuZHTmg', 'companyIndustry': 'Information Technology & Services', 'companyStaffCountRange': '10001+', 'title': 'Technical Account Manager', 'multiLocaleTitle': {'en_US': 'Technical Account Manager'}, 'multiLocaleCompanyName': {'en_US': 'Amazon Web Services (AWS)'}, 'location': 'Israel', 'description': 'Ensure key enterprise customer success in building their applications and services on the AWS platform, also provide assistance to the customer as a trusted advisor on the full line of AWS services.', 'employmentType': '', 'start': {'year': 2017, 'month': 7, 'day': 0}, 'end': {'year': 2018, 'month': 10, 'day': 0}}, {'companyId': 152268, 'companyName': 'Comm-IT', 'companyUsername': 'comm-it', 'companyURL': 'https://www.linkedin.com/company/comm-it/', 'companyLogo': 'https://media.licdn.com/dms/image/v2/C4D0BAQFt3OoTFjD6oQ/company-logo_400_400/company-logo_400_400/0/1674997480725/comm_it_logo?e=1746662400&v=beta&t=iJgiqLw9yGJrhuCi9yZBO2ecLioCvXsgaxhreaGgswg', 'companyIndustry': 'Computer Software', 'companyStaffCountRange': '501 - 1000', 'title': 'Senior Solutions Architect', 'multiLocaleTitle': {'en_US': 'Senior Solutions Architect'}, 'multiLocaleCompanyName': {'en_US': 'Comm-IT'}, 'location': '', 'description': '', 'employmentType': '', 'start': {'year': 2016, 'month': 1, 'day': 0}, 'end': {'year': 2017, 'month': 6, 'day': 0}}, {'companyId': 152268, 'companyName': 'Comm-IT', 'companyUsername': 'comm-it', 'companyURL': 'https://www.linkedin.com/company/comm-it/', 'companyLogo': 'https://media.licdn.com/dms/image/v2/C4D0BAQFt3OoTFjD6oQ/company-logo_400_400/company-logo_400_400/0/1674997480725/comm_it_logo?e=1746662400&v=beta&t=iJgiqLw9yGJrhuCi9yZBO2ecLioCvXsgaxhreaGgswg', 'companyIndustry': 'Computer Software', 'companyStaffCountRange': '501 - 1000', 'title': 'Senior Information Technology Engineer', 'multiLocaleTitle': {'en_US': 'Senior Information Technology Engineer'}, 'multiLocaleCompanyName': {'en_US': 'Comm-IT'}, 'location': '', 'description': '', 'employmentType': '', 'start': {'year': 2014, 'month': 9, 'day': 0}, 'end': {'year': 2016, 'month': 9, 'day': 0}}, {'companyId': 11689046, 'companyName': 'IDF - Israel Defense Forces', 'companyUsername': 'israeldefenseforces', 'companyURL': 'https://www.linkedin.com/company/israeldefenseforces/', 'companyLogo': 'https://media.licdn.com/dms/image/v2/D4D0BAQGFvdKBX-qv5Q/company-logo_400_400/company-logo_400_400/0/1698509824082?e=1746662400&v=beta&t=aGl5tIUj5dM2UpsMrgKxyDlrcxQT9oDJMpLL50O9PnE', 'companyIndustry': 'Military', 'companyStaffCountRange': '10001+', 'title': 'Head of DevOps', 'multiLocaleTitle': {'en_US': 'Head of DevOps'}, 'multiLocaleCompanyName': {'en_US': 'IDF - Israel Defense Forces'}, 'location': '', 'description': '', 'employmentType': '', 'start': {'year': 2012, 'month': 0, 'day': 0}, 'end': {'year': 2014, 'month': 9, 'day': 0}}, {'companyId': 11689046, 'companyName': 'IDF - Israel Defense Forces', 'companyUsername': 'israeldefenseforces', 'companyURL': 'https://www.linkedin.com/company/israeldefenseforces/', 'companyLogo': 'https://media.licdn.com/dms/image/v2/D4D0BAQGFvdKBX-qv5Q/company-logo_400_400/company-logo_400_400/0/1698509824082?e=1746662400&v=beta&t=aGl5tIUj5dM2UpsMrgKxyDlrcxQT9oDJMpLL50O9PnE', 'companyIndustry': 'Military', 'companyStaffCountRange': '10001+', 'title': 'DevOps Engineer', 'multiLocaleTitle': {'en_US': 'DevOps Engineer'}, 'multiLocaleCompanyName': {'en_US': 'IDF - Israel Defense Forces'}, 'location': '', 'description': '', 'employmentType': '', 'start': {'year': 2009, 'month': 0, 'day': 0}, 'end': {'year': 2012, 'month': 0, 'day': 0}}], 'fullPositions': [{'companyId': 104346002, 'companyName': 'xpander.ai', 'companyUsername': 'xpander-ai', 'companyURL': 'https://www.linkedin.com/company/xpander-ai/', 'companyLogo': 'https://media.licdn.com/dms/image/v2/D4D0BAQGbFHswKC5nMQ/company-logo_400_400/company-logo_400_400/0/1726749238011/xpander_ai_logo?e=1746662400&v=beta&t=RKUSDyRu4zPMCUBEIxitwNnjpAbCuw-iJIekkJ6zZSk', 'companyIndustry': 'Computer Software', 'companyStaffCountRange': '11 - 50', 'title': 'Co-Founder & CEO', 'multiLocaleTitle': {'en_US': 'Co-Founder & CEO'}, 'multiLocaleCompanyName': {'en_US': 'xpander.ai'}, 'location': '', 'description': 'At xpander.ai, we empower AI Engineers and AI Leaders to build intelligent AI Agents that execute complex, multi-step actions across systems, access real-time data from custom APIs, and seamlessly integrate with both internal and external SaaS platforms.', 'employmentType': 'Full-time', 'start': {'year': 2024, 'month': 1, 'day': 0}, 'end': {'year': 0, 'month': 0, 'day': 0}}, {'companyId': 2382910, 'companyName': 'Amazon Web Services (AWS)', 'companyUsername': 'amazon-web-services', 'companyURL': 'https://www.linkedin.com/company/amazon-web-services/', 'companyLogo': 'https://media.licdn.com/dms/image/v2/C560BAQER_QnUTXrPJw/company-logo_400_400/company-logo_400_400/0/1670264051233/amazon_web_services_logo?e=1746662400&v=beta&t=k6HDYSSsDGZSDQgr6x5TEUT65bqIs4IrG4NaNuZHTmg', 'companyIndustry': 'Information Technology & Services', 'companyStaffCountRange': '10001+', 'title': 'Sr. Manager, GenAI Specialist SA', 'multiLocaleTitle': {'en_US': 'Sr. Manager, GenAI Specialist SA'}, 'multiLocaleCompanyName': {'en_US': 'Amazon Web Services (AWS)'}, 'location': '', 'description': 'I lead the team of GenAI Specialist SAs that helps companies across EMEA accelerate their GenAI projects.', 'employmentType': 'Full-time', 'start': {'year': 2022, 'month': 8, 'day': 0}, 'end': {'year': 2023, 'month': 12, 'day': 0}}, {'companyId': 2382910, 'companyName': 'Amazon Web Services (AWS)', 'companyUsername': 'amazon-web-services', 'companyURL': 'https://www.linkedin.com/company/amazon-web-services/', 'companyLogo': 'https://media.licdn.com/dms/image/v2/C560BAQER_QnUTXrPJw/company-logo_400_400/company-logo_400_400/0/1670264051233/amazon_web_services_logo?e=1746662400&v=beta&t=k6HDYSSsDGZSDQgr6x5TEUT65bqIs4IrG4NaNuZHTmg', 'companyIndustry': 'Information Technology & Services', 'companyStaffCountRange': '10001+', 'title': 'Principal Solutions Architect', 'multiLocaleTitle': {'en_US': 'Principal Solutions Architect'}, 'multiLocaleCompanyName': {'en_US': 'Amazon Web Services (AWS)'}, 'location': 'Tel Aviv, Israel', 'description': 'I lead the most complex and challenging customer’s workloads, and mentor other Solutions Architects across the organization. I influence the design and implementation of new AWS services, help define the roadmap for Microsoft related Services (Amazon RDS, Amazon FSx, AWS Managed AD, AWS SSM).\\n\\nI work autonomously on bringing ideas to market, influencing the global leadership team, service teams, and region specific leaders to promote ideas, obtain investments, and engage on a wider scale in order to help AWS customers succeed in their cloud adoption journey.', 'employmentType': 'Full-time', 'start': {'year': 2020, 'month': 9, 'day': 0}, 'end': {'year': 2022, 'month': 8, 'day': 0}}, {'companyId': 2382910, 'companyName': 'Amazon Web Services (AWS)', 'companyUsername': 'amazon-web-services', 'companyURL': 'https://www.linkedin.com/company/amazon-web-services/', 'companyLogo': 'https://media.licdn.com/dms/image/v2/C560BAQER_QnUTXrPJw/company-logo_400_400/company-logo_400_400/0/1670264051233/amazon_web_services_logo?e=1746662400&v=beta&t=k6HDYSSsDGZSDQgr6x5TEUT65bqIs4IrG4NaNuZHTmg', 'companyIndustry': 'Information Technology & Services', 'companyStaffCountRange': '10001+', 'title': 'Specialist Solutions Architect', 'multiLocaleTitle': {'en_US': 'Specialist Solutions Architect'}, 'multiLocaleCompanyName': {'en_US': 'Amazon Web Services (AWS)'}, 'location': 'Tel Aviv Area, Israel', 'description': 'I lead lighthouse customers’ migrations to AWS cloud. I help customers adopt AWS for their .NET & Microsoft workloads by designing well-architected AWS solutions. I’m also an active contributor to AWS service teams.', 'employmentType': '', 'start': {'year': 2018, 'month': 10, 'day': 0}, 'end': {'year': 2020, 'month': 9, 'day': 0}}, {'companyId': 2382910, 'companyName': 'Amazon Web Services (AWS)', 'companyUsername': 'amazon-web-services', 'companyURL': 'https://www.linkedin.com/company/amazon-web-services/', 'companyLogo': 'https://media.licdn.com/dms/image/v2/C560BAQER_QnUTXrPJw/company-logo_400_400/company-logo_400_400/0/1670264051233/amazon_web_services_logo?e=1746662400&v=beta&t=k6HDYSSsDGZSDQgr6x5TEUT65bqIs4IrG4NaNuZHTmg', 'companyIndustry': 'Information Technology & Services', 'companyStaffCountRange': '10001+', 'title': 'Technical Account Manager', 'multiLocaleTitle': {'en_US': 'Technical Account Manager'}, 'multiLocaleCompanyName': {'en_US': 'Amazon Web Services (AWS)'}, 'location': 'Israel', 'description': 'Ensure key enterprise customer success in building their applications and services on the AWS platform, also provide assistance to the customer as a trusted advisor on the full line of AWS services.', 'employmentType': '', 'start': {'year': 2017, 'month': 7, 'day': 0}, 'end': {'year': 2018, 'month': 10, 'day': 0}}, {'companyId': 152268, 'companyName': 'Comm-IT', 'companyUsername': 'comm-it', 'companyURL': 'https://www.linkedin.com/company/comm-it/', 'companyLogo': 'https://media.licdn.com/dms/image/v2/C4D0BAQFt3OoTFjD6oQ/company-logo_400_400/company-logo_400_400/0/1674997480725/comm_it_logo?e=1746662400&v=beta&t=iJgiqLw9yGJrhuCi9yZBO2ecLioCvXsgaxhreaGgswg', 'companyIndustry': 'Computer Software', 'companyStaffCountRange': '501 - 1000', 'title': 'Senior Solutions Architect', 'multiLocaleTitle': {'en_US': 'Senior Solutions Architect'}, 'multiLocaleCompanyName': {'en_US': 'Comm-IT'}, 'location': '', 'description': '', 'employmentType': '', 'start': {'year': 2016, 'month': 1, 'day': 0}, 'end': {'year': 2017, 'month': 6, 'day': 0}}, {'companyId': 152268, 'companyName': 'Comm-IT', 'companyUsername': 'comm-it', 'companyURL': 'https://www.linkedin.com/company/comm-it/', 'companyLogo': 'https://media.licdn.com/dms/image/v2/C4D0BAQFt3OoTFjD6oQ/company-logo_400_400/company-logo_400_400/0/1674997480725/comm_it_logo?e=1746662400&v=beta&t=iJgiqLw9yGJrhuCi9yZBO2ecLioCvXsgaxhreaGgswg', 'companyIndustry': 'Computer Software', 'companyStaffCountRange': '501 - 1000', 'title': 'Senior Information Technology Engineer', 'multiLocaleTitle': {'en_US': 'Senior Information Technology Engineer'}, 'multiLocaleCompanyName': {'en_US': 'Comm-IT'}, 'location': '', 'description': '', 'employmentType': '', 'start': {'year': 2014, 'month': 9, 'day': 0}, 'end': {'year': 2016, 'month': 9, 'day': 0}}, {'companyId': 11689046, 'companyName': 'IDF - Israel Defense Forces', 'companyUsername': 'israeldefenseforces', 'companyURL': 'https://www.linkedin.com/company/israeldefenseforces/', 'companyLogo': 'https://media.licdn.com/dms/image/v2/D4D0BAQGFvdKBX-qv5Q/company-logo_400_400/company-logo_400_400/0/1698509824082?e=1746662400&v=beta&t=aGl5tIUj5dM2UpsMrgKxyDlrcxQT9oDJMpLL50O9PnE', 'companyIndustry': 'Military', 'companyStaffCountRange': '10001+', 'title': 'Head of DevOps', 'multiLocaleTitle': {'en_US': 'Head of DevOps'}, 'multiLocaleCompanyName': {'en_US': 'IDF - Israel Defense Forces'}, 'location': '', 'description': '', 'employmentType': '', 'start': {'year': 2012, 'month': 0, 'day': 0}, 'end': {'year': 2014, 'month': 9, 'day': 0}}, {'companyId': 11689046, 'companyName': 'IDF - Israel Defense Forces', 'companyUsername': 'israeldefenseforces', 'companyURL': 'https://www.linkedin.com/company/israeldefenseforces/', 'companyLogo': 'https://media.licdn.com/dms/image/v2/D4D0BAQGFvdKBX-qv5Q/company-logo_400_400/company-logo_400_400/0/1698509824082?e=1746662400&v=beta&t=aGl5tIUj5dM2UpsMrgKxyDlrcxQT9oDJMpLL50O9PnE', 'companyIndustry': 'Military', 'companyStaffCountRange': '10001+', 'title': 'DevOps Engineer', 'multiLocaleTitle': {'en_US': 'DevOps Engineer'}, 'multiLocaleCompanyName': {'en_US': 'IDF - Israel Defense Forces'}, 'location': '', 'description': '', 'employmentType': '', 'start': {'year': 2009, 'month': 0, 'day': 0}, 'end': {'year': 2012, 'month': 0, 'day': 0}}], 'skills': [{'name': 'Active Directory', 'passedSkillAssessment': False, 'endorsementsCount': 28}, {'name': 'Integration', 'passedSkillAssessment': False, 'endorsementsCount': 18}, {'name': 'Windows Server', 'passedSkillAssessment': False, 'endorsementsCount': 13}, {'name': 'System Administration', 'passedSkillAssessment': False, 'endorsementsCount': 15}, {'name': 'VMware', 'passedSkillAssessment': False, 'endorsementsCount': 26}, {'name': 'Microsoft SQL Server', 'passedSkillAssessment': False, 'endorsementsCount': 9}, {'name': 'Servers', 'passedSkillAssessment': False, 'endorsementsCount': 8}, {'name': 'Microsoft Exchange', 'passedSkillAssessment': False, 'endorsementsCount': 6}, {'name': 'Operating Systems', 'passedSkillAssessment': False, 'endorsementsCount': 20}, {'name': 'Windows', 'passedSkillAssessment': False, 'endorsementsCount': 8}, {'name': 'IIS', 'passedSkillAssessment': False, 'endorsementsCount': 6}, {'name': 'DNS', 'passedSkillAssessment': False, 'endorsementsCount': 16}, {'name': 'Virtualization', 'passedSkillAssessment': False, 'endorsementsCount': 11}, {'name': 'VMware ESX', 'passedSkillAssessment': False, 'endorsementsCount': 8}, {'name': 'Troubleshooting', 'passedSkillAssessment': False, 'endorsementsCount': 7}, {'name': 'Team Leadership', 'passedSkillAssessment': False, 'endorsementsCount': 8}, {'name': 'Databases', 'passedSkillAssessment': False, 'endorsementsCount': 8}, {'name': 'Computer Hardware', 'passedSkillAssessment': False, 'endorsementsCount': 3}, {'name': 'Disaster Recovery', 'passedSkillAssessment': False, 'endorsementsCount': 4}, {'name': 'Windows XP', 'passedSkillAssessment': False, 'endorsementsCount': 5}, {'name': 'IT Operations', 'passedSkillAssessment': False, 'endorsementsCount': 5}, {'name': 'SAN', 'passedSkillAssessment': False, 'endorsementsCount': 3}, {'name': 'VMware Infrastructure', 'passedSkillAssessment': False, 'endorsementsCount': 6}, {'name': 'Cluster', 'passedSkillAssessment': False, 'endorsementsCount': 5}, {'name': 'Storage', 'passedSkillAssessment': False, 'endorsementsCount': 10}, {'name': 'High Availability', 'passedSkillAssessment': False, 'endorsementsCount': 5}, {'name': 'Cloud Computing', 'passedSkillAssessment': False, 'endorsementsCount': 4}, {'name': 'NetApp', 'passedSkillAssessment': False, 'endorsementsCount': 3}, {'name': 'Microsoft Servers', 'passedSkillAssessment': False, 'endorsementsCount': 3}, {'name': 'SQL', 'passedSkillAssessment': False, 'endorsementsCount': 15}, {'name': 'Database Administration', 'passedSkillAssessment': False, 'endorsementsCount': 3}, {'name': 'Citrix', 'passedSkillAssessment': False, 'endorsementsCount': 3}, {'name': 'Data Center', 'passedSkillAssessment': False, 'endorsementsCount': 12}, {'name': 'vSphere', 'passedSkillAssessment': False, 'endorsementsCount': 6}, {'name': 'SharePoint', 'passedSkillAssessment': False, 'endorsementsCount': 3}, {'name': 'IT Management', 'passedSkillAssessment': False, 'endorsementsCount': 4}, {'name': 'Group Policy', 'passedSkillAssessment': False, 'endorsementsCount': 3}, {'name': 'Information Technology', 'passedSkillAssessment': False, 'endorsementsCount': 5}, {'name': 'Server Architecture', 'passedSkillAssessment': False}, {'name': 'System Deployment', 'passedSkillAssessment': False}, {'name': 'Powershell', 'passedSkillAssessment': False, 'endorsementsCount': 2}, {'name': 'Hardware', 'passedSkillAssessment': False, 'endorsementsCount': 2}, {'name': 'Microsoft Technologies', 'passedSkillAssessment': False, 'endorsementsCount': 3}, {'name': 'WSUS', 'passedSkillAssessment': False}, {'name': 'Microsoft Certified Professional', 'passedSkillAssessment': False}, {'name': 'Server Administration', 'passedSkillAssessment': False}, {'name': 'NAS', 'passedSkillAssessment': False}, {'name': 'VMware vSphere', 'passedSkillAssessment': False, 'endorsementsCount': 2}, {'name': 'Azure', 'passedSkillAssessment': False}, {'name': 'Information Security', 'passedSkillAssessment': False}], 'certifications': [{'name': 'AWS Certified Solutions Architect - Associate', 'start': {'year': 0, 'month': 0, 'day': 0}, 'end': {'year': 0, 'month': 0, 'day': 0}, 'authority': 'Amazon', 'company': {'name': 'Amazon', 'universalName': 'amazon', 'logo': 'https://media.licdn.com/dms/image/v2/C560BAQHTvZwCx4p2Qg/company-logo_200_200/company-logo_200_200/0/1630640869849/amazon_logo?e=1746662400&v=beta&t=l0ByYUv5aPnjG6rXuaQtxssaVaCXP5RYcHIrj_mnIlY', 'staffCountRange': {}, 'headquarter': {}}, 'timePeriod': {'start': {'year': 0, 'month': 0, 'day': 0}, 'end': {'year': 0, 'month': 0, 'day': 0}}}, {'name': 'AWS Certified Solutions Architect - Professional', 'start': {'year': 0, 'month': 0, 'day': 0}, 'end': {'year': 0, 'month': 0, 'day': 0}, 'authority': 'Amazon', 'company': {'name': 'Amazon', 'universalName': 'amazon', 'logo': 'https://media.licdn.com/dms/image/v2/C560BAQHTvZwCx4p2Qg/company-logo_200_200/company-logo_200_200/0/1630640869849/amazon_logo?e=1746662400&v=beta&t=l0ByYUv5aPnjG6rXuaQtxssaVaCXP5RYcHIrj_mnIlY', 'staffCountRange': {}, 'headquarter': {}}, 'timePeriod': {'start': {'year': 0, 'month': 0, 'day': 0}, 'end': {'year': 0, 'month': 0, 'day': 0}}}, {'name': 'AWS Certified SysOps Administrator - Associate', 'start': {'year': 0, 'month': 0, 'day': 0}, 'end': {'year': 0, 'month': 0, 'day': 0}, 'authority': 'Amazon', 'company': {'name': 'Amazon', 'universalName': 'amazon', 'logo': 'https://media.licdn.com/dms/image/v2/C560BAQHTvZwCx4p2Qg/company-logo_200_200/company-logo_200_200/0/1630640869849/amazon_logo?e=1746662400&v=beta&t=l0ByYUv5aPnjG6rXuaQtxssaVaCXP5RYcHIrj_mnIlY', 'staffCountRange': {}, 'headquarter': {}}, 'timePeriod': {'start': {'year': 0, 'month': 0, 'day': 0}, 'end': {'year': 0, 'month': 0, 'day': 0}}}, {'name': 'MCSE 70-410', 'start': {'year': 0, 'month': 0, 'day': 0}, 'end': {'year': 0, 'month': 0, 'day': 0}, 'authority': 'Microsoft', 'company': {'name': 'Microsoft', 'universalName': 'microsoft', 'logo': 'https://media.licdn.com/dms/image/v2/C560BAQE88xCsONDULQ/company-logo_200_200/company-logo_200_200/0/1630652622688/microsoft_logo?e=1746662400&v=beta&t=MJTHVGmKyYPEvPezfAPbB9GsGk4sy6dk283etDiA6DA', 'staffCountRange': {}, 'headquarter': {}}, 'timePeriod': {'start': {'year': 0, 'month': 0, 'day': 0}, 'end': {'year': 0, 'month': 0, 'day': 0}}}], 'projects': {}, 'supportedLocales': [{'country': 'US', 'language': 'en'}], 'multiLocaleFirstName': {'en': 'David'}, 'multiLocaleLastName': {'en': 'Twizer'}, 'multiLocaleHeadline': {'en': 'Co-Founder & CEO at xpander.ai | Ex-AWS'}}\n",
      "----------------------------------------------------------------------------------------------------\n",
      "Step 3\n",
      "model response {'id': 'chatcmpl-AvatvQkjrOHZD8Ude0PoCo60BnOLO', 'choices': [{'finish_reason': 'tool_calls', 'index': 0, 'logprobs': None, 'message': {'content': None, 'refusal': None, 'role': 'assistant', 'audio': None, 'function_call': None, 'tool_calls': [{'id': 'call_FjoLOxAaMbApJNTDn1XWr79y', 'function': {'arguments': '{\"bodyParams\":{\"result\":\"**David Twizer** is the Co-Founder & CEO of xpander.ai, a company focused on empowering AI Engineers and AI Leaders to build intelligent AI Agents. He has a rich background in cloud solutions and has previously worked at Amazon Web Services (AWS) in various roles, including Sr. Manager, GenAI Specialist SA, and Principal Solutions Architect.\\\\n\\\\n### Professional Experience:\\\\n- **xpander.ai**: Co-Founder & CEO (2024 - Present)\\\\n- **Amazon Web Services (AWS)**:\\\\n  - Sr. Manager, GenAI Specialist SA (2022 - 2023)\\\\n  - Principal Solutions Architect (2020 - 2022)\\\\n  - Specialist Solutions Architect (2018 - 2020)\\\\n  - Technical Account Manager (2017 - 2018)\\\\n- **Comm-IT**: Senior Solutions Architect and Senior Information Technology Engineer (2014 - 2017)\\\\n- **IDF - Israel Defense Forces**: Head of DevOps and DevOps Engineer (2009 - 2014)\\\\n\\\\n### Education:\\\\n- **The College of Management Academic Studies**: Computer Science (2013 - 2015)\\\\n- **Ruppin Academic Center**: Bachelor of Business Administration (B.B.A.) in Business Administration and Management (2015 - 2017)\\\\n- **Basmach IDF School**: Systems Engineering (2009)\\\\n\\\\n### Skills:\\\\nDavid has a wide range of skills including Active Directory, Integration, Windows Server, System Administration, VMware, and Cloud Computing, among others.\\\\n\\\\n### Certifications:\\\\n- AWS Certified Solutions Architect - Associate\\\\n- AWS Certified Solutions Architect - Professional\\\\n- AWS Certified SysOps Administrator - Associate\\\\n- MCSE 70-410\\\\n\\\\n### Location:\\\\nDavid is based in Tel Aviv-Yafo, Tel Aviv District, Israel.\\\\n\\\\n### Languages:\\\\nHe is proficient in English and Hebrew.\\\\n\\\\nFor more details, you can view his [LinkedIn profile](https://www.linkedin.com/in/dudutwizer).\",\"is_success\":true},\"queryParams\":{},\"pathParams\":{}}', 'name': 'xpfinish-agent-execution-finished'}, 'type': 'function'}]}}], 'created': 1738289907, 'model': 'gpt-4o-2024-08-06', 'object': 'chat.completion', 'service_tier': 'default', 'system_fingerprint': 'fp_50cad350e4', 'usage': {'completion_tokens': 464, 'prompt_tokens': 11333, 'total_tokens': 11797, 'completion_tokens_details': {'accepted_prediction_tokens': 0, 'audio_tokens': 0, 'reasoning_tokens': 0, 'rejected_prediction_tokens': 0}, 'prompt_tokens_details': {'audio_tokens': 0, 'cached_tokens': 2432}}}\n",
      "tool name:  xpfinish-agent-execution-finished\n",
      "tool call generated payload:  {'bodyParams': {'result': '**David Twizer** is the Co-Founder & CEO of xpander.ai, a company focused on empowering AI Engineers and AI Leaders to build intelligent AI Agents. He has a rich background in cloud solutions and has previously worked at Amazon Web Services (AWS) in various roles, including Sr. Manager, GenAI Specialist SA, and Principal Solutions Architect.\\n\\n### Professional Experience:\\n- **xpander.ai**: Co-Founder & CEO (2024 - Present)\\n- **Amazon Web Services (AWS)**:\\n  - Sr. Manager, GenAI Specialist SA (2022 - 2023)\\n  - Principal Solutions Architect (2020 - 2022)\\n  - Specialist Solutions Architect (2018 - 2020)\\n  - Technical Account Manager (2017 - 2018)\\n- **Comm-IT**: Senior Solutions Architect and Senior Information Technology Engineer (2014 - 2017)\\n- **IDF - Israel Defense Forces**: Head of DevOps and DevOps Engineer (2009 - 2014)\\n\\n### Education:\\n- **The College of Management Academic Studies**: Computer Science (2013 - 2015)\\n- **Ruppin Academic Center**: Bachelor of Business Administration (B.B.A.) in Business Administration and Management (2015 - 2017)\\n- **Basmach IDF School**: Systems Engineering (2009)\\n\\n### Skills:\\nDavid has a wide range of skills including Active Directory, Integration, Windows Server, System Administration, VMware, and Cloud Computing, among others.\\n\\n### Certifications:\\n- AWS Certified Solutions Architect - Associate\\n- AWS Certified Solutions Architect - Professional\\n- AWS Certified SysOps Administrator - Associate\\n- MCSE 70-410\\n\\n### Location:\\nDavid is based in Tel Aviv-Yafo, Tel Aviv District, Israel.\\n\\n### Languages:\\nHe is proficient in English and Hebrew.\\n\\nFor more details, you can view his [LinkedIn profile](https://www.linkedin.com/in/dudutwizer).', 'is_success': True}, 'queryParams': {}, 'pathParams': {}, 'headers': {}}\n"
     ]
    },
    {
     "name": "stderr",
     "output_type": "stream",
     "text": [
      "b'{\"stdout\":\"cnVubmluZyB0b29sIHhwZmluaXNoLWFnZW50LWV4ZWN1dGlvbi1maW5pc2hlZCBvbiBhZ2VudCBkY2NhY2I0Ny1mOTBmLTRlOTYtYmYyZi1hOTI1ODZiZGM2NDEgd2l0aCBleGVjdXRpb24gNWQzZTU3OTItYTJhMC00ZDY2LWFkMWMtNjg5NGMzYzk3ZTQ0Cg==\"}\\n'\n"
     ]
    },
    {
     "name": "stdout",
     "output_type": "stream",
     "text": [
      "tool name:  xpfinish-agent-execution-finished\n",
      "tool status code:  200\n",
      "tool result:  OK\n"
     ]
    }
   ],
   "source": [
    "from openai import OpenAI\n",
    "from xpander_sdk import XpanderClient\n",
    "xpander_client = XpanderClient(api_key=XPANDER_API_KEY)\n",
    "xpander_agent = xpander_client.agents.get(agent_id=XPANDER_AGENT_ID)\n",
    "\n",
    "xpander_agent.add_task(\"Summarize the profile of david twizer from xpander.ai\")\n",
    "openai_client = OpenAI(api_key=OPENAI_API_KEY)\n",
    "step = 1\n",
    "while not xpander_agent.is_finished():\n",
    "    print(\"-\"*100)\n",
    "    print(f\"Step {step}\")\n",
    "    response = openai_client.chat.completions.create(\n",
    "                model= 'gpt-4o',\n",
    "                messages=xpander_agent.memory.retrieve_messages(),\n",
    "                tools=xpander_agent.get_tools(),\n",
    "                tool_choice=\"auto\",\n",
    "                temperature=0.0\n",
    "        )\n",
    "            \n",
    "    xpander_agent.memory.add_messages(response.model_dump())\n",
    "    print(\"model response\", response.model_dump())\n",
    "    tool_calls = XpanderClient.extract_tool_calls(llm_response=response.model_dump())\n",
    "    for tool_call in tool_calls:\n",
    "        print(\"tool name: \", tool_call.name)\n",
    "        print(\"tool call generated payload: \", tool_call.payload)\n",
    "    tool_responses = xpander_agent.run_tools(tool_calls=tool_calls)\n",
    "    for tool_response in tool_responses:\n",
    "        print(\"tool name: \", tool_response.function_name)\n",
    "        print(\"tool status code: \", tool_response.status_code)\n",
    "        print(\"tool result: \", tool_response.result)\n",
    "    step += 1"
   ]
  },
  {
   "cell_type": "code",
   "execution_count": 5,
   "metadata": {},
   "outputs": [
    {
     "name": "stdout",
     "output_type": "stream",
     "text": [
      "**David Twizer** is the Co-Founder & CEO of xpander.ai, a company focused on empowering AI Engineers and AI Leaders to build intelligent AI Agents. He has a rich background in cloud solutions and has previously worked at Amazon Web Services (AWS) in various roles, including Sr. Manager, GenAI Specialist SA, and Principal Solutions Architect.\n",
      "\n",
      "### Professional Experience:\n",
      "- **xpander.ai**: Co-Founder & CEO (2024 - Present)\n",
      "- **Amazon Web Services (AWS)**:\n",
      "  - Sr. Manager, GenAI Specialist SA (2022 - 2023)\n",
      "  - Principal Solutions Architect (2020 - 2022)\n",
      "  - Specialist Solutions Architect (2018 - 2020)\n",
      "  - Technical Account Manager (2017 - 2018)\n",
      "- **Comm-IT**: Senior Solutions Architect and Senior Information Technology Engineer (2014 - 2017)\n",
      "- **IDF - Israel Defense Forces**: Head of DevOps and DevOps Engineer (2009 - 2014)\n",
      "\n",
      "### Education:\n",
      "- **The College of Management Academic Studies**: Computer Science (2013 - 2015)\n",
      "- **Ruppin Academic Center**: Bachelor of Business Administration (B.B.A.) in Business Administration and Management (2015 - 2017)\n",
      "- **Basmach IDF School**: Systems Engineering (2009)\n",
      "\n",
      "### Skills:\n",
      "David has a wide range of skills including Active Directory, Integration, Windows Server, System Administration, VMware, and Cloud Computing, among others.\n",
      "\n",
      "### Certifications:\n",
      "- AWS Certified Solutions Architect - Associate\n",
      "- AWS Certified Solutions Architect - Professional\n",
      "- AWS Certified SysOps Administrator - Associate\n",
      "- MCSE 70-410\n",
      "\n",
      "### Location:\n",
      "David is based in Tel Aviv-Yafo, Tel Aviv District, Israel.\n",
      "\n",
      "### Languages:\n",
      "He is proficient in English and Hebrew.\n",
      "\n",
      "For more details, you can view his [LinkedIn profile](https://www.linkedin.com/in/dudutwizer).\n"
     ]
    }
   ],
   "source": [
    "print(xpander_agent.retrieve_execution_result().result)"
   ]
  }
 ],
 "metadata": {
  "kernelspec": {
   "display_name": ".venv",
   "language": "python",
   "name": "python3"
  },
  "language_info": {
   "codemirror_mode": {
    "name": "ipython",
    "version": 3
   },
   "file_extension": ".py",
   "mimetype": "text/x-python",
   "name": "python",
   "nbconvert_exporter": "python",
   "pygments_lexer": "ipython3",
   "version": "3.13.1"
  }
 },
 "nbformat": 4,
 "nbformat_minor": 2
}
