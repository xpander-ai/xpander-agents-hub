{
 "cells": [
  {
   "cell_type": "code",
   "execution_count": 5,
   "metadata": {},
   "outputs": [
    {
     "name": "stdout",
     "output_type": "stream",
     "text": [
      "Requirement already satisfied: uv in ./.venv/lib/python3.13/site-packages (0.5.25)\n"
     ]
    }
   ],
   "source": [
    "!pip install uv\n",
    "!uv pip install -qU xpander-sdk llama-index llama-index-llms-openai python-dotenv"
   ]
  },
  {
   "cell_type": "code",
   "execution_count": 6,
   "metadata": {},
   "outputs": [],
   "source": [
    "from llama_index.core.agent import ReActAgent\n",
    "from llama_index.llms.openai import OpenAI\n",
    "from llama_index.core.tools import FunctionTool\n",
    "from os import environ\n",
    "from dotenv import load_dotenv\n",
    "\n",
    "load_dotenv()\n",
    "\n",
    "OPENAI_API_KEY = environ[\"OPENAI_API_KEY\"]\n",
    "XPANDER_API_KEY = environ[\"XPANDER_API_KEY\"]\n",
    "XPANDER_AGENT_ID = environ[\"XPANDER_AGENT_ID\"]"
   ]
  },
  {
   "cell_type": "code",
   "execution_count": 7,
   "metadata": {},
   "outputs": [],
   "source": [
    "def multiply(a: int, b: int) -> int:\n",
    "    \"\"\"Multiply two integers and returns the result integer\"\"\"\n",
    "    return a * b\n",
    "\n",
    "\n",
    "multiply_tool = FunctionTool.from_defaults(fn=multiply)\n",
    "\n",
    "def add(a: int, b: int) -> int:\n",
    "    \"\"\"Add two integers and returns the result integer\"\"\"\n",
    "    return a + b\n",
    "\n",
    "\n",
    "add_tool = FunctionTool.from_defaults(fn=add)"
   ]
  },
  {
   "cell_type": "code",
   "execution_count": 8,
   "metadata": {},
   "outputs": [],
   "source": [
    "def square(a: int) -> int:\n",
    "    \"\"\"Multiply a by itself and returns the result integer\"\"\"\n",
    "    return a*a\n",
    "\n",
    "square_tool = FunctionTool.from_defaults(fn=square)"
   ]
  },
  {
   "cell_type": "code",
   "execution_count": 9,
   "metadata": {},
   "outputs": [],
   "source": [
    "# llm = OpenAI(model=\"gpt-3.5-turbo\")\n",
    "llm = OpenAI(model=\"gpt-4\")\n",
    "agent = ReActAgent.from_tools([multiply_tool, add_tool, square_tool], llm=llm, verbose=True)"
   ]
  },
  {
   "cell_type": "code",
   "execution_count": 10,
   "metadata": {},
   "outputs": [
    {
     "name": "stdout",
     "output_type": "stream",
     "text": [
      "> Running step 7a3110dc-22db-487f-92f2-6cfea0bb5594. Step input: What is 20+2*4? Calculate step by step\n",
      "\u001b[1;3;38;5;200mThought: The user wants to calculate the expression 20+2*4 step by step. According to the order of operations (BIDMAS/BODMAS), multiplication should be done before addition. So, I will first multiply 2 and 4.\n",
      "Action: multiply\n",
      "Action Input: {'a': 2, 'b': 4}\n",
      "\u001b[0m\u001b[1;3;34mObservation: 8\n",
      "\u001b[0m> Running step a1a0266d-098c-46cc-a56b-1f562a77cdb4. Step input: None\n",
      "\u001b[1;3;38;5;200mThought: The multiplication of 2 and 4 is 8. Now, I will add this result to 20.\n",
      "Action: add\n",
      "Action Input: {'a': 20, 'b': 8}\n",
      "\u001b[0m\u001b[1;3;34mObservation: 28\n",
      "\u001b[0m> Running step d9ad6c6d-5c2b-44d7-a2f3-4de6bd755700. Step input: None\n",
      " The result of the calculation 20+2*4 is 28."
     ]
    }
   ],
   "source": [
    "response_gen = agent.stream_chat(\"What is 20+2*4? Calculate step by step\")\n",
    "response_gen.print_response_stream()"
   ]
  },
  {
   "cell_type": "code",
   "execution_count": 11,
   "metadata": {},
   "outputs": [
    {
     "name": "stdout",
     "output_type": "stream",
     "text": [
      "> Running step 9f386b88-c2dc-41fc-87e5-d36d97798ee6. Step input: What is the square of 20? Calculate step by step\n",
      "\u001b[1;3;38;5;200mThought: The user wants to know the square of 20. I can use the 'square' tool to calculate this.\n",
      "Action: square\n",
      "Action Input: {'a': 20}\n",
      "\u001b[0m\u001b[1;3;34mObservation: 400\n",
      "\u001b[0m> Running step a9396afc-c1b8-4d42-9529-e3f3a9620248. Step input: None\n",
      " The square of 20 is 400."
     ]
    }
   ],
   "source": [
    "response_gen_2 = agent.stream_chat(\"What is the square of 20? Calculate step by step\")\n",
    "response_gen_2.print_response_stream()"
   ]
  },
  {
   "cell_type": "code",
   "execution_count": 12,
   "metadata": {},
   "outputs": [
    {
     "name": "stdout",
     "output_type": "stream",
     "text": [
      "> Running step 00c6949e-478b-4e69-83b5-fb9157794f9e. Step input: What is the square of 14 + 12 squared? Calculate step by step\n",
      "\u001b[1;3;38;5;200mThought: The current language of the user is: English. I need to use a tool to help me answer the question.\n",
      "Action: square\n",
      "Action Input: {'a': 12}\n",
      "\u001b[0m\u001b[1;3;34mObservation: 144\n",
      "\u001b[0m> Running step edff563d-2df2-4189-aa35-f943b110b932. Step input: None\n",
      "\u001b[1;3;38;5;200mThought: I have the square of 12, which is 144. Now I need to add 14 to this result.\n",
      "Action: add\n",
      "Action Input: {'a': 14, 'b': 144}\n",
      "\u001b[0m\u001b[1;3;34mObservation: 158\n",
      "\u001b[0m> Running step 4132c27e-c325-44bb-9f23-b8c989cd6272. Step input: None\n",
      "\u001b[1;3;38;5;200mThought: I have the result of 14 + 12 squared, which is 158. Now I need to find the square of this result.\n",
      "Action: square\n",
      "Action Input: {'a': 158}\n",
      "\u001b[0m\u001b[1;3;34mObservation: 24964\n",
      "\u001b[0m> Running step 82c21af0-dfa5-4b46-b954-6388c704780a. Step input: None\n"
     ]
    }
   ],
   "source": [
    "response_gen_3 = agent.stream_chat(\"What is the square of 14 + 12 squared? Calculate step by step\")"
   ]
  },
  {
   "cell_type": "code",
   "execution_count": 13,
   "metadata": {},
   "outputs": [
    {
     "name": "stdout",
     "output_type": "stream",
     "text": [
      " The square of (14 + 12 squared) is 24964."
     ]
    }
   ],
   "source": [
    "response_gen_3.print_response_stream()"
   ]
  },
  {
   "cell_type": "code",
   "execution_count": 14,
   "metadata": {},
   "outputs": [
    {
     "name": "stdout",
     "output_type": "stream",
     "text": [
      "> Running step a3e18329-4742-4917-82b8-41578dd56fe0. Step input: What is the square of 14 + the square of 12? Calculate step by step\n",
      "\u001b[1;3;38;5;200mThought: The current language of the user is: English. I need to use a tool to help me answer the question.\n",
      "Action: square\n",
      "Action Input: {'a': 14}\n",
      "\u001b[0m\u001b[1;3;34mObservation: 196\n",
      "\u001b[0m> Running step 3ef3ad31-fd96-4104-b311-53614880a7b7. Step input: None\n",
      "\u001b[1;3;38;5;200mThought: I have the square of 14. Now I need to calculate the square of 12.\n",
      "Action: square\n",
      "Action Input: {'a': 12}\n",
      "\u001b[0m\u001b[1;3;34mObservation: 144\n",
      "\u001b[0m> Running step 18121f6b-5779-44d9-9d83-b531a3902184. Step input: None\n",
      "\u001b[1;3;38;5;200mThought: I have the square of 12. Now I need to add the square of 14 and the square of 12.\n",
      "Action: add\n",
      "Action Input: {'a': 196, 'b': 144}\n",
      "\u001b[0m\u001b[1;3;34mObservation: 340\n",
      "\u001b[0m> Running step 21a21b1d-945b-4899-8b88-29a662af9556. Step input: None\n",
      " The square of 14 plus the square of 12 is 340."
     ]
    }
   ],
   "source": [
    "response_gen_4 = agent.stream_chat(\"What is the square of 14 + the square of 12? Calculate step by step\")\n",
    "response_gen_4.print_response_stream()"
   ]
  },
  {
   "cell_type": "code",
   "execution_count": 15,
   "metadata": {},
   "outputs": [
    {
     "ename": "AttributeError",
     "evalue": "type object 'FunctionTool' has no attribute '__jsii_type__'",
     "output_type": "error",
     "traceback": [
      "\u001b[0;31m---------------------------------------------------------------------------\u001b[0m",
      "\u001b[0;31mAttributeError\u001b[0m                            Traceback (most recent call last)",
      "Cell \u001b[0;32mIn[15], line 10\u001b[0m\n\u001b[1;32m      7\u001b[0m xpander_agent \u001b[38;5;241m=\u001b[39m xpander_client\u001b[38;5;241m.\u001b[39magents\u001b[38;5;241m.\u001b[39mget(agent_id\u001b[38;5;241m=\u001b[39mXPANDER_AGENT_ID)\n\u001b[1;32m      8\u001b[0m openai_client \u001b[38;5;241m=\u001b[39m OpenAI(api_key\u001b[38;5;241m=\u001b[39mOPENAI_API_KEY)\n\u001b[0;32m---> 10\u001b[0m \u001b[43mxpander_agent\u001b[49m\u001b[38;5;241;43m.\u001b[39;49m\u001b[43madd_local_tools\u001b[49m\u001b[43m(\u001b[49m\u001b[43m[\u001b[49m\u001b[43mmultiply_tool\u001b[49m\u001b[43m,\u001b[49m\u001b[43m \u001b[49m\u001b[43madd_tool\u001b[49m\u001b[43m,\u001b[49m\u001b[43m \u001b[49m\u001b[43msquare_tool\u001b[49m\u001b[43m]\u001b[49m\u001b[43m)\u001b[49m\n\u001b[1;32m     11\u001b[0m \u001b[38;5;28mprint\u001b[39m(xpander_agent\u001b[38;5;241m.\u001b[39mget_tools(llm_provider\u001b[38;5;241m=\u001b[39mLLMProvider\u001b[38;5;241m.\u001b[39mOPEN_AI))\n",
      "File \u001b[0;32m~/Developer/xpander-lab/projects/xpander-agents-hub/agents/llama-index/.venv/lib/python3.13/site-packages/xpander_sdk/__init__.py:4258\u001b[0m, in \u001b[0;36mAgent.add_local_tools\u001b[0;34m(self, tools)\u001b[0m\n\u001b[1;32m   4256\u001b[0m     type_hints \u001b[38;5;241m=\u001b[39m typing\u001b[38;5;241m.\u001b[39mget_type_hints(_typecheckingstub__b1a4e9d238bcd6575542fe126282fe717dabbed97bd4b5d5f0906439f6debd49)\n\u001b[1;32m   4257\u001b[0m     check_type(argname\u001b[38;5;241m=\u001b[39m\u001b[38;5;124m\"\u001b[39m\u001b[38;5;124margument tools\u001b[39m\u001b[38;5;124m\"\u001b[39m, value\u001b[38;5;241m=\u001b[39mtools, expected_type\u001b[38;5;241m=\u001b[39mtype_hints[\u001b[38;5;124m\"\u001b[39m\u001b[38;5;124mtools\u001b[39m\u001b[38;5;124m\"\u001b[39m])\n\u001b[0;32m-> 4258\u001b[0m \u001b[38;5;28;01mreturn\u001b[39;00m typing\u001b[38;5;241m.\u001b[39mcast(\u001b[38;5;28;01mNone\u001b[39;00m, \u001b[43mjsii\u001b[49m\u001b[38;5;241;43m.\u001b[39;49m\u001b[43minvoke\u001b[49m\u001b[43m(\u001b[49m\u001b[38;5;28;43mself\u001b[39;49m\u001b[43m,\u001b[49m\u001b[43m \u001b[49m\u001b[38;5;124;43m\"\u001b[39;49m\u001b[38;5;124;43maddLocalTools\u001b[39;49m\u001b[38;5;124;43m\"\u001b[39;49m\u001b[43m,\u001b[49m\u001b[43m \u001b[49m\u001b[43m[\u001b[49m\u001b[43mtools\u001b[49m\u001b[43m]\u001b[49m\u001b[43m)\u001b[49m)\n",
      "File \u001b[0;32m~/Developer/xpander-lab/projects/xpander-agents-hub/agents/llama-index/.venv/lib/python3.13/site-packages/jsii/_kernel/__init__.py:149\u001b[0m, in \u001b[0;36m_dereferenced.<locals>.wrapped\u001b[0;34m(kernel, *args, **kwargs)\u001b[0m\n\u001b[1;32m    147\u001b[0m \u001b[38;5;129m@functools\u001b[39m\u001b[38;5;241m.\u001b[39mwraps(fn)\n\u001b[1;32m    148\u001b[0m \u001b[38;5;28;01mdef\u001b[39;00m\u001b[38;5;250m \u001b[39m\u001b[38;5;21mwrapped\u001b[39m(kernel: \u001b[38;5;124m\"\u001b[39m\u001b[38;5;124mKernel\u001b[39m\u001b[38;5;124m\"\u001b[39m, \u001b[38;5;241m*\u001b[39margs: Any, \u001b[38;5;241m*\u001b[39m\u001b[38;5;241m*\u001b[39mkwargs: Any):\n\u001b[0;32m--> 149\u001b[0m     \u001b[38;5;28;01mreturn\u001b[39;00m _recursize_dereference(kernel, \u001b[43mfn\u001b[49m\u001b[43m(\u001b[49m\u001b[43mkernel\u001b[49m\u001b[43m,\u001b[49m\u001b[43m \u001b[49m\u001b[38;5;241;43m*\u001b[39;49m\u001b[43margs\u001b[49m\u001b[43m,\u001b[49m\u001b[43m \u001b[49m\u001b[38;5;241;43m*\u001b[39;49m\u001b[38;5;241;43m*\u001b[39;49m\u001b[43mkwargs\u001b[49m\u001b[43m)\u001b[49m)\n",
      "File \u001b[0;32m~/Developer/xpander-lab/projects/xpander-agents-hub/agents/llama-index/.venv/lib/python3.13/site-packages/jsii/_kernel/__init__.py:403\u001b[0m, in \u001b[0;36mKernel.invoke\u001b[0;34m(self, obj, method, args)\u001b[0m\n\u001b[1;32m    396\u001b[0m \u001b[38;5;28;01mif\u001b[39;00m args \u001b[38;5;129;01mis\u001b[39;00m \u001b[38;5;28;01mNone\u001b[39;00m:\n\u001b[1;32m    397\u001b[0m     args \u001b[38;5;241m=\u001b[39m []\n\u001b[1;32m    399\u001b[0m response \u001b[38;5;241m=\u001b[39m \u001b[38;5;28mself\u001b[39m\u001b[38;5;241m.\u001b[39mprovider\u001b[38;5;241m.\u001b[39minvoke(\n\u001b[1;32m    400\u001b[0m     InvokeRequest(\n\u001b[1;32m    401\u001b[0m         objref\u001b[38;5;241m=\u001b[39mobj\u001b[38;5;241m.\u001b[39m__jsii_ref__,\n\u001b[1;32m    402\u001b[0m         method\u001b[38;5;241m=\u001b[39mmethod,\n\u001b[0;32m--> 403\u001b[0m         args\u001b[38;5;241m=\u001b[39m\u001b[43m_make_reference_for_native\u001b[49m\u001b[43m(\u001b[49m\u001b[38;5;28;43mself\u001b[39;49m\u001b[43m,\u001b[49m\u001b[43m \u001b[49m\u001b[43margs\u001b[49m\u001b[43m)\u001b[49m,\n\u001b[1;32m    404\u001b[0m     )\n\u001b[1;32m    405\u001b[0m )\n\u001b[1;32m    406\u001b[0m \u001b[38;5;28;01mif\u001b[39;00m \u001b[38;5;28misinstance\u001b[39m(response, Callback):\n\u001b[1;32m    407\u001b[0m     \u001b[38;5;28;01mreturn\u001b[39;00m _callback_till_result(\u001b[38;5;28mself\u001b[39m, response, InvokeResponse)\n",
      "File \u001b[0;32m~/Developer/xpander-lab/projects/xpander-agents-hub/agents/llama-index/.venv/lib/python3.13/site-packages/jsii/_kernel/__init__.py:165\u001b[0m, in \u001b[0;36m_make_reference_for_native\u001b[0;34m(kernel, d)\u001b[0m\n\u001b[1;32m    158\u001b[0m     \u001b[38;5;28;01mreturn\u001b[39;00m {\n\u001b[1;32m    159\u001b[0m         \u001b[38;5;124m\"\u001b[39m\u001b[38;5;124m$jsii.map\u001b[39m\u001b[38;5;124m\"\u001b[39m: {\n\u001b[1;32m    160\u001b[0m             k: _make_reference_for_native(kernel, v) \u001b[38;5;28;01mfor\u001b[39;00m k, v \u001b[38;5;129;01min\u001b[39;00m d\u001b[38;5;241m.\u001b[39mitems()\n\u001b[1;32m    161\u001b[0m         }\n\u001b[1;32m    162\u001b[0m     }\n\u001b[1;32m    164\u001b[0m \u001b[38;5;28;01melif\u001b[39;00m \u001b[38;5;28misinstance\u001b[39m(d, \u001b[38;5;28mlist\u001b[39m):\n\u001b[0;32m--> 165\u001b[0m     \u001b[38;5;28;01mreturn\u001b[39;00m [\u001b[43m_make_reference_for_native\u001b[49m\u001b[43m(\u001b[49m\u001b[43mkernel\u001b[49m\u001b[43m,\u001b[49m\u001b[43m \u001b[49m\u001b[43mi\u001b[49m\u001b[43m)\u001b[49m \u001b[38;5;28;01mfor\u001b[39;00m i \u001b[38;5;129;01min\u001b[39;00m d]\n\u001b[1;32m    167\u001b[0m \u001b[38;5;28;01mif\u001b[39;00m \u001b[38;5;28mgetattr\u001b[39m(d, \u001b[38;5;124m\"\u001b[39m\u001b[38;5;124m__jsii_type__\u001b[39m\u001b[38;5;124m\"\u001b[39m, \u001b[38;5;28;01mNone\u001b[39;00m) \u001b[38;5;129;01mis\u001b[39;00m \u001b[38;5;129;01mnot\u001b[39;00m \u001b[38;5;28;01mNone\u001b[39;00m:\n\u001b[1;32m    168\u001b[0m     typeFqn \u001b[38;5;241m=\u001b[39m \u001b[38;5;28mgetattr\u001b[39m(d, \u001b[38;5;124m\"\u001b[39m\u001b[38;5;124m__jsii_type__\u001b[39m\u001b[38;5;124m\"\u001b[39m)\n",
      "File \u001b[0;32m~/Developer/xpander-lab/projects/xpander-agents-hub/agents/llama-index/.venv/lib/python3.13/site-packages/jsii/_kernel/__init__.py:165\u001b[0m, in \u001b[0;36m_make_reference_for_native\u001b[0;34m(kernel, d)\u001b[0m\n\u001b[1;32m    158\u001b[0m     \u001b[38;5;28;01mreturn\u001b[39;00m {\n\u001b[1;32m    159\u001b[0m         \u001b[38;5;124m\"\u001b[39m\u001b[38;5;124m$jsii.map\u001b[39m\u001b[38;5;124m\"\u001b[39m: {\n\u001b[1;32m    160\u001b[0m             k: _make_reference_for_native(kernel, v) \u001b[38;5;28;01mfor\u001b[39;00m k, v \u001b[38;5;129;01min\u001b[39;00m d\u001b[38;5;241m.\u001b[39mitems()\n\u001b[1;32m    161\u001b[0m         }\n\u001b[1;32m    162\u001b[0m     }\n\u001b[1;32m    164\u001b[0m \u001b[38;5;28;01melif\u001b[39;00m \u001b[38;5;28misinstance\u001b[39m(d, \u001b[38;5;28mlist\u001b[39m):\n\u001b[0;32m--> 165\u001b[0m     \u001b[38;5;28;01mreturn\u001b[39;00m [\u001b[43m_make_reference_for_native\u001b[49m\u001b[43m(\u001b[49m\u001b[43mkernel\u001b[49m\u001b[43m,\u001b[49m\u001b[43m \u001b[49m\u001b[43mi\u001b[49m\u001b[43m)\u001b[49m \u001b[38;5;28;01mfor\u001b[39;00m i \u001b[38;5;129;01min\u001b[39;00m d]\n\u001b[1;32m    167\u001b[0m \u001b[38;5;28;01mif\u001b[39;00m \u001b[38;5;28mgetattr\u001b[39m(d, \u001b[38;5;124m\"\u001b[39m\u001b[38;5;124m__jsii_type__\u001b[39m\u001b[38;5;124m\"\u001b[39m, \u001b[38;5;28;01mNone\u001b[39;00m) \u001b[38;5;129;01mis\u001b[39;00m \u001b[38;5;129;01mnot\u001b[39;00m \u001b[38;5;28;01mNone\u001b[39;00m:\n\u001b[1;32m    168\u001b[0m     typeFqn \u001b[38;5;241m=\u001b[39m \u001b[38;5;28mgetattr\u001b[39m(d, \u001b[38;5;124m\"\u001b[39m\u001b[38;5;124m__jsii_type__\u001b[39m\u001b[38;5;124m\"\u001b[39m)\n",
      "File \u001b[0;32m~/Developer/xpander-lab/projects/xpander-agents-hub/agents/llama-index/.venv/lib/python3.13/site-packages/jsii/_kernel/__init__.py:205\u001b[0m, in \u001b[0;36m_make_reference_for_native\u001b[0;34m(kernel, d)\u001b[0m\n\u001b[1;32m    199\u001b[0m     \u001b[38;5;28;01mraise\u001b[39;00m JSIIError(\n\u001b[1;32m    200\u001b[0m         \u001b[38;5;124m\"\u001b[39m\u001b[38;5;124mCannot pass function as argument here (did you mean to call this function?): \u001b[39m\u001b[38;5;132;01m%r\u001b[39;00m\u001b[38;5;124m\"\u001b[39m\n\u001b[1;32m    201\u001b[0m         \u001b[38;5;241m%\u001b[39m d\n\u001b[1;32m    202\u001b[0m     )\n\u001b[1;32m    204\u001b[0m \u001b[38;5;28;01melse\u001b[39;00m:\n\u001b[0;32m--> 205\u001b[0m     \u001b[43mkernel\u001b[49m\u001b[38;5;241;43m.\u001b[39;49m\u001b[43mcreate\u001b[49m\u001b[43m(\u001b[49m\u001b[43md\u001b[49m\u001b[38;5;241;43m.\u001b[39;49m\u001b[38;5;18;43m__class__\u001b[39;49m\u001b[43m,\u001b[49m\u001b[43m \u001b[49m\u001b[43md\u001b[49m\u001b[43m)\u001b[49m\n\u001b[1;32m    206\u001b[0m     _reference_map\u001b[38;5;241m.\u001b[39mregister_reference(d)\n\u001b[1;32m    207\u001b[0m     \u001b[38;5;28;01mreturn\u001b[39;00m d\n",
      "File \u001b[0;32m~/Developer/xpander-lab/projects/xpander-agents-hub/agents/llama-index/.venv/lib/python3.13/site-packages/jsii/_kernel/__init__.py:336\u001b[0m, in \u001b[0;36mKernel.create\u001b[0;34m(self, klass, obj, args)\u001b[0m\n\u001b[1;32m    331\u001b[0m \u001b[38;5;28;01mif\u001b[39;00m args \u001b[38;5;129;01mis\u001b[39;00m \u001b[38;5;28;01mNone\u001b[39;00m:\n\u001b[1;32m    332\u001b[0m     args \u001b[38;5;241m=\u001b[39m []\n\u001b[1;32m    334\u001b[0m response \u001b[38;5;241m=\u001b[39m \u001b[38;5;28mself\u001b[39m\u001b[38;5;241m.\u001b[39mprovider\u001b[38;5;241m.\u001b[39mcreate(\n\u001b[1;32m    335\u001b[0m     CreateRequest(\n\u001b[0;32m--> 336\u001b[0m         fqn\u001b[38;5;241m=\u001b[39m\u001b[43mklass\u001b[49m\u001b[38;5;241;43m.\u001b[39;49m\u001b[43m__jsii_type__\u001b[49m \u001b[38;5;129;01mor\u001b[39;00m \u001b[38;5;124m\"\u001b[39m\u001b[38;5;124mObject\u001b[39m\u001b[38;5;124m\"\u001b[39m,\n\u001b[1;32m    337\u001b[0m         args\u001b[38;5;241m=\u001b[39m_make_reference_for_native(\u001b[38;5;28mself\u001b[39m, args),\n\u001b[1;32m    338\u001b[0m         overrides\u001b[38;5;241m=\u001b[39m_get_overides(klass, obj),\n\u001b[1;32m    339\u001b[0m         interfaces\u001b[38;5;241m=\u001b[39m[\n\u001b[1;32m    340\u001b[0m             iface\u001b[38;5;241m.\u001b[39m__jsii_type__\n\u001b[1;32m    341\u001b[0m             \u001b[38;5;28;01mfor\u001b[39;00m iface \u001b[38;5;129;01min\u001b[39;00m \u001b[38;5;28mgetattr\u001b[39m(klass, \u001b[38;5;124m\"\u001b[39m\u001b[38;5;124m__jsii_ifaces__\u001b[39m\u001b[38;5;124m\"\u001b[39m, [])\n\u001b[1;32m    342\u001b[0m         ],\n\u001b[1;32m    343\u001b[0m     )\n\u001b[1;32m    344\u001b[0m )\n\u001b[1;32m    345\u001b[0m \u001b[38;5;28;01mif\u001b[39;00m \u001b[38;5;28misinstance\u001b[39m(response, Callback):\n\u001b[1;32m    346\u001b[0m     obj\u001b[38;5;241m.\u001b[39m__jsii_ref__ \u001b[38;5;241m=\u001b[39m _callback_till_result(\u001b[38;5;28mself\u001b[39m, response, CreateResponse)\n",
      "\u001b[0;31mAttributeError\u001b[0m: type object 'FunctionTool' has no attribute '__jsii_type__'"
     ]
    }
   ],
   "source": [
    "from openai import OpenAI\n",
    "from xpander_sdk import XpanderClient, LLMProvider, OpenAISupportedModels\n",
    "# load the client\n",
    "xpander_client = XpanderClient(api_key=XPANDER_API_KEY, organization_id=\"\")\n",
    "\n",
    "# get the agent\n",
    "xpander_agent = xpander_client.agents.get(agent_id=XPANDER_AGENT_ID)\n",
    "openai_client = OpenAI(api_key=OPENAI_API_KEY)\n",
    "\n",
    "xpander_agent.add_local_tools([multiply_tool, add_tool, square_tool])\n",
    "print(xpander_agent.get_tools(llm_provider=LLMProvider.OPEN_AI))"
   ]
  },
  {
   "cell_type": "code",
   "execution_count": null,
   "metadata": {},
   "outputs": [],
   "source": [
    "# create execution\n",
    "xpander_agent.invoke_agent(\"What is the square of 14 + 12 squared? Calculate step by step\")\n",
    "\n",
    "# init the memory\n",
    "xpander_agent.memory.select_llm_provider(llm_provider=LLMProvider.OPEN_AI)\n",
    "xpander_agent.memory.initialize_thread(input=xpander_agent.execution.input_message,instructions=xpander_agent.instructions)\n",
    "\n",
    "while not xpander_agent.is_finished():\n",
    "    print(\"-\"*100)\n",
    "    print(\"Messages:\",xpander_agent.memory.retrieve_messages())\n",
    "    print(\"Tools:\",xpander_agent.get_tools(llm_provider=LLMProvider.OPEN_AI))\n",
    "    print(\"-\"*100)\n",
    "    response = openai_client.chat.completions.create(\n",
    "                model= OpenAISupportedModels.GPT_4_O,\n",
    "                messages=xpander_agent.memory.retrieve_messages(),\n",
    "                tools=xpander_agent.get_tools(llm_provider=LLMProvider.OPEN_AI),\n",
    "                tool_choice=\"auto\",\n",
    "                temperature=0.0\n",
    "        )\n",
    "            \n",
    "    # add messages directly from the LLM response\n",
    "    xpander_agent.memory.add_messages(response.model_dump())\n",
    "    \n",
    "    # extract tool calls from the LLM response\n",
    "    tool_calls = XpanderClient.extract_tool_calls(llm_response=response.model_dump(),llm_provider=LLMProvider.OPEN_AI)\n",
    "    # run tools\n",
    "    xpander_agent.run_tools(tool_calls=tool_calls)\n",
    "\n",
    "# result (re fetch execution result)\n",
    "# IMPORTANT: LAST TOOL IS xpfinish-agent-execution-finished WHICH IS AGENT-END with PARSING and may be slower due to inference times\n",
    "execution_result = xpander_agent.execution.fetch(agent=xpander_agent,execution_id=xpander_agent.execution.id)\n",
    "print(\"status\", execution_result.status)\n",
    "print(\"result\", execution_result.result)"
   ]
  }
 ],
 "metadata": {
  "kernelspec": {
   "display_name": "hw_milvus",
   "language": "python",
   "name": "python3"
  },
  "language_info": {
   "codemirror_mode": {
    "name": "ipython",
    "version": 3
   },
   "file_extension": ".py",
   "mimetype": "text/x-python",
   "name": "python",
   "nbconvert_exporter": "python",
   "pygments_lexer": "ipython3",
   "version": "3.13.1"
  }
 },
 "nbformat": 4,
 "nbformat_minor": 2
}
