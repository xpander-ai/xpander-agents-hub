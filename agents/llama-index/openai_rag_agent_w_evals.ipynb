{
 "cells": [
  {
   "cell_type": "markdown",
   "metadata": {},
   "source": [
    "# OpenAI Agent with LlamaIndex\n",
    "\n",
    "## Install Dependencies"
   ]
  },
  {
   "cell_type": "code",
   "execution_count": 1,
   "metadata": {},
   "outputs": [
    {
     "name": "stdout",
     "output_type": "stream",
     "text": [
      "Collecting uv\n",
      "  Downloading uv-0.5.26-py3-none-macosx_11_0_arm64.whl.metadata (11 kB)\n",
      "Downloading uv-0.5.26-py3-none-macosx_11_0_arm64.whl (14.4 MB)\n",
      "\u001b[2K   \u001b[90m━━━━━━━━━━━━━━━━━━━━━━━━━━━━━━━━━━━━━━━━\u001b[0m \u001b[32m14.4/14.4 MB\u001b[0m \u001b[31m15.7 MB/s\u001b[0m eta \u001b[36m0:00:00\u001b[0ma \u001b[36m0:00:01\u001b[0m\n",
      "\u001b[?25hInstalling collected packages: uv\n",
      "Successfully installed uv-0.5.26\n"
     ]
    }
   ],
   "source": [
    "!pip install uv\n",
    "!uv pip install -qU xpander-sdk llama-index==0.11.6 llama-index-llms-openai llama-index-readers-file llama-index-embeddings-openai llama-index-llms-openai-like \"openinference-instrumentation-llama-index>=2\" arize-phoenix python-dotenv"
   ]
  },
  {
   "cell_type": "markdown",
   "metadata": {},
   "source": [
    "## Setup API Keys\n"
   ]
  },
  {
   "cell_type": "code",
   "execution_count": 2,
   "metadata": {},
   "outputs": [],
   "source": [
    "from os import environ\n",
    "from dotenv import load_dotenv\n",
    "\n",
    "load_dotenv()\n",
    "\n",
    "OPENAI_API_KEY = environ[\"OPENAI_API_KEY\"]\n",
    "XPANDER_API_KEY = environ[\"XPANDER_API_KEY\"]\n",
    "XPANDER_AGENT_ID = environ[\"XPANDER_AGENT_ID\"]"
   ]
  },
  {
   "cell_type": "markdown",
   "metadata": {},
   "source": [
    "## Import libraries and setup LlamaIndex"
   ]
  },
  {
   "cell_type": "code",
   "execution_count": 3,
   "metadata": {},
   "outputs": [],
   "source": [
    "from llama_index.core import (\n",
    "    SimpleDirectoryReader,\n",
    "    VectorStoreIndex,\n",
    "    StorageContext,\n",
    "    load_index_from_storage,\n",
    ")\n",
    "from llama_index.core.tools import QueryEngineTool, ToolMetadata\n",
    "from llama_index.core.agent import ReActAgent\n",
    "from llama_index.llms.openai import OpenAI\n",
    "\n",
    "\n",
    "# Create an llm object to use for the QueryEngine and the ReActAgent\n",
    "llm = OpenAI(model=\"gpt-4o\")"
   ]
  },
  {
   "cell_type": "markdown",
   "metadata": {},
   "source": [
    "# Set up Phoenix"
   ]
  },
  {
   "cell_type": "code",
   "execution_count": 4,
   "metadata": {},
   "outputs": [
    {
     "name": "stderr",
     "output_type": "stream",
     "text": [
      "/Users/dudu/Developer/xpander-lab/projects/xpander-agents-hub/agents/llama-index/.venv/lib/python3.13/site-packages/tqdm/auto.py:21: TqdmWarning: IProgress not found. Please update jupyter and ipywidgets. See https://ipywidgets.readthedocs.io/en/stable/user_install.html\n",
      "  from .autonotebook import tqdm as notebook_tqdm\n"
     ]
    },
    {
     "name": "stdout",
     "output_type": "stream",
     "text": [
      "🌍 To view the Phoenix app in your browser, visit http://localhost:6006/\n",
      "📖 For more information on how to use Phoenix, check out https://docs.arize.com/phoenix\n"
     ]
    }
   ],
   "source": [
    "import phoenix as px\n",
    "session = px.launch_app()"
   ]
  },
  {
   "cell_type": "code",
   "execution_count": 4,
   "metadata": {},
   "outputs": [
    {
     "name": "stderr",
     "output_type": "stream",
     "text": [
      "b'\\x1b[43m\\x1b[30m!!!!!!!!!!!!!!!!!!!!!!!!!!!!!!!!!!!!!!!!!!!!!!!!!!!!!!!!!!!!!!!!!!!!!!!!!!!!!!!!!!!!!!!!!!!!!!!!!!!!!!!!!!!!!!!!!!!!!!!!!!\\x1b[39m\\x1b[49m\\n'\n",
      "b'\\x1b[43m\\x1b[30m!!                                                                                                                      !!\\x1b[39m\\x1b[49m\\n'\n",
      "b'\\x1b[43m\\x1b[30m!!  This software has not been tested with node v23.4.0.                                                                !!\\x1b[39m\\x1b[49m\\n'\n",
      "b'\\x1b[43m\\x1b[30m!!  Should you encounter odd runtime issues, please try using one of the supported release before filing a bug report.  !!\\x1b[39m\\x1b[49m\\n'\n",
      "b'\\x1b[43m\\x1b[30m!!                                                                                                                      !!\\x1b[39m\\x1b[49m\\n'\n",
      "b'\\x1b[43m\\x1b[30m!!  This software is currently running on node v23.4.0.                                                                 !!\\x1b[39m\\x1b[49m\\n'\n",
      "b'\\x1b[43m\\x1b[30m!!  As of the current release of this software, supported node releases are:                                            !!\\x1b[39m\\x1b[49m\\n'\n",
      "b'\\x1b[43m\\x1b[30m!!  - ^22.0.0 (Planned end-of-life: 2027-04-30)                                                                         !!\\x1b[39m\\x1b[49m\\n'\n",
      "b'\\x1b[43m\\x1b[30m!!  - ^20.0.0 (Planned end-of-life: 2026-04-30)                                                                         !!\\x1b[39m\\x1b[49m\\n'\n",
      "b'\\x1b[43m\\x1b[30m!!  - ^18.0.0 (Planned end-of-life: 2025-04-30)                                                                         !!\\x1b[39m\\x1b[49m\\n'\n",
      "b'\\x1b[43m\\x1b[30m!!                                                                                                                      !!\\x1b[39m\\x1b[49m\\n'\n",
      "b'\\x1b[43m\\x1b[30m!!  This warning can be silenced by setting the JSII_SILENCE_WARNING_UNTESTED_NODE_VERSION environment variable.        !!\\x1b[39m\\x1b[49m\\n'\n",
      "b'\\x1b[43m\\x1b[30m!!                                                                                                                      !!\\x1b[39m\\x1b[49m\\n'\n",
      "b'\\x1b[43m\\x1b[30m!!!!!!!!!!!!!!!!!!!!!!!!!!!!!!!!!!!!!!!!!!!!!!!!!!!!!!!!!!!!!!!!!!!!!!!!!!!!!!!!!!!!!!!!!!!!!!!!!!!!!!!!!!!!!!!!!!!!!!!!!!\\x1b[39m\\x1b[49m\\n'\n",
      "b'{\"stdout\":\"bG9hZGluZyBhZ2VudCBkY2NhY2I0Ny1mOTBmLTRlOTYtYmYyZi1hOTI1ODZiZGM2NDEK\"}\\n'\n"
     ]
    },
    {
     "name": "stdout",
     "output_type": "stream",
     "text": [
      "[{'type': 'function', 'function': {'name': 'HackerNewsStoriesRetrieveNewStoryIdsList', 'description': 'Obtains a list of IDs for the most recent stories posted on Hacker News. This operation provides access to the latest content across all categories. Use it to find story IDs for further details retrieval using RetrieveItemDetailsById. Ideal for creating real-time feeds, monitoring breaking news, or analyzing the influx of new content on the platform.', 'parameters': {}}}, {'type': 'function', 'function': {'name': 'LinkedInCompanyManagementGetCompanyDetailsByUsername', 'description': \"Retrieves comprehensive information about a company using its LinkedIn username. This operation provides valuable insights into company profiles, including size, industry, and location. If the username isn't provided, run GetCompanyInfoByDomain if you have the company's domain name. Use this to gather detailed company information for business intelligence, partnership opportunities, or competitive analysis.\", 'parameters': {'type': 'object', 'properties': {'bodyParams': {'type': 'object', 'properties': {}, 'required': []}, 'queryParams': {'type': 'object', 'properties': {'username': {'type': 'string', 'description': \"Company's LinkedIn username (e.g., 'google').\"}}, 'required': ['username']}, 'pathParams': {'type': 'object', 'properties': {}, 'required': []}}, 'required': ['bodyParams', 'queryParams', 'pathParams']}}}, {'type': 'function', 'function': {'name': 'HackerNewsStoriesFetchJobStoryIdsList', 'description': 'Gathers a list of IDs for the current job stories posted on Hacker News. This operation focuses on employment opportunities shared within the tech community. Use it to find story IDs for further details retrieval using RetrieveItemDetailsById. Applicable for job seekers, recruiters, or those analyzing tech industry hiring trends.', 'parameters': {}}}, {'type': 'function', 'function': {'name': 'HackerNewsUpdatesGetRecentItemAndUserChanges', 'description': 'Retrieves the most recent updates to items and user profiles on Hacker News. This operation provides a snapshot of recent activity, including new items and profile changes. Use it to monitor real-time platform activity, track content updates, or maintain synchronized data in external applications. Helpful for building live update systems or analyzing patterns in user and content modifications.', 'parameters': {}}}, {'type': 'function', 'function': {'name': 'LinkedInProfileServiceGetProfileDataByUsernameAndId', 'description': \"Retrieves comprehensive LinkedIn profile data using the provided username and linkedinId. This operation is crucial for obtaining detailed user information. If the linkedinId isn't provided, run SearchProfilesByCriteria before anything else to find the linkedinId. If the username isn't provided, run GetProfileDataByUrl first to obtain the username from a profile URL. Use this to gather essential profile details for further analysis or processing.\", 'parameters': {'type': 'object', 'properties': {'bodyParams': {'type': 'object', 'properties': {}, 'required': []}, 'queryParams': {'type': 'object', 'properties': {'username': {'type': 'string', 'description': \"LinkedIn username (e.g., 'adamselipsky').\"}}, 'required': ['username']}, 'pathParams': {'type': 'object', 'properties': {}, 'required': []}}, 'required': ['bodyParams', 'queryParams', 'pathParams']}}}, {'type': 'function', 'function': {'name': 'HackerNewsStoriesGetTopStoryIdsList', 'description': 'Fetches a list of IDs for the current top stories on Hacker News. This operation provides a curated selection of popular and trending stories. Use this to find story IDs for further details retrieval using RetrieveItemDetailsById. Common applications include creating a feed of top stories, analyzing trending topics, or monitoring the most engaging content on the platform.', 'parameters': {}}}, {'type': 'function', 'function': {'name': 'LinkedInProfileServiceGetProfileDataByUrl', 'description': \"Fetches detailed LinkedIn profile data using the provided profile URL. This operation is essential for accessing user information when only the profile URL is available. If the URL isn't provided, run SearchProfilesByCriteria if you have the username instead. Use this to gather comprehensive profile details from public LinkedIn profiles when you have the exact profile URL but lack other identifying information.\", 'parameters': {'type': 'object', 'properties': {'bodyParams': {'type': 'object', 'properties': {}, 'required': []}, 'queryParams': {'type': 'object', 'properties': {'url': {'type': 'string', 'description': \"LinkedIn profile URL (e.g., 'https://www.linkedin.com/in/username-linkedinId/').\"}}, 'required': ['url']}, 'pathParams': {'type': 'object', 'properties': {}, 'required': []}}, 'required': ['bodyParams', 'queryParams', 'pathParams']}}}, {'type': 'function', 'function': {'name': 'HackerNewsItemsGetCurrentLargestItemId', 'description': 'Retrieves the current largest item ID on Hacker News, representing the most recently created item. This operation is useful for determining the latest activity on the platform and can serve as a starting point for retrieving recent items. Use this to find the upper bound of item IDs when iterating through recent content or to check for new items since a previous query.', 'parameters': {}}}, {'type': 'function', 'function': {'name': 'LinkedInProfileServiceConvertProfileUrlToEmail', 'description': \"Attempts to retrieve email addresses associated with a given LinkedIn profile URL. This operation is valuable for obtaining contact information. If the profile URL isn't provided, run SearchProfilesByCriteria first to get the profile URL. Use this operation for lead generation or to establish direct contact with LinkedIn users when you have their profile URL but need their email address.\", 'parameters': {'type': 'object', 'properties': {'bodyParams': {'type': 'object', 'properties': {}, 'required': []}, 'queryParams': {'type': 'object', 'properties': {'url': {'type': 'string', 'description': \"LinkedIn profile URL (e.g., 'https://www.linkedin.com/in/taylorotwell').\"}}, 'required': ['url']}, 'pathParams': {'type': 'object', 'properties': {}, 'required': []}}, 'required': ['bodyParams', 'queryParams', 'pathParams']}}}, {'type': 'function', 'function': {'name': 'HackerNewsItemsRetrieveItemDetailsById', 'description': \"Retrieves detailed information for a specific Hacker News item (story, comment, etc.) by its unique ID. If the item ID isn't provided, run GetTopStoryIdsList, RetrieveAskStoryIdsList, GetShowStoryIdsList, FetchJobStoryIdsList, RetrieveNewStoryIdsList, or GetBestStoryIdsList before anything else to find an item ID. This operation is crucial for accessing comprehensive data about individual Hacker News entries. Common use cases include analyzing story content, tracking comment threads, or gathering metadata for specific items.\", 'parameters': {'type': 'object', 'properties': {'bodyParams': {'type': 'object', 'properties': {}, 'required': []}, 'queryParams': {'type': 'object', 'properties': {}, 'required': []}, 'pathParams': {'type': 'object', 'properties': {'id': {'type': 'string', 'description': 'Item ID'}}, 'required': ['id']}}, 'required': ['bodyParams', 'queryParams', 'pathParams']}}}, {'type': 'function', 'function': {'name': 'HackerNewsStoriesGetBestStoryIdsList', 'description': 'Fetches a list of IDs for the current \"best\" stories on Hacker News, representing highly upvoted or particularly engaging content. Use this to find story IDs for further details retrieval using RetrieveItemDetailsById. Useful for curating high-quality content, analyzing factors contributing to story popularity, or creating a feed of well-received articles and discussions.', 'parameters': {}}}, {'type': 'function', 'function': {'name': 'HackerNewsStoriesRetrieveAskStoryIdsList', 'description': 'Obtains a list of IDs for the current \"Ask HN\" stories. These are questions or discussion topics posed by the Hacker News community. Use this operation to find story IDs for further details retrieval using RetrieveItemDetailsById. Ideal for analyzing community engagement, tracking discussion trends, or creating a feed of question-based content.', 'parameters': {}}}, {'type': 'function', 'function': {'name': 'HackerNewsUsersGetUserProfileById', 'description': \"Fetches detailed profile information for a specific Hacker News user by their unique ID. If the user ID isn't provided, you may need to extract it from item details obtained via RetrieveItemDetailsById. This operation is essential for gathering user-specific data such as karma score, account creation date, and user bio. Use cases include user analysis, reputation tracking, or verifying user credentials when referencing content creators.\", 'parameters': {'type': 'object', 'properties': {'bodyParams': {'type': 'object', 'properties': {}, 'required': []}, 'queryParams': {'type': 'object', 'properties': {}, 'required': []}, 'pathParams': {'type': 'object', 'properties': {'id': {'type': 'string', 'description': 'Item ID'}}, 'required': []}}, 'required': ['bodyParams', 'queryParams', 'pathParams']}}}, {'type': 'function', 'function': {'name': 'LinkedInProfileServiceSearchProfilesByCriteria', 'description': \"Searches for people on LinkedIn based on various criteria such as first and last name, keywords, location, and company. This operation is fundamental for talent acquisition, networking, and market research. Use this to find potential candidates, expand professional networks, or gather insights about professionals in a specific field. It's particularly useful when you don't have specific profile information and need to start your search from scratch.\", 'parameters': {'type': 'object', 'properties': {'bodyParams': {'type': 'object', 'properties': {}, 'required': []}, 'queryParams': {'type': 'object', 'properties': {'keywords': {'type': 'string', 'description': \"Keywords to search for (e.g., 'software engineer').\"}, 'start': {'type': 'string', 'description': \"Pagination start index (e.g., '0', '10', '20'). It could be one of these: 0, 10, 20, 30, etc.\"}, 'geo': {'type': 'string', 'description': \"Comma-separated location IDs (e.g., '103644278,101165590'). Please follow this link to find location IDs.\"}, 'schoolId': {'type': 'string', 'description': 'School ID.'}, 'firstName': {'type': 'string', 'description': 'First name.'}, 'lastName': {'type': 'string', 'description': 'Last name.'}, 'keywordSchool': {'type': 'string', 'description': 'Keyword for school.'}, 'keywordTitle': {'type': 'string', 'description': 'Keyword for title.'}, 'company': {'type': 'string', 'description': 'Company name.'}}, 'required': []}, 'pathParams': {'type': 'object', 'properties': {}, 'required': []}}, 'required': ['bodyParams', 'queryParams', 'pathParams']}}}, {'type': 'function', 'function': {'name': 'HackerNewsStoriesGetShowStoryIdsList', 'description': 'Retrieves a list of IDs for the current \"Show HN\" stories. These are typically posts where users showcase their projects or discoveries. Use this to find story IDs for further details retrieval using RetrieveItemDetailsById. Useful for monitoring new projects, tracking community creations, or curating a feed of innovative content shared by Hacker News users.', 'parameters': {}}}, {'type': 'function', 'function': {'name': 'xpfinish-agent-execution-finished', 'description': '\\nThis tool must be selected at the end of the process.\\nthere are 3 options:\\n1. Completed your task successfully -> return True and the results as got in the instructions.\\n2. Missing input data and cannot proceed -> return False and the reason why you cannot proceed and what you expect to get as an input.\\n3. Cannot proceed due to missing repeated failures, or an inability to solve the problem. -> return False and the reason why you cannot proceed and what is the error.\\nThis tool must be selected at the end of the process instead of using a text message.\\nIf you didnt receive the expected input data, use this tool immediately before anything else.\\nIf you decided you finished the task successfully, return the results as got in the instructions.\\n        ', 'parameters': {'type': 'object', 'properties': {'bodyParams': {'type': 'object', 'properties': {'result': {'type': 'string', 'description': 'The agent final response. based on the user input and instructions it should return here in a human readable text the answer to the user or to the parent agent. when agent is part of regular conversation (assistant) mode - this field should be markdown', 'example': 'I have finished my job successfully, here is the notion page url that I created as you asked: https://www.notion.so/xpander/1723ef830b380978d32sdkcuhkd9f&pvs=4. This page includes all the data analysis that you sent me with the required headers based on the following template:\\n\\n📊 Data Analysis Report\\n\\n🎯 Executive Summary\\n- Key findings from the analysis\\n- Main recommendations\\n\\n📈 Data Overview\\n- Data sources used\\n- Time period covered\\n- Sample size\\n\\n🔍 Detailed Analysis\\n- Trend analysis\\n- Key metrics performance\\n- Comparative analysis\\n\\n💡 Insights & Recommendations\\n- Key insights derived\\n- Actionable recommendations\\n- Next steps\\n\\nThe page has been structured according to your requirements and includes all the relevant charts and data visualizations.'}, 'agent_builder_agent_id': {'type': 'string', 'description': 'The unique identifier for the AI Agent. Use this field only when creating or updating an AI Agent. It is required to associate the parsed results with the correct agent instance during these specific operations. Ensure the ID matches the registry and is valid for the intended creation or update process.', 'example': '02e491f0-d42f-4241-ba76-632e5f792011'}, 'is_success': {'type': 'boolean', 'description': 'return True if the you finished the input task successfully. False if not', 'example': True}}, 'required': ['result', 'is_success']}, 'queryParams': {'type': 'object', 'properties': {}, 'required': []}, 'pathParams': {'type': 'object', 'properties': {}, 'required': []}}, 'required': ['bodyParams', 'queryParams', 'pathParams']}}}]\n",
      "Input: Get only the longest readable tag\n",
      "General: You are using Tools to complete the task\n",
      "Goal: Your goal is to provide clear answers to my questions in all cases\n",
      "Role: Your role is to help me find interesting news in Hackernews and summarize me profile of people on Linkedin\n",
      "----------------------------------------------------------------------------------------------------\n",
      "Messages object:\n",
      "----------------------------------------------------------------------------------------------------\n",
      "Role: system\n",
      "Tool Call ID: None\n",
      "Tool Calls: None\n",
      "Content: Your General instructions: You are using Tools to complete the task\n",
      "        IMPORTANT: when making a sub-task (with input_task), make sure to append all related \n",
      "        information relevant for the sub-task. For instance, if the sub-task is about sending \n",
      "        an email with tags, ensure the tags and any required data are included in the input_task.\n",
      "        \n",
      "        - Execute tools as needed to complete tasks.  \n",
      "        - If a tool fails **3 times**, execution stalls, or no tool is called for an extended period, stop immediately and report the issue along with any relevant results or errors.\n",
      "        \n",
      "Your Role instructions: Your role is to help me find interesting news in Hackernews and summarize me profile of people on Linkedin\n",
      "Your Goal instructions: Your goal is to provide clear answers to my questions in all cases\n",
      "IMPORTANT: When done or unable to proceed after attempts, use \"xpfinish-agent-execution-finished\" to mark success or failure.\n",
      "----------------------------------------------------------------------------------------------------\n",
      "Role: user\n",
      "Tool Call ID: None\n",
      "Tool Calls: None\n",
      "Content: Get only the longest readable tag\n",
      "----------------------------------------------------------------------------------------------------\n"
     ]
    }
   ],
   "source": [
    "from xpander_sdk import XpanderClient, LLMProvider\n",
    "# load the client\n",
    "xpander_client = XpanderClient(api_key=XPANDER_API_KEY, organization_id=\"\")\n",
    "xpander_agent = xpander_client.agents.get(agent_id=XPANDER_AGENT_ID)\n",
    "# create execution\n",
    "xpander_agent.add_task(\"Get only the longest readable tag\")\n",
    "print(xpander_agent.get_tools(llm_provider=LLMProvider.OPEN_AI))\n",
    "print(\"Input:\",xpander_agent.execution.input_message.content)\n",
    "print(\"General:\",xpander_agent.instructions._delegates[0].general)\n",
    "print(\"Goal:\",xpander_agent.instructions._delegates[0].goal)\n",
    "print(\"Role:\",xpander_agent.instructions._delegates[0].role)\n",
    "print(\"-\"*100)\n",
    "print(\"Messages object:\")\n",
    "for message in xpander_agent.memory.messages:\n",
    "    print(\"-\"*100)\n",
    "    print(\"Role:\",message.role)\n",
    "    print(\"Tool Call ID:\",message.tool_call_id)\n",
    "    print(\"Tool Calls:\",message.tool_calls)\n",
    "    print(\"Content:\",message.content)\n",
    "print(\"-\"*100)"
   ]
  },
  {
   "cell_type": "code",
   "execution_count": 6,
   "metadata": {},
   "outputs": [
    {
     "name": "stdout",
     "output_type": "stream",
     "text": [
      "🔭 OpenTelemetry Tracing Details 🔭\n",
      "|  Phoenix Project: default\n",
      "|  Span Processor: SimpleSpanProcessor\n",
      "|  Collector Endpoint: localhost:4317\n",
      "|  Transport: gRPC\n",
      "|  Transport Headers: {'user-agent': '****'}\n",
      "|  \n",
      "|  Using a default SpanProcessor. `add_span_processor` will overwrite this default.\n",
      "|  \n",
      "|  `register` has set this TracerProvider as the global OpenTelemetry default.\n",
      "|  To disable this behavior, call `register` with `set_global_tracer_provider=False`.\n",
      "\n"
     ]
    }
   ],
   "source": [
    "from openinference.instrumentation.llama_index import LlamaIndexInstrumentor\n",
    "from phoenix.otel import register\n",
    "\n",
    "tracer_provider = register()\n",
    "LlamaIndexInstrumentor().instrument(tracer_provider=tracer_provider)"
   ]
  },
  {
   "cell_type": "markdown",
   "metadata": {},
   "source": [
    "## Load Documents"
   ]
  },
  {
   "cell_type": "code",
   "execution_count": 7,
   "metadata": {},
   "outputs": [],
   "source": [
    "try:\n",
    "    storage_context = StorageContext.from_defaults(\n",
    "        persist_dir=\"./storage/lyft\"\n",
    "    )\n",
    "    lyft_index = load_index_from_storage(storage_context)\n",
    "\n",
    "    storage_context = StorageContext.from_defaults(\n",
    "        persist_dir=\"./storage/uber\"\n",
    "    )\n",
    "    uber_index = load_index_from_storage(storage_context)\n",
    "\n",
    "    index_loaded = True\n",
    "except:\n",
    "    index_loaded = False"
   ]
  },
  {
   "cell_type": "markdown",
   "metadata": {},
   "source": [
    "This is the point we create our vector indexes, by calculating the embedding vectors for each of the chunks. You only need to run this once."
   ]
  },
  {
   "cell_type": "code",
   "execution_count": 8,
   "metadata": {},
   "outputs": [],
   "source": [
    "if not index_loaded:\n",
    "    # load data\n",
    "    lyft_docs = SimpleDirectoryReader(\n",
    "        input_files=[\"./10k/lyft_2021.pdf\"]\n",
    "    ).load_data()\n",
    "    uber_docs = SimpleDirectoryReader(\n",
    "        input_files=[\"./10k/uber_2021.pdf\"]\n",
    "    ).load_data()\n",
    "\n",
    "    # build index\n",
    "    lyft_index = VectorStoreIndex.from_documents(lyft_docs, show_progress=True)\n",
    "    uber_index = VectorStoreIndex.from_documents(uber_docs, swow_progress=True)\n",
    "\n",
    "    # persist index\n",
    "    lyft_index.storage_context.persist(persist_dir=\"./storage/lyft\")\n",
    "    uber_index.storage_context.persist(persist_dir=\"./storage/uber\")"
   ]
  },
  {
   "cell_type": "markdown",
   "metadata": {},
   "source": [
    "Now create the query engines."
   ]
  },
  {
   "cell_type": "code",
   "execution_count": 9,
   "metadata": {},
   "outputs": [],
   "source": [
    "lyft_engine = lyft_index.as_query_engine(similarity_top_k=3, llm=llm)\n",
    "uber_engine = uber_index.as_query_engine(similarity_top_k=3, llm=llm)"
   ]
  },
  {
   "cell_type": "markdown",
   "metadata": {},
   "source": [
    "We can now define the query engines as tools that will be used by the agent.\n",
    "\n",
    "As there is a query engine per document we need to also define one tool for each of them."
   ]
  },
  {
   "cell_type": "code",
   "execution_count": 10,
   "metadata": {},
   "outputs": [],
   "source": [
    "query_engine_tools = [\n",
    "    QueryEngineTool(\n",
    "        query_engine=lyft_engine,\n",
    "        metadata=ToolMetadata(\n",
    "            name=\"lyft_10k\",\n",
    "            description=(\n",
    "                \"Provides information about Lyft financials for year 2021. \"\n",
    "                \"Use a detailed plain text question as input to the tool.\"\n",
    "            ),\n",
    "        ),\n",
    "    ),\n",
    "    QueryEngineTool(\n",
    "        query_engine=uber_engine,\n",
    "        metadata=ToolMetadata(\n",
    "            name=\"uber_10k\",\n",
    "            description=(\n",
    "                \"Provides information about Uber financials for year 2021. \"\n",
    "                \"Use a detailed plain text question as input to the tool.\"\n",
    "            ),\n",
    "        ),\n",
    "    ),\n",
    "]"
   ]
  },
  {
   "cell_type": "markdown",
   "metadata": {},
   "source": [
    "## Creating the Agent\n",
    "Now we have all the elements to create a LlamaIndex ReactAgent"
   ]
  },
  {
   "cell_type": "code",
   "execution_count": 11,
   "metadata": {},
   "outputs": [],
   "source": [
    "llama_agent = ReActAgent.from_tools(\n",
    "    query_engine_tools,\n",
    "    llm=llm,\n",
    "    verbose=True,\n",
    "    max_turns=10,\n",
    ")"
   ]
  },
  {
   "cell_type": "markdown",
   "metadata": {},
   "source": [
    "Now we can interact with the agent and ask a question."
   ]
  },
  {
   "cell_type": "code",
   "execution_count": 12,
   "metadata": {},
   "outputs": [
    {
     "name": "stdout",
     "output_type": "stream",
     "text": [
      "> Running step 75ad006c-3f8c-4fbb-94e2-85a260374b2e. Step input: Who had more profit in 2021, Lyft or Uber?\n",
      "\u001b[1;3;38;5;200mThought: The current language of the user is: English. I need to use a tool to help me answer the question.\n",
      "Action: lyft_10k\n",
      "Action Input: {'input': \"What was Lyft's profit in 2021?\"}\n",
      "\u001b[0m\u001b[1;3;34mObservation: Lyft did not report a profit in 2021; instead, it reported a net loss of $1.0 billion for the year.\n",
      "\u001b[0m> Running step ac7a1d7c-d122-4f84-999e-7d963ed4d9f5. Step input: None\n",
      "\u001b[1;3;38;5;200mThought: I have the information about Lyft's financial performance in 2021. Now, I need to find out Uber's profit for the same year to compare.\n",
      "Action: uber_10k\n",
      "Action Input: {'input': \"What was Uber's profit in 2021?\"}\n",
      "\u001b[0m\u001b[1;3;34mObservation: Uber did not make a profit in 2021. The company reported a net loss attributable to Uber Technologies, Inc. of $496 million for that year.\n",
      "\u001b[0m> Running step 56e54268-1c76-40a1-a8d4-0c9df44ba9d1. Step input: None\n",
      "\u001b[1;3;38;5;200mThought: I have the necessary information about both Lyft's and Uber's financial performances in 2021. Both companies reported net losses for the year, but Uber's net loss was smaller than Lyft's.\n",
      "Answer: In 2021, neither Lyft nor Uber reported a profit. However, Uber had a smaller net loss of $496 million compared to Lyft's net loss of $1.0 billion. Therefore, Uber performed better in terms of net profit/loss for that year.\n",
      "\u001b[0mIn 2021, neither Lyft nor Uber reported a profit. However, Uber had a smaller net loss of $496 million compared to Lyft's net loss of $1.0 billion. Therefore, Uber performed better in terms of net profit/loss for that year.\n"
     ]
    }
   ],
   "source": [
    "response = llama_agent.chat(\"Who had more profit in 2021, Lyft or Uber?\")\n",
    "print(str(response))"
   ]
  },
  {
   "cell_type": "code",
   "execution_count": 2,
   "metadata": {},
   "outputs": [
    {
     "name": "stdout",
     "output_type": "stream",
     "text": [
      "----------------------------------------------------------------------------------------------------\n",
      "model response {'id': 'chatcmpl-AvbSp3OWCegJe0dE3ZhYjWO8CD3Bo', 'choices': [{'finish_reason': 'stop', 'index': 0, 'logprobs': None, 'message': {'content': 'In 2021, Uber reported a net income of $0.9 billion, while Lyft reported a net loss of $1.0 billion. Therefore, Uber had more profit in 2021 compared to Lyft.', 'refusal': None, 'role': 'assistant', 'audio': None, 'function_call': None, 'tool_calls': None}}], 'created': 1738292071, 'model': 'gpt-4o-2024-08-06', 'object': 'chat.completion', 'service_tier': 'default', 'system_fingerprint': 'fp_50cad350e4', 'usage': {'completion_tokens': 46, 'prompt_tokens': 2213, 'total_tokens': 2259, 'completion_tokens_details': {'accepted_prediction_tokens': 0, 'audio_tokens': 0, 'reasoning_tokens': 0, 'rejected_prediction_tokens': 0}, 'prompt_tokens_details': {'audio_tokens': 0, 'cached_tokens': 2048}}}\n",
      "\n"
     ]
    }
   ],
   "source": [
    "from os import environ\n",
    "from dotenv import load_dotenv\n",
    "\n",
    "load_dotenv()\n",
    "\n",
    "OPENAI_API_KEY = environ[\"OPENAI_API_KEY\"]\n",
    "XPANDER_API_KEY = environ[\"XPANDER_API_KEY\"]\n",
    "XPANDER_AGENT_ID = environ[\"XPANDER_AGENT_ID\"]\n",
    "\n",
    "from openai import OpenAI\n",
    "from xpander_sdk import XpanderClient, LLMProvider\n",
    "# load the client\n",
    "xpander_client = XpanderClient(api_key=XPANDER_API_KEY, organization_id=\"\")\n",
    "\n",
    "# get the agent\n",
    "xpander_agent = xpander_client.agents.get(agent_id=XPANDER_AGENT_ID)\n",
    "openai_client = OpenAI(api_key=OPENAI_API_KEY)\n",
    "# create execution\n",
    "xpander_agent.add_task(\"Who had more profit in 2021, Lyft or Uber?\")\n",
    "while not xpander_agent.is_finished():\n",
    "    print(\"-\"*100)\n",
    "    response = openai_client.chat.completions.create(\n",
    "                model= 'gpt-4o',\n",
    "                messages=xpander_agent.memory.retrieve_messages(),\n",
    "                tools=xpander_agent.get_tools(llm_provider=LLMProvider.OPEN_AI),\n",
    "                tool_choice=\"auto\",\n",
    "                temperature=0.0\n",
    "        ) \n",
    "    print(\"model response\", response.model_dump())\n",
    "    tool_calls = XpanderClient.extract_tool_calls(llm_response=response.model_dump())\n",
    "    for tool_call in tool_calls:\n",
    "        print(\"tool name: \", tool_call.name)\n",
    "        print(\"tool call generated payload: \", tool_call.payload)\n",
    "    tool_responses = xpander_agent.run_tools(tool_calls=tool_calls)\n",
    "    for tool_response in tool_responses:\n",
    "        print(\"tool name: \", tool_response.function_name)\n",
    "        print(\"tool status code: \", tool_response.status_code)\n",
    "        print(\"tool result: \", tool_response.result)\n",
    "    if response.choices[0].finish_reason == \"stop\":\n",
    "        break\n",
    "print(xpander_agent.retrieve_execution_result().result)"
   ]
  }
 ],
 "metadata": {
  "kernelspec": {
   "display_name": "p312",
   "language": "python",
   "name": "python3"
  },
  "language_info": {
   "codemirror_mode": {
    "name": "ipython",
    "version": 3
   },
   "file_extension": ".py",
   "mimetype": "text/x-python",
   "name": "python",
   "nbconvert_exporter": "python",
   "pygments_lexer": "ipython3",
   "version": "3.13.1"
  }
 },
 "nbformat": 4,
 "nbformat_minor": 2
}
