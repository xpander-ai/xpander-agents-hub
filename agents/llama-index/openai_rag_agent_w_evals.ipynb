{
 "cells": [
  {
   "cell_type": "markdown",
   "metadata": {},
   "source": [
    "# OpenAI Agent with LlamaIndex\n",
    "\n",
    "## Install Dependencies"
   ]
  },
  {
   "cell_type": "code",
   "execution_count": 1,
   "metadata": {},
   "outputs": [
    {
     "name": "stdout",
     "output_type": "stream",
     "text": [
      "Requirement already satisfied: uv in ./.venv/lib/python3.13/site-packages (0.5.25)\n"
     ]
    }
   ],
   "source": [
    "!pip install uv\n",
    "!uv pip install -qU xpander-sdk llama-index==0.11.6 llama-index-llms-openai llama-index-readers-file llama-index-embeddings-openai llama-index-llms-openai-like \"openinference-instrumentation-llama-index>=2\" arize-phoenix python-dotenv"
   ]
  },
  {
   "cell_type": "markdown",
   "metadata": {},
   "source": [
    "## Setup API Keys\n"
   ]
  },
  {
   "cell_type": "code",
   "execution_count": 2,
   "metadata": {},
   "outputs": [],
   "source": [
    "from os import environ\n",
    "from dotenv import load_dotenv\n",
    "\n",
    "load_dotenv()\n",
    "\n",
    "OPENAI_API_KEY = environ[\"OPENAI_API_KEY\"]\n",
    "XPANDER_API_KEY = environ[\"XPANDER_API_KEY\"]\n",
    "XPANDER_AGENT_ID = environ[\"XPANDER_AGENT_ID\"]"
   ]
  },
  {
   "cell_type": "markdown",
   "metadata": {},
   "source": [
    "## Import libraries and setup LlamaIndex"
   ]
  },
  {
   "cell_type": "code",
   "execution_count": 3,
   "metadata": {},
   "outputs": [],
   "source": [
    "from llama_index.core import (\n",
    "    SimpleDirectoryReader,\n",
    "    VectorStoreIndex,\n",
    "    StorageContext,\n",
    "    load_index_from_storage,\n",
    ")\n",
    "from llama_index.core.tools import QueryEngineTool, ToolMetadata\n",
    "from llama_index.core.agent import ReActAgent\n",
    "from llama_index.llms.openai import OpenAI\n",
    "\n",
    "\n",
    "# Create an llm object to use for the QueryEngine and the ReActAgent\n",
    "llm = OpenAI(model=\"gpt-4o\")"
   ]
  },
  {
   "cell_type": "markdown",
   "metadata": {},
   "source": [
    "# Set up Phoenix"
   ]
  },
  {
   "cell_type": "code",
   "execution_count": 4,
   "metadata": {},
   "outputs": [
    {
     "name": "stderr",
     "output_type": "stream",
     "text": [
      "/Users/dudu/Developer/xpander-lab/projects/xpander-agents-hub/agents/llama-index/.venv/lib/python3.13/site-packages/tqdm/auto.py:21: TqdmWarning: IProgress not found. Please update jupyter and ipywidgets. See https://ipywidgets.readthedocs.io/en/stable/user_install.html\n",
      "  from .autonotebook import tqdm as notebook_tqdm\n"
     ]
    },
    {
     "name": "stdout",
     "output_type": "stream",
     "text": [
      "🌍 To view the Phoenix app in your browser, visit http://localhost:6006/\n",
      "📖 For more information on how to use Phoenix, check out https://docs.arize.com/phoenix\n"
     ]
    }
   ],
   "source": [
    "import phoenix as px\n",
    "session = px.launch_app()"
   ]
  },
  {
   "cell_type": "code",
   "execution_count": 5,
   "metadata": {},
   "outputs": [
    {
     "name": "stderr",
     "output_type": "stream",
     "text": [
      "WARNING: All log messages before absl::InitializeLog() is called are written to STDERR\n",
      "I0000 00:00:1738109811.500656 7318381 fork_posix.cc:75] Other threads are currently calling into gRPC, skipping fork() handlers\n",
      "b'\\x1b[43m\\x1b[30m!!!!!!!!!!!!!!!!!!!!!!!!!!!!!!!!!!!!!!!!!!!!!!!!!!!!!!!!!!!!!!!!!!!!!!!!!!!!!!!!!!!!!!!!!!!!!!!!!!!!!!!!!!!!!!!!!!!!!!!!!!\\x1b[39m\\x1b[49m\\n'\n",
      "b'\\x1b[43m\\x1b[30m!!                                                                                                                      !!\\x1b[39m\\x1b[49m\\n'\n",
      "b'\\x1b[43m\\x1b[30m!!  This software has not been tested with node v23.4.0.                                                                !!\\x1b[39m\\x1b[49m\\n'\n",
      "b'\\x1b[43m\\x1b[30m!!  Should you encounter odd runtime issues, please try using one of the supported release before filing a bug report.  !!\\x1b[39m\\x1b[49m\\n'\n",
      "b'\\x1b[43m\\x1b[30m!!                                                                                                                      !!\\x1b[39m\\x1b[49m\\n'\n",
      "b'\\x1b[43m\\x1b[30m!!  This software is currently running on node v23.4.0.                                                                 !!\\x1b[39m\\x1b[49m\\n'\n",
      "b'\\x1b[43m\\x1b[30m!!  As of the current release of this software, supported node releases are:                                            !!\\x1b[39m\\x1b[49m\\n'\n",
      "b'\\x1b[43m\\x1b[30m!!  - ^22.0.0 (Planned end-of-life: 2027-04-30)                                                                         !!\\x1b[39m\\x1b[49m\\n'\n",
      "b'\\x1b[43m\\x1b[30m!!  - ^20.0.0 (Planned end-of-life: 2026-04-30)                                                                         !!\\x1b[39m\\x1b[49m\\n'\n",
      "b'\\x1b[43m\\x1b[30m!!  - ^18.0.0 (Planned end-of-life: 2025-04-30)                                                                         !!\\x1b[39m\\x1b[49m\\n'\n",
      "b'\\x1b[43m\\x1b[30m!!                                                                                                                      !!\\x1b[39m\\x1b[49m\\n'\n",
      "b'\\x1b[43m\\x1b[30m!!  This warning can be silenced by setting the JSII_SILENCE_WARNING_UNTESTED_NODE_VERSION environment variable.        !!\\x1b[39m\\x1b[49m\\n'\n",
      "b'\\x1b[43m\\x1b[30m!!                                                                                                                      !!\\x1b[39m\\x1b[49m\\n'\n",
      "b'\\x1b[43m\\x1b[30m!!!!!!!!!!!!!!!!!!!!!!!!!!!!!!!!!!!!!!!!!!!!!!!!!!!!!!!!!!!!!!!!!!!!!!!!!!!!!!!!!!!!!!!!!!!!!!!!!!!!!!!!!!!!!!!!!!!!!!!!!!\\x1b[39m\\x1b[49m\\n'\n",
      "b'{\"stdout\":\"bG9hZGluZyBhZ2VudCA4NjBmYzcyNS05NzI4LTQ2ZjctOGIwYi1jNDU3NzRmNDRmMTkK\"}\\n'\n",
      "b'{\"stdout\":\"YWRkaW5nIG1lc3NhZ2VzIHRvIHRocmVhZCAwNjhjMzFhOS02MjNiLTRhNmMtOTc2Ni1hM2ViNzM4NzEyYWYgWwogIHsKICAgIHJvbGU6IBtbMzJtJ3N5c3RlbScbWzM5bSwKICAgIGNvbnRlbnQ6IBtbMzJtJ1lvdXIgR2VuZXJhbCBpbnN0cnVjdGlvbnM6IFByb2Zlc3Npb25hbFxuJxtbMzltICsKICAgICAgG1szMm0nICAgICAgICBJTVBPUlRBTlQ6IHdoZW4gbWFraW5nIGEgc3ViLXRhc2sgKHdpdGggaW5wdXRfdGFzayksIG1ha2Ugc3VyZSB0byBhcHBlbmQgYWxsIHJlbGF0ZWQgXG4nG1szOW0gKwogICAgICAbWzMybScgICAgICAgIGluZm9ybWF0aW9uIHJlbGV2YW50IGZvciB0aGUgc3ViLXRhc2suIEZvciBpbnN0YW5jZSwgaWYgdGhlIHN1Yi10YXNrIGlzIGFib3V0IHNlbmRpbmcgXG4nG1szOW0gKwogICAgICAbWzMybScgICAgICAgIGFuIGVtYWlsIHdpdGggdGFncywgZW5zdXJlIHRoZSB0YWdzIGFuZCBhbnkgcmVxdWlyZWQgZGF0YSBhcmUgaW5jbHVkZWQgaW4gdGhlIGlucHV0X3Rhc2suXG4nG1szOW0gKwogICAgICAbWzMybScgICAgICAgIFxuJxtbMzltICsKICAgICAgG1szMm0nICAgICAgICAtIEV4ZWN1dGUgdG9vbHMgYXMgbmVlZGVkIHRvIGNvbXBsZXRlIHRhc2tzLiAgXG4nG1szOW0gKwogICAgICAbWzMybScgICAgICAgIC0gSWYgYSB0b29sIGZhaWxzICoqMyB0aW1lcyoqLCBleGVjdXRpb24gc3RhbGxzLCBvciBubyB0b29sIGlzIGNhbGxlZCBmb3IgYW4gZXh0ZW5kZWQgcGVyaW9kLCBzdG9wIGltbWVkaWF0ZWx5IGFuZCByZXBvcnQgdGhlIGlzc3VlIGFsb25nIHdpdGggYW55IHJlbGV2YW50IHJlc3VsdHMgb3IgZXJyb3JzLlxuJxtbMzltICsKICAgICAgG1szMm0nICAgICAgICBcbicbWzM5bSArCiAgICAgIBtbMzJtJ1lvdXIgUm9sZSBpbnN0cnVjdGlvbnM6IFlvdSBhcmUgcmVzcG9uc2libGUgZm9yIHN1bW1hcml6aW5nIExpbmtlZGluIFByb2ZpbGVzXG4nG1szOW0gKwogICAgICAbWzMybSdZb3VyIEdvYWwgaW5zdHJ1Y3Rpb25zOiBSZXR1cm4gY29uY2lzZSBwcm9maWxlIHN1bW1hcnlcbicbWzM5bSArCiAgICAgIBtbMzJtJ0lNUE9SVEFOVDogV2hlbiBkb25lIG9yIHVuYWJsZSB0byBwcm9jZWVkIGFmdGVyIGF0dGVtcHRzLCB1c2UgInhwZmluaXNoLWFnZW50LWV4ZWN1dGlvbi1maW5pc2hlZCIgdG8gbWFyayBzdWNjZXNzIG9yIGZhaWx1cmUuJxtbMzltCiAgfQpdCg==\"}\\n'\n",
      "b'{\"stdout\":\"YWRkaW5nIG1lc3NhZ2VzIHRvIHRocmVhZCAwNjhjMzFhOS02MjNiLTRhNmMtOTc2Ni1hM2ViNzM4NzEyYWYgWyB7IHJvbGU6IBtbMzJtJ3VzZXInG1szOW0sIGNvbnRlbnQ6IBtbMzJtJ0dldCBvbmx5IHRoZSBsb25nZXN0IHJlYWRhYmxlIHRhZycbWzM5bSB9IF0K\"}\\n'\n"
     ]
    },
    {
     "name": "stdout",
     "output_type": "stream",
     "text": [
      "[{'type': 'function', 'function': {'name': 'LinkedInProfileServiceConvertProfileUrlToEmail', 'description': \"Attempts to retrieve email addresses associated with a given LinkedIn profile URL. This operation is valuable for obtaining contact information. If the profile URL isn't provided, run SearchProfilesByCriteria first to get the profile URL. Use this operation for lead generation or to establish direct contact with LinkedIn users when you have their profile URL but need their email address.\", 'parameters': {'type': 'object', 'properties': {'bodyParams': {'type': 'object', 'properties': {}, 'required': []}, 'queryParams': {'type': 'object', 'properties': {'url': {'type': 'string', 'description': \"LinkedIn profile URL (e.g., 'https://www.linkedin.com/in/taylorotwell').\"}}, 'required': ['url']}, 'pathParams': {'type': 'object', 'properties': {}, 'required': []}}, 'required': ['bodyParams', 'queryParams', 'pathParams']}}}, {'type': 'function', 'function': {'name': 'LinkedInProfileServiceSearchProfilesByCriteria', 'description': \"Searches for people on LinkedIn based on various criteria such as first and last name, keywords, location, and company. This operation is fundamental for talent acquisition, networking, and market research. Use this to find potential candidates, expand professional networks, or gather insights about professionals in a specific field. It's particularly useful when you don't have specific profile information and need to start your search from scratch.\", 'parameters': {'type': 'object', 'properties': {'bodyParams': {'type': 'object', 'properties': {}, 'required': []}, 'queryParams': {'type': 'object', 'properties': {'keywords': {'type': 'string', 'description': \"Keywords to search for (e.g., 'software engineer').\"}, 'start': {'type': 'string', 'description': \"Pagination start index (e.g., '0', '10', '20'). It could be one of these: 0, 10, 20, 30, etc.\"}, 'geo': {'type': 'string', 'description': \"Comma-separated location IDs (e.g., '103644278,101165590'). Please follow this link to find location IDs.\"}, 'schoolId': {'type': 'string', 'description': 'School ID.'}, 'firstName': {'type': 'string', 'description': 'First name.'}, 'lastName': {'type': 'string', 'description': 'Last name.'}, 'keywordSchool': {'type': 'string', 'description': 'Keyword for school.'}, 'keywordTitle': {'type': 'string', 'description': 'Keyword for title.'}, 'company': {'type': 'string', 'description': 'Company name.'}}, 'required': []}, 'pathParams': {'type': 'object', 'properties': {}, 'required': []}}, 'required': ['bodyParams', 'queryParams', 'pathParams']}}}, {'type': 'function', 'function': {'name': 'LinkedInCompanyManagementGetCompanyDetailsByUsername', 'description': \"Retrieves comprehensive information about a company using its LinkedIn username. This operation provides valuable insights into company profiles, including size, industry, and location. If the username isn't provided, run GetCompanyInfoByDomain if you have the company's domain name. Use this to gather detailed company information for business intelligence, partnership opportunities, or competitive analysis.\", 'parameters': {'type': 'object', 'properties': {'bodyParams': {'type': 'object', 'properties': {}, 'required': []}, 'queryParams': {'type': 'object', 'properties': {'username': {'type': 'string', 'description': \"Company's LinkedIn username (e.g., 'google').\"}}, 'required': ['username']}, 'pathParams': {'type': 'object', 'properties': {}, 'required': []}}, 'required': ['bodyParams', 'queryParams', 'pathParams']}}}, {'type': 'function', 'function': {'name': 'LinkedInProfileServiceGetProfileDataByUrl', 'description': \"Fetches detailed LinkedIn profile data using the provided profile URL. This operation is essential for accessing user information when only the profile URL is available. If the URL isn't provided, run SearchProfilesByCriteria if you have the username instead. Use this to gather comprehensive profile details from public LinkedIn profiles when you have the exact profile URL but lack other identifying information.\", 'parameters': {'type': 'object', 'properties': {'bodyParams': {'type': 'object', 'properties': {}, 'required': []}, 'queryParams': {'type': 'object', 'properties': {'url': {'type': 'string', 'description': \"LinkedIn profile URL (e.g., 'https://www.linkedin.com/in/username-linkedinId/').\"}}, 'required': ['url']}, 'pathParams': {'type': 'object', 'properties': {}, 'required': []}}, 'required': ['bodyParams', 'queryParams', 'pathParams']}}}, {'type': 'function', 'function': {'name': 'LinkedInProfileServiceGetProfileDataByUsernameAndId', 'description': \"Retrieves comprehensive LinkedIn profile data using the provided username and linkedinId. This operation is crucial for obtaining detailed user information. If the linkedinId isn't provided, run SearchProfilesByCriteria before anything else to find the linkedinId. If the username isn't provided, run GetProfileDataByUrl first to obtain the username from a profile URL. Use this to gather essential profile details for further analysis or processing.\", 'parameters': {'type': 'object', 'properties': {'bodyParams': {'type': 'object', 'properties': {}, 'required': []}, 'queryParams': {'type': 'object', 'properties': {'username': {'type': 'string', 'description': \"LinkedIn username (e.g., 'adamselipsky').\"}}, 'required': ['username']}, 'pathParams': {'type': 'object', 'properties': {}, 'required': []}}, 'required': ['bodyParams', 'queryParams', 'pathParams']}}}, {'type': 'function', 'function': {'name': 'xpfinish-agent-execution-finished', 'description': '\\nThis tool must be selected at the end of the process.\\nthere are 3 options:\\n1. Completed your task successfully -> return True and the results as got in the instructions.\\n2. Missing input data and cannot proceed -> return False and the reason why you cannot proceed and what you expect to get as an input.\\n3. Cannot proceed due to missing repeated failures, or an inability to solve the problem. -> return False and the reason why you cannot proceed and what is the error.\\nThis tool must be selected at the end of the process instead of using a text message.\\nIf you didnt receive the expected input data, use this tool immediately before anything else.\\nIf you decided you finished the task successfully, return the results as got in the instructions.\\n        ', 'parameters': {'type': 'object', 'properties': {'bodyParams': {'type': 'object', 'properties': {'result': {'type': 'string', 'description': 'The agent final response. based on the user input and instructions it should return here in a human readable text the answer to the user or to the parent agent', 'example': 'I have finished my job successfully, here is the notion page url that I created as you asked: https://www.notion.so/xpander/1723ef830b380978d32sdkcuhkd9f&pvs=4. This page includes all the data analysis that you sent me with the required headers based on the following template:\\n\\n📊 Data Analysis Report\\n\\n🎯 Executive Summary\\n- Key findings from the analysis\\n- Main recommendations\\n\\n📈 Data Overview\\n- Data sources used\\n- Time period covered\\n- Sample size\\n\\n🔍 Detailed Analysis\\n- Trend analysis\\n- Key metrics performance\\n- Comparative analysis\\n\\n💡 Insights & Recommendations\\n- Key insights derived\\n- Actionable recommendations\\n- Next steps\\n\\nThe page has been structured according to your requirements and includes all the relevant charts and data visualizations.'}, 'is_success': {'type': 'boolean', 'description': 'return True if the you finished the input task successfully. False if not', 'example': True}}, 'required': ['result', 'is_success']}, 'queryParams': {'type': 'object', 'properties': {}, 'required': []}, 'pathParams': {'type': 'object', 'properties': {}, 'required': []}}, 'required': ['bodyParams', 'queryParams', 'pathParams']}}}]\n",
      "Input: Get only the longest readable tag\n",
      "General: Professional\n",
      "        IMPORTANT: when making a sub-task (with input_task), make sure to append all related \n",
      "        information relevant for the sub-task. For instance, if the sub-task is about sending \n",
      "        an email with tags, ensure the tags and any required data are included in the input_task.\n",
      "        \n",
      "        - Execute tools as needed to complete tasks.  \n",
      "        - If a tool fails **3 times**, execution stalls, or no tool is called for an extended period, stop immediately and report the issue along with any relevant results or errors.\n",
      "        \n",
      "Goal: Return concise profile summary\n",
      "Role: You are responsible for summarizing Linkedin Profiles\n",
      "----------------------------------------------------------------------------------------------------\n",
      "Messages object:\n",
      "----------------------------------------------------------------------------------------------------\n",
      "Role: system\n",
      "Tool Call ID: None\n",
      "Tool Calls: None\n",
      "Content: Your General instructions: Professional\n",
      "        IMPORTANT: when making a sub-task (with input_task), make sure to append all related \n",
      "        information relevant for the sub-task. For instance, if the sub-task is about sending \n",
      "        an email with tags, ensure the tags and any required data are included in the input_task.\n",
      "        \n",
      "        - Execute tools as needed to complete tasks.  \n",
      "        - If a tool fails **3 times**, execution stalls, or no tool is called for an extended period, stop immediately and report the issue along with any relevant results or errors.\n",
      "        \n",
      "Your Role instructions: You are responsible for summarizing Linkedin Profiles\n",
      "Your Goal instructions: Return concise profile summary\n",
      "IMPORTANT: When done or unable to proceed after attempts, use \"xpfinish-agent-execution-finished\" to mark success or failure.\n",
      "----------------------------------------------------------------------------------------------------\n",
      "Role: user\n",
      "Tool Call ID: None\n",
      "Tool Calls: None\n",
      "Content: Get only the longest readable tag\n",
      "----------------------------------------------------------------------------------------------------\n"
     ]
    }
   ],
   "source": [
    "from xpander_sdk import XpanderClient, LLMProvider, OpenAISupportedModels\n",
    "# load the client\n",
    "xpander_client = XpanderClient(api_key=XPANDER_API_KEY, organization_id=\"\")\n",
    "xpander_agent = xpander_client.agents.get(agent_id=XPANDER_AGENT_ID)\n",
    "# create execution\n",
    "xpander_agent.invoke_agent(\"Get only the longest readable tag\")\n",
    "\n",
    "# init the memory\n",
    "xpander_agent.memory.select_llm_provider(llm_provider=LLMProvider.OPEN_AI)\n",
    "xpander_agent.memory.initialize_thread(input=xpander_agent.execution.input_message,instructions=xpander_agent.instructions)\n",
    "print(xpander_agent.get_tools(llm_provider=LLMProvider.OPEN_AI))\n",
    "print(\"Input:\",xpander_agent.execution.input_message.content)\n",
    "print(\"General:\",xpander_agent.instructions._delegates[0].general)\n",
    "print(\"Goal:\",xpander_agent.instructions._delegates[0].goal)\n",
    "print(\"Role:\",xpander_agent.instructions._delegates[0].role)\n",
    "xpander_agent.memory.initialize_thread(input=xpander_agent.execution.input_message,instructions=xpander_agent.instructions)\n",
    "print(\"-\"*100)\n",
    "print(\"Messages object:\")\n",
    "for message in xpander_agent.memory.messages:\n",
    "    print(\"-\"*100)\n",
    "    print(\"Role:\",message.role)\n",
    "    print(\"Tool Call ID:\",message.tool_call_id)\n",
    "    print(\"Tool Calls:\",message.tool_calls)\n",
    "    print(\"Content:\",message.content)\n",
    "print(\"-\"*100)"
   ]
  },
  {
   "cell_type": "code",
   "execution_count": 6,
   "metadata": {},
   "outputs": [
    {
     "name": "stdout",
     "output_type": "stream",
     "text": [
      "🔭 OpenTelemetry Tracing Details 🔭\n",
      "|  Phoenix Project: default\n",
      "|  Span Processor: SimpleSpanProcessor\n",
      "|  Collector Endpoint: localhost:4317\n",
      "|  Transport: gRPC\n",
      "|  Transport Headers: {'user-agent': '****'}\n",
      "|  \n",
      "|  Using a default SpanProcessor. `add_span_processor` will overwrite this default.\n",
      "|  \n",
      "|  `register` has set this TracerProvider as the global OpenTelemetry default.\n",
      "|  To disable this behavior, call `register` with `set_global_tracer_provider=False`.\n",
      "\n"
     ]
    }
   ],
   "source": [
    "from openinference.instrumentation.llama_index import LlamaIndexInstrumentor\n",
    "from phoenix.otel import register\n",
    "\n",
    "tracer_provider = register()\n",
    "LlamaIndexInstrumentor().instrument(tracer_provider=tracer_provider)"
   ]
  },
  {
   "cell_type": "markdown",
   "metadata": {},
   "source": [
    "## Load Documents"
   ]
  },
  {
   "cell_type": "code",
   "execution_count": 7,
   "metadata": {},
   "outputs": [],
   "source": [
    "try:\n",
    "    storage_context = StorageContext.from_defaults(\n",
    "        persist_dir=\"./storage/lyft\"\n",
    "    )\n",
    "    lyft_index = load_index_from_storage(storage_context)\n",
    "\n",
    "    storage_context = StorageContext.from_defaults(\n",
    "        persist_dir=\"./storage/uber\"\n",
    "    )\n",
    "    uber_index = load_index_from_storage(storage_context)\n",
    "\n",
    "    index_loaded = True\n",
    "except:\n",
    "    index_loaded = False"
   ]
  },
  {
   "cell_type": "markdown",
   "metadata": {},
   "source": [
    "This is the point we create our vector indexes, by calculating the embedding vectors for each of the chunks. You only need to run this once."
   ]
  },
  {
   "cell_type": "code",
   "execution_count": 8,
   "metadata": {},
   "outputs": [],
   "source": [
    "if not index_loaded:\n",
    "    # load data\n",
    "    lyft_docs = SimpleDirectoryReader(\n",
    "        input_files=[\"./10k/lyft_2021.pdf\"]\n",
    "    ).load_data()\n",
    "    uber_docs = SimpleDirectoryReader(\n",
    "        input_files=[\"./10k/uber_2021.pdf\"]\n",
    "    ).load_data()\n",
    "\n",
    "    # build index\n",
    "    lyft_index = VectorStoreIndex.from_documents(lyft_docs, show_progress=True)\n",
    "    uber_index = VectorStoreIndex.from_documents(uber_docs, swow_progress=True)\n",
    "\n",
    "    # persist index\n",
    "    lyft_index.storage_context.persist(persist_dir=\"./storage/lyft\")\n",
    "    uber_index.storage_context.persist(persist_dir=\"./storage/uber\")"
   ]
  },
  {
   "cell_type": "markdown",
   "metadata": {},
   "source": [
    "Now create the query engines."
   ]
  },
  {
   "cell_type": "code",
   "execution_count": 9,
   "metadata": {},
   "outputs": [],
   "source": [
    "lyft_engine = lyft_index.as_query_engine(similarity_top_k=3, llm=llm)\n",
    "uber_engine = uber_index.as_query_engine(similarity_top_k=3, llm=llm)"
   ]
  },
  {
   "cell_type": "markdown",
   "metadata": {},
   "source": [
    "We can now define the query engines as tools that will be used by the agent.\n",
    "\n",
    "As there is a query engine per document we need to also define one tool for each of them."
   ]
  },
  {
   "cell_type": "code",
   "execution_count": 10,
   "metadata": {},
   "outputs": [],
   "source": [
    "query_engine_tools = [\n",
    "    QueryEngineTool(\n",
    "        query_engine=lyft_engine,\n",
    "        metadata=ToolMetadata(\n",
    "            name=\"lyft_10k\",\n",
    "            description=(\n",
    "                \"Provides information about Lyft financials for year 2021. \"\n",
    "                \"Use a detailed plain text question as input to the tool.\"\n",
    "            ),\n",
    "        ),\n",
    "    ),\n",
    "    QueryEngineTool(\n",
    "        query_engine=uber_engine,\n",
    "        metadata=ToolMetadata(\n",
    "            name=\"uber_10k\",\n",
    "            description=(\n",
    "                \"Provides information about Uber financials for year 2021. \"\n",
    "                \"Use a detailed plain text question as input to the tool.\"\n",
    "            ),\n",
    "        ),\n",
    "    ),\n",
    "]"
   ]
  },
  {
   "cell_type": "markdown",
   "metadata": {},
   "source": [
    "## Creating the Agent\n",
    "Now we have all the elements to create a LlamaIndex ReactAgent"
   ]
  },
  {
   "cell_type": "code",
   "execution_count": 11,
   "metadata": {},
   "outputs": [],
   "source": [
    "llama_agent = ReActAgent.from_tools(\n",
    "    query_engine_tools,\n",
    "    llm=llm,\n",
    "    verbose=True,\n",
    "    max_turns=10,\n",
    ")"
   ]
  },
  {
   "cell_type": "markdown",
   "metadata": {},
   "source": [
    "Now we can interact with the agent and ask a question."
   ]
  },
  {
   "cell_type": "code",
   "execution_count": 12,
   "metadata": {},
   "outputs": [
    {
     "name": "stdout",
     "output_type": "stream",
     "text": [
      "> Running step 5a5d811d-6b4c-417e-be02-5f88fb7c6f3d. Step input: Who had more profit in 2021, Lyft or Uber?\n",
      "\u001b[1;3;38;5;200mThought: The current language of the user is: English. I need to use a tool to help me answer the question.\n",
      "Action: lyft_10k\n",
      "Action Input: {'input': \"What was Lyft's profit in 2021?\"}\n",
      "\u001b[0m\u001b[1;3;34mObservation: Lyft did not report a profit in 2021. Instead, the company had a net loss of $1.0 billion for the year.\n",
      "\u001b[0m> Running step e65607ea-23cd-4831-ae4b-1bca49ebbdab. Step input: None\n",
      "\u001b[1;3;38;5;200mThought: I have information about Lyft's financial performance. Now, I need to find out Uber's profit for 2021 to compare.\n",
      "Action: uber_10k\n",
      "Action Input: {'input': \"What was Uber's profit in 2021?\"}\n",
      "\u001b[0m\u001b[1;3;34mObservation: Uber did not report a profit in 2021. Instead, it recorded a net loss attributable to Uber Technologies, Inc. of $496 million.\n",
      "\u001b[0m> Running step 23b2af42-16c6-4be1-acef-4f07b24d392a. Step input: None\n",
      "\u001b[1;3;38;5;200mThought: I have gathered the necessary information about both companies' financial performances in 2021. Lyft had a net loss of $1.0 billion, while Uber had a net loss of $496 million.\n",
      "Answer: In 2021, neither Lyft nor Uber reported a profit. However, Uber had a smaller net loss of $496 million compared to Lyft's net loss of $1.0 billion.\n",
      "\u001b[0mIn 2021, neither Lyft nor Uber reported a profit. However, Uber had a smaller net loss of $496 million compared to Lyft's net loss of $1.0 billion.\n"
     ]
    }
   ],
   "source": [
    "response = llama_agent.chat(\"Who had more profit in 2021, Lyft or Uber?\")\n",
    "print(str(response))"
   ]
  },
  {
   "cell_type": "code",
   "execution_count": 13,
   "metadata": {},
   "outputs": [
    {
     "name": "stdout",
     "output_type": "stream",
     "text": [
      "----------------------------------------------------------------------------------------------------\n",
      "Messages: [{'role': 'system', 'content': 'Your General instructions: Professional\\n        IMPORTANT: when making a sub-task (with input_task), make sure to append all related \\n        information relevant for the sub-task. For instance, if the sub-task is about sending \\n        an email with tags, ensure the tags and any required data are included in the input_task.\\n        \\n        - Execute tools as needed to complete tasks.  \\n        - If a tool fails **3 times**, execution stalls, or no tool is called for an extended period, stop immediately and report the issue along with any relevant results or errors.\\n        \\nYour Role instructions: You are responsible for summarizing Linkedin Profiles\\nYour Goal instructions: Return concise profile summary\\nIMPORTANT: When done or unable to proceed after attempts, use \"xpfinish-agent-execution-finished\" to mark success or failure.'}, {'role': 'user', 'content': 'Get only the longest readable tag'}]\n",
      "Tools: [{'type': 'function', 'function': {'name': 'LinkedInProfileServiceConvertProfileUrlToEmail', 'description': \"Attempts to retrieve email addresses associated with a given LinkedIn profile URL. This operation is valuable for obtaining contact information. If the profile URL isn't provided, run SearchProfilesByCriteria first to get the profile URL. Use this operation for lead generation or to establish direct contact with LinkedIn users when you have their profile URL but need their email address.\", 'parameters': {'type': 'object', 'properties': {'bodyParams': {'type': 'object', 'properties': {}, 'required': []}, 'queryParams': {'type': 'object', 'properties': {'url': {'type': 'string', 'description': \"LinkedIn profile URL (e.g., 'https://www.linkedin.com/in/taylorotwell').\"}}, 'required': ['url']}, 'pathParams': {'type': 'object', 'properties': {}, 'required': []}}, 'required': ['bodyParams', 'queryParams', 'pathParams']}}}, {'type': 'function', 'function': {'name': 'LinkedInProfileServiceSearchProfilesByCriteria', 'description': \"Searches for people on LinkedIn based on various criteria such as first and last name, keywords, location, and company. This operation is fundamental for talent acquisition, networking, and market research. Use this to find potential candidates, expand professional networks, or gather insights about professionals in a specific field. It's particularly useful when you don't have specific profile information and need to start your search from scratch.\", 'parameters': {'type': 'object', 'properties': {'bodyParams': {'type': 'object', 'properties': {}, 'required': []}, 'queryParams': {'type': 'object', 'properties': {'keywords': {'type': 'string', 'description': \"Keywords to search for (e.g., 'software engineer').\"}, 'start': {'type': 'string', 'description': \"Pagination start index (e.g., '0', '10', '20'). It could be one of these: 0, 10, 20, 30, etc.\"}, 'geo': {'type': 'string', 'description': \"Comma-separated location IDs (e.g., '103644278,101165590'). Please follow this link to find location IDs.\"}, 'schoolId': {'type': 'string', 'description': 'School ID.'}, 'firstName': {'type': 'string', 'description': 'First name.'}, 'lastName': {'type': 'string', 'description': 'Last name.'}, 'keywordSchool': {'type': 'string', 'description': 'Keyword for school.'}, 'keywordTitle': {'type': 'string', 'description': 'Keyword for title.'}, 'company': {'type': 'string', 'description': 'Company name.'}}, 'required': []}, 'pathParams': {'type': 'object', 'properties': {}, 'required': []}}, 'required': ['bodyParams', 'queryParams', 'pathParams']}}}, {'type': 'function', 'function': {'name': 'LinkedInCompanyManagementGetCompanyDetailsByUsername', 'description': \"Retrieves comprehensive information about a company using its LinkedIn username. This operation provides valuable insights into company profiles, including size, industry, and location. If the username isn't provided, run GetCompanyInfoByDomain if you have the company's domain name. Use this to gather detailed company information for business intelligence, partnership opportunities, or competitive analysis.\", 'parameters': {'type': 'object', 'properties': {'bodyParams': {'type': 'object', 'properties': {}, 'required': []}, 'queryParams': {'type': 'object', 'properties': {'username': {'type': 'string', 'description': \"Company's LinkedIn username (e.g., 'google').\"}}, 'required': ['username']}, 'pathParams': {'type': 'object', 'properties': {}, 'required': []}}, 'required': ['bodyParams', 'queryParams', 'pathParams']}}}, {'type': 'function', 'function': {'name': 'LinkedInProfileServiceGetProfileDataByUrl', 'description': \"Fetches detailed LinkedIn profile data using the provided profile URL. This operation is essential for accessing user information when only the profile URL is available. If the URL isn't provided, run SearchProfilesByCriteria if you have the username instead. Use this to gather comprehensive profile details from public LinkedIn profiles when you have the exact profile URL but lack other identifying information.\", 'parameters': {'type': 'object', 'properties': {'bodyParams': {'type': 'object', 'properties': {}, 'required': []}, 'queryParams': {'type': 'object', 'properties': {'url': {'type': 'string', 'description': \"LinkedIn profile URL (e.g., 'https://www.linkedin.com/in/username-linkedinId/').\"}}, 'required': ['url']}, 'pathParams': {'type': 'object', 'properties': {}, 'required': []}}, 'required': ['bodyParams', 'queryParams', 'pathParams']}}}, {'type': 'function', 'function': {'name': 'LinkedInProfileServiceGetProfileDataByUsernameAndId', 'description': \"Retrieves comprehensive LinkedIn profile data using the provided username and linkedinId. This operation is crucial for obtaining detailed user information. If the linkedinId isn't provided, run SearchProfilesByCriteria before anything else to find the linkedinId. If the username isn't provided, run GetProfileDataByUrl first to obtain the username from a profile URL. Use this to gather essential profile details for further analysis or processing.\", 'parameters': {'type': 'object', 'properties': {'bodyParams': {'type': 'object', 'properties': {}, 'required': []}, 'queryParams': {'type': 'object', 'properties': {'username': {'type': 'string', 'description': \"LinkedIn username (e.g., 'adamselipsky').\"}}, 'required': ['username']}, 'pathParams': {'type': 'object', 'properties': {}, 'required': []}}, 'required': ['bodyParams', 'queryParams', 'pathParams']}}}, {'type': 'function', 'function': {'name': 'xpfinish-agent-execution-finished', 'description': '\\nThis tool must be selected at the end of the process.\\nthere are 3 options:\\n1. Completed your task successfully -> return True and the results as got in the instructions.\\n2. Missing input data and cannot proceed -> return False and the reason why you cannot proceed and what you expect to get as an input.\\n3. Cannot proceed due to missing repeated failures, or an inability to solve the problem. -> return False and the reason why you cannot proceed and what is the error.\\nThis tool must be selected at the end of the process instead of using a text message.\\nIf you didnt receive the expected input data, use this tool immediately before anything else.\\nIf you decided you finished the task successfully, return the results as got in the instructions.\\n        ', 'parameters': {'type': 'object', 'properties': {'bodyParams': {'type': 'object', 'properties': {'result': {'type': 'string', 'description': 'The agent final response. based on the user input and instructions it should return here in a human readable text the answer to the user or to the parent agent', 'example': 'I have finished my job successfully, here is the notion page url that I created as you asked: https://www.notion.so/xpander/1723ef830b380978d32sdkcuhkd9f&pvs=4. This page includes all the data analysis that you sent me with the required headers based on the following template:\\n\\n📊 Data Analysis Report\\n\\n🎯 Executive Summary\\n- Key findings from the analysis\\n- Main recommendations\\n\\n📈 Data Overview\\n- Data sources used\\n- Time period covered\\n- Sample size\\n\\n🔍 Detailed Analysis\\n- Trend analysis\\n- Key metrics performance\\n- Comparative analysis\\n\\n💡 Insights & Recommendations\\n- Key insights derived\\n- Actionable recommendations\\n- Next steps\\n\\nThe page has been structured according to your requirements and includes all the relevant charts and data visualizations.'}, 'is_success': {'type': 'boolean', 'description': 'return True if the you finished the input task successfully. False if not', 'example': True}}, 'required': ['result', 'is_success']}, 'queryParams': {'type': 'object', 'properties': {}, 'required': []}, 'pathParams': {'type': 'object', 'properties': {}, 'required': []}}, 'required': ['bodyParams', 'queryParams', 'pathParams']}}}]\n",
      "----------------------------------------------------------------------------------------------------\n",
      "----------------------------------------------------------------------------------------------------\n",
      "Messages: [{'role': 'system', 'content': 'Your General instructions: Professional\\n        IMPORTANT: when making a sub-task (with input_task), make sure to append all related \\n        information relevant for the sub-task. For instance, if the sub-task is about sending \\n        an email with tags, ensure the tags and any required data are included in the input_task.\\n        \\n        - Execute tools as needed to complete tasks.  \\n        - If a tool fails **3 times**, execution stalls, or no tool is called for an extended period, stop immediately and report the issue along with any relevant results or errors.\\n        \\nYour Role instructions: You are responsible for summarizing Linkedin Profiles\\nYour Goal instructions: Return concise profile summary\\nIMPORTANT: When done or unable to proceed after attempts, use \"xpfinish-agent-execution-finished\" to mark success or failure.'}, {'role': 'user', 'content': 'Get only the longest readable tag'}, {'role': 'assistant', 'content': 'Could you please provide more context or specify the source or type of tags you are referring to? This will help me assist you more effectively.'}]\n",
      "Tools: [{'type': 'function', 'function': {'name': 'LinkedInProfileServiceConvertProfileUrlToEmail', 'description': \"Attempts to retrieve email addresses associated with a given LinkedIn profile URL. This operation is valuable for obtaining contact information. If the profile URL isn't provided, run SearchProfilesByCriteria first to get the profile URL. Use this operation for lead generation or to establish direct contact with LinkedIn users when you have their profile URL but need their email address.\", 'parameters': {'type': 'object', 'properties': {'bodyParams': {'type': 'object', 'properties': {}, 'required': []}, 'queryParams': {'type': 'object', 'properties': {'url': {'type': 'string', 'description': \"LinkedIn profile URL (e.g., 'https://www.linkedin.com/in/taylorotwell').\"}}, 'required': ['url']}, 'pathParams': {'type': 'object', 'properties': {}, 'required': []}}, 'required': ['bodyParams', 'queryParams', 'pathParams']}}}, {'type': 'function', 'function': {'name': 'LinkedInProfileServiceSearchProfilesByCriteria', 'description': \"Searches for people on LinkedIn based on various criteria such as first and last name, keywords, location, and company. This operation is fundamental for talent acquisition, networking, and market research. Use this to find potential candidates, expand professional networks, or gather insights about professionals in a specific field. It's particularly useful when you don't have specific profile information and need to start your search from scratch.\", 'parameters': {'type': 'object', 'properties': {'bodyParams': {'type': 'object', 'properties': {}, 'required': []}, 'queryParams': {'type': 'object', 'properties': {'keywords': {'type': 'string', 'description': \"Keywords to search for (e.g., 'software engineer').\"}, 'start': {'type': 'string', 'description': \"Pagination start index (e.g., '0', '10', '20'). It could be one of these: 0, 10, 20, 30, etc.\"}, 'geo': {'type': 'string', 'description': \"Comma-separated location IDs (e.g., '103644278,101165590'). Please follow this link to find location IDs.\"}, 'schoolId': {'type': 'string', 'description': 'School ID.'}, 'firstName': {'type': 'string', 'description': 'First name.'}, 'lastName': {'type': 'string', 'description': 'Last name.'}, 'keywordSchool': {'type': 'string', 'description': 'Keyword for school.'}, 'keywordTitle': {'type': 'string', 'description': 'Keyword for title.'}, 'company': {'type': 'string', 'description': 'Company name.'}}, 'required': []}, 'pathParams': {'type': 'object', 'properties': {}, 'required': []}}, 'required': ['bodyParams', 'queryParams', 'pathParams']}}}, {'type': 'function', 'function': {'name': 'LinkedInCompanyManagementGetCompanyDetailsByUsername', 'description': \"Retrieves comprehensive information about a company using its LinkedIn username. This operation provides valuable insights into company profiles, including size, industry, and location. If the username isn't provided, run GetCompanyInfoByDomain if you have the company's domain name. Use this to gather detailed company information for business intelligence, partnership opportunities, or competitive analysis.\", 'parameters': {'type': 'object', 'properties': {'bodyParams': {'type': 'object', 'properties': {}, 'required': []}, 'queryParams': {'type': 'object', 'properties': {'username': {'type': 'string', 'description': \"Company's LinkedIn username (e.g., 'google').\"}}, 'required': ['username']}, 'pathParams': {'type': 'object', 'properties': {}, 'required': []}}, 'required': ['bodyParams', 'queryParams', 'pathParams']}}}, {'type': 'function', 'function': {'name': 'LinkedInProfileServiceGetProfileDataByUrl', 'description': \"Fetches detailed LinkedIn profile data using the provided profile URL. This operation is essential for accessing user information when only the profile URL is available. If the URL isn't provided, run SearchProfilesByCriteria if you have the username instead. Use this to gather comprehensive profile details from public LinkedIn profiles when you have the exact profile URL but lack other identifying information.\", 'parameters': {'type': 'object', 'properties': {'bodyParams': {'type': 'object', 'properties': {}, 'required': []}, 'queryParams': {'type': 'object', 'properties': {'url': {'type': 'string', 'description': \"LinkedIn profile URL (e.g., 'https://www.linkedin.com/in/username-linkedinId/').\"}}, 'required': ['url']}, 'pathParams': {'type': 'object', 'properties': {}, 'required': []}}, 'required': ['bodyParams', 'queryParams', 'pathParams']}}}, {'type': 'function', 'function': {'name': 'LinkedInProfileServiceGetProfileDataByUsernameAndId', 'description': \"Retrieves comprehensive LinkedIn profile data using the provided username and linkedinId. This operation is crucial for obtaining detailed user information. If the linkedinId isn't provided, run SearchProfilesByCriteria before anything else to find the linkedinId. If the username isn't provided, run GetProfileDataByUrl first to obtain the username from a profile URL. Use this to gather essential profile details for further analysis or processing.\", 'parameters': {'type': 'object', 'properties': {'bodyParams': {'type': 'object', 'properties': {}, 'required': []}, 'queryParams': {'type': 'object', 'properties': {'username': {'type': 'string', 'description': \"LinkedIn username (e.g., 'adamselipsky').\"}}, 'required': ['username']}, 'pathParams': {'type': 'object', 'properties': {}, 'required': []}}, 'required': ['bodyParams', 'queryParams', 'pathParams']}}}, {'type': 'function', 'function': {'name': 'xpfinish-agent-execution-finished', 'description': '\\nThis tool must be selected at the end of the process.\\nthere are 3 options:\\n1. Completed your task successfully -> return True and the results as got in the instructions.\\n2. Missing input data and cannot proceed -> return False and the reason why you cannot proceed and what you expect to get as an input.\\n3. Cannot proceed due to missing repeated failures, or an inability to solve the problem. -> return False and the reason why you cannot proceed and what is the error.\\nThis tool must be selected at the end of the process instead of using a text message.\\nIf you didnt receive the expected input data, use this tool immediately before anything else.\\nIf you decided you finished the task successfully, return the results as got in the instructions.\\n        ', 'parameters': {'type': 'object', 'properties': {'bodyParams': {'type': 'object', 'properties': {'result': {'type': 'string', 'description': 'The agent final response. based on the user input and instructions it should return here in a human readable text the answer to the user or to the parent agent', 'example': 'I have finished my job successfully, here is the notion page url that I created as you asked: https://www.notion.so/xpander/1723ef830b380978d32sdkcuhkd9f&pvs=4. This page includes all the data analysis that you sent me with the required headers based on the following template:\\n\\n📊 Data Analysis Report\\n\\n🎯 Executive Summary\\n- Key findings from the analysis\\n- Main recommendations\\n\\n📈 Data Overview\\n- Data sources used\\n- Time period covered\\n- Sample size\\n\\n🔍 Detailed Analysis\\n- Trend analysis\\n- Key metrics performance\\n- Comparative analysis\\n\\n💡 Insights & Recommendations\\n- Key insights derived\\n- Actionable recommendations\\n- Next steps\\n\\nThe page has been structured according to your requirements and includes all the relevant charts and data visualizations.'}, 'is_success': {'type': 'boolean', 'description': 'return True if the you finished the input task successfully. False if not', 'example': True}}, 'required': ['result', 'is_success']}, 'queryParams': {'type': 'object', 'properties': {}, 'required': []}, 'pathParams': {'type': 'object', 'properties': {}, 'required': []}}, 'required': ['bodyParams', 'queryParams', 'pathParams']}}}]\n",
      "----------------------------------------------------------------------------------------------------\n",
      "status ExecutionStatus.PENDING\n",
      "result \n"
     ]
    },
    {
     "name": "stderr",
     "output_type": "stream",
     "text": [
      "b'{\"stdout\":\"YWRkaW5nIG1lc3NhZ2VzIHRvIHRocmVhZCAwNjhjMzFhOS02MjNiLTRhNmMtOTc2Ni1hM2ViNzM4NzEyYWYgWwogIHsKICAgIHJvbGU6IBtbMzJtJ2Fzc2lzdGFudCcbWzM5bSwKICAgIGNvbnRlbnQ6IBtbMzJtJ0NvdWxkIHlvdSBwbGVhc2UgcHJvdmlkZSBtb3JlIGNvbnRleHQgb3Igc3BlY2lmeSB0aGUgc291cmNlIG9yIHR5cGUgb2YgdGFncyB5b3UgYXJlIHJlZmVycmluZyB0bz8gVGhpcyB3aWxsIGhlbHAgbWUgYXNzaXN0IHlvdSBtb3JlIGVmZmVjdGl2ZWx5LicbWzM5bSwKICAgIHRvb2xDYWxsczogG1s5MG11bmRlZmluZWQbWzM5bQogIH0KXQo=\"}\\n'\n",
      "b'{\"stdout\":\"YWRkaW5nIG1lc3NhZ2VzIHRvIHRocmVhZCAwNjhjMzFhOS02MjNiLTRhNmMtOTc2Ni1hM2ViNzM4NzEyYWYgWyB7IHJvbGU6IBtbMzJtJ2Fzc2lzdGFudCcbWzM5bSwgY29udGVudDogG1s5MG11bmRlZmluZWQbWzM5bSwgdG9vbENhbGxzOiBbIBtbMzZtW09iamVjdF0bWzM5bSBdIH0gXQo=\"}\\n'\n",
      "b'{\"stdout\":\"cnVubmluZyB0b29sIHhwZmluaXNoLWFnZW50LWV4ZWN1dGlvbi1maW5pc2hlZCBvbiBhZ2VudCA4NjBmYzcyNS05NzI4LTQ2ZjctOGIwYi1jNDU3NzRmNDRmMTkgd2l0aCBleGVjdXRpb24gZWJkNmE0YWUtNjcxNC00YzZiLTk0YWItOWI1MDBmNzE2NjYwCg==\"}\\n'\n"
     ]
    }
   ],
   "source": [
    "from openai import OpenAI\n",
    "from xpander_sdk import XpanderClient, LLMProvider, OpenAISupportedModels\n",
    "openai_client = OpenAI(api_key=OPENAI_API_KEY)\n",
    "# create execution\n",
    "xpander_agent.invoke_agent(\"Who had more profit in 2021, Lyft or Uber?\")\n",
    "\n",
    "# init the memory\n",
    "xpander_agent.memory.select_llm_provider(llm_provider=LLMProvider.OPEN_AI)\n",
    "xpander_agent.memory.initialize_thread(input=xpander_agent.execution.input_message,instructions=xpander_agent.instructions)\n",
    "\n",
    "while not xpander_agent.is_finished():\n",
    "    print(\"-\"*100)\n",
    "    print(\"Messages:\",xpander_agent.memory.retrieve_messages())\n",
    "    print(\"Tools:\",xpander_agent.get_tools(llm_provider=LLMProvider.OPEN_AI))\n",
    "    print(\"-\"*100)\n",
    "    response = openai_client.chat.completions.create(\n",
    "                model= OpenAISupportedModels.GPT_4_O,\n",
    "                messages=xpander_agent.memory.retrieve_messages(),\n",
    "                tools=xpander_agent.get_tools(llm_provider=LLMProvider.OPEN_AI),\n",
    "                tool_choice=\"auto\",\n",
    "                temperature=0.0\n",
    "        )\n",
    "            \n",
    "    # add messages directly from the LLM response\n",
    "    xpander_agent.memory.add_messages(response.model_dump())\n",
    "    \n",
    "    # extract tool calls from the LLM response\n",
    "    tool_calls = XpanderClient.extract_tool_calls(llm_response=response.model_dump(),llm_provider=LLMProvider.OPEN_AI)\n",
    "    # run tools\n",
    "    xpander_agent.run_tools(tool_calls=tool_calls)\n",
    "\n",
    "# result (re fetch execution result)\n",
    "# IMPORTANT: LAST TOOL IS xpfinish-agent-execution-finished WHICH IS AGENT-END with PARSING and may be slower due to inference times\n",
    "execution_result = xpander_agent.execution.fetch(agent=xpander_agent,execution_id=xpander_agent.execution.id)\n",
    "print(\"status\", execution_result.status)\n",
    "print(\"result\", execution_result.result)"
   ]
  },
  {
   "cell_type": "code",
   "execution_count": 15,
   "metadata": {},
   "outputs": [
    {
     "ename": "KeyboardInterrupt",
     "evalue": "",
     "output_type": "error",
     "traceback": [
      "\u001b[0;31m---------------------------------------------------------------------------\u001b[0m",
      "\u001b[0;31mKeyboardInterrupt\u001b[0m                         Traceback (most recent call last)",
      "Cell \u001b[0;32mIn[15], line 3\u001b[0m\n\u001b[1;32m      1\u001b[0m \u001b[38;5;28;01mfrom\u001b[39;00m\u001b[38;5;250m \u001b[39m\u001b[38;5;21;01mxpander_sdk\u001b[39;00m\u001b[38;5;250m \u001b[39m\u001b[38;5;28;01mimport\u001b[39;00m ExecutionStatus\n\u001b[1;32m      2\u001b[0m \u001b[38;5;28;01mwhile\u001b[39;00m execution_result\u001b[38;5;241m.\u001b[39mstatus \u001b[38;5;241m==\u001b[39m ExecutionStatus\u001b[38;5;241m.\u001b[39mPENDING:\n\u001b[0;32m----> 3\u001b[0m     execution_result \u001b[38;5;241m=\u001b[39m \u001b[43mxpander_agent\u001b[49m\u001b[38;5;241;43m.\u001b[39;49m\u001b[43mexecution\u001b[49m\u001b[38;5;241;43m.\u001b[39;49m\u001b[43mfetch\u001b[49m\u001b[43m(\u001b[49m\u001b[43magent\u001b[49m\u001b[38;5;241;43m=\u001b[39;49m\u001b[43mxpander_agent\u001b[49m\u001b[43m,\u001b[49m\u001b[43m \u001b[49m\u001b[43mexecution_id\u001b[49m\u001b[38;5;241;43m=\u001b[39;49m\u001b[43mxpander_agent\u001b[49m\u001b[38;5;241;43m.\u001b[39;49m\u001b[43mexecution\u001b[49m\u001b[38;5;241;43m.\u001b[39;49m\u001b[43mid\u001b[49m\u001b[43m)\u001b[49m\n\u001b[1;32m      4\u001b[0m \u001b[38;5;28mprint\u001b[39m(\u001b[38;5;124m\"\u001b[39m\u001b[38;5;124mstatus\u001b[39m\u001b[38;5;124m\"\u001b[39m, execution_result\u001b[38;5;241m.\u001b[39mstatus)\n\u001b[1;32m      5\u001b[0m \u001b[38;5;28mprint\u001b[39m(\u001b[38;5;124m\"\u001b[39m\u001b[38;5;124mresult\u001b[39m\u001b[38;5;124m\"\u001b[39m, execution_result\u001b[38;5;241m.\u001b[39mresult)\n",
      "File \u001b[0;32m~/Developer/xpander-lab/projects/xpander-agents-hub/agents/llama-index/.venv/lib/python3.13/site-packages/xpander_sdk/__init__.py:590\u001b[0m, in \u001b[0;36mExecution.fetch\u001b[0;34m(cls, agent, execution_id)\u001b[0m\n\u001b[1;32m    588\u001b[0m     check_type(argname\u001b[38;5;241m=\u001b[39m\u001b[38;5;124m\"\u001b[39m\u001b[38;5;124margument agent\u001b[39m\u001b[38;5;124m\"\u001b[39m, value\u001b[38;5;241m=\u001b[39magent, expected_type\u001b[38;5;241m=\u001b[39mtype_hints[\u001b[38;5;124m\"\u001b[39m\u001b[38;5;124magent\u001b[39m\u001b[38;5;124m\"\u001b[39m])\n\u001b[1;32m    589\u001b[0m     check_type(argname\u001b[38;5;241m=\u001b[39m\u001b[38;5;124m\"\u001b[39m\u001b[38;5;124margument execution_id\u001b[39m\u001b[38;5;124m\"\u001b[39m, value\u001b[38;5;241m=\u001b[39mexecution_id, expected_type\u001b[38;5;241m=\u001b[39mtype_hints[\u001b[38;5;124m\"\u001b[39m\u001b[38;5;124mexecution_id\u001b[39m\u001b[38;5;124m\"\u001b[39m])\n\u001b[0;32m--> 590\u001b[0m \u001b[38;5;28;01mreturn\u001b[39;00m typing\u001b[38;5;241m.\u001b[39mcast(typing\u001b[38;5;241m.\u001b[39mAny, \u001b[43mjsii\u001b[49m\u001b[38;5;241;43m.\u001b[39;49m\u001b[43msinvoke\u001b[49m\u001b[43m(\u001b[49m\u001b[38;5;28;43mcls\u001b[39;49m\u001b[43m,\u001b[49m\u001b[43m \u001b[49m\u001b[38;5;124;43m\"\u001b[39;49m\u001b[38;5;124;43mfetch\u001b[39;49m\u001b[38;5;124;43m\"\u001b[39;49m\u001b[43m,\u001b[49m\u001b[43m \u001b[49m\u001b[43m[\u001b[49m\u001b[43magent\u001b[49m\u001b[43m,\u001b[49m\u001b[43m \u001b[49m\u001b[43mexecution_id\u001b[49m\u001b[43m]\u001b[49m\u001b[43m)\u001b[49m)\n",
      "File \u001b[0;32m~/Developer/xpander-lab/projects/xpander-agents-hub/agents/llama-index/.venv/lib/python3.13/site-packages/jsii/_kernel/__init__.py:149\u001b[0m, in \u001b[0;36m_dereferenced.<locals>.wrapped\u001b[0;34m(kernel, *args, **kwargs)\u001b[0m\n\u001b[1;32m    147\u001b[0m \u001b[38;5;129m@functools\u001b[39m\u001b[38;5;241m.\u001b[39mwraps(fn)\n\u001b[1;32m    148\u001b[0m \u001b[38;5;28;01mdef\u001b[39;00m\u001b[38;5;250m \u001b[39m\u001b[38;5;21mwrapped\u001b[39m(kernel: \u001b[38;5;124m\"\u001b[39m\u001b[38;5;124mKernel\u001b[39m\u001b[38;5;124m\"\u001b[39m, \u001b[38;5;241m*\u001b[39margs: Any, \u001b[38;5;241m*\u001b[39m\u001b[38;5;241m*\u001b[39mkwargs: Any):\n\u001b[0;32m--> 149\u001b[0m     \u001b[38;5;28;01mreturn\u001b[39;00m _recursize_dereference(kernel, \u001b[43mfn\u001b[49m\u001b[43m(\u001b[49m\u001b[43mkernel\u001b[49m\u001b[43m,\u001b[49m\u001b[43m \u001b[49m\u001b[38;5;241;43m*\u001b[39;49m\u001b[43margs\u001b[49m\u001b[43m,\u001b[49m\u001b[43m \u001b[49m\u001b[38;5;241;43m*\u001b[39;49m\u001b[38;5;241;43m*\u001b[39;49m\u001b[43mkwargs\u001b[49m\u001b[43m)\u001b[49m)\n",
      "File \u001b[0;32m~/Developer/xpander-lab/projects/xpander-agents-hub/agents/llama-index/.venv/lib/python3.13/site-packages/jsii/_kernel/__init__.py:418\u001b[0m, in \u001b[0;36mKernel.sinvoke\u001b[0;34m(self, klass, method, args)\u001b[0m\n\u001b[1;32m    415\u001b[0m \u001b[38;5;28;01mif\u001b[39;00m args \u001b[38;5;129;01mis\u001b[39;00m \u001b[38;5;28;01mNone\u001b[39;00m:\n\u001b[1;32m    416\u001b[0m     args \u001b[38;5;241m=\u001b[39m []\n\u001b[0;32m--> 418\u001b[0m response \u001b[38;5;241m=\u001b[39m \u001b[38;5;28;43mself\u001b[39;49m\u001b[38;5;241;43m.\u001b[39;49m\u001b[43mprovider\u001b[49m\u001b[38;5;241;43m.\u001b[39;49m\u001b[43msinvoke\u001b[49m\u001b[43m(\u001b[49m\n\u001b[1;32m    419\u001b[0m \u001b[43m    \u001b[49m\u001b[43mStaticInvokeRequest\u001b[49m\u001b[43m(\u001b[49m\n\u001b[1;32m    420\u001b[0m \u001b[43m        \u001b[49m\u001b[43mfqn\u001b[49m\u001b[38;5;241;43m=\u001b[39;49m\u001b[43mklass\u001b[49m\u001b[38;5;241;43m.\u001b[39;49m\u001b[43m__jsii_type__\u001b[49m\u001b[43m,\u001b[49m\n\u001b[1;32m    421\u001b[0m \u001b[43m        \u001b[49m\u001b[43mmethod\u001b[49m\u001b[38;5;241;43m=\u001b[39;49m\u001b[43mmethod\u001b[49m\u001b[43m,\u001b[49m\n\u001b[1;32m    422\u001b[0m \u001b[43m        \u001b[49m\u001b[43margs\u001b[49m\u001b[38;5;241;43m=\u001b[39;49m\u001b[43m_make_reference_for_native\u001b[49m\u001b[43m(\u001b[49m\u001b[38;5;28;43mself\u001b[39;49m\u001b[43m,\u001b[49m\u001b[43m \u001b[49m\u001b[43margs\u001b[49m\u001b[43m)\u001b[49m\u001b[43m,\u001b[49m\n\u001b[1;32m    423\u001b[0m \u001b[43m    \u001b[49m\u001b[43m)\u001b[49m\n\u001b[1;32m    424\u001b[0m \u001b[43m\u001b[49m\u001b[43m)\u001b[49m\n\u001b[1;32m    425\u001b[0m \u001b[38;5;28;01mif\u001b[39;00m \u001b[38;5;28misinstance\u001b[39m(response, Callback):\n\u001b[1;32m    426\u001b[0m     \u001b[38;5;28;01mreturn\u001b[39;00m _callback_till_result(\u001b[38;5;28mself\u001b[39m, response, InvokeResponse)\n",
      "File \u001b[0;32m~/Developer/xpander-lab/projects/xpander-agents-hub/agents/llama-index/.venv/lib/python3.13/site-packages/jsii/_kernel/providers/process.py:383\u001b[0m, in \u001b[0;36mProcessProvider.sinvoke\u001b[0;34m(self, request)\u001b[0m\n\u001b[1;32m    382\u001b[0m \u001b[38;5;28;01mdef\u001b[39;00m\u001b[38;5;250m \u001b[39m\u001b[38;5;21msinvoke\u001b[39m(\u001b[38;5;28mself\u001b[39m, request: StaticInvokeRequest) \u001b[38;5;241m-\u001b[39m\u001b[38;5;241m>\u001b[39m InvokeResponse:\n\u001b[0;32m--> 383\u001b[0m     \u001b[38;5;28;01mreturn\u001b[39;00m \u001b[38;5;28;43mself\u001b[39;49m\u001b[38;5;241;43m.\u001b[39;49m\u001b[43m_process\u001b[49m\u001b[38;5;241;43m.\u001b[39;49m\u001b[43msend\u001b[49m\u001b[43m(\u001b[49m\u001b[43mrequest\u001b[49m\u001b[43m,\u001b[49m\u001b[43m \u001b[49m\u001b[43mInvokeResponse\u001b[49m\u001b[43m)\u001b[49m\n",
      "File \u001b[0;32m~/Developer/xpander-lab/projects/xpander-agents-hub/agents/llama-index/.venv/lib/python3.13/site-packages/jsii/_kernel/providers/process.py:332\u001b[0m, in \u001b[0;36m_NodeProcess.send\u001b[0;34m(self, request, response_type)\u001b[0m\n\u001b[1;32m    328\u001b[0m \u001b[38;5;28mself\u001b[39m\u001b[38;5;241m.\u001b[39m_process\u001b[38;5;241m.\u001b[39mstdin\u001b[38;5;241m.\u001b[39mwrite(\u001b[38;5;124mb\u001b[39m\u001b[38;5;124m\"\u001b[39m\u001b[38;5;124m%\u001b[39m\u001b[38;5;124mb\u001b[39m\u001b[38;5;130;01m\\n\u001b[39;00m\u001b[38;5;124m\"\u001b[39m \u001b[38;5;241m%\u001b[39m (data,))\n\u001b[1;32m    329\u001b[0m \u001b[38;5;28mself\u001b[39m\u001b[38;5;241m.\u001b[39m_process\u001b[38;5;241m.\u001b[39mstdin\u001b[38;5;241m.\u001b[39mflush()\n\u001b[1;32m    331\u001b[0m resp: _ProcessResponse \u001b[38;5;241m=\u001b[39m \u001b[38;5;28mself\u001b[39m\u001b[38;5;241m.\u001b[39m_serializer\u001b[38;5;241m.\u001b[39mstructure(\n\u001b[0;32m--> 332\u001b[0m     \u001b[38;5;28;43mself\u001b[39;49m\u001b[38;5;241;43m.\u001b[39;49m\u001b[43m_next_message\u001b[49m\u001b[43m(\u001b[49m\u001b[43m)\u001b[49m, _ProcessResponse\n\u001b[1;32m    333\u001b[0m )\n\u001b[1;32m    335\u001b[0m \u001b[38;5;28;01mif\u001b[39;00m \u001b[38;5;28misinstance\u001b[39m(resp, _OkayResponse):\n\u001b[1;32m    336\u001b[0m     \u001b[38;5;28;01mreturn\u001b[39;00m \u001b[38;5;28mself\u001b[39m\u001b[38;5;241m.\u001b[39m_serializer\u001b[38;5;241m.\u001b[39mstructure(resp\u001b[38;5;241m.\u001b[39mok, response_type)\n",
      "File \u001b[0;32m~/Developer/xpander-lab/projects/xpander-agents-hub/agents/llama-index/.venv/lib/python3.13/site-packages/jsii/_kernel/providers/process.py:251\u001b[0m, in \u001b[0;36m_NodeProcess._next_message\u001b[0;34m(self)\u001b[0m\n\u001b[1;32m    249\u001b[0m \u001b[38;5;28;01mdef\u001b[39;00m\u001b[38;5;250m \u001b[39m\u001b[38;5;21m_next_message\u001b[39m(\u001b[38;5;28mself\u001b[39m) \u001b[38;5;241m-\u001b[39m\u001b[38;5;241m>\u001b[39m Mapping[Any, Any]:\n\u001b[1;32m    250\u001b[0m     \u001b[38;5;28;01massert\u001b[39;00m \u001b[38;5;28mself\u001b[39m\u001b[38;5;241m.\u001b[39m_process\u001b[38;5;241m.\u001b[39mstdout \u001b[38;5;129;01mis\u001b[39;00m \u001b[38;5;129;01mnot\u001b[39;00m \u001b[38;5;28;01mNone\u001b[39;00m\n\u001b[0;32m--> 251\u001b[0m     \u001b[38;5;28;01mreturn\u001b[39;00m json\u001b[38;5;241m.\u001b[39mloads(\u001b[38;5;28;43mself\u001b[39;49m\u001b[38;5;241;43m.\u001b[39;49m\u001b[43m_process\u001b[49m\u001b[38;5;241;43m.\u001b[39;49m\u001b[43mstdout\u001b[49m\u001b[38;5;241;43m.\u001b[39;49m\u001b[43mreadline\u001b[49m\u001b[43m(\u001b[49m\u001b[43m)\u001b[49m, object_hook\u001b[38;5;241m=\u001b[39mohook)\n",
      "\u001b[0;31mKeyboardInterrupt\u001b[0m: "
     ]
    }
   ],
   "source": [
    "from xpander_sdk import ExecutionStatus\n",
    "while execution_result.status == ExecutionStatus.PENDING:\n",
    "    execution_result = xpander_agent.execution.fetch(agent=xpander_agent, execution_id=xpander_agent.execution.id)\n",
    "print(\"status\", execution_result.status)\n",
    "print(\"result\", execution_result.result)"
   ]
  }
 ],
 "metadata": {
  "kernelspec": {
   "display_name": "p312",
   "language": "python",
   "name": "python3"
  },
  "language_info": {
   "codemirror_mode": {
    "name": "ipython",
    "version": 3
   },
   "file_extension": ".py",
   "mimetype": "text/x-python",
   "name": "python",
   "nbconvert_exporter": "python",
   "pygments_lexer": "ipython3",
   "version": "3.13.1"
  }
 },
 "nbformat": 4,
 "nbformat_minor": 2
}
